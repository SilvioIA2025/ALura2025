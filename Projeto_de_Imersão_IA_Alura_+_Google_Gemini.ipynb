{
  "nbformat": 4,
  "nbformat_minor": 0,
  "metadata": {
    "colab": {
      "provenance": [],
      "include_colab_link": true
    },
    "kernelspec": {
      "name": "python3",
      "display_name": "Python 3"
    },
    "language_info": {
      "name": "python"
    }
  },
  "cells": [
    {
      "cell_type": "markdown",
      "metadata": {
        "id": "view-in-github",
        "colab_type": "text"
      },
      "source": [
        "<a href=\"https://colab.research.google.com/github/SilvioIA2025/ALura2025/blob/main/Projeto_de_Imers%C3%A3o_IA_Alura_%2B_Google_Gemini.ipynb\" target=\"_parent\"><img src=\"https://colab.research.google.com/assets/colab-badge.svg\" alt=\"Open In Colab\"/></a>"
      ]
    },
    {
      "cell_type": "code",
      "source": [
        "%pip -q install google-genai"
      ],
      "metadata": {
        "id": "UCCbECexLk_h"
      },
      "execution_count": 229,
      "outputs": []
    },
    {
      "cell_type": "code",
      "source": [
        "# Configura a API Key do Google Gemini\n",
        "\n",
        "import os\n",
        "from google.colab import userdata\n",
        "\n",
        "os.environ[\"GOOGLE_API_KEY\"] = userdata.get('GOOGLE_API_KEY')"
      ],
      "metadata": {
        "id": "NfCqHo1tLk8P"
      },
      "execution_count": 230,
      "outputs": []
    },
    {
      "cell_type": "code",
      "source": [
        "# Configura o cliente da SDK do Gemini\n",
        "\n",
        "from google import genai\n",
        "client = genai.Client()\n",
        "from IPython.display import HTML, Markdown\n",
        "\n"
      ],
      "metadata": {
        "id": "bV4w0H5TLk5g"
      },
      "execution_count": 233,
      "outputs": []
    },
    {
      "cell_type": "code",
      "source": [
        "# Instalar Framework ADK de agentes do Google ################################################\n",
        "!pip install -q google-adk"
      ],
      "metadata": {
        "id": "hvZ3UnPI4jhJ"
      },
      "execution_count": 234,
      "outputs": []
    },
    {
      "cell_type": "code",
      "execution_count": 6,
      "metadata": {
        "id": "aePV2bdfDeoW"
      },
      "outputs": [],
      "source": [
        "from google.adk.agents import Agent\n",
        "from google.adk.runners import Runner\n",
        "from google.adk.sessions import InMemorySessionService\n",
        "from google.adk.tools import google_search\n",
        "from google.genai import types  # Para criar conteúdos (Content e Part)\n",
        "from datetime import date\n",
        "import textwrap # Para formatar melhor a saída de texto\n",
        "from IPython.display import display, Markdown # Para exibir texto formatado no Colab\n",
        "import requests # Para fazer requisições HTTP\n",
        "import warnings\n",
        "\n",
        "warnings.filterwarnings(\"ignore\")"
      ]
    },
    {
      "cell_type": "code",
      "source": [
        "# Função auxiliar que envia uma mensagem para um agente via Runner e retorna a resposta final\n",
        "def call_agent(agent: Agent, message_text: str) -> str:\n",
        "    # Cria um serviço de sessão em memória\n",
        "    session_service = InMemorySessionService()\n",
        "    # Cria uma nova sessão (você pode personalizar os IDs conforme necessário)\n",
        "    session = session_service.create_session(app_name=agent.name, user_id=\"user1\", session_id=\"session1\")\n",
        "    # Cria um Runner para o agente\n",
        "    runner = Runner(agent=agent, app_name=agent.name, session_service=session_service)\n",
        "    # Cria o conteúdo da mensagem de entrada\n",
        "    content = types.Content(role=\"user\", parts=[types.Part(text=message_text)])\n",
        "\n",
        "    final_response = \"\"\n",
        "    # Itera assincronamente pelos eventos retornados durante a execução do agente\n",
        "    for event in runner.run(user_id=\"user1\", session_id=\"session1\", new_message=content):\n",
        "        if event.is_final_response():\n",
        "          for part in event.content.parts:\n",
        "            if part.text is not None:\n",
        "              final_response += part.text\n",
        "              final_response += \"\\n\"\n",
        "    return final_response"
      ],
      "metadata": {
        "id": "_xP4lWhsS5ko"
      },
      "execution_count": 235,
      "outputs": []
    },
    {
      "cell_type": "code",
      "source": [
        "# Função auxiliar para exibir texto formatado em Markdown no Colab\n",
        "import textwrap\n",
        "from rich.markdown import Markdown\n",
        "def to_markdown(text):\n",
        "  text = text.replace('•', '  *')\n",
        "  return Markdown(textwrap.indent(text, '> ', predicate=lambda _: True))\n"
      ],
      "metadata": {
        "id": "8dosiodaxfFR"
      },
      "execution_count": 262,
      "outputs": []
    },
    {
      "cell_type": "code",
      "source": [
        "##################################################################\n",
        "# --- Agente 1: Buscador de Custos de Viagens Internacionais --- #\n",
        "##################################################################\n",
        "def agente_buscador(topico, pais, perfil, data_de_inicio, data_de_fim, numero_adultos, numero_crianças):\n",
        "    buscador = Agent(\n",
        "        name=\"agente_buscador\",\n",
        "        model=\"gemini-2.5-flash-preview-04-17\",\n",
        "        instruction=\"\"\"\n",
        "        Como um especialista em calcular gastos em viagens internacionais, meu objetivo é fornecer uma estimativa detalhada e otimizada dos seus custos,\n",
        "        considerando suas preferências e buscando as melhores opções em cada categoria.\n",
        "\n",
        "        Instruções para o Especialista em Cálculos de Viagem:\n",
        "\n",
        "        1. Compreensão do Perfil do Viajante:\n",
        "\n",
        "        Destino: País(es) e Cidade(s).\n",
        "        Período: Datas de partida e retorno (para considerar alta/baixa temporada e eventos).\n",
        "        Número de Viajantes: Adultos e crianças.\n",
        "        Estilo de Viagem: (e.g., mochileiro, econômico, confortável, luxuoso) para calibrar os valores.\n",
        "        Interesses Específicos: (e.g., gastronomia, museus, aventura, compras) para alocar orçamento.\n",
        "\n",
        "        2. Análise e Estimativa por Categoria:\n",
        "\n",
        "        Voos (Melhores Opções):\n",
        "        Pesquisar e comparar companhias aéreas, escalas, duração do voo e aeroportos de partida/chegada.\n",
        "        Considerar voos diretos vs. com escalas (custo/benefício).\n",
        "        Avaliar épocas de compra (antecedência) e flexibilidade de datas para melhores preços.\n",
        "        Incluir custos de bagagem despachada, se aplicável.\n",
        "\n",
        "        Aluguel de Carro:\n",
        "        Avaliar a necessidade do aluguel versus transporte público no destino.\n",
        "        Selecionar o tipo de veículo adequado (econômico, SUV, etc.).\n",
        "        Incluir custos de seguro obrigatório e opcionais, combustível, pedágios e estacionamento.\n",
        "        Comparar locadoras e políticas de retirada/devolução.\n",
        "\n",
        "        Hotéis/Hospedagem (Melhores Opções):\n",
        "        Sugerir tipos de hospedagem (hotéis, hostels, Airbnb, pousadas) com base no estilo de viagem.\n",
        "        Considerar localização (proximidade a atrações, transporte), avaliações, comodidades (café da manhã, Wi-Fi) e política de cancelamento.\n",
        "        Estimar custo por noite, ajustado pela temporada.\n",
        "\n",
        "        Refeições:\n",
        "        Estimar um custo médio diário por pessoa para café da manhã, almoço e jantar, diferenciando entre restaurantes econômicos, médios e sofisticados.\n",
        "        Considerar o custo de lanches, bebidas e gorjetas.\n",
        "        Perguntar se o viajante pretende cozinhar algumas refeições.\n",
        "\n",
        "        Atrações Turísticas e Atividades:\n",
        "        Listar as principais atrações pagas e o custo de seus ingressos.\n",
        "        Sugerir passes turísticos (se vantajosos para a quantidade de atrações).\n",
        "        Incluir custo de tours guiados, shows ou atividades específicas desejadas.\n",
        "\n",
        "        Transporte Local:\n",
        "        Custos de metrô, ônibus, bondes, táxis ou aplicativos de transporte (Uber, Lyft, etc.).\n",
        "        Estimar passes diários/semanais se forem mais econômicos.\n",
        "        Despesas Gerais e Extras:\n",
        "\n",
        "        Seguro Viagem: Item obrigatório e essencial.\n",
        "        Visto e Taxas de Entrada: Se aplicável ao destino.\n",
        "        Comunicações: Custo de chip local ou roaming internacional.\n",
        "        Emergências/Imprevistos: Sugerir uma reserva de 10-15% do total para gastos não planejados.\n",
        "        Compras/Souvenirs: Definir um orçamento para compras pessoais e lembrancinhas.\n",
        "        Outros: Lavanderia, gorjetas adicionais, pequenos gastos diversos.\n",
        "\n",
        "        3. Saída Final:\n",
        "        Faça voce a escolha de uma cidade a ser visitada no pais, caso o não tenha sido escolhida, retorne todos os resultados de custo pelo\n",
        "        estilo de Viagem selecionado no perfil (mochileiro, economico, confortavel e luxuoso) e voce deve escolher automaticamente dois\n",
        "        Interesses Específicos: dentre Gastronomia, Museus, Aventura e Compras.\n",
        "        Apresentar um orçamento detalhado por categoria (Voos, Aluguel de Carro, Hotéis/Hospedagem, Refeições, Atrações Turísticas e Atividades, Transporte Local, Seguro Viagem\n",
        "        Visto e Taxas de Entrada, Comunicações, Emergências/Imprevistos, Compras/Souvenirs e Outros ) , com uma estimativa total convertida para a moeda de origem do viajante\n",
        "        (geralmente BRL) e da moeda local do destino, utilizando a taxa de câmbio atualizada. Oferecer dicas de economia e personalização.\n",
        "\n",
        "        A sua tarefa é usar a ferramenta de busca do google (google_search) respeitando a data inicial e final da viagem\n",
        "        Foque em no maximo 4 opções relevantes respeitando os estilos de Viagem: (mochileiro, econômico, confortável, luxuoso), com base no preço, categoria, e avaliaçoes dos clientes anteriores.\n",
        "        Se uma avaliação tiver poucas informações ou reações entusiasmadas, é possivel que ela não seja tão relevante assim\n",
        "        e pode ser substituido por outro que tenha mais.\n",
        "        Essas avaliações relevantes devem ser atuais, de no maximo um tres meses da data de hoje.\n",
        "        \"\"\",\n",
        "        description = \"Agente que busca melhores voos, carros, hoteis, refeiçoes, atrações turisticas, transporte e custos diretos e indiretos de viagem indicado no Google\",\n",
        "        tools=[google_search],\n",
        "    )\n",
        "    entrada_do_agente_buscador = f\"Tópico: {topico}\\nPaís: {pais}\\nPerfil: {perfil}\\nData de inicio: {data_de_inicio}\\nData de fim: {data_de_fim}\\nNumero_adultos: {numero_adultos}\\nNumero_crianças: {numero_crianças}\"\n",
        "    # Executa o agente\n",
        "    lancamentos_buscados = call_agent(buscador, entrada_do_agente_buscador)\n",
        "    return lancamentos_buscados"
      ],
      "metadata": {
        "id": "o8bqIfi_DyH8"
      },
      "execution_count": 263,
      "outputs": []
    },
    {
      "cell_type": "code",
      "source": [
        "##########################################\n",
        "# --- Agente 2: Revisor de Qualidade --- #\n",
        "##########################################\n",
        "def agente_revisor(topico, lancamentos_buscados):\n",
        "    revisor = Agent(\n",
        "        name=\"agente_revisor\",\n",
        "        model=\"gemini-2.5-flash-preview-04-17\",\n",
        "        instruction=\"\"\"\n",
        "            Você é um Editor e Revisor de Conteúdo meticuloso, especializado em documentos profissionais.\n",
        "            Por ter um público amplo, entre 18 e 70 anos, use sempre um tom de escrita adequado.\n",
        "            Revise o lancamentos_buscados abaixo sobre o tópico indicado, verificando clareza, concisão, correção e tom.\n",
        "            Separar por uma linha em branco cada item da lista.\n",
        "            Se o lancamentos_buscados estiver bom, repita apenas o texto novamente'.\n",
        "            Caso haja problemas, corrija e refaça o texto de maneira adequada, gerando uma versão corrigida\n",
        "            \"\"\",\n",
        "        description=\"Agente revisor de post para documentos profissionais.\"\n",
        "    )\n",
        "    entrada_do_agente_revisor = f\"Tópico: {topico}\\nRascunho: {lancamentos_buscados}\"\n",
        "    # Executa o agente\n",
        "    texto_revisado = call_agent(revisor, entrada_do_agente_revisor)\n",
        "    return texto_revisado"
      ],
      "metadata": {
        "id": "iscEvLUHssOg"
      },
      "execution_count": 264,
      "outputs": []
    },
    {
      "cell_type": "code",
      "source": [
        "##################################################################\n",
        "# --- Agente 3: Buscador da Melhor alternativa de levar ME --- #\n",
        "##################################################################\n",
        "def agente_moeda(topico, pais):\n",
        "    imagem = Agent(\n",
        "        name=\"agente_moeda\",\n",
        "        model=\"gemini-2.5-flash-preview-04-17\",\n",
        "        instruction=\"\"\"\n",
        "        Voce como especialista em cambio da Viktap, por favor me faça um breve resumo de qual a melhor maneira para eu converter o meu\n",
        "        dinheiro local para o dinheiro internacional, considerando cartao de credito, cartao de debito, cartao internacional, remessa para conta\n",
        "        no estrangeiro, ou PIX. No caso do PIX, fale sobre o viktap consultando a fonte no site https://viktap.com.br/\n",
        "        \"\"\",\n",
        "        tools=[google_search],\n",
        "    )\n",
        "    entrada_do_agente_moeda = f\"Tópico: {topico}\\nPais: {pais}\"\n",
        "    # Executa o agente\n",
        "    escolha_moeda = call_agent(imagem, entrada_do_agente_moeda)\n",
        "    return escolha_moeda"
      ],
      "metadata": {
        "id": "4EtHX4VMfO3g"
      },
      "execution_count": 265,
      "outputs": []
    },
    {
      "cell_type": "code",
      "source": [
        "####################################################################\n",
        "# --- Agente 4: Sugestao de Voo, pelo perfil escolhido ----------- #\n",
        "####################################################################\n",
        "def agente_viagem(topico, pais, perfil, aeroporto, data_inicio, data_retorno):\n",
        "    viagem = Agent(\n",
        "        name=\"agente_viagem\",\n",
        "        model=\"gemini-2.5-flash-preview-04-17\",\n",
        "        instruction=\"\"\"\n",
        "        Como um especialista em viagens internacionais da LATAM, faça apenas uma opção resumida para um voo consultando a LATAM saindo\n",
        "        do campo aeroporto e na data de ida data_inicio e data de retorno data_retorno\n",
        "        por favor escolha um voo direto de ida e um voo direto de volta a sua escolha informando o numero do voo e horario de partida e chegada\n",
        "        Caso a LATAM não possua voo para o destino, faça voce a escolha da companhia aerea, e se tambem nao conseguir voo direto pode escolher com escalas\n",
        "        \"\"\",\n",
        "        tools=[google_search],\n",
        "    )\n",
        "    entrada_do_agente_viagem = f\"Tópico: {topico}\\nPais: {pais}\\nPerfil: {perfil}\\nAeroporto: {aeroporto}\\nInicio: {data_inicio}\\nFim: {data_retorno}\"\n",
        "    # Executa o agente\n",
        "    viagem_pais = call_agent(viagem, entrada_do_agente_viagem)\n",
        "    return viagem_pais"
      ],
      "metadata": {
        "id": "nSql0NARXF7M"
      },
      "execution_count": 286,
      "outputs": []
    },
    {
      "cell_type": "code",
      "source": [
        "################################################################\n",
        "# --- Agente 5: Sugestao de Hotel, refeição e passeio turistico\n",
        "#     pelo perfil escolhido ---------------------------------- #\n",
        "################################################################\n",
        "def agente_outros(topico, pais, perfil, data_inicio, data_retorno):\n",
        "    outros = Agent(\n",
        "        name=\"agente_outros\",\n",
        "        model=\"gemini-2.5-flash-preview-04-17\",\n",
        "        instruction=\"\"\"\n",
        "        Como um especialista em viagens internacionais, faça apenas uma opção resumida para hoteis, refeição e passeios turisticos\n",
        "        levando em consideração na data de ida data_inicio e data de retorno data_retorno\n",
        "        por favor escolha somente 3 opções de hoteis, passeios turisticos e refeicoes.\n",
        "        \"\"\",\n",
        "        tools=[google_search],\n",
        "    )\n",
        "    entrada_do_agente_outros = f\"Tópico: {topico}\\nPais: {pais}\\nPerfil: {perfil}\\nInicio: {data_inicio}\\nFim: {data_retorno}\"\n",
        "    # Executa o agente\n",
        "    outros = call_agent(outros, entrada_do_agente_outros)\n",
        "    return outros"
      ],
      "metadata": {
        "id": "x0pHBjuNpoL9"
      },
      "execution_count": 287,
      "outputs": []
    },
    {
      "cell_type": "code",
      "source": [
        "######################################\n",
        "# --- Agente 6: Redator do Post --- #\n",
        "######################################\n",
        "def agente_linkedin(topico, texto_revisado):\n",
        "    linkedin = Agent(\n",
        "        name=\"agente_linkedin\",\n",
        "        model=\"gemini-2.5-flash-preview-04-17\",\n",
        "        instruction=\"\"\"\n",
        "            Você é um Redator Criativo especializado em criar posts virais para redes sociais.\n",
        "            Você escreve posts para a empresa Tervik, a empresa que desenvolveu o pagamento PIX com o Viktap .\n",
        "            Utilize o tema fornecido no texto_revisado e os pontos mais relevantes fornecidos e, com base nisso,\n",
        "            escreva um rascunho de post para o Linkedin sobre o tema indicado.\n",
        "            O post deve ser engajador, informativo, com linguagem simples e incluir 2 a 4 hashtags no final.\n",
        "            \"\"\",\n",
        "        description=\"Agente redator de posts engajadores para linkedin\"\n",
        "    )\n",
        "    entrada_do_agente_linkedin = f\"Tópico: {topico}\\nPlano de post: {texto_revisado}\"\n",
        "    # Executa o agente\n",
        "    linkedin = call_agent(linkedin, entrada_do_agente_linkedin)\n",
        "    return linkedin"
      ],
      "metadata": {
        "id": "T1ULSwGeaTWS"
      },
      "execution_count": 288,
      "outputs": []
    },
    {
      "cell_type": "code",
      "source": [
        "##agente_buscador(topico, pais, data_inicio, data_retorno, numero_adultos, numero_crianças)\n",
        "##agente_revisor(topico, lancamentos_buscados)\n",
        "##agente_moeda(topico, pais)\n",
        "##agente_viagem(topico, pais, perfil, aeroporto, data_inicio, data_retorno)\n",
        "##agente_outros(topico, pais, perfil, data_inicio, data_retorno)\n",
        "##agente_linkedin(topico, texto_revisado)\n",
        "\n",
        "from datetime import datetime\n",
        "\n",
        "def obter_data_do_usuario(param1):\n",
        "    while True:\n",
        "        if param1 == 'ida':\n",
        "          data_str = input(\"Digite a data de inicio (DD/MM/AAAA): \")\n",
        "        else:\n",
        "          data_str = input(\"Digite a data de retorno (DD/MM/AAAA): \")\n",
        "\n",
        "        try:\n",
        "            # Tenta converter a string para um objeto datetime\n",
        "            data_obj = datetime.strptime(data_str, \"%d/%m/%Y\")\n",
        "            return data_obj\n",
        "        except ValueError:\n",
        "            print(\"Formato de data inválido. Por favor, use DD/MM/AAAA.\")\n",
        "\n",
        "def selecionar_perfil(opcoes, mensagem=\"Selecione uma opção:\"):\n",
        "    print(mensagem)\n",
        "    for i, opcao in enumerate(opcoes):\n",
        "        print(f\"[{i + 1}] {opcao}\")\n",
        "\n",
        "    while True:\n",
        "        try:\n",
        "            escolha = input(\"Digite o número da sua escolha: \")\n",
        "            indice_escolhido = int(escolha) - 1 # Ajusta para o índice da lista (0-based)\n",
        "\n",
        "            if 0 <= indice_escolhido < len(opcoes):\n",
        "                return opcoes[indice_escolhido]\n",
        "            else:\n",
        "                print(\"Número inválido. Por favor, digite um número da lista.\")\n",
        "        except ValueError:\n",
        "            print(\"Entrada inválida. Por favor, digite um número.\")\n",
        "\n"
      ],
      "metadata": {
        "id": "MljXgPJWsbbt"
      },
      "execution_count": 289,
      "outputs": []
    },
    {
      "cell_type": "code",
      "source": [
        "topico = 'Viagem'\n",
        "pais = input(\"Digite o Pais/Cidade do destino: \")\n",
        "data_inicio = obter_data_do_usuario('ida')\n",
        "data_retorno = obter_data_do_usuario('fim')\n",
        "adultos = input(\"Digite o numero de adultos: \")\n",
        "criancas = input(\"Digite o numero de crianças: \")\n",
        "opcoes = [\"Mochileiro\", \"Economico\", \"Confortavel\", \"Luxuoso\"]\n",
        "perfil = selecionar_perfil(opcoes, mensagem=\"Selecione uma opção:\")\n",
        "print (perfil)\n",
        "aeroporto = input(\"Digite o aeroporto de partida: \")\n",
        "\n",
        "lancamentos_buscados = agente_buscador(topico, pais, perfil, data_inicio, data_retorno, adultos, criancas)\n",
        "##print(\"\\n Resultado do Agente 1 (Buscador)! \\n\")\n",
        "##display(to_markdown(lancamentos_buscados))\n",
        "##print(\"----------------------------------------------------------------\")\n",
        "\n",
        "post_final = agente_revisor(topico, lancamentos_buscados)\n",
        "display(to_markdown(\"-------------------------------\"))\n",
        "display(to_markdown(\"Recomendações para a sua viagem\"))\n",
        "display(to_markdown(\"-------------------------------\"))\n",
        "display(to_markdown(post_final))\n",
        "\n",
        "escolha_moeda = agente_moeda(topico, pais)\n",
        "display(to_markdown(\"--------------------------------------------------\"))\n",
        "display(to_markdown(\"Dicas financeiras para pagar com moeda estrangeira\"))\n",
        "display(to_markdown(\"--------------------------------------------------\"))\n",
        "display(to_markdown(escolha_moeda))\n",
        "\n",
        "viagem_pais = agente_viagem(topico, pais, perfil, aeroporto, data_inicio, data_retorno)\n",
        "display(to_markdown(\"------------------------------------\"))\n",
        "display(to_markdown(\"Dica de um agente de viagem da LATAM\"))\n",
        "display(to_markdown(\"------------------------------------\"))\n",
        "display(to_markdown(viagem_pais))\n",
        "\n",
        "outros = agente_outros(topico, pais, perfil, data_inicio, data_retorno)\n",
        "display(to_markdown(\"---------------------------------------------------------\"))\n",
        "display(to_markdown(\"Algumas dicas de Hoteis, refeiçoes e passeios turisticos\"))\n",
        "display(to_markdown(\"---------------------------------------------------------\"))\n",
        "display(to_markdown(outros))\n",
        "\n",
        "linkedin = agente_linkedin(topico, post_final)\n",
        "display(to_markdown(\"---------------------------------------------------------\"))\n",
        "display(to_markdown(\"Post do LinkedIn\"))\n",
        "display(to_markdown(\"---------------------------------------------------------\"))\n",
        "display(to_markdown(linkedin))\n"
      ],
      "metadata": {
        "colab": {
          "base_uri": "https://localhost:8080/",
          "height": 1000
        },
        "id": "0y13Z4VGyFDx",
        "outputId": "541704be-fdcd-469d-9328-2400b198c803"
      },
      "execution_count": 290,
      "outputs": [
        {
          "name": "stdout",
          "output_type": "stream",
          "text": [
            "Digite o Pais/Cidade do destino: Amsterdan\n",
            "Digite a data de inicio (DD/MM/AAAA): 15/06/2025\n",
            "Digite a data de retorno (DD/MM/AAAA): 30/06/2025\n",
            "Digite o numero de adultos: 1\n",
            "Digite o numero de crianças: 0\n",
            "Selecione uma opção:\n",
            "[1] Mochileiro\n",
            "[2] Economico\n",
            "[3] Confortavel\n",
            "[4] Luxuoso\n",
            "Digite o número da sua escolha: 2\n",
            "Economico\n",
            "Digite o aeroporto de partida: GRU\n"
          ]
        },
        {
          "output_type": "display_data",
          "data": {
            "text/plain": [
              "\u001b[35m▌ \u001b[0m\u001b[33m───────────────────────────────────────────────────────────────────────────────────────────────────────────────\u001b[0m\n"
            ],
            "text/html": [
              "<pre style=\"white-space:pre;overflow-x:auto;line-height:normal;font-family:Menlo,'DejaVu Sans Mono',consolas,'Courier New',monospace\"><span style=\"color: #800080; text-decoration-color: #800080\">▌ </span><span style=\"color: #808000; text-decoration-color: #808000\">───────────────────────────────────────────────────────────────────────────────────────────────────────────────</span>\n",
              "</pre>\n"
            ]
          },
          "metadata": {}
        },
        {
          "output_type": "display_data",
          "data": {
            "text/plain": [
              "\n",
              "\u001b[35m▌ \u001b[0m\u001b[35mRecomendações para a sua viagem\u001b[0m\u001b[35m                                                                                \u001b[0m\n"
            ],
            "text/html": [
              "<pre style=\"white-space:pre;overflow-x:auto;line-height:normal;font-family:Menlo,'DejaVu Sans Mono',consolas,'Courier New',monospace\">\n",
              "<span style=\"color: #800080; text-decoration-color: #800080\">▌ Recomendações para a sua viagem                                                                                </span>\n",
              "</pre>\n"
            ]
          },
          "metadata": {}
        },
        {
          "output_type": "display_data",
          "data": {
            "text/plain": [
              "\u001b[35m▌ \u001b[0m\u001b[33m───────────────────────────────────────────────────────────────────────────────────────────────────────────────\u001b[0m\n"
            ],
            "text/html": [
              "<pre style=\"white-space:pre;overflow-x:auto;line-height:normal;font-family:Menlo,'DejaVu Sans Mono',consolas,'Courier New',monospace\"><span style=\"color: #800080; text-decoration-color: #800080\">▌ </span><span style=\"color: #808000; text-decoration-color: #808000\">───────────────────────────────────────────────────────────────────────────────────────────────────────────────</span>\n",
              "</pre>\n"
            ]
          },
          "metadata": {}
        },
        {
          "output_type": "display_data",
          "data": {
            "text/plain": [
              "\n",
              "\u001b[35m▌ \u001b[0m\u001b[35mOlá! Como seu especialista em gastos de viagem internacional, vou te ajudar a planejar e estimar os custos para\u001b[0m\n",
              "\u001b[35m▌ \u001b[0m\u001b[35msua aventura econômica em Amsterdã, Holanda, de 15 a 30 de junho de 2025.\u001b[0m\u001b[35m                                      \u001b[0m\n",
              "\u001b[35m▌ \u001b[0m\u001b[35mConsiderando seu perfil \"Econômico\" e a cidade de Amsterdã, focaremos em otimizar os gastos sem deixar de \u001b[0m\u001b[35m     \u001b[0m\n",
              "\u001b[35m▌ \u001b[0m\u001b[35maproveitar a cultura e a atmosfera local. Escolhi como seus interesses específicos \u001b[0m\u001b[1;35mMuseus\u001b[0m\u001b[35m e \u001b[0m\u001b[1;35mGastronomia\u001b[0m\u001b[35m \u001b[0m\u001b[35m       \u001b[0m\n",
              "\u001b[35m▌ \u001b[0m\u001b[35m(explorando opções acessíveis e locais).\u001b[0m\u001b[35m                                                                       \u001b[0m\n",
              "\u001b[35m▌ \u001b[0m\u001b[35mVamos detalhar as estimativas por categoria:\u001b[0m\u001b[35m                                                                   \u001b[0m\n",
              "\u001b[35m▌ \u001b[0m\u001b[1;35mTaxa de Câmbio de Referência:\u001b[0m\u001b[35m                                                                                  \u001b[0m\n",
              "\u001b[35m▌ \u001b[0m\u001b[1;33m • \u001b[0m\u001b[35mEuro (€) para Real (BRL): 1 EUR = Aproximadamente 6.32 BRL (em [Data Atual de Consulta]). \u001b[0m\u001b[3;35mNote: A taxa de \u001b[0m\u001b[35m  \u001b[0m\n",
              "\u001b[35m▌ \u001b[0m\u001b[1;33m   \u001b[0m\u001b[3;35mcâmbio é apenas uma referência e pode variar significativamente até a data da viagem.\u001b[0m\u001b[35m                       \u001b[0m\n",
              "\u001b[35m▌ \u001b[0m\u001b[1;35mEstimativa Detalhada por Categoria:\u001b[0m\u001b[35m                                                                            \u001b[0m\n",
              "\u001b[35m▌ \u001b[0m\u001b[35mPara um perfil econômico em Amsterdã, por 15 dias (14 noites):\u001b[0m\u001b[35m                                                 \u001b[0m\n",
              "\u001b[35m▌ \u001b[0m\u001b[1;33m • \u001b[0m\u001b[1;35mVoos (Ida e Volta - Econômica):\u001b[0m\u001b[35m Pesquisas indicam que passagens aéreas do Brasil para a Holanda em junho de \u001b[0m\n",
              "\u001b[35m▌ \u001b[0m\u001b[1;33m   \u001b[0m\u001b[35m2025 podem variar. Encontramos ofertas a partir de BRL 4.154. Considerando um valor médio para um voo \u001b[0m\u001b[35m      \u001b[0m\n",
              "\u001b[35m▌ \u001b[0m\u001b[1;33m   \u001b[0m\u001b[35meconômico com pelo menos uma escala, que geralmente oferece melhor custo-benefício, estimamos:\u001b[0m\u001b[35m              \u001b[0m\n",
              "\u001b[35m▌ \u001b[0m\u001b[1;33m   \u001b[0m\u001b[1;33m • \u001b[0m\u001b[1;35mEstimativa:\u001b[0m\u001b[35m € 700 - € 900 (aproximadamente BRL 4.424 - BRL 5.688)\u001b[0m\u001b[35m                                        \u001b[0m\n",
              "\u001b[35m▌ \u001b[0m\u001b[1;33m • \u001b[0m\u001b[1;35mAluguel de Carro:\u001b[0m\u001b[35m Em Amsterdã, o transporte público é eficiente e a cidade é plana, ideal para ser explorada\u001b[0m\n",
              "\u001b[35m▌ \u001b[0m\u001b[1;33m   \u001b[0m\u001b[35ma pé ou de bicicleta. Alugar um carro geralmente não é necessário e pode ser caro (combustível, \u001b[0m\u001b[35m            \u001b[0m\n",
              "\u001b[35m▌ \u001b[0m\u001b[1;33m   \u001b[0m\u001b[35mestacionamento, pedágios). Para um perfil econômico, não incluiremos aluguel de carro.\u001b[0m\u001b[35m                      \u001b[0m\n",
              "\u001b[35m▌ \u001b[0m\u001b[1;33m   \u001b[0m\u001b[1;33m • \u001b[0m\u001b[1;35mEstimativa:\u001b[0m\u001b[35m € 0\u001b[0m\u001b[35m                                                                                          \u001b[0m\n",
              "\u001b[35m▌ \u001b[0m\u001b[1;33m • \u001b[0m\u001b[1;35mHotéis/Hospedagem (Econômica):\u001b[0m\u001b[35m Focaremos em opções como hostels, hotéis mais simples em bairros centrais ou \u001b[0m\n",
              "\u001b[35m▌ \u001b[0m\u001b[1;33m   \u001b[0m\u001b[35mbem conectados por transporte público. Junho é alta temporada.\u001b[0m\u001b[35m                                              \u001b[0m\n",
              "\u001b[35m▌ \u001b[0m\u001b[1;33m   \u001b[0m\u001b[1;33m • \u001b[0m\u001b[35mHostels ou hotéis econômicos: diárias a partir de € 32 por pessoa em hostels. Hotéis baratos com boas \u001b[0m\u001b[35m   \u001b[0m\n",
              "\u001b[35m▌ \u001b[0m\u001b[1;33m   \u001b[0m\u001b[1;33m   \u001b[0m\u001b[35mavaliações podem ter diárias a partir de R$ 445 (aproximadamente € 70) para 2 pessoas, mas para 1 pessoa \u001b[0m\n",
              "\u001b[35m▌ \u001b[0m\u001b[1;33m   \u001b[0m\u001b[1;33m   \u001b[0m\u001b[35mem quarto privativo, espere um valor um pouco maior.\u001b[0m\u001b[35m                                                     \u001b[0m\n",
              "\u001b[35m▌ \u001b[0m\u001b[1;33m   \u001b[0m\u001b[1;33m • \u001b[0m\u001b[1;35mEstimativa (14 noites):\u001b[0m\u001b[35m € 500 - € 800 (aproximadamente BRL 3.160 - BRL 5.056) - considerando uma média de\u001b[0m\n",
              "\u001b[35m▌ \u001b[0m\u001b[1;33m   \u001b[0m\u001b[1;33m   \u001b[0m\u001b[35m€ 35 a € 57 por noite em hostels ou hotéis econômicos.\u001b[0m\u001b[35m                                                   \u001b[0m\n",
              "\u001b[35m▌ \u001b[0m\u001b[1;33m • \u001b[0m\u001b[1;35mRefeições (Econômica):\u001b[0m\u001b[35m Combinaremos refeições em restaurantes acessíveis, mercados e talvez cozinhar algo \u001b[0m\u001b[35m  \u001b[0m\n",
              "\u001b[35m▌ \u001b[0m\u001b[1;33m   \u001b[0m\u001b[35msimples.\u001b[0m\u001b[35m                                                                                                    \u001b[0m\n",
              "\u001b[35m▌ \u001b[0m\u001b[1;33m   \u001b[0m\u001b[1;33m • \u001b[0m\u001b[35mRefeição em restaurante econômico: a partir de € 15 por pessoa. Lanches rápidos ou comida de rua: € 5 a €\u001b[0m\n",
              "\u001b[35m▌ \u001b[0m\u001b[1;33m   \u001b[0m\u001b[1;33m   \u001b[0m\u001b[35m10. Café da manhã: € 5 a € 15.\u001b[0m\u001b[35m                                                                           \u001b[0m\n",
              "\u001b[35m▌ \u001b[0m\u001b[1;33m   \u001b[0m\u001b[1;33m • \u001b[0m\u001b[35mConsiderando um gasto médio diário focado em economia: € 30 - € 40 por dia.\u001b[0m\u001b[35m                              \u001b[0m\n",
              "\u001b[35m▌ \u001b[0m\u001b[1;33m   \u001b[0m\u001b[1;33m • \u001b[0m\u001b[1;35mEstimativa (15 dias):\u001b[0m\u001b[35m € 450 - € 600 (aproximadamente BRL 2.844 - BRL 3.792)\u001b[0m\u001b[35m                              \u001b[0m\n",
              "\u001b[35m▌ \u001b[0m\u001b[1;33m • \u001b[0m\u001b[1;35mAtrações Turísticas e Atividades (Foco em Museus):\u001b[0m\u001b[35m Amsterdã tem muitos museus. Para um perfil econômico, \u001b[0m\u001b[35m   \u001b[0m\n",
              "\u001b[35m▌ \u001b[0m\u001b[1;33m   \u001b[0m\u001b[35mselecionaremos os imperdíveis e buscaremos por passes ou descontos.\u001b[0m\u001b[35m                                         \u001b[0m\n",
              "\u001b[35m▌ \u001b[0m\u001b[1;33m   \u001b[0m\u001b[1;33m • \u001b[0m\u001b[35mIngresso Museu Van Gogh: a partir de € 22.\u001b[0m\u001b[35m                                                               \u001b[0m\n",
              "\u001b[35m▌ \u001b[0m\u001b[1;33m   \u001b[0m\u001b[1;33m • \u001b[0m\u001b[35mIngresso Rijksmuseum: € 25.\u001b[0m\u001b[35m                                                                              \u001b[0m\n",
              "\u001b[35m▌ \u001b[0m\u001b[1;33m   \u001b[0m\u001b[1;33m • \u001b[0m\u001b[35mIngresso Moco Museum: a partir de € 17,95 online.\u001b[0m\u001b[35m                                                        \u001b[0m\n",
              "\u001b[35m▌ \u001b[0m\u001b[1;33m   \u001b[0m\u001b[1;33m • \u001b[0m\u001b[35mExistem passes que combinam atrações e transporte, como o I Amsterdam Card, que pode ser vantajoso \u001b[0m\u001b[35m      \u001b[0m\n",
              "\u001b[35m▌ \u001b[0m\u001b[1;33m   \u001b[0m\u001b[1;33m   \u001b[0m\u001b[35mdependendo de quantas atrações pagas você pretende visitar. No entanto, para um perfil estritamente \u001b[0m\u001b[35m     \u001b[0m\n",
              "\u001b[35m▌ \u001b[0m\u001b[1;33m   \u001b[0m\u001b[1;33m   \u001b[0m\u001b[35meconômico e focando em poucos museus, comprar ingressos individuais pode ser mais barato.\u001b[0m\u001b[35m                \u001b[0m\n",
              "\u001b[35m▌ \u001b[0m\u001b[1;33m   \u001b[0m\u001b[1;33m • \u001b[0m\u001b[35mConsiderando a visita a 3-4 museus e talvez um passeio de barco mais acessível.\u001b[0m\u001b[35m                          \u001b[0m\n",
              "\u001b[35m▌ \u001b[0m\u001b[1;33m   \u001b[0m\u001b[1;33m • \u001b[0m\u001b[1;35mEstimativa:\u001b[0m\u001b[35m € 100 - € 150 (aproximadamente BRL 632 - BRL 948)\u001b[0m\u001b[35m                                            \u001b[0m\n",
              "\u001b[35m▌ \u001b[0m\u001b[1;33m • \u001b[0m\u001b[1;35mTransporte Local:\u001b[0m\u001b[35m Utilizaremos principalmente o eficiente sistema de transporte público (trams, ônibus, \u001b[0m\u001b[35m    \u001b[0m\n",
              "\u001b[35m▌ \u001b[0m\u001b[1;33m   \u001b[0m\u001b[35mmetrô).\u001b[0m\u001b[35m                                                                                                     \u001b[0m\n",
              "\u001b[35m▌ \u001b[0m\u001b[1;33m   \u001b[0m\u001b[1;33m • \u001b[0m\u001b[35mBilhetes diários ou para múltiplos dias são mais econômicos. Um bilhete de 7 dias custa € 42,50. Para 15 \u001b[0m\n",
              "\u001b[35m▌ \u001b[0m\u001b[1;33m   \u001b[0m\u001b[1;33m   \u001b[0m\u001b[35mdias, pode ser interessante comprar um bilhete de 7 dias e bilhetes avulsos ou outro passe para o \u001b[0m\u001b[35m       \u001b[0m\n",
              "\u001b[35m▌ \u001b[0m\u001b[1;33m   \u001b[0m\u001b[1;33m   \u001b[0m\u001b[35mrestante.\u001b[0m\u001b[35m                                                                                                \u001b[0m\n",
              "\u001b[35m▌ \u001b[0m\u001b[1;33m   \u001b[0m\u001b[1;33m • \u001b[0m\u001b[1;35mEstimativa:\u001b[0m\u001b[35m € 60 - € 80 (aproximadamente BRL 379 - BRL 506) - considerando a compra de passes de longa \u001b[0m\u001b[35m  \u001b[0m\n",
              "\u001b[35m▌ \u001b[0m\u001b[1;33m   \u001b[0m\u001b[1;33m   \u001b[0m\u001b[35mduração.\u001b[0m\u001b[35m                                                                                                 \u001b[0m\n",
              "\u001b[35m▌ \u001b[0m\u001b[1;33m • \u001b[0m\u001b[1;35mSeguro Viagem:\u001b[0m\u001b[35m Obrigatório para entrar na Europa (Espaço Schengen) com cobertura mínima de € 30.000 para \u001b[0m\u001b[35m   \u001b[0m\n",
              "\u001b[35m▌ \u001b[0m\u001b[1;33m   \u001b[0m\u001b[35mdespesas médicas. O custo médio é a partir de R$ 15 por dia.\u001b[0m\u001b[35m                                                \u001b[0m\n",
              "\u001b[35m▌ \u001b[0m\u001b[1;33m   \u001b[0m\u001b[1;33m • \u001b[0m\u001b[1;35mEstimativa (15 dias):\u001b[0m\u001b[35m € 35 - € 50 (aproximadamente BRL 222 - BRL 316)\u001b[0m\u001b[35m                                    \u001b[0m\n",
              "\u001b[35m▌ \u001b[0m\u001b[1;33m • \u001b[0m\u001b[1;35mVisto e Taxas de Entrada:\u001b[0m\u001b[35m Brasileiros não precisam de visto para estadias de até 90 dias na Holanda. A \u001b[0m\u001b[35m     \u001b[0m\n",
              "\u001b[35m▌ \u001b[0m\u001b[1;33m   \u001b[0m\u001b[35mpartir de 2025, o ETIAS será implementado, uma autorização de viagem online com uma pequena taxa.\u001b[0m\u001b[35m           \u001b[0m\n",
              "\u001b[35m▌ \u001b[0m\u001b[1;33m   \u001b[0m\u001b[1;33m • \u001b[0m\u001b[1;35mEstimativa:\u001b[0m\u001b[35m € 7 (taxa ETIAS, aproximadamente BRL 44)\u001b[0m\u001b[35m                                                     \u001b[0m\n",
              "\u001b[35m▌ \u001b[0m\u001b[1;33m • \u001b[0m\u001b[1;35mComunicações:\u001b[0m\u001b[35m Chip local pré-pago para internet. Planos com internet ilimitada custam a partir de US$ 44.\u001b[0m\u001b[35m   \u001b[0m\n",
              "\u001b[35m▌ \u001b[0m\u001b[1;33m   \u001b[0m\u001b[1;33m • \u001b[0m\u001b[1;35mEstimativa:\u001b[0m\u001b[35m € 40 - € 50 (aproximadamente BRL 253 - BRL 316)\u001b[0m\u001b[35m                                              \u001b[0m\n",
              "\u001b[35m▌ \u001b[0m\u001b[1;33m • \u001b[0m\u001b[1;35mEmergências/Imprevistos:\u001b[0m\u001b[35m Uma reserva de 10-15% do total é prudente.\u001b[0m\u001b[35m                                         \u001b[0m\n",
              "\u001b[35m▌ \u001b[0m\u001b[1;33m   \u001b[0m\u001b[1;33m • \u001b[0m\u001b[1;35mEstimativa:\u001b[0m\u001b[35m € 200 - € 300 (aproximadamente BRL 1.264 - BRL 1.896)\u001b[0m\u001b[35m                                        \u001b[0m\n",
              "\u001b[35m▌ \u001b[0m\u001b[1;33m • \u001b[0m\u001b[1;35mCompras/Souvenirs:\u001b[0m\u001b[35m Um orçamento modesto para lembrancinhas.\u001b[0m\u001b[35m                                                 \u001b[0m\n",
              "\u001b[35m▌ \u001b[0m\u001b[1;33m   \u001b[0m\u001b[1;33m • \u001b[0m\u001b[1;35mEstimativa:\u001b[0m\u001b[35m € 50 - € 100 (aproximadamente BRL 316 - BRL 632)\u001b[0m\u001b[35m                                             \u001b[0m\n",
              "\u001b[35m▌ \u001b[0m\u001b[1;33m • \u001b[0m\u001b[1;35mOutros:\u001b[0m\u001b[35m Pequenos gastos diversos, gorjetas extras (embora não seja tão comum gorjeta obrigatória na Europa \u001b[0m\u001b[35m \u001b[0m\n",
              "\u001b[35m▌ \u001b[0m\u001b[1;33m   \u001b[0m\u001b[35mcomo em outros lugares).\u001b[0m\u001b[35m                                                                                    \u001b[0m\n",
              "\u001b[35m▌ \u001b[0m\u001b[1;33m   \u001b[0m\u001b[1;33m • \u001b[0m\u001b[1;35mEstimativa:\u001b[0m\u001b[35m € 50 - € 80 (aproximadamente BRL 316 - BRL 506)\u001b[0m\u001b[35m                                              \u001b[0m\n",
              "\u001b[35m▌ \u001b[0m\u001b[1;35mResumo do Orçamento Estimado (Perfil Econômico - 1 Adulto - 15 dias):\u001b[0m\u001b[35m                                          \u001b[0m\n",
              "\u001b[35m▌ \u001b[0m\u001b[35m                                                                                                               \u001b[0m\n",
              "\u001b[35m▌ \u001b[0m\u001b[35m \u001b[0m\u001b[1;35m                     \u001b[0m\u001b[35m \u001b[0m\u001b[1;35m \u001b[0m\u001b[1;35mEstimativa Mínima \u001b[0m\u001b[1;35m \u001b[0m\u001b[1;35m \u001b[0m\u001b[35m \u001b[0m\u001b[1;35m \u001b[0m\u001b[1;35mEstimativa Máxima \u001b[0m\u001b[1;35m \u001b[0m\u001b[1;35m \u001b[0m\u001b[35m \u001b[0m\u001b[1;35m \u001b[0m\u001b[1;35mEstimativa Mínima \u001b[0m\u001b[1;35m \u001b[0m\u001b[1;35m \u001b[0m\u001b[35m \u001b[0m\u001b[1;35m \u001b[0m\u001b[1;35mEstimativa Máxima \u001b[0m\u001b[1;35m \u001b[0m\u001b[1;35m \u001b[0m\u001b[35m \u001b[0m\n",
              "\u001b[35m▌ \u001b[0m\u001b[35m \u001b[0m\u001b[1;35m \u001b[0m\u001b[1;35mCategoria\u001b[0m\u001b[1;35m          \u001b[0m\u001b[1;35m \u001b[0m\u001b[35m \u001b[0m\u001b[1;35m \u001b[0m\u001b[1;35m(€)\u001b[0m\u001b[1;35m                \u001b[0m\u001b[1;35m \u001b[0m\u001b[35m \u001b[0m\u001b[1;35m \u001b[0m\u001b[1;35m(€)\u001b[0m\u001b[1;35m                \u001b[0m\u001b[1;35m \u001b[0m\u001b[35m \u001b[0m\u001b[1;35m \u001b[0m\u001b[1;35m(BRL)\u001b[0m\u001b[1;35m              \u001b[0m\u001b[1;35m \u001b[0m\u001b[35m \u001b[0m\u001b[1;35m \u001b[0m\u001b[1;35m(BRL)\u001b[0m\u001b[1;35m              \u001b[0m\u001b[1;35m \u001b[0m\u001b[35m \u001b[0m\n",
              "\u001b[35m▌ \u001b[0m\u001b[35m ━━━━━━━━━━━━━━━━━━━━━━━━━━━━━━━━━━━━━━━━━━━━━━━━━━━━━━━━━━━━━━━━━━━━━━━━━━━━━━━━━━━━━━━━━━━━━━━━━━━━━━━━━━━━━ \u001b[0m\n",
              "\u001b[35m▌ \u001b[0m\u001b[35m \u001b[0m\u001b[35m \u001b[0m\u001b[35mVoos (Ida e Volta)\u001b[0m\u001b[35m \u001b[0m\u001b[35m \u001b[0m\u001b[35m \u001b[0m\u001b[35m \u001b[0m\u001b[35m700\u001b[0m\u001b[35m                \u001b[0m\u001b[35m \u001b[0m\u001b[35m \u001b[0m\u001b[35m \u001b[0m\u001b[35m900\u001b[0m\u001b[35m                \u001b[0m\u001b[35m \u001b[0m\u001b[35m \u001b[0m\u001b[35m \u001b[0m\u001b[35m4.424\u001b[0m\u001b[35m              \u001b[0m\u001b[35m \u001b[0m\u001b[35m \u001b[0m\u001b[35m \u001b[0m\u001b[35m5.688\u001b[0m\u001b[35m              \u001b[0m\u001b[35m \u001b[0m\u001b[35m \u001b[0m\n",
              "\u001b[35m▌ \u001b[0m\u001b[35m \u001b[0m\u001b[35m \u001b[0m\u001b[35mAluguel de Carro\u001b[0m\u001b[35m   \u001b[0m\u001b[35m \u001b[0m\u001b[35m \u001b[0m\u001b[35m \u001b[0m\u001b[35m0\u001b[0m\u001b[35m                  \u001b[0m\u001b[35m \u001b[0m\u001b[35m \u001b[0m\u001b[35m \u001b[0m\u001b[35m0\u001b[0m\u001b[35m                  \u001b[0m\u001b[35m \u001b[0m\u001b[35m \u001b[0m\u001b[35m \u001b[0m\u001b[35m0\u001b[0m\u001b[35m                  \u001b[0m\u001b[35m \u001b[0m\u001b[35m \u001b[0m\u001b[35m \u001b[0m\u001b[35m0\u001b[0m\u001b[35m                  \u001b[0m\u001b[35m \u001b[0m\u001b[35m \u001b[0m\n",
              "\u001b[35m▌ \u001b[0m\u001b[35m \u001b[0m\u001b[35m \u001b[0m\u001b[35mHotéis/Hospedagem \u001b[0m\u001b[35m \u001b[0m\u001b[35m \u001b[0m\u001b[35m \u001b[0m\u001b[35m \u001b[0m\u001b[35m500\u001b[0m\u001b[35m                \u001b[0m\u001b[35m \u001b[0m\u001b[35m \u001b[0m\u001b[35m \u001b[0m\u001b[35m800\u001b[0m\u001b[35m                \u001b[0m\u001b[35m \u001b[0m\u001b[35m \u001b[0m\u001b[35m \u001b[0m\u001b[35m3.160\u001b[0m\u001b[35m              \u001b[0m\u001b[35m \u001b[0m\u001b[35m \u001b[0m\u001b[35m \u001b[0m\u001b[35m5.056\u001b[0m\u001b[35m              \u001b[0m\u001b[35m \u001b[0m\u001b[35m \u001b[0m\n",
              "\u001b[35m▌ \u001b[0m\u001b[35m \u001b[0m\u001b[35m \u001b[0m\u001b[35m(14 noites)\u001b[0m\u001b[35m        \u001b[0m\u001b[35m \u001b[0m\u001b[35m \u001b[0m\u001b[35m                     \u001b[0m\u001b[35m \u001b[0m\u001b[35m                     \u001b[0m\u001b[35m \u001b[0m\u001b[35m                     \u001b[0m\u001b[35m \u001b[0m\u001b[35m                     \u001b[0m\u001b[35m \u001b[0m\n",
              "\u001b[35m▌ \u001b[0m\u001b[35m \u001b[0m\u001b[35m \u001b[0m\u001b[35mRefeições (15 dias)\u001b[0m\u001b[35m \u001b[0m\u001b[35m \u001b[0m\u001b[35m \u001b[0m\u001b[35m450\u001b[0m\u001b[35m                \u001b[0m\u001b[35m \u001b[0m\u001b[35m \u001b[0m\u001b[35m \u001b[0m\u001b[35m600\u001b[0m\u001b[35m                \u001b[0m\u001b[35m \u001b[0m\u001b[35m \u001b[0m\u001b[35m \u001b[0m\u001b[35m2.844\u001b[0m\u001b[35m              \u001b[0m\u001b[35m \u001b[0m\u001b[35m \u001b[0m\u001b[35m \u001b[0m\u001b[35m3.792\u001b[0m\u001b[35m              \u001b[0m\u001b[35m \u001b[0m\u001b[35m \u001b[0m\n",
              "\u001b[35m▌ \u001b[0m\u001b[35m \u001b[0m\u001b[35m \u001b[0m\u001b[35mAtrações Turísticas\u001b[0m\u001b[35m \u001b[0m\u001b[35m \u001b[0m\u001b[35m \u001b[0m\u001b[35m100\u001b[0m\u001b[35m                \u001b[0m\u001b[35m \u001b[0m\u001b[35m \u001b[0m\u001b[35m \u001b[0m\u001b[35m150\u001b[0m\u001b[35m                \u001b[0m\u001b[35m \u001b[0m\u001b[35m \u001b[0m\u001b[35m \u001b[0m\u001b[35m632\u001b[0m\u001b[35m                \u001b[0m\u001b[35m \u001b[0m\u001b[35m \u001b[0m\u001b[35m \u001b[0m\u001b[35m948\u001b[0m\u001b[35m                \u001b[0m\u001b[35m \u001b[0m\u001b[35m \u001b[0m\n",
              "\u001b[35m▌ \u001b[0m\u001b[35m \u001b[0m\u001b[35m \u001b[0m\u001b[35mTransporte Local\u001b[0m\u001b[35m   \u001b[0m\u001b[35m \u001b[0m\u001b[35m \u001b[0m\u001b[35m \u001b[0m\u001b[35m60\u001b[0m\u001b[35m                 \u001b[0m\u001b[35m \u001b[0m\u001b[35m \u001b[0m\u001b[35m \u001b[0m\u001b[35m80\u001b[0m\u001b[35m                 \u001b[0m\u001b[35m \u001b[0m\u001b[35m \u001b[0m\u001b[35m \u001b[0m\u001b[35m379\u001b[0m\u001b[35m                \u001b[0m\u001b[35m \u001b[0m\u001b[35m \u001b[0m\u001b[35m \u001b[0m\u001b[35m506\u001b[0m\u001b[35m                \u001b[0m\u001b[35m \u001b[0m\u001b[35m \u001b[0m\n",
              "\u001b[35m▌ \u001b[0m\u001b[35m \u001b[0m\u001b[35m \u001b[0m\u001b[35mSeguro Viagem\u001b[0m\u001b[35m      \u001b[0m\u001b[35m \u001b[0m\u001b[35m \u001b[0m\u001b[35m \u001b[0m\u001b[35m35\u001b[0m\u001b[35m                 \u001b[0m\u001b[35m \u001b[0m\u001b[35m \u001b[0m\u001b[35m \u001b[0m\u001b[35m50\u001b[0m\u001b[35m                 \u001b[0m\u001b[35m \u001b[0m\u001b[35m \u001b[0m\u001b[35m \u001b[0m\u001b[35m222\u001b[0m\u001b[35m                \u001b[0m\u001b[35m \u001b[0m\u001b[35m \u001b[0m\u001b[35m \u001b[0m\u001b[35m316\u001b[0m\u001b[35m                \u001b[0m\u001b[35m \u001b[0m\u001b[35m \u001b[0m\n",
              "\u001b[35m▌ \u001b[0m\u001b[35m \u001b[0m\u001b[35m \u001b[0m\u001b[35mVisto (ETIAS)\u001b[0m\u001b[35m      \u001b[0m\u001b[35m \u001b[0m\u001b[35m \u001b[0m\u001b[35m \u001b[0m\u001b[35m7\u001b[0m\u001b[35m                  \u001b[0m\u001b[35m \u001b[0m\u001b[35m \u001b[0m\u001b[35m \u001b[0m\u001b[35m7\u001b[0m\u001b[35m                  \u001b[0m\u001b[35m \u001b[0m\u001b[35m \u001b[0m\u001b[35m \u001b[0m\u001b[35m44\u001b[0m\u001b[35m                 \u001b[0m\u001b[35m \u001b[0m\u001b[35m \u001b[0m\u001b[35m \u001b[0m\u001b[35m44\u001b[0m\u001b[35m                 \u001b[0m\u001b[35m \u001b[0m\u001b[35m \u001b[0m\n",
              "\u001b[35m▌ \u001b[0m\u001b[35m \u001b[0m\u001b[35m \u001b[0m\u001b[35mComunicações\u001b[0m\u001b[35m       \u001b[0m\u001b[35m \u001b[0m\u001b[35m \u001b[0m\u001b[35m \u001b[0m\u001b[35m40\u001b[0m\u001b[35m                 \u001b[0m\u001b[35m \u001b[0m\u001b[35m \u001b[0m\u001b[35m \u001b[0m\u001b[35m50\u001b[0m\u001b[35m                 \u001b[0m\u001b[35m \u001b[0m\u001b[35m \u001b[0m\u001b[35m \u001b[0m\u001b[35m253\u001b[0m\u001b[35m                \u001b[0m\u001b[35m \u001b[0m\u001b[35m \u001b[0m\u001b[35m \u001b[0m\u001b[35m316\u001b[0m\u001b[35m                \u001b[0m\u001b[35m \u001b[0m\u001b[35m \u001b[0m\n",
              "\u001b[35m▌ \u001b[0m\u001b[35m \u001b[0m\u001b[35m \u001b[0m\u001b[35mEmergências/Imprev…\u001b[0m\u001b[35m \u001b[0m\u001b[35m \u001b[0m\u001b[35m \u001b[0m\u001b[35m200\u001b[0m\u001b[35m                \u001b[0m\u001b[35m \u001b[0m\u001b[35m \u001b[0m\u001b[35m \u001b[0m\u001b[35m300\u001b[0m\u001b[35m                \u001b[0m\u001b[35m \u001b[0m\u001b[35m \u001b[0m\u001b[35m \u001b[0m\u001b[35m1.264\u001b[0m\u001b[35m              \u001b[0m\u001b[35m \u001b[0m\u001b[35m \u001b[0m\u001b[35m \u001b[0m\u001b[35m1.896\u001b[0m\u001b[35m              \u001b[0m\u001b[35m \u001b[0m\u001b[35m \u001b[0m\n",
              "\u001b[35m▌ \u001b[0m\u001b[35m \u001b[0m\u001b[35m \u001b[0m\u001b[35mCompras/Souvenirs\u001b[0m\u001b[35m  \u001b[0m\u001b[35m \u001b[0m\u001b[35m \u001b[0m\u001b[35m \u001b[0m\u001b[35m50\u001b[0m\u001b[35m                 \u001b[0m\u001b[35m \u001b[0m\u001b[35m \u001b[0m\u001b[35m \u001b[0m\u001b[35m100\u001b[0m\u001b[35m                \u001b[0m\u001b[35m \u001b[0m\u001b[35m \u001b[0m\u001b[35m \u001b[0m\u001b[35m316\u001b[0m\u001b[35m                \u001b[0m\u001b[35m \u001b[0m\u001b[35m \u001b[0m\u001b[35m \u001b[0m\u001b[35m632\u001b[0m\u001b[35m                \u001b[0m\u001b[35m \u001b[0m\u001b[35m \u001b[0m\n",
              "\u001b[35m▌ \u001b[0m\u001b[35m \u001b[0m\u001b[35m \u001b[0m\u001b[35mOutros\u001b[0m\u001b[35m             \u001b[0m\u001b[35m \u001b[0m\u001b[35m \u001b[0m\u001b[35m \u001b[0m\u001b[35m50\u001b[0m\u001b[35m                 \u001b[0m\u001b[35m \u001b[0m\u001b[35m \u001b[0m\u001b[35m \u001b[0m\u001b[35m80\u001b[0m\u001b[35m                 \u001b[0m\u001b[35m \u001b[0m\u001b[35m \u001b[0m\u001b[35m \u001b[0m\u001b[35m316\u001b[0m\u001b[35m                \u001b[0m\u001b[35m \u001b[0m\u001b[35m \u001b[0m\u001b[35m \u001b[0m\u001b[35m506\u001b[0m\u001b[35m                \u001b[0m\u001b[35m \u001b[0m\u001b[35m \u001b[0m\n",
              "\u001b[35m▌ \u001b[0m\u001b[35m \u001b[0m\u001b[35m \u001b[0m\u001b[1;35mTotal Estimado\u001b[0m\u001b[35m     \u001b[0m\u001b[35m \u001b[0m\u001b[35m \u001b[0m\u001b[35m \u001b[0m\u001b[1;35m2192\u001b[0m\u001b[35m               \u001b[0m\u001b[35m \u001b[0m\u001b[35m \u001b[0m\u001b[35m \u001b[0m\u001b[1;35m3117\u001b[0m\u001b[35m               \u001b[0m\u001b[35m \u001b[0m\u001b[35m \u001b[0m\u001b[35m \u001b[0m\u001b[1;35m13.854\u001b[0m\u001b[35m             \u001b[0m\u001b[35m \u001b[0m\u001b[35m \u001b[0m\u001b[35m \u001b[0m\u001b[1;35m19.698\u001b[0m\u001b[35m             \u001b[0m\u001b[35m \u001b[0m\u001b[35m \u001b[0m\n",
              "\u001b[35m▌ \u001b[0m\u001b[35m                                                                                                               \u001b[0m\n",
              "\u001b[35m▌ \u001b[0m\u001b[1;35mEstimativa Total em BRL:\u001b[0m\u001b[35m \u001b[0m\u001b[1;35mR$ 13.854 a R$ 19.698\u001b[0m\u001b[35m                                                                 \u001b[0m\n",
              "\u001b[35m▌ \u001b[0m\u001b[1;35mEstimativa Total em EUR:\u001b[0m\u001b[35m \u001b[0m\u001b[1;35m€ 2.192 a € 3.117\u001b[0m\u001b[35m                                                                     \u001b[0m\n",
              "\u001b[35m▌ \u001b[0m\u001b[1;35mObservações e Dicas para Economizar:\u001b[0m\u001b[35m                                                                           \u001b[0m\n",
              "\u001b[35m▌ \u001b[0m\u001b[1;33m • \u001b[0m\u001b[1;35mVoos:\u001b[0m\u001b[35m Monitore os preços das passagens com antecedência e seja flexível nas datas, se possível. Voos com \u001b[0m\u001b[35m   \u001b[0m\n",
              "\u001b[35m▌ \u001b[0m\u001b[1;33m   \u001b[0m\u001b[35mescalas tendem a ser mais baratos. Considere companhias aéreas de baixo custo, mas verifique as taxas de \u001b[0m\u001b[35m   \u001b[0m\n",
              "\u001b[35m▌ \u001b[0m\u001b[1;33m   \u001b[0m\u001b[35mbagagem.\u001b[0m\u001b[35m                                                                                                    \u001b[0m\n",
              "\u001b[35m▌ \u001b[0m\u001b[1;33m • \u001b[0m\u001b[1;35mHospedagem:\u001b[0m\u001b[35m Hostels são ótimas opções para economizar e conhecer outros viajantes. Considere quartos \u001b[0m\u001b[35m       \u001b[0m\n",
              "\u001b[35m▌ \u001b[0m\u001b[1;33m   \u001b[0m\u001b[35mcompartilhados para o menor custo. Pesquise por hotéis econômicos fora do centro turístico, mas com fácil \u001b[0m\u001b[35m  \u001b[0m\n",
              "\u001b[35m▌ \u001b[0m\u001b[1;33m   \u001b[0m\u001b[35macesso ao transporte público. Reservar com antecedência é crucial para conseguir melhores preços em junho \u001b[0m\u001b[35m  \u001b[0m\n",
              "\u001b[35m▌ \u001b[0m\u001b[1;33m   \u001b[0m\u001b[35m(alta temporada).\u001b[0m\u001b[35m                                                                                           \u001b[0m\n",
              "\u001b[35m▌ \u001b[0m\u001b[1;33m • \u001b[0m\u001b[1;35mRefeições:\u001b[0m\u001b[35m Explore mercados locais como o Albert Cuyp Market para opções de comida de rua acessível e \u001b[0m\u001b[35m      \u001b[0m\n",
              "\u001b[35m▌ \u001b[0m\u001b[1;33m   \u001b[0m\u001b[35mingredientes para cozinhar. Coma em restaurantes frequentados por locais (geralmente mais baratos). Evite \u001b[0m\u001b[35m  \u001b[0m\n",
              "\u001b[35m▌ \u001b[0m\u001b[1;33m   \u001b[0m\u001b[35mrestaurantes nas áreas turísticas mais movimentadas. Cozinhar algumas refeições na hospedagem pode reduzir \u001b[0m\u001b[35m \u001b[0m\n",
              "\u001b[35m▌ \u001b[0m\u001b[1;33m   \u001b[0m\u001b[35mbastante os custos.\u001b[0m\u001b[35m                                                                                         \u001b[0m\n",
              "\u001b[35m▌ \u001b[0m\u001b[1;33m • \u001b[0m\u001b[1;35mTransporte Local:\u001b[0m\u001b[35m Compre um passe de transporte para vários dias. Andar de bicicleta é uma forma autêntica e\u001b[0m\n",
              "\u001b[35m▌ \u001b[0m\u001b[1;33m   \u001b[0m\u001b[35meconômica de explorar Amsterdã.\u001b[0m\u001b[35m                                                                             \u001b[0m\n",
              "\u001b[35m▌ \u001b[0m\u001b[1;33m • \u001b[0m\u001b[1;35mAtrações:\u001b[0m\u001b[35m Priorize os museus que mais te interessam. Verifique se há dias ou horários com entrada gratuita \u001b[0m\u001b[35m \u001b[0m\n",
              "\u001b[35m▌ \u001b[0m\u001b[1;33m   \u001b[0m\u001b[35mou descontos para estudantes (se aplicável). Considere passes se for visitar muitas atrações. Muitas das \u001b[0m\u001b[35m   \u001b[0m\n",
              "\u001b[35m▌ \u001b[0m\u001b[1;33m   \u001b[0m\u001b[35mbelezas de Amsterdã (canais, parques) podem ser apreciadas gratuitamente.\u001b[0m\u001b[35m                                   \u001b[0m\n",
              "\u001b[35m▌ \u001b[0m\u001b[1;33m • \u001b[0m\u001b[1;35mCompras:\u001b[0m\u001b[35m Defina um limite para gastos com compras e souvenirs.\u001b[0m\u001b[35m                                              \u001b[0m\n",
              "\u001b[35m▌ \u001b[0m\u001b[1;33m • \u001b[0m\u001b[1;35mCâmbio:\u001b[0m\u001b[35m Acompanhe a cotação do euro e avalie o melhor momento para comprar a moeda. Considere utilizar um \u001b[0m\u001b[35m  \u001b[0m\n",
              "\u001b[35m▌ \u001b[0m\u001b[1;33m   \u001b[0m\u001b[35mcartão de débito internacional com taxas favoráveis.\u001b[0m\u001b[35m                                                        \u001b[0m\n",
              "\u001b[35m▌ \u001b[0m\u001b[35mLembre-se que esta é uma estimativa e os custos reais podem variar dependendo de suas escolhas e imprevistos.\u001b[0m\u001b[35m  \u001b[0m\n",
              "\u001b[35m▌ \u001b[0m\u001b[35mEspero que esta estimativa detalhada te ajude a planejar sua viagem econômica para Amsterdã! Se tiver mais \u001b[0m\u001b[35m    \u001b[0m\n",
              "\u001b[35m▌ \u001b[0m\u001b[35mperguntas ou quiser ajustar algum item, é só me dizer!\u001b[0m\u001b[35m                                                         \u001b[0m\n"
            ],
            "text/html": [
              "<pre style=\"white-space:pre;overflow-x:auto;line-height:normal;font-family:Menlo,'DejaVu Sans Mono',consolas,'Courier New',monospace\">\n",
              "<span style=\"color: #800080; text-decoration-color: #800080\">▌ Olá! Como seu especialista em gastos de viagem internacional, vou te ajudar a planejar e estimar os custos para</span>\n",
              "<span style=\"color: #800080; text-decoration-color: #800080\">▌ sua aventura econômica em Amsterdã, Holanda, de 15 a 30 de junho de 2025.                                      </span>\n",
              "<span style=\"color: #800080; text-decoration-color: #800080\">▌ Considerando seu perfil \"Econômico\" e a cidade de Amsterdã, focaremos em otimizar os gastos sem deixar de      </span>\n",
              "<span style=\"color: #800080; text-decoration-color: #800080\">▌ aproveitar a cultura e a atmosfera local. Escolhi como seus interesses específicos </span><span style=\"color: #800080; text-decoration-color: #800080; font-weight: bold\">Museus</span><span style=\"color: #800080; text-decoration-color: #800080\"> e </span><span style=\"color: #800080; text-decoration-color: #800080; font-weight: bold\">Gastronomia</span><span style=\"color: #800080; text-decoration-color: #800080\">        </span>\n",
              "<span style=\"color: #800080; text-decoration-color: #800080\">▌ (explorando opções acessíveis e locais).                                                                       </span>\n",
              "<span style=\"color: #800080; text-decoration-color: #800080\">▌ Vamos detalhar as estimativas por categoria:                                                                   </span>\n",
              "<span style=\"color: #800080; text-decoration-color: #800080\">▌ </span><span style=\"color: #800080; text-decoration-color: #800080; font-weight: bold\">Taxa de Câmbio de Referência:</span><span style=\"color: #800080; text-decoration-color: #800080\">                                                                                  </span>\n",
              "<span style=\"color: #800080; text-decoration-color: #800080\">▌ </span><span style=\"color: #808000; text-decoration-color: #808000; font-weight: bold\"> • </span><span style=\"color: #800080; text-decoration-color: #800080\">Euro (€) para Real (BRL): 1 EUR = Aproximadamente 6.32 BRL (em [Data Atual de Consulta]). </span><span style=\"color: #800080; text-decoration-color: #800080; font-style: italic\">Note: A taxa de </span><span style=\"color: #800080; text-decoration-color: #800080\">  </span>\n",
              "<span style=\"color: #800080; text-decoration-color: #800080\">▌ </span><span style=\"color: #808000; text-decoration-color: #808000; font-weight: bold\">   </span><span style=\"color: #800080; text-decoration-color: #800080; font-style: italic\">câmbio é apenas uma referência e pode variar significativamente até a data da viagem.</span><span style=\"color: #800080; text-decoration-color: #800080\">                       </span>\n",
              "<span style=\"color: #800080; text-decoration-color: #800080\">▌ </span><span style=\"color: #800080; text-decoration-color: #800080; font-weight: bold\">Estimativa Detalhada por Categoria:</span><span style=\"color: #800080; text-decoration-color: #800080\">                                                                            </span>\n",
              "<span style=\"color: #800080; text-decoration-color: #800080\">▌ Para um perfil econômico em Amsterdã, por 15 dias (14 noites):                                                 </span>\n",
              "<span style=\"color: #800080; text-decoration-color: #800080\">▌ </span><span style=\"color: #808000; text-decoration-color: #808000; font-weight: bold\"> • </span><span style=\"color: #800080; text-decoration-color: #800080; font-weight: bold\">Voos (Ida e Volta - Econômica):</span><span style=\"color: #800080; text-decoration-color: #800080\"> Pesquisas indicam que passagens aéreas do Brasil para a Holanda em junho de </span>\n",
              "<span style=\"color: #800080; text-decoration-color: #800080\">▌ </span><span style=\"color: #808000; text-decoration-color: #808000; font-weight: bold\">   </span><span style=\"color: #800080; text-decoration-color: #800080\">2025 podem variar. Encontramos ofertas a partir de BRL 4.154. Considerando um valor médio para um voo       </span>\n",
              "<span style=\"color: #800080; text-decoration-color: #800080\">▌ </span><span style=\"color: #808000; text-decoration-color: #808000; font-weight: bold\">   </span><span style=\"color: #800080; text-decoration-color: #800080\">econômico com pelo menos uma escala, que geralmente oferece melhor custo-benefício, estimamos:              </span>\n",
              "<span style=\"color: #800080; text-decoration-color: #800080\">▌ </span><span style=\"color: #808000; text-decoration-color: #808000; font-weight: bold\">    • </span><span style=\"color: #800080; text-decoration-color: #800080; font-weight: bold\">Estimativa:</span><span style=\"color: #800080; text-decoration-color: #800080\"> € 700 - € 900 (aproximadamente BRL 4.424 - BRL 5.688)                                        </span>\n",
              "<span style=\"color: #800080; text-decoration-color: #800080\">▌ </span><span style=\"color: #808000; text-decoration-color: #808000; font-weight: bold\"> • </span><span style=\"color: #800080; text-decoration-color: #800080; font-weight: bold\">Aluguel de Carro:</span><span style=\"color: #800080; text-decoration-color: #800080\"> Em Amsterdã, o transporte público é eficiente e a cidade é plana, ideal para ser explorada</span>\n",
              "<span style=\"color: #800080; text-decoration-color: #800080\">▌ </span><span style=\"color: #808000; text-decoration-color: #808000; font-weight: bold\">   </span><span style=\"color: #800080; text-decoration-color: #800080\">a pé ou de bicicleta. Alugar um carro geralmente não é necessário e pode ser caro (combustível,             </span>\n",
              "<span style=\"color: #800080; text-decoration-color: #800080\">▌ </span><span style=\"color: #808000; text-decoration-color: #808000; font-weight: bold\">   </span><span style=\"color: #800080; text-decoration-color: #800080\">estacionamento, pedágios). Para um perfil econômico, não incluiremos aluguel de carro.                      </span>\n",
              "<span style=\"color: #800080; text-decoration-color: #800080\">▌ </span><span style=\"color: #808000; text-decoration-color: #808000; font-weight: bold\">    • </span><span style=\"color: #800080; text-decoration-color: #800080; font-weight: bold\">Estimativa:</span><span style=\"color: #800080; text-decoration-color: #800080\"> € 0                                                                                          </span>\n",
              "<span style=\"color: #800080; text-decoration-color: #800080\">▌ </span><span style=\"color: #808000; text-decoration-color: #808000; font-weight: bold\"> • </span><span style=\"color: #800080; text-decoration-color: #800080; font-weight: bold\">Hotéis/Hospedagem (Econômica):</span><span style=\"color: #800080; text-decoration-color: #800080\"> Focaremos em opções como hostels, hotéis mais simples em bairros centrais ou </span>\n",
              "<span style=\"color: #800080; text-decoration-color: #800080\">▌ </span><span style=\"color: #808000; text-decoration-color: #808000; font-weight: bold\">   </span><span style=\"color: #800080; text-decoration-color: #800080\">bem conectados por transporte público. Junho é alta temporada.                                              </span>\n",
              "<span style=\"color: #800080; text-decoration-color: #800080\">▌ </span><span style=\"color: #808000; text-decoration-color: #808000; font-weight: bold\">    • </span><span style=\"color: #800080; text-decoration-color: #800080\">Hostels ou hotéis econômicos: diárias a partir de € 32 por pessoa em hostels. Hotéis baratos com boas    </span>\n",
              "<span style=\"color: #800080; text-decoration-color: #800080\">▌ </span><span style=\"color: #808000; text-decoration-color: #808000; font-weight: bold\">      </span><span style=\"color: #800080; text-decoration-color: #800080\">avaliações podem ter diárias a partir de R$ 445 (aproximadamente € 70) para 2 pessoas, mas para 1 pessoa </span>\n",
              "<span style=\"color: #800080; text-decoration-color: #800080\">▌ </span><span style=\"color: #808000; text-decoration-color: #808000; font-weight: bold\">      </span><span style=\"color: #800080; text-decoration-color: #800080\">em quarto privativo, espere um valor um pouco maior.                                                     </span>\n",
              "<span style=\"color: #800080; text-decoration-color: #800080\">▌ </span><span style=\"color: #808000; text-decoration-color: #808000; font-weight: bold\">    • </span><span style=\"color: #800080; text-decoration-color: #800080; font-weight: bold\">Estimativa (14 noites):</span><span style=\"color: #800080; text-decoration-color: #800080\"> € 500 - € 800 (aproximadamente BRL 3.160 - BRL 5.056) - considerando uma média de</span>\n",
              "<span style=\"color: #800080; text-decoration-color: #800080\">▌ </span><span style=\"color: #808000; text-decoration-color: #808000; font-weight: bold\">      </span><span style=\"color: #800080; text-decoration-color: #800080\">€ 35 a € 57 por noite em hostels ou hotéis econômicos.                                                   </span>\n",
              "<span style=\"color: #800080; text-decoration-color: #800080\">▌ </span><span style=\"color: #808000; text-decoration-color: #808000; font-weight: bold\"> • </span><span style=\"color: #800080; text-decoration-color: #800080; font-weight: bold\">Refeições (Econômica):</span><span style=\"color: #800080; text-decoration-color: #800080\"> Combinaremos refeições em restaurantes acessíveis, mercados e talvez cozinhar algo   </span>\n",
              "<span style=\"color: #800080; text-decoration-color: #800080\">▌ </span><span style=\"color: #808000; text-decoration-color: #808000; font-weight: bold\">   </span><span style=\"color: #800080; text-decoration-color: #800080\">simples.                                                                                                    </span>\n",
              "<span style=\"color: #800080; text-decoration-color: #800080\">▌ </span><span style=\"color: #808000; text-decoration-color: #808000; font-weight: bold\">    • </span><span style=\"color: #800080; text-decoration-color: #800080\">Refeição em restaurante econômico: a partir de € 15 por pessoa. Lanches rápidos ou comida de rua: € 5 a €</span>\n",
              "<span style=\"color: #800080; text-decoration-color: #800080\">▌ </span><span style=\"color: #808000; text-decoration-color: #808000; font-weight: bold\">      </span><span style=\"color: #800080; text-decoration-color: #800080\">10. Café da manhã: € 5 a € 15.                                                                           </span>\n",
              "<span style=\"color: #800080; text-decoration-color: #800080\">▌ </span><span style=\"color: #808000; text-decoration-color: #808000; font-weight: bold\">    • </span><span style=\"color: #800080; text-decoration-color: #800080\">Considerando um gasto médio diário focado em economia: € 30 - € 40 por dia.                              </span>\n",
              "<span style=\"color: #800080; text-decoration-color: #800080\">▌ </span><span style=\"color: #808000; text-decoration-color: #808000; font-weight: bold\">    • </span><span style=\"color: #800080; text-decoration-color: #800080; font-weight: bold\">Estimativa (15 dias):</span><span style=\"color: #800080; text-decoration-color: #800080\"> € 450 - € 600 (aproximadamente BRL 2.844 - BRL 3.792)                              </span>\n",
              "<span style=\"color: #800080; text-decoration-color: #800080\">▌ </span><span style=\"color: #808000; text-decoration-color: #808000; font-weight: bold\"> • </span><span style=\"color: #800080; text-decoration-color: #800080; font-weight: bold\">Atrações Turísticas e Atividades (Foco em Museus):</span><span style=\"color: #800080; text-decoration-color: #800080\"> Amsterdã tem muitos museus. Para um perfil econômico,    </span>\n",
              "<span style=\"color: #800080; text-decoration-color: #800080\">▌ </span><span style=\"color: #808000; text-decoration-color: #808000; font-weight: bold\">   </span><span style=\"color: #800080; text-decoration-color: #800080\">selecionaremos os imperdíveis e buscaremos por passes ou descontos.                                         </span>\n",
              "<span style=\"color: #800080; text-decoration-color: #800080\">▌ </span><span style=\"color: #808000; text-decoration-color: #808000; font-weight: bold\">    • </span><span style=\"color: #800080; text-decoration-color: #800080\">Ingresso Museu Van Gogh: a partir de € 22.                                                               </span>\n",
              "<span style=\"color: #800080; text-decoration-color: #800080\">▌ </span><span style=\"color: #808000; text-decoration-color: #808000; font-weight: bold\">    • </span><span style=\"color: #800080; text-decoration-color: #800080\">Ingresso Rijksmuseum: € 25.                                                                              </span>\n",
              "<span style=\"color: #800080; text-decoration-color: #800080\">▌ </span><span style=\"color: #808000; text-decoration-color: #808000; font-weight: bold\">    • </span><span style=\"color: #800080; text-decoration-color: #800080\">Ingresso Moco Museum: a partir de € 17,95 online.                                                        </span>\n",
              "<span style=\"color: #800080; text-decoration-color: #800080\">▌ </span><span style=\"color: #808000; text-decoration-color: #808000; font-weight: bold\">    • </span><span style=\"color: #800080; text-decoration-color: #800080\">Existem passes que combinam atrações e transporte, como o I Amsterdam Card, que pode ser vantajoso       </span>\n",
              "<span style=\"color: #800080; text-decoration-color: #800080\">▌ </span><span style=\"color: #808000; text-decoration-color: #808000; font-weight: bold\">      </span><span style=\"color: #800080; text-decoration-color: #800080\">dependendo de quantas atrações pagas você pretende visitar. No entanto, para um perfil estritamente      </span>\n",
              "<span style=\"color: #800080; text-decoration-color: #800080\">▌ </span><span style=\"color: #808000; text-decoration-color: #808000; font-weight: bold\">      </span><span style=\"color: #800080; text-decoration-color: #800080\">econômico e focando em poucos museus, comprar ingressos individuais pode ser mais barato.                </span>\n",
              "<span style=\"color: #800080; text-decoration-color: #800080\">▌ </span><span style=\"color: #808000; text-decoration-color: #808000; font-weight: bold\">    • </span><span style=\"color: #800080; text-decoration-color: #800080\">Considerando a visita a 3-4 museus e talvez um passeio de barco mais acessível.                          </span>\n",
              "<span style=\"color: #800080; text-decoration-color: #800080\">▌ </span><span style=\"color: #808000; text-decoration-color: #808000; font-weight: bold\">    • </span><span style=\"color: #800080; text-decoration-color: #800080; font-weight: bold\">Estimativa:</span><span style=\"color: #800080; text-decoration-color: #800080\"> € 100 - € 150 (aproximadamente BRL 632 - BRL 948)                                            </span>\n",
              "<span style=\"color: #800080; text-decoration-color: #800080\">▌ </span><span style=\"color: #808000; text-decoration-color: #808000; font-weight: bold\"> • </span><span style=\"color: #800080; text-decoration-color: #800080; font-weight: bold\">Transporte Local:</span><span style=\"color: #800080; text-decoration-color: #800080\"> Utilizaremos principalmente o eficiente sistema de transporte público (trams, ônibus,     </span>\n",
              "<span style=\"color: #800080; text-decoration-color: #800080\">▌ </span><span style=\"color: #808000; text-decoration-color: #808000; font-weight: bold\">   </span><span style=\"color: #800080; text-decoration-color: #800080\">metrô).                                                                                                     </span>\n",
              "<span style=\"color: #800080; text-decoration-color: #800080\">▌ </span><span style=\"color: #808000; text-decoration-color: #808000; font-weight: bold\">    • </span><span style=\"color: #800080; text-decoration-color: #800080\">Bilhetes diários ou para múltiplos dias são mais econômicos. Um bilhete de 7 dias custa € 42,50. Para 15 </span>\n",
              "<span style=\"color: #800080; text-decoration-color: #800080\">▌ </span><span style=\"color: #808000; text-decoration-color: #808000; font-weight: bold\">      </span><span style=\"color: #800080; text-decoration-color: #800080\">dias, pode ser interessante comprar um bilhete de 7 dias e bilhetes avulsos ou outro passe para o        </span>\n",
              "<span style=\"color: #800080; text-decoration-color: #800080\">▌ </span><span style=\"color: #808000; text-decoration-color: #808000; font-weight: bold\">      </span><span style=\"color: #800080; text-decoration-color: #800080\">restante.                                                                                                </span>\n",
              "<span style=\"color: #800080; text-decoration-color: #800080\">▌ </span><span style=\"color: #808000; text-decoration-color: #808000; font-weight: bold\">    • </span><span style=\"color: #800080; text-decoration-color: #800080; font-weight: bold\">Estimativa:</span><span style=\"color: #800080; text-decoration-color: #800080\"> € 60 - € 80 (aproximadamente BRL 379 - BRL 506) - considerando a compra de passes de longa   </span>\n",
              "<span style=\"color: #800080; text-decoration-color: #800080\">▌ </span><span style=\"color: #808000; text-decoration-color: #808000; font-weight: bold\">      </span><span style=\"color: #800080; text-decoration-color: #800080\">duração.                                                                                                 </span>\n",
              "<span style=\"color: #800080; text-decoration-color: #800080\">▌ </span><span style=\"color: #808000; text-decoration-color: #808000; font-weight: bold\"> • </span><span style=\"color: #800080; text-decoration-color: #800080; font-weight: bold\">Seguro Viagem:</span><span style=\"color: #800080; text-decoration-color: #800080\"> Obrigatório para entrar na Europa (Espaço Schengen) com cobertura mínima de € 30.000 para    </span>\n",
              "<span style=\"color: #800080; text-decoration-color: #800080\">▌ </span><span style=\"color: #808000; text-decoration-color: #808000; font-weight: bold\">   </span><span style=\"color: #800080; text-decoration-color: #800080\">despesas médicas. O custo médio é a partir de R$ 15 por dia.                                                </span>\n",
              "<span style=\"color: #800080; text-decoration-color: #800080\">▌ </span><span style=\"color: #808000; text-decoration-color: #808000; font-weight: bold\">    • </span><span style=\"color: #800080; text-decoration-color: #800080; font-weight: bold\">Estimativa (15 dias):</span><span style=\"color: #800080; text-decoration-color: #800080\"> € 35 - € 50 (aproximadamente BRL 222 - BRL 316)                                    </span>\n",
              "<span style=\"color: #800080; text-decoration-color: #800080\">▌ </span><span style=\"color: #808000; text-decoration-color: #808000; font-weight: bold\"> • </span><span style=\"color: #800080; text-decoration-color: #800080; font-weight: bold\">Visto e Taxas de Entrada:</span><span style=\"color: #800080; text-decoration-color: #800080\"> Brasileiros não precisam de visto para estadias de até 90 dias na Holanda. A      </span>\n",
              "<span style=\"color: #800080; text-decoration-color: #800080\">▌ </span><span style=\"color: #808000; text-decoration-color: #808000; font-weight: bold\">   </span><span style=\"color: #800080; text-decoration-color: #800080\">partir de 2025, o ETIAS será implementado, uma autorização de viagem online com uma pequena taxa.           </span>\n",
              "<span style=\"color: #800080; text-decoration-color: #800080\">▌ </span><span style=\"color: #808000; text-decoration-color: #808000; font-weight: bold\">    • </span><span style=\"color: #800080; text-decoration-color: #800080; font-weight: bold\">Estimativa:</span><span style=\"color: #800080; text-decoration-color: #800080\"> € 7 (taxa ETIAS, aproximadamente BRL 44)                                                     </span>\n",
              "<span style=\"color: #800080; text-decoration-color: #800080\">▌ </span><span style=\"color: #808000; text-decoration-color: #808000; font-weight: bold\"> • </span><span style=\"color: #800080; text-decoration-color: #800080; font-weight: bold\">Comunicações:</span><span style=\"color: #800080; text-decoration-color: #800080\"> Chip local pré-pago para internet. Planos com internet ilimitada custam a partir de US$ 44.   </span>\n",
              "<span style=\"color: #800080; text-decoration-color: #800080\">▌ </span><span style=\"color: #808000; text-decoration-color: #808000; font-weight: bold\">    • </span><span style=\"color: #800080; text-decoration-color: #800080; font-weight: bold\">Estimativa:</span><span style=\"color: #800080; text-decoration-color: #800080\"> € 40 - € 50 (aproximadamente BRL 253 - BRL 316)                                              </span>\n",
              "<span style=\"color: #800080; text-decoration-color: #800080\">▌ </span><span style=\"color: #808000; text-decoration-color: #808000; font-weight: bold\"> • </span><span style=\"color: #800080; text-decoration-color: #800080; font-weight: bold\">Emergências/Imprevistos:</span><span style=\"color: #800080; text-decoration-color: #800080\"> Uma reserva de 10-15% do total é prudente.                                         </span>\n",
              "<span style=\"color: #800080; text-decoration-color: #800080\">▌ </span><span style=\"color: #808000; text-decoration-color: #808000; font-weight: bold\">    • </span><span style=\"color: #800080; text-decoration-color: #800080; font-weight: bold\">Estimativa:</span><span style=\"color: #800080; text-decoration-color: #800080\"> € 200 - € 300 (aproximadamente BRL 1.264 - BRL 1.896)                                        </span>\n",
              "<span style=\"color: #800080; text-decoration-color: #800080\">▌ </span><span style=\"color: #808000; text-decoration-color: #808000; font-weight: bold\"> • </span><span style=\"color: #800080; text-decoration-color: #800080; font-weight: bold\">Compras/Souvenirs:</span><span style=\"color: #800080; text-decoration-color: #800080\"> Um orçamento modesto para lembrancinhas.                                                 </span>\n",
              "<span style=\"color: #800080; text-decoration-color: #800080\">▌ </span><span style=\"color: #808000; text-decoration-color: #808000; font-weight: bold\">    • </span><span style=\"color: #800080; text-decoration-color: #800080; font-weight: bold\">Estimativa:</span><span style=\"color: #800080; text-decoration-color: #800080\"> € 50 - € 100 (aproximadamente BRL 316 - BRL 632)                                             </span>\n",
              "<span style=\"color: #800080; text-decoration-color: #800080\">▌ </span><span style=\"color: #808000; text-decoration-color: #808000; font-weight: bold\"> • </span><span style=\"color: #800080; text-decoration-color: #800080; font-weight: bold\">Outros:</span><span style=\"color: #800080; text-decoration-color: #800080\"> Pequenos gastos diversos, gorjetas extras (embora não seja tão comum gorjeta obrigatória na Europa  </span>\n",
              "<span style=\"color: #800080; text-decoration-color: #800080\">▌ </span><span style=\"color: #808000; text-decoration-color: #808000; font-weight: bold\">   </span><span style=\"color: #800080; text-decoration-color: #800080\">como em outros lugares).                                                                                    </span>\n",
              "<span style=\"color: #800080; text-decoration-color: #800080\">▌ </span><span style=\"color: #808000; text-decoration-color: #808000; font-weight: bold\">    • </span><span style=\"color: #800080; text-decoration-color: #800080; font-weight: bold\">Estimativa:</span><span style=\"color: #800080; text-decoration-color: #800080\"> € 50 - € 80 (aproximadamente BRL 316 - BRL 506)                                              </span>\n",
              "<span style=\"color: #800080; text-decoration-color: #800080\">▌ </span><span style=\"color: #800080; text-decoration-color: #800080; font-weight: bold\">Resumo do Orçamento Estimado (Perfil Econômico - 1 Adulto - 15 dias):</span><span style=\"color: #800080; text-decoration-color: #800080\">                                          </span>\n",
              "<span style=\"color: #800080; text-decoration-color: #800080\">▌                                                                                                                </span>\n",
              "<span style=\"color: #800080; text-decoration-color: #800080\">▌  </span><span style=\"color: #800080; text-decoration-color: #800080; font-weight: bold\">                     </span><span style=\"color: #800080; text-decoration-color: #800080\"> </span><span style=\"color: #800080; text-decoration-color: #800080; font-weight: bold\"> Estimativa Mínima   </span><span style=\"color: #800080; text-decoration-color: #800080\"> </span><span style=\"color: #800080; text-decoration-color: #800080; font-weight: bold\"> Estimativa Máxima   </span><span style=\"color: #800080; text-decoration-color: #800080\"> </span><span style=\"color: #800080; text-decoration-color: #800080; font-weight: bold\"> Estimativa Mínima   </span><span style=\"color: #800080; text-decoration-color: #800080\"> </span><span style=\"color: #800080; text-decoration-color: #800080; font-weight: bold\"> Estimativa Máxima   </span><span style=\"color: #800080; text-decoration-color: #800080\"> </span>\n",
              "<span style=\"color: #800080; text-decoration-color: #800080\">▌  </span><span style=\"color: #800080; text-decoration-color: #800080; font-weight: bold\"> Categoria           </span><span style=\"color: #800080; text-decoration-color: #800080\"> </span><span style=\"color: #800080; text-decoration-color: #800080; font-weight: bold\"> (€)                 </span><span style=\"color: #800080; text-decoration-color: #800080\"> </span><span style=\"color: #800080; text-decoration-color: #800080; font-weight: bold\"> (€)                 </span><span style=\"color: #800080; text-decoration-color: #800080\"> </span><span style=\"color: #800080; text-decoration-color: #800080; font-weight: bold\"> (BRL)               </span><span style=\"color: #800080; text-decoration-color: #800080\"> </span><span style=\"color: #800080; text-decoration-color: #800080; font-weight: bold\"> (BRL)               </span><span style=\"color: #800080; text-decoration-color: #800080\"> </span>\n",
              "<span style=\"color: #800080; text-decoration-color: #800080\">▌  ━━━━━━━━━━━━━━━━━━━━━━━━━━━━━━━━━━━━━━━━━━━━━━━━━━━━━━━━━━━━━━━━━━━━━━━━━━━━━━━━━━━━━━━━━━━━━━━━━━━━━━━━━━━━━ </span>\n",
              "<span style=\"color: #800080; text-decoration-color: #800080\">▌   Voos (Ida e Volta)    700                   900                   4.424                 5.688                </span>\n",
              "<span style=\"color: #800080; text-decoration-color: #800080\">▌   Aluguel de Carro      0                     0                     0                     0                    </span>\n",
              "<span style=\"color: #800080; text-decoration-color: #800080\">▌   Hotéis/Hospedagem     500                   800                   3.160                 5.056                </span>\n",
              "<span style=\"color: #800080; text-decoration-color: #800080\">▌   (14 noites)                                                                                                  </span>\n",
              "<span style=\"color: #800080; text-decoration-color: #800080\">▌   Refeições (15 dias)   450                   600                   2.844                 3.792                </span>\n",
              "<span style=\"color: #800080; text-decoration-color: #800080\">▌   Atrações Turísticas   100                   150                   632                   948                  </span>\n",
              "<span style=\"color: #800080; text-decoration-color: #800080\">▌   Transporte Local      60                    80                    379                   506                  </span>\n",
              "<span style=\"color: #800080; text-decoration-color: #800080\">▌   Seguro Viagem         35                    50                    222                   316                  </span>\n",
              "<span style=\"color: #800080; text-decoration-color: #800080\">▌   Visto (ETIAS)         7                     7                     44                    44                   </span>\n",
              "<span style=\"color: #800080; text-decoration-color: #800080\">▌   Comunicações          40                    50                    253                   316                  </span>\n",
              "<span style=\"color: #800080; text-decoration-color: #800080\">▌   Emergências/Imprev…   200                   300                   1.264                 1.896                </span>\n",
              "<span style=\"color: #800080; text-decoration-color: #800080\">▌   Compras/Souvenirs     50                    100                   316                   632                  </span>\n",
              "<span style=\"color: #800080; text-decoration-color: #800080\">▌   Outros                50                    80                    316                   506                  </span>\n",
              "<span style=\"color: #800080; text-decoration-color: #800080\">▌   </span><span style=\"color: #800080; text-decoration-color: #800080; font-weight: bold\">Total Estimado</span><span style=\"color: #800080; text-decoration-color: #800080\">        </span><span style=\"color: #800080; text-decoration-color: #800080; font-weight: bold\">2192</span><span style=\"color: #800080; text-decoration-color: #800080\">                  </span><span style=\"color: #800080; text-decoration-color: #800080; font-weight: bold\">3117</span><span style=\"color: #800080; text-decoration-color: #800080\">                  </span><span style=\"color: #800080; text-decoration-color: #800080; font-weight: bold\">13.854</span><span style=\"color: #800080; text-decoration-color: #800080\">                </span><span style=\"color: #800080; text-decoration-color: #800080; font-weight: bold\">19.698</span><span style=\"color: #800080; text-decoration-color: #800080\">               </span>\n",
              "<span style=\"color: #800080; text-decoration-color: #800080\">▌                                                                                                                </span>\n",
              "<span style=\"color: #800080; text-decoration-color: #800080\">▌ </span><span style=\"color: #800080; text-decoration-color: #800080; font-weight: bold\">Estimativa Total em BRL:</span><span style=\"color: #800080; text-decoration-color: #800080\"> </span><span style=\"color: #800080; text-decoration-color: #800080; font-weight: bold\">R$ 13.854 a R$ 19.698</span><span style=\"color: #800080; text-decoration-color: #800080\">                                                                 </span>\n",
              "<span style=\"color: #800080; text-decoration-color: #800080\">▌ </span><span style=\"color: #800080; text-decoration-color: #800080; font-weight: bold\">Estimativa Total em EUR:</span><span style=\"color: #800080; text-decoration-color: #800080\"> </span><span style=\"color: #800080; text-decoration-color: #800080; font-weight: bold\">€ 2.192 a € 3.117</span><span style=\"color: #800080; text-decoration-color: #800080\">                                                                     </span>\n",
              "<span style=\"color: #800080; text-decoration-color: #800080\">▌ </span><span style=\"color: #800080; text-decoration-color: #800080; font-weight: bold\">Observações e Dicas para Economizar:</span><span style=\"color: #800080; text-decoration-color: #800080\">                                                                           </span>\n",
              "<span style=\"color: #800080; text-decoration-color: #800080\">▌ </span><span style=\"color: #808000; text-decoration-color: #808000; font-weight: bold\"> • </span><span style=\"color: #800080; text-decoration-color: #800080; font-weight: bold\">Voos:</span><span style=\"color: #800080; text-decoration-color: #800080\"> Monitore os preços das passagens com antecedência e seja flexível nas datas, se possível. Voos com    </span>\n",
              "<span style=\"color: #800080; text-decoration-color: #800080\">▌ </span><span style=\"color: #808000; text-decoration-color: #808000; font-weight: bold\">   </span><span style=\"color: #800080; text-decoration-color: #800080\">escalas tendem a ser mais baratos. Considere companhias aéreas de baixo custo, mas verifique as taxas de    </span>\n",
              "<span style=\"color: #800080; text-decoration-color: #800080\">▌ </span><span style=\"color: #808000; text-decoration-color: #808000; font-weight: bold\">   </span><span style=\"color: #800080; text-decoration-color: #800080\">bagagem.                                                                                                    </span>\n",
              "<span style=\"color: #800080; text-decoration-color: #800080\">▌ </span><span style=\"color: #808000; text-decoration-color: #808000; font-weight: bold\"> • </span><span style=\"color: #800080; text-decoration-color: #800080; font-weight: bold\">Hospedagem:</span><span style=\"color: #800080; text-decoration-color: #800080\"> Hostels são ótimas opções para economizar e conhecer outros viajantes. Considere quartos        </span>\n",
              "<span style=\"color: #800080; text-decoration-color: #800080\">▌ </span><span style=\"color: #808000; text-decoration-color: #808000; font-weight: bold\">   </span><span style=\"color: #800080; text-decoration-color: #800080\">compartilhados para o menor custo. Pesquise por hotéis econômicos fora do centro turístico, mas com fácil   </span>\n",
              "<span style=\"color: #800080; text-decoration-color: #800080\">▌ </span><span style=\"color: #808000; text-decoration-color: #808000; font-weight: bold\">   </span><span style=\"color: #800080; text-decoration-color: #800080\">acesso ao transporte público. Reservar com antecedência é crucial para conseguir melhores preços em junho   </span>\n",
              "<span style=\"color: #800080; text-decoration-color: #800080\">▌ </span><span style=\"color: #808000; text-decoration-color: #808000; font-weight: bold\">   </span><span style=\"color: #800080; text-decoration-color: #800080\">(alta temporada).                                                                                           </span>\n",
              "<span style=\"color: #800080; text-decoration-color: #800080\">▌ </span><span style=\"color: #808000; text-decoration-color: #808000; font-weight: bold\"> • </span><span style=\"color: #800080; text-decoration-color: #800080; font-weight: bold\">Refeições:</span><span style=\"color: #800080; text-decoration-color: #800080\"> Explore mercados locais como o Albert Cuyp Market para opções de comida de rua acessível e       </span>\n",
              "<span style=\"color: #800080; text-decoration-color: #800080\">▌ </span><span style=\"color: #808000; text-decoration-color: #808000; font-weight: bold\">   </span><span style=\"color: #800080; text-decoration-color: #800080\">ingredientes para cozinhar. Coma em restaurantes frequentados por locais (geralmente mais baratos). Evite   </span>\n",
              "<span style=\"color: #800080; text-decoration-color: #800080\">▌ </span><span style=\"color: #808000; text-decoration-color: #808000; font-weight: bold\">   </span><span style=\"color: #800080; text-decoration-color: #800080\">restaurantes nas áreas turísticas mais movimentadas. Cozinhar algumas refeições na hospedagem pode reduzir  </span>\n",
              "<span style=\"color: #800080; text-decoration-color: #800080\">▌ </span><span style=\"color: #808000; text-decoration-color: #808000; font-weight: bold\">   </span><span style=\"color: #800080; text-decoration-color: #800080\">bastante os custos.                                                                                         </span>\n",
              "<span style=\"color: #800080; text-decoration-color: #800080\">▌ </span><span style=\"color: #808000; text-decoration-color: #808000; font-weight: bold\"> • </span><span style=\"color: #800080; text-decoration-color: #800080; font-weight: bold\">Transporte Local:</span><span style=\"color: #800080; text-decoration-color: #800080\"> Compre um passe de transporte para vários dias. Andar de bicicleta é uma forma autêntica e</span>\n",
              "<span style=\"color: #800080; text-decoration-color: #800080\">▌ </span><span style=\"color: #808000; text-decoration-color: #808000; font-weight: bold\">   </span><span style=\"color: #800080; text-decoration-color: #800080\">econômica de explorar Amsterdã.                                                                             </span>\n",
              "<span style=\"color: #800080; text-decoration-color: #800080\">▌ </span><span style=\"color: #808000; text-decoration-color: #808000; font-weight: bold\"> • </span><span style=\"color: #800080; text-decoration-color: #800080; font-weight: bold\">Atrações:</span><span style=\"color: #800080; text-decoration-color: #800080\"> Priorize os museus que mais te interessam. Verifique se há dias ou horários com entrada gratuita  </span>\n",
              "<span style=\"color: #800080; text-decoration-color: #800080\">▌ </span><span style=\"color: #808000; text-decoration-color: #808000; font-weight: bold\">   </span><span style=\"color: #800080; text-decoration-color: #800080\">ou descontos para estudantes (se aplicável). Considere passes se for visitar muitas atrações. Muitas das    </span>\n",
              "<span style=\"color: #800080; text-decoration-color: #800080\">▌ </span><span style=\"color: #808000; text-decoration-color: #808000; font-weight: bold\">   </span><span style=\"color: #800080; text-decoration-color: #800080\">belezas de Amsterdã (canais, parques) podem ser apreciadas gratuitamente.                                   </span>\n",
              "<span style=\"color: #800080; text-decoration-color: #800080\">▌ </span><span style=\"color: #808000; text-decoration-color: #808000; font-weight: bold\"> • </span><span style=\"color: #800080; text-decoration-color: #800080; font-weight: bold\">Compras:</span><span style=\"color: #800080; text-decoration-color: #800080\"> Defina um limite para gastos com compras e souvenirs.                                              </span>\n",
              "<span style=\"color: #800080; text-decoration-color: #800080\">▌ </span><span style=\"color: #808000; text-decoration-color: #808000; font-weight: bold\"> • </span><span style=\"color: #800080; text-decoration-color: #800080; font-weight: bold\">Câmbio:</span><span style=\"color: #800080; text-decoration-color: #800080\"> Acompanhe a cotação do euro e avalie o melhor momento para comprar a moeda. Considere utilizar um   </span>\n",
              "<span style=\"color: #800080; text-decoration-color: #800080\">▌ </span><span style=\"color: #808000; text-decoration-color: #808000; font-weight: bold\">   </span><span style=\"color: #800080; text-decoration-color: #800080\">cartão de débito internacional com taxas favoráveis.                                                        </span>\n",
              "<span style=\"color: #800080; text-decoration-color: #800080\">▌ Lembre-se que esta é uma estimativa e os custos reais podem variar dependendo de suas escolhas e imprevistos.  </span>\n",
              "<span style=\"color: #800080; text-decoration-color: #800080\">▌ Espero que esta estimativa detalhada te ajude a planejar sua viagem econômica para Amsterdã! Se tiver mais     </span>\n",
              "<span style=\"color: #800080; text-decoration-color: #800080\">▌ perguntas ou quiser ajustar algum item, é só me dizer!                                                         </span>\n",
              "</pre>\n"
            ]
          },
          "metadata": {}
        },
        {
          "output_type": "display_data",
          "data": {
            "text/plain": [
              "\u001b[35m▌ \u001b[0m\u001b[33m───────────────────────────────────────────────────────────────────────────────────────────────────────────────\u001b[0m\n"
            ],
            "text/html": [
              "<pre style=\"white-space:pre;overflow-x:auto;line-height:normal;font-family:Menlo,'DejaVu Sans Mono',consolas,'Courier New',monospace\"><span style=\"color: #800080; text-decoration-color: #800080\">▌ </span><span style=\"color: #808000; text-decoration-color: #808000\">───────────────────────────────────────────────────────────────────────────────────────────────────────────────</span>\n",
              "</pre>\n"
            ]
          },
          "metadata": {}
        },
        {
          "output_type": "display_data",
          "data": {
            "text/plain": [
              "\n",
              "\u001b[35m▌ \u001b[0m\u001b[35mDicas financeiras para pagar com moeda estrangeira\u001b[0m\u001b[35m                                                             \u001b[0m\n"
            ],
            "text/html": [
              "<pre style=\"white-space:pre;overflow-x:auto;line-height:normal;font-family:Menlo,'DejaVu Sans Mono',consolas,'Courier New',monospace\">\n",
              "<span style=\"color: #800080; text-decoration-color: #800080\">▌ Dicas financeiras para pagar com moeda estrangeira                                                             </span>\n",
              "</pre>\n"
            ]
          },
          "metadata": {}
        },
        {
          "output_type": "display_data",
          "data": {
            "text/plain": [
              "\u001b[35m▌ \u001b[0m\u001b[33m───────────────────────────────────────────────────────────────────────────────────────────────────────────────\u001b[0m\n"
            ],
            "text/html": [
              "<pre style=\"white-space:pre;overflow-x:auto;line-height:normal;font-family:Menlo,'DejaVu Sans Mono',consolas,'Courier New',monospace\"><span style=\"color: #800080; text-decoration-color: #800080\">▌ </span><span style=\"color: #808000; text-decoration-color: #808000\">───────────────────────────────────────────────────────────────────────────────────────────────────────────────</span>\n",
              "</pre>\n"
            ]
          },
          "metadata": {}
        },
        {
          "output_type": "display_data",
          "data": {
            "text/plain": [
              "\n",
              "\u001b[35m▌ \u001b[0m\u001b[35mPara converter seu dinheiro local (Reais) para Euros em uma viagem para Amsterdã, na Holanda, você tem diversas\u001b[0m\n",
              "\u001b[35m▌ \u001b[0m\u001b[35mopções, cada uma com suas particularidades de custo e praticidade:\u001b[0m\u001b[35m                                             \u001b[0m\n",
              "\u001b[35m▌ \u001b[0m\u001b[1;35mConsiderações Gerais:\u001b[0m\u001b[35m                                                                                          \u001b[0m\n",
              "\u001b[35m▌ \u001b[0m\u001b[1;33m • \u001b[0m\u001b[35mA moeda oficial em Amsterdã é o Euro.\u001b[0m\u001b[35m                                                                       \u001b[0m\n",
              "\u001b[35m▌ \u001b[0m\u001b[1;33m • \u001b[0m\u001b[35mÉ importante ter uma quantia em espécie para pequenas despesas e locais que não aceitam cartão. Evite notas \u001b[0m\n",
              "\u001b[35m▌ \u001b[0m\u001b[1;33m   \u001b[0m\u001b[35maltas (200 e 500 euros) pela falta de praticidade e segurança.\u001b[0m\u001b[35m                                              \u001b[0m\n",
              "\u001b[35m▌ \u001b[0m\u001b[1;33m • \u001b[0m\u001b[35mAs taxas de câmbio no aeroporto costumam ser mais altas.\u001b[0m\u001b[35m                                                    \u001b[0m\n",
              "\u001b[35m▌ \u001b[0m\u001b[1;35mOpções de Conversão:\u001b[0m\u001b[35m                                                                                           \u001b[0m\n",
              "\u001b[35m▌ \u001b[0m\u001b[1;33m 1 \u001b[0m\u001b[1;35mDinheiro em Espécie:\u001b[0m\u001b[35m                                                                                        \u001b[0m\n",
              "\u001b[35m▌ \u001b[0m\u001b[1;33m   \u001b[0m\u001b[1;33m • \u001b[0m\u001b[1;35mVantagens:\u001b[0m\u001b[35m Aceito em todos os lugares. Permite maior controle de gastos se você se planejar.\u001b[0m\u001b[35m             \u001b[0m\n",
              "\u001b[35m▌ \u001b[0m\u001b[1;33m   \u001b[0m\u001b[1;33m • \u001b[0m\u001b[1;35mDesvantagens:\u001b[0m\u001b[35m Risco de perda ou roubo. Cotação do câmbio turismo geralmente menos favorável do que o \u001b[0m\u001b[35m    \u001b[0m\n",
              "\u001b[35m▌ \u001b[0m\u001b[1;33m   \u001b[0m\u001b[1;33m   \u001b[0m\u001b[35mcomercial. IOF de 1,1% na compra. Não é seguro levar grandes quantias.\u001b[0m\u001b[35m                                   \u001b[0m\n",
              "\u001b[35m▌ \u001b[0m\u001b[1;33m   \u001b[0m\u001b[1;33m • \u001b[0m\u001b[1;35mMelhor maneira de comprar:\u001b[0m\u001b[35m Pesquisar em diferentes casas de câmbio confiáveis para encontrar a melhor \u001b[0m\u001b[35m   \u001b[0m\n",
              "\u001b[35m▌ \u001b[0m\u001b[1;33m   \u001b[0m\u001b[1;33m   \u001b[0m\u001b[35mtaxa. Algumas permitem comprar online e retirar em loja ou receber em casa.\u001b[0m\u001b[35m                              \u001b[0m\n",
              "\u001b[35m▌ \u001b[0m\u001b[1;33m 2 \u001b[0m\u001b[1;35mCartão de Crédito Internacional:\u001b[0m\u001b[35m                                                                            \u001b[0m\n",
              "\u001b[35m▌ \u001b[0m\u001b[1;33m   \u001b[0m\u001b[1;33m • \u001b[0m\u001b[1;35mVantagens:\u001b[0m\u001b[35m Prático para compras maiores e emergências. Útil para reservas de hotel e aluguel de carro. \u001b[0m\u001b[35m  \u001b[0m\n",
              "\u001b[35m▌ \u001b[0m\u001b[1;33m   \u001b[0m\u001b[1;33m   \u001b[0m\u001b[35mMuitos oferecem programas de recompensas e benefícios de viagem.\u001b[0m\u001b[35m                                         \u001b[0m\n",
              "\u001b[35m▌ \u001b[0m\u001b[1;33m   \u001b[0m\u001b[1;33m • \u001b[0m\u001b[1;35mDesvantagens:\u001b[0m\u001b[35m IOF de 3,38% (em 2025, com previsão de redução gradual a zero até 2028). Spread cambial \u001b[0m\u001b[35m   \u001b[0m\n",
              "\u001b[35m▌ \u001b[0m\u001b[1;33m   \u001b[0m\u001b[1;33m   \u001b[0m\u001b[35m(diferença entre o câmbio comercial e o aplicado pelo banco) que pode chegar a 6%. A cotação utilizada é \u001b[0m\n",
              "\u001b[35m▌ \u001b[0m\u001b[1;33m   \u001b[0m\u001b[1;33m   \u001b[0m\u001b[35ma do dia do fechamento da fatura, sujeita à variação cambial. Alguns estabelecimentos em Amsterdã podem \u001b[0m\u001b[35m \u001b[0m\n",
              "\u001b[35m▌ \u001b[0m\u001b[1;33m   \u001b[0m\u001b[1;33m   \u001b[0m\u001b[35mnão aceitar cartões de crédito internacionais, sendo o débito local mais comum.\u001b[0m\u001b[35m                          \u001b[0m\n",
              "\u001b[35m▌ \u001b[0m\u001b[1;33m   \u001b[0m\u001b[1;33m • \u001b[0m\u001b[1;35mObservação:\u001b[0m\u001b[35m Nem todos os cartões de crédito brasileiros são habilitados para uso internacional, sendo \u001b[0m\u001b[35m   \u001b[0m\n",
              "\u001b[35m▌ \u001b[0m\u001b[1;33m   \u001b[0m\u001b[1;33m   \u001b[0m\u001b[35mnecessário verificar e desbloquear antes de viajar.\u001b[0m\u001b[35m                                                      \u001b[0m\n",
              "\u001b[35m▌ \u001b[0m\u001b[1;33m 3 \u001b[0m\u001b[1;35mCartão de Débito:\u001b[0m\u001b[35m                                                                                           \u001b[0m\n",
              "\u001b[35m▌ \u001b[0m\u001b[1;33m   \u001b[0m\u001b[1;33m • \u001b[0m\u001b[1;35mVantagens:\u001b[0m\u001b[35m Conversão da moeda é feita com o câmbio do dia da transação.\u001b[0m\u001b[35m                                  \u001b[0m\n",
              "\u001b[35m▌ \u001b[0m\u001b[1;33m   \u001b[0m\u001b[1;33m • \u001b[0m\u001b[1;35mDesvantagens:\u001b[0m\u001b[35m IOF de 3,38% (em 2025). Taxas e impostos podem ser cobrados em cada operação no exterior. É\u001b[0m\n",
              "\u001b[35m▌ \u001b[0m\u001b[1;33m   \u001b[0m\u001b[1;33m   \u001b[0m\u001b[35mpreciso verificar com o banco se o cartão possui cobertura internacional e bandeira aceita (Visa ou \u001b[0m\u001b[35m     \u001b[0m\n",
              "\u001b[35m▌ \u001b[0m\u001b[1;33m   \u001b[0m\u001b[1;33m   \u001b[0m\u001b[35mMastercard são comuns). Pode haver dificuldade de uso na Holanda, onde a bandeira Maestro é mais \u001b[0m\u001b[35m        \u001b[0m\n",
              "\u001b[35m▌ \u001b[0m\u001b[1;33m   \u001b[0m\u001b[1;33m   \u001b[0m\u001b[35mdifundida. Alguns provedores podem cobrar spread adicional para compras e saques em moedas diferentes da \u001b[0m\n",
              "\u001b[35m▌ \u001b[0m\u001b[1;33m   \u001b[0m\u001b[1;33m   \u001b[0m\u001b[35mconta.\u001b[0m\u001b[35m                                                                                                   \u001b[0m\n",
              "\u001b[35m▌ \u001b[0m\u001b[1;33m   \u001b[0m\u001b[1;33m • \u001b[0m\u001b[1;35mObservação:\u001b[0m\u001b[35m É necessário habilitar o uso internacional do cartão antes de viajar.\u001b[0m\u001b[35m                        \u001b[0m\n",
              "\u001b[35m▌ \u001b[0m\u001b[1;33m 4 \u001b[0m\u001b[1;35mCartão Pré-Pago Internacional (ou Cartão de Débito Internacional de Conta Global):\u001b[0m\u001b[35m                          \u001b[0m\n",
              "\u001b[35m▌ \u001b[0m\u001b[1;33m   \u001b[0m\u001b[1;33m • \u001b[0m\u001b[1;35mVantagens:\u001b[0m\u001b[35m Permite carregar um saldo na moeda estrangeira desejada (Euro). A cotação do câmbio fica \u001b[0m\u001b[35m     \u001b[0m\n",
              "\u001b[35m▌ \u001b[0m\u001b[1;33m   \u001b[0m\u001b[1;33m   \u001b[0m\u001b[35mtravada no momento da recarga, protegendo de variações cambiais futuras. IOF de 1,1% na carga/recarga \u001b[0m\u001b[35m   \u001b[0m\n",
              "\u001b[35m▌ \u001b[0m\u001b[1;33m   \u001b[0m\u001b[1;33m   \u001b[0m\u001b[35m(algumas plataformas isentam o IOF na operação de PIX). Geralmente oferecem câmbio comercial, mais \u001b[0m\u001b[35m      \u001b[0m\n",
              "\u001b[35m▌ \u001b[0m\u001b[1;33m   \u001b[0m\u001b[1;33m   \u001b[0m\u001b[35mvantajoso. Maior controle dos gastos, limitado ao saldo disponível. Aceito em milhões de estabelecimentos\u001b[0m\n",
              "\u001b[35m▌ \u001b[0m\u001b[1;33m   \u001b[0m\u001b[1;33m   \u001b[0m\u001b[35mcom bandeira Visa ou Mastercard. Algumas opções não cobram anuidade ou taxa de emissão.\u001b[0m\u001b[35m                  \u001b[0m\n",
              "\u001b[35m▌ \u001b[0m\u001b[1;33m   \u001b[0m\u001b[1;33m • \u001b[0m\u001b[1;35mDesvantagens:\u001b[0m\u001b[35m Possíveis taxas de saque no exterior. Limitações de uso em alguns casos. Não oferece acesso\u001b[0m\n",
              "\u001b[35m▌ \u001b[0m\u001b[1;33m   \u001b[0m\u001b[1;33m   \u001b[0m\u001b[35ma crédito.\u001b[0m\u001b[35m                                                                                               \u001b[0m\n",
              "\u001b[35m▌ \u001b[0m\u001b[1;33m   \u001b[0m\u001b[1;33m • \u001b[0m\u001b[1;35mExemplos:\u001b[0m\u001b[35m Wise, Revolut, Nomad, Remessa Online, C6 Bank Conta Global, Confidence Câmbio, Daycoval.\u001b[0m\u001b[35m       \u001b[0m\n",
              "\u001b[35m▌ \u001b[0m\u001b[1;33m   \u001b[0m\u001b[1;33m • \u001b[0m\u001b[1;35mComparativo:\u001b[0m\u001b[35m Plataformas como Wise e Remessa Online são frequentemente citadas como opções com taxas \u001b[0m\u001b[35m    \u001b[0m\n",
              "\u001b[35m▌ \u001b[0m\u001b[1;33m   \u001b[0m\u001b[1;33m   \u001b[0m\u001b[35mbaixas e câmbio comercial. O cartão da Wise é aceito na Holanda e pode ser usado para gastos em euros com\u001b[0m\n",
              "\u001b[35m▌ \u001b[0m\u001b[1;33m   \u001b[0m\u001b[1;33m   \u001b[0m\u001b[35mtaxas competitivas. O cartão Nomad também é aceito na Holanda para gastos em euros, convertendo o saldo \u001b[0m\u001b[35m \u001b[0m\n",
              "\u001b[35m▌ \u001b[0m\u001b[1;33m   \u001b[0m\u001b[1;33m   \u001b[0m\u001b[35mem dólar automaticamente.\u001b[0m\u001b[35m                                                                                \u001b[0m\n",
              "\u001b[35m▌ \u001b[0m\u001b[1;33m 5 \u001b[0m\u001b[1;35mRemessa para Conta no Estrangeiro:\u001b[0m\u001b[35m                                                                          \u001b[0m\n",
              "\u001b[35m▌ \u001b[0m\u001b[1;33m   \u001b[0m\u001b[1;33m • \u001b[0m\u001b[1;35mVantagens:\u001b[0m\u001b[35m Pode ser uma opção interessante para quantias maiores. Taxas de câmbio e tarifas podem ser \u001b[0m\u001b[35m   \u001b[0m\n",
              "\u001b[35m▌ \u001b[0m\u001b[1;33m   \u001b[0m\u001b[1;33m   \u001b[0m\u001b[35mmais vantajosas dependendo da plataforma. IOF de 0,38% para remessas entre contas de titularidade \u001b[0m\u001b[35m       \u001b[0m\n",
              "\u001b[35m▌ \u001b[0m\u001b[1;33m   \u001b[0m\u001b[1;33m   \u001b[0m\u001b[35mdiferente e 1,1% para a mesma titularidade.\u001b[0m\u001b[35m                                                              \u001b[0m\n",
              "\u001b[35m▌ \u001b[0m\u001b[1;33m   \u001b[0m\u001b[1;33m • \u001b[0m\u001b[1;35mDesvantagens:\u001b[0m\u001b[35m Requer que você ou alguém de sua confiança tenha uma conta bancária na Europa. Pode haver \u001b[0m\u001b[35m \u001b[0m\n",
              "\u001b[35m▌ \u001b[0m\u001b[1;33m   \u001b[0m\u001b[1;33m   \u001b[0m\u001b[35mtaxas administrativas, bancárias e SWIFT.\u001b[0m\u001b[35m                                                                \u001b[0m\n",
              "\u001b[35m▌ \u001b[0m\u001b[1;33m   \u001b[0m\u001b[1;33m • \u001b[0m\u001b[1;35mPlataformas online:\u001b[0m\u001b[35m Empresas como Wise e Remessa Online oferecem serviços de remessa internacional com \u001b[0m\u001b[35m  \u001b[0m\n",
              "\u001b[35m▌ \u001b[0m\u001b[1;33m   \u001b[0m\u001b[1;33m   \u001b[0m\u001b[35mtaxas transparentes e câmbio comercial.\u001b[0m\u001b[35m                                                                  \u001b[0m\n",
              "\u001b[35m▌ \u001b[0m\u001b[1;33m 6 \u001b[0m\u001b[1;35mPIX Internacional:\u001b[0m\u001b[35m                                                                                          \u001b[0m\n",
              "\u001b[35m▌ \u001b[0m\u001b[1;33m   \u001b[0m\u001b[1;33m • \u001b[0m\u001b[35mO Pix revolucionou as transações financeiras no Brasil pela praticidade, rapidez e custo reduzido.\u001b[0m\u001b[35m       \u001b[0m\n",
              "\u001b[35m▌ \u001b[0m\u001b[1;33m   \u001b[0m\u001b[1;33m • \u001b[0m\u001b[35mAtualmente, o Pix é um sistema nativo e exclusivo do Brasil, e ainda não é possível usá-lo diretamente \u001b[0m\u001b[35m  \u001b[0m\n",
              "\u001b[35m▌ \u001b[0m\u001b[1;33m   \u001b[0m\u001b[1;33m   \u001b[0m\u001b[35mpara fazer transferências internacionais para contas fora do país.\u001b[0m\u001b[35m                                       \u001b[0m\n",
              "\u001b[35m▌ \u001b[0m\u001b[1;33m   \u001b[0m\u001b[1;33m • \u001b[0m\u001b[35mNo entanto, existem iniciativas e projetos em andamento, como o Nexus do BIS (Banco de Compensações \u001b[0m\u001b[35m     \u001b[0m\n",
              "\u001b[35m▌ \u001b[0m\u001b[1;33m   \u001b[0m\u001b[1;33m   \u001b[0m\u001b[35mInternacionais), que buscam integrar sistemas de pagamentos instantâneos de diversos países, incluindo o \u001b[0m\n",
              "\u001b[35m▌ \u001b[0m\u001b[1;33m   \u001b[0m\u001b[1;33m   \u001b[0m\u001b[35mBrasil.\u001b[0m\u001b[35m                                                                                                  \u001b[0m\n",
              "\u001b[35m▌ \u001b[0m\u001b[1;33m   \u001b[0m\u001b[1;33m • \u001b[0m\u001b[35mAlgumas empresas estão desenvolvendo soluções que permitem que comerciantes no exterior recebam \u001b[0m\u001b[35m         \u001b[0m\n",
              "\u001b[35m▌ \u001b[0m\u001b[1;33m   \u001b[0m\u001b[1;33m   \u001b[0m\u001b[35mpagamentos de brasileiros via Pix.\u001b[0m\u001b[35m                                                                       \u001b[0m\n",
              "\u001b[35m▌ \u001b[0m\u001b[1;33m   \u001b[0m\u001b[1;33m • \u001b[0m\u001b[1;35mViktap:\u001b[0m\u001b[35m A Viktap é uma rede de pagamento instantâneo global que permite que comerciantes recebam \u001b[0m\u001b[35m        \u001b[0m\n",
              "\u001b[35m▌ \u001b[0m\u001b[1;33m   \u001b[0m\u001b[1;33m   \u001b[0m\u001b[35mpagamentos de brasileiros em qualquer lugar do mundo através do Pix. A solução da Viktap oferece \u001b[0m\u001b[35m        \u001b[0m\n",
              "\u001b[35m▌ \u001b[0m\u001b[1;33m   \u001b[0m\u001b[1;33m   \u001b[0m\u001b[35mtransações rápidas, seguras e com baixo custo para o comerciante. Para o cliente (o brasileiro pagando), \u001b[0m\n",
              "\u001b[35m▌ \u001b[0m\u001b[1;33m   \u001b[0m\u001b[1;33m   \u001b[0m\u001b[35mo pagamento via Pix internacional com a Viktap oferece segurança e praticidade, com taxas de câmbio \u001b[0m\u001b[35m     \u001b[0m\n",
              "\u001b[35m▌ \u001b[0m\u001b[1;33m   \u001b[0m\u001b[1;33m   \u001b[0m\u001b[35mcompetitivas e IOF reduzido (com isenção de IOF na operação de Pix). A Viktap atua como um agente de \u001b[0m\u001b[35m    \u001b[0m\n",
              "\u001b[35m▌ \u001b[0m\u001b[1;33m   \u001b[0m\u001b[1;33m   \u001b[0m\u001b[35mcoleta de pagamentos por Pix e realiza o câmbio como uma eFX (Electronic Foreign Exchange) através de \u001b[0m\u001b[35m   \u001b[0m\n",
              "\u001b[35m▌ \u001b[0m\u001b[1;33m   \u001b[0m\u001b[1;33m   \u001b[0m\u001b[35mbancos parceiros autorizados pelo Banco Central. Para mais informações sobre o Viktap, você pode \u001b[0m\u001b[35m        \u001b[0m\n",
              "\u001b[35m▌ \u001b[0m\u001b[1;33m   \u001b[0m\u001b[1;33m   \u001b[0m\u001b[35mconsultar o site viktap.com.br.\u001b[0m\u001b[35m                                                                          \u001b[0m\n",
              "\u001b[35m▌ \u001b[0m\u001b[1;35mRecomendação Geral:\u001b[0m\u001b[35m                                                                                            \u001b[0m\n",
              "\u001b[35m▌ \u001b[0m\u001b[35mA melhor maneira de converter seu dinheiro dependerá do seu perfil de viajante, do valor a ser convertido e da \u001b[0m\n",
              "\u001b[35m▌ \u001b[0m\u001b[35msua prioridade (economia, praticidade, segurança).\u001b[0m\u001b[35m                                                             \u001b[0m\n",
              "\u001b[35m▌ \u001b[0m\u001b[1;33m • \u001b[0m\u001b[35mPara \u001b[0m\u001b[1;35mpequenas despesas e emergências\u001b[0m\u001b[35m, ter uma quantia em \u001b[0m\u001b[1;35mespécie\u001b[0m\u001b[35m é aconselhável.\u001b[0m\u001b[35m                            \u001b[0m\n",
              "\u001b[35m▌ \u001b[0m\u001b[1;33m • \u001b[0m\u001b[35mPara a maioria dos gastos durante a viagem, os \u001b[0m\u001b[1;35mcartões de débito internacional (contas globais)\u001b[0m\u001b[35m geralmente \u001b[0m\u001b[35m \u001b[0m\n",
              "\u001b[35m▌ \u001b[0m\u001b[1;33m   \u001b[0m\u001b[35moferecem as melhores taxas de câmbio (comercial) e IOF reduzido em comparação com o cartão de crédito \u001b[0m\u001b[35m      \u001b[0m\n",
              "\u001b[35m▌ \u001b[0m\u001b[1;33m   \u001b[0m\u001b[35mtradicional. Pesquise as opções disponíveis no mercado e compare as taxas.\u001b[0m\u001b[35m                                  \u001b[0m\n",
              "\u001b[35m▌ \u001b[0m\u001b[1;33m • \u001b[0m\u001b[35mO \u001b[0m\u001b[1;35mcartão de crédito internacional\u001b[0m\u001b[35m pode ser útil para emergências e reservas, mas atente-se ao IOF e spread.\u001b[0m\u001b[35m \u001b[0m\n",
              "\u001b[35m▌ \u001b[0m\u001b[1;33m • \u001b[0m\u001b[1;35mRemessas\u001b[0m\u001b[35m podem ser vantajosas para grandes valores, se você tiver uma conta no exterior.\u001b[0m\u001b[35m                    \u001b[0m\n",
              "\u001b[35m▌ \u001b[0m\u001b[1;33m • \u001b[0m\u001b[35mO \u001b[0m\u001b[1;35mPIX internacional\u001b[0m\u001b[35m através de soluções como a da Viktap é uma opção emergente para pagamentos diretos a \u001b[0m\u001b[35m   \u001b[0m\n",
              "\u001b[35m▌ \u001b[0m\u001b[1;33m   \u001b[0m\u001b[35mcomerciantes no exterior, com potencial de economia e praticidade para o cliente brasileiro.\u001b[0m\u001b[35m                \u001b[0m\n",
              "\u001b[35m▌ \u001b[0m\u001b[35mÉ sempre recomendado ter mais de uma opção de pagamento ao viajar para o exterior.\u001b[0m\u001b[35m                             \u001b[0m\n"
            ],
            "text/html": [
              "<pre style=\"white-space:pre;overflow-x:auto;line-height:normal;font-family:Menlo,'DejaVu Sans Mono',consolas,'Courier New',monospace\">\n",
              "<span style=\"color: #800080; text-decoration-color: #800080\">▌ Para converter seu dinheiro local (Reais) para Euros em uma viagem para Amsterdã, na Holanda, você tem diversas</span>\n",
              "<span style=\"color: #800080; text-decoration-color: #800080\">▌ opções, cada uma com suas particularidades de custo e praticidade:                                             </span>\n",
              "<span style=\"color: #800080; text-decoration-color: #800080\">▌ </span><span style=\"color: #800080; text-decoration-color: #800080; font-weight: bold\">Considerações Gerais:</span><span style=\"color: #800080; text-decoration-color: #800080\">                                                                                          </span>\n",
              "<span style=\"color: #800080; text-decoration-color: #800080\">▌ </span><span style=\"color: #808000; text-decoration-color: #808000; font-weight: bold\"> • </span><span style=\"color: #800080; text-decoration-color: #800080\">A moeda oficial em Amsterdã é o Euro.                                                                       </span>\n",
              "<span style=\"color: #800080; text-decoration-color: #800080\">▌ </span><span style=\"color: #808000; text-decoration-color: #808000; font-weight: bold\"> • </span><span style=\"color: #800080; text-decoration-color: #800080\">É importante ter uma quantia em espécie para pequenas despesas e locais que não aceitam cartão. Evite notas </span>\n",
              "<span style=\"color: #800080; text-decoration-color: #800080\">▌ </span><span style=\"color: #808000; text-decoration-color: #808000; font-weight: bold\">   </span><span style=\"color: #800080; text-decoration-color: #800080\">altas (200 e 500 euros) pela falta de praticidade e segurança.                                              </span>\n",
              "<span style=\"color: #800080; text-decoration-color: #800080\">▌ </span><span style=\"color: #808000; text-decoration-color: #808000; font-weight: bold\"> • </span><span style=\"color: #800080; text-decoration-color: #800080\">As taxas de câmbio no aeroporto costumam ser mais altas.                                                    </span>\n",
              "<span style=\"color: #800080; text-decoration-color: #800080\">▌ </span><span style=\"color: #800080; text-decoration-color: #800080; font-weight: bold\">Opções de Conversão:</span><span style=\"color: #800080; text-decoration-color: #800080\">                                                                                           </span>\n",
              "<span style=\"color: #800080; text-decoration-color: #800080\">▌ </span><span style=\"color: #808000; text-decoration-color: #808000; font-weight: bold\"> 1 </span><span style=\"color: #800080; text-decoration-color: #800080; font-weight: bold\">Dinheiro em Espécie:</span><span style=\"color: #800080; text-decoration-color: #800080\">                                                                                        </span>\n",
              "<span style=\"color: #800080; text-decoration-color: #800080\">▌ </span><span style=\"color: #808000; text-decoration-color: #808000; font-weight: bold\">    • </span><span style=\"color: #800080; text-decoration-color: #800080; font-weight: bold\">Vantagens:</span><span style=\"color: #800080; text-decoration-color: #800080\"> Aceito em todos os lugares. Permite maior controle de gastos se você se planejar.             </span>\n",
              "<span style=\"color: #800080; text-decoration-color: #800080\">▌ </span><span style=\"color: #808000; text-decoration-color: #808000; font-weight: bold\">    • </span><span style=\"color: #800080; text-decoration-color: #800080; font-weight: bold\">Desvantagens:</span><span style=\"color: #800080; text-decoration-color: #800080\"> Risco de perda ou roubo. Cotação do câmbio turismo geralmente menos favorável do que o     </span>\n",
              "<span style=\"color: #800080; text-decoration-color: #800080\">▌ </span><span style=\"color: #808000; text-decoration-color: #808000; font-weight: bold\">      </span><span style=\"color: #800080; text-decoration-color: #800080\">comercial. IOF de 1,1% na compra. Não é seguro levar grandes quantias.                                   </span>\n",
              "<span style=\"color: #800080; text-decoration-color: #800080\">▌ </span><span style=\"color: #808000; text-decoration-color: #808000; font-weight: bold\">    • </span><span style=\"color: #800080; text-decoration-color: #800080; font-weight: bold\">Melhor maneira de comprar:</span><span style=\"color: #800080; text-decoration-color: #800080\"> Pesquisar em diferentes casas de câmbio confiáveis para encontrar a melhor    </span>\n",
              "<span style=\"color: #800080; text-decoration-color: #800080\">▌ </span><span style=\"color: #808000; text-decoration-color: #808000; font-weight: bold\">      </span><span style=\"color: #800080; text-decoration-color: #800080\">taxa. Algumas permitem comprar online e retirar em loja ou receber em casa.                              </span>\n",
              "<span style=\"color: #800080; text-decoration-color: #800080\">▌ </span><span style=\"color: #808000; text-decoration-color: #808000; font-weight: bold\"> 2 </span><span style=\"color: #800080; text-decoration-color: #800080; font-weight: bold\">Cartão de Crédito Internacional:</span><span style=\"color: #800080; text-decoration-color: #800080\">                                                                            </span>\n",
              "<span style=\"color: #800080; text-decoration-color: #800080\">▌ </span><span style=\"color: #808000; text-decoration-color: #808000; font-weight: bold\">    • </span><span style=\"color: #800080; text-decoration-color: #800080; font-weight: bold\">Vantagens:</span><span style=\"color: #800080; text-decoration-color: #800080\"> Prático para compras maiores e emergências. Útil para reservas de hotel e aluguel de carro.   </span>\n",
              "<span style=\"color: #800080; text-decoration-color: #800080\">▌ </span><span style=\"color: #808000; text-decoration-color: #808000; font-weight: bold\">      </span><span style=\"color: #800080; text-decoration-color: #800080\">Muitos oferecem programas de recompensas e benefícios de viagem.                                         </span>\n",
              "<span style=\"color: #800080; text-decoration-color: #800080\">▌ </span><span style=\"color: #808000; text-decoration-color: #808000; font-weight: bold\">    • </span><span style=\"color: #800080; text-decoration-color: #800080; font-weight: bold\">Desvantagens:</span><span style=\"color: #800080; text-decoration-color: #800080\"> IOF de 3,38% (em 2025, com previsão de redução gradual a zero até 2028). Spread cambial    </span>\n",
              "<span style=\"color: #800080; text-decoration-color: #800080\">▌ </span><span style=\"color: #808000; text-decoration-color: #808000; font-weight: bold\">      </span><span style=\"color: #800080; text-decoration-color: #800080\">(diferença entre o câmbio comercial e o aplicado pelo banco) que pode chegar a 6%. A cotação utilizada é </span>\n",
              "<span style=\"color: #800080; text-decoration-color: #800080\">▌ </span><span style=\"color: #808000; text-decoration-color: #808000; font-weight: bold\">      </span><span style=\"color: #800080; text-decoration-color: #800080\">a do dia do fechamento da fatura, sujeita à variação cambial. Alguns estabelecimentos em Amsterdã podem  </span>\n",
              "<span style=\"color: #800080; text-decoration-color: #800080\">▌ </span><span style=\"color: #808000; text-decoration-color: #808000; font-weight: bold\">      </span><span style=\"color: #800080; text-decoration-color: #800080\">não aceitar cartões de crédito internacionais, sendo o débito local mais comum.                          </span>\n",
              "<span style=\"color: #800080; text-decoration-color: #800080\">▌ </span><span style=\"color: #808000; text-decoration-color: #808000; font-weight: bold\">    • </span><span style=\"color: #800080; text-decoration-color: #800080; font-weight: bold\">Observação:</span><span style=\"color: #800080; text-decoration-color: #800080\"> Nem todos os cartões de crédito brasileiros são habilitados para uso internacional, sendo    </span>\n",
              "<span style=\"color: #800080; text-decoration-color: #800080\">▌ </span><span style=\"color: #808000; text-decoration-color: #808000; font-weight: bold\">      </span><span style=\"color: #800080; text-decoration-color: #800080\">necessário verificar e desbloquear antes de viajar.                                                      </span>\n",
              "<span style=\"color: #800080; text-decoration-color: #800080\">▌ </span><span style=\"color: #808000; text-decoration-color: #808000; font-weight: bold\"> 3 </span><span style=\"color: #800080; text-decoration-color: #800080; font-weight: bold\">Cartão de Débito:</span><span style=\"color: #800080; text-decoration-color: #800080\">                                                                                           </span>\n",
              "<span style=\"color: #800080; text-decoration-color: #800080\">▌ </span><span style=\"color: #808000; text-decoration-color: #808000; font-weight: bold\">    • </span><span style=\"color: #800080; text-decoration-color: #800080; font-weight: bold\">Vantagens:</span><span style=\"color: #800080; text-decoration-color: #800080\"> Conversão da moeda é feita com o câmbio do dia da transação.                                  </span>\n",
              "<span style=\"color: #800080; text-decoration-color: #800080\">▌ </span><span style=\"color: #808000; text-decoration-color: #808000; font-weight: bold\">    • </span><span style=\"color: #800080; text-decoration-color: #800080; font-weight: bold\">Desvantagens:</span><span style=\"color: #800080; text-decoration-color: #800080\"> IOF de 3,38% (em 2025). Taxas e impostos podem ser cobrados em cada operação no exterior. É</span>\n",
              "<span style=\"color: #800080; text-decoration-color: #800080\">▌ </span><span style=\"color: #808000; text-decoration-color: #808000; font-weight: bold\">      </span><span style=\"color: #800080; text-decoration-color: #800080\">preciso verificar com o banco se o cartão possui cobertura internacional e bandeira aceita (Visa ou      </span>\n",
              "<span style=\"color: #800080; text-decoration-color: #800080\">▌ </span><span style=\"color: #808000; text-decoration-color: #808000; font-weight: bold\">      </span><span style=\"color: #800080; text-decoration-color: #800080\">Mastercard são comuns). Pode haver dificuldade de uso na Holanda, onde a bandeira Maestro é mais         </span>\n",
              "<span style=\"color: #800080; text-decoration-color: #800080\">▌ </span><span style=\"color: #808000; text-decoration-color: #808000; font-weight: bold\">      </span><span style=\"color: #800080; text-decoration-color: #800080\">difundida. Alguns provedores podem cobrar spread adicional para compras e saques em moedas diferentes da </span>\n",
              "<span style=\"color: #800080; text-decoration-color: #800080\">▌ </span><span style=\"color: #808000; text-decoration-color: #808000; font-weight: bold\">      </span><span style=\"color: #800080; text-decoration-color: #800080\">conta.                                                                                                   </span>\n",
              "<span style=\"color: #800080; text-decoration-color: #800080\">▌ </span><span style=\"color: #808000; text-decoration-color: #808000; font-weight: bold\">    • </span><span style=\"color: #800080; text-decoration-color: #800080; font-weight: bold\">Observação:</span><span style=\"color: #800080; text-decoration-color: #800080\"> É necessário habilitar o uso internacional do cartão antes de viajar.                        </span>\n",
              "<span style=\"color: #800080; text-decoration-color: #800080\">▌ </span><span style=\"color: #808000; text-decoration-color: #808000; font-weight: bold\"> 4 </span><span style=\"color: #800080; text-decoration-color: #800080; font-weight: bold\">Cartão Pré-Pago Internacional (ou Cartão de Débito Internacional de Conta Global):</span><span style=\"color: #800080; text-decoration-color: #800080\">                          </span>\n",
              "<span style=\"color: #800080; text-decoration-color: #800080\">▌ </span><span style=\"color: #808000; text-decoration-color: #808000; font-weight: bold\">    • </span><span style=\"color: #800080; text-decoration-color: #800080; font-weight: bold\">Vantagens:</span><span style=\"color: #800080; text-decoration-color: #800080\"> Permite carregar um saldo na moeda estrangeira desejada (Euro). A cotação do câmbio fica      </span>\n",
              "<span style=\"color: #800080; text-decoration-color: #800080\">▌ </span><span style=\"color: #808000; text-decoration-color: #808000; font-weight: bold\">      </span><span style=\"color: #800080; text-decoration-color: #800080\">travada no momento da recarga, protegendo de variações cambiais futuras. IOF de 1,1% na carga/recarga    </span>\n",
              "<span style=\"color: #800080; text-decoration-color: #800080\">▌ </span><span style=\"color: #808000; text-decoration-color: #808000; font-weight: bold\">      </span><span style=\"color: #800080; text-decoration-color: #800080\">(algumas plataformas isentam o IOF na operação de PIX). Geralmente oferecem câmbio comercial, mais       </span>\n",
              "<span style=\"color: #800080; text-decoration-color: #800080\">▌ </span><span style=\"color: #808000; text-decoration-color: #808000; font-weight: bold\">      </span><span style=\"color: #800080; text-decoration-color: #800080\">vantajoso. Maior controle dos gastos, limitado ao saldo disponível. Aceito em milhões de estabelecimentos</span>\n",
              "<span style=\"color: #800080; text-decoration-color: #800080\">▌ </span><span style=\"color: #808000; text-decoration-color: #808000; font-weight: bold\">      </span><span style=\"color: #800080; text-decoration-color: #800080\">com bandeira Visa ou Mastercard. Algumas opções não cobram anuidade ou taxa de emissão.                  </span>\n",
              "<span style=\"color: #800080; text-decoration-color: #800080\">▌ </span><span style=\"color: #808000; text-decoration-color: #808000; font-weight: bold\">    • </span><span style=\"color: #800080; text-decoration-color: #800080; font-weight: bold\">Desvantagens:</span><span style=\"color: #800080; text-decoration-color: #800080\"> Possíveis taxas de saque no exterior. Limitações de uso em alguns casos. Não oferece acesso</span>\n",
              "<span style=\"color: #800080; text-decoration-color: #800080\">▌ </span><span style=\"color: #808000; text-decoration-color: #808000; font-weight: bold\">      </span><span style=\"color: #800080; text-decoration-color: #800080\">a crédito.                                                                                               </span>\n",
              "<span style=\"color: #800080; text-decoration-color: #800080\">▌ </span><span style=\"color: #808000; text-decoration-color: #808000; font-weight: bold\">    • </span><span style=\"color: #800080; text-decoration-color: #800080; font-weight: bold\">Exemplos:</span><span style=\"color: #800080; text-decoration-color: #800080\"> Wise, Revolut, Nomad, Remessa Online, C6 Bank Conta Global, Confidence Câmbio, Daycoval.       </span>\n",
              "<span style=\"color: #800080; text-decoration-color: #800080\">▌ </span><span style=\"color: #808000; text-decoration-color: #808000; font-weight: bold\">    • </span><span style=\"color: #800080; text-decoration-color: #800080; font-weight: bold\">Comparativo:</span><span style=\"color: #800080; text-decoration-color: #800080\"> Plataformas como Wise e Remessa Online são frequentemente citadas como opções com taxas     </span>\n",
              "<span style=\"color: #800080; text-decoration-color: #800080\">▌ </span><span style=\"color: #808000; text-decoration-color: #808000; font-weight: bold\">      </span><span style=\"color: #800080; text-decoration-color: #800080\">baixas e câmbio comercial. O cartão da Wise é aceito na Holanda e pode ser usado para gastos em euros com</span>\n",
              "<span style=\"color: #800080; text-decoration-color: #800080\">▌ </span><span style=\"color: #808000; text-decoration-color: #808000; font-weight: bold\">      </span><span style=\"color: #800080; text-decoration-color: #800080\">taxas competitivas. O cartão Nomad também é aceito na Holanda para gastos em euros, convertendo o saldo  </span>\n",
              "<span style=\"color: #800080; text-decoration-color: #800080\">▌ </span><span style=\"color: #808000; text-decoration-color: #808000; font-weight: bold\">      </span><span style=\"color: #800080; text-decoration-color: #800080\">em dólar automaticamente.                                                                                </span>\n",
              "<span style=\"color: #800080; text-decoration-color: #800080\">▌ </span><span style=\"color: #808000; text-decoration-color: #808000; font-weight: bold\"> 5 </span><span style=\"color: #800080; text-decoration-color: #800080; font-weight: bold\">Remessa para Conta no Estrangeiro:</span><span style=\"color: #800080; text-decoration-color: #800080\">                                                                          </span>\n",
              "<span style=\"color: #800080; text-decoration-color: #800080\">▌ </span><span style=\"color: #808000; text-decoration-color: #808000; font-weight: bold\">    • </span><span style=\"color: #800080; text-decoration-color: #800080; font-weight: bold\">Vantagens:</span><span style=\"color: #800080; text-decoration-color: #800080\"> Pode ser uma opção interessante para quantias maiores. Taxas de câmbio e tarifas podem ser    </span>\n",
              "<span style=\"color: #800080; text-decoration-color: #800080\">▌ </span><span style=\"color: #808000; text-decoration-color: #808000; font-weight: bold\">      </span><span style=\"color: #800080; text-decoration-color: #800080\">mais vantajosas dependendo da plataforma. IOF de 0,38% para remessas entre contas de titularidade        </span>\n",
              "<span style=\"color: #800080; text-decoration-color: #800080\">▌ </span><span style=\"color: #808000; text-decoration-color: #808000; font-weight: bold\">      </span><span style=\"color: #800080; text-decoration-color: #800080\">diferente e 1,1% para a mesma titularidade.                                                              </span>\n",
              "<span style=\"color: #800080; text-decoration-color: #800080\">▌ </span><span style=\"color: #808000; text-decoration-color: #808000; font-weight: bold\">    • </span><span style=\"color: #800080; text-decoration-color: #800080; font-weight: bold\">Desvantagens:</span><span style=\"color: #800080; text-decoration-color: #800080\"> Requer que você ou alguém de sua confiança tenha uma conta bancária na Europa. Pode haver  </span>\n",
              "<span style=\"color: #800080; text-decoration-color: #800080\">▌ </span><span style=\"color: #808000; text-decoration-color: #808000; font-weight: bold\">      </span><span style=\"color: #800080; text-decoration-color: #800080\">taxas administrativas, bancárias e SWIFT.                                                                </span>\n",
              "<span style=\"color: #800080; text-decoration-color: #800080\">▌ </span><span style=\"color: #808000; text-decoration-color: #808000; font-weight: bold\">    • </span><span style=\"color: #800080; text-decoration-color: #800080; font-weight: bold\">Plataformas online:</span><span style=\"color: #800080; text-decoration-color: #800080\"> Empresas como Wise e Remessa Online oferecem serviços de remessa internacional com   </span>\n",
              "<span style=\"color: #800080; text-decoration-color: #800080\">▌ </span><span style=\"color: #808000; text-decoration-color: #808000; font-weight: bold\">      </span><span style=\"color: #800080; text-decoration-color: #800080\">taxas transparentes e câmbio comercial.                                                                  </span>\n",
              "<span style=\"color: #800080; text-decoration-color: #800080\">▌ </span><span style=\"color: #808000; text-decoration-color: #808000; font-weight: bold\"> 6 </span><span style=\"color: #800080; text-decoration-color: #800080; font-weight: bold\">PIX Internacional:</span><span style=\"color: #800080; text-decoration-color: #800080\">                                                                                          </span>\n",
              "<span style=\"color: #800080; text-decoration-color: #800080\">▌ </span><span style=\"color: #808000; text-decoration-color: #808000; font-weight: bold\">    • </span><span style=\"color: #800080; text-decoration-color: #800080\">O Pix revolucionou as transações financeiras no Brasil pela praticidade, rapidez e custo reduzido.       </span>\n",
              "<span style=\"color: #800080; text-decoration-color: #800080\">▌ </span><span style=\"color: #808000; text-decoration-color: #808000; font-weight: bold\">    • </span><span style=\"color: #800080; text-decoration-color: #800080\">Atualmente, o Pix é um sistema nativo e exclusivo do Brasil, e ainda não é possível usá-lo diretamente   </span>\n",
              "<span style=\"color: #800080; text-decoration-color: #800080\">▌ </span><span style=\"color: #808000; text-decoration-color: #808000; font-weight: bold\">      </span><span style=\"color: #800080; text-decoration-color: #800080\">para fazer transferências internacionais para contas fora do país.                                       </span>\n",
              "<span style=\"color: #800080; text-decoration-color: #800080\">▌ </span><span style=\"color: #808000; text-decoration-color: #808000; font-weight: bold\">    • </span><span style=\"color: #800080; text-decoration-color: #800080\">No entanto, existem iniciativas e projetos em andamento, como o Nexus do BIS (Banco de Compensações      </span>\n",
              "<span style=\"color: #800080; text-decoration-color: #800080\">▌ </span><span style=\"color: #808000; text-decoration-color: #808000; font-weight: bold\">      </span><span style=\"color: #800080; text-decoration-color: #800080\">Internacionais), que buscam integrar sistemas de pagamentos instantâneos de diversos países, incluindo o </span>\n",
              "<span style=\"color: #800080; text-decoration-color: #800080\">▌ </span><span style=\"color: #808000; text-decoration-color: #808000; font-weight: bold\">      </span><span style=\"color: #800080; text-decoration-color: #800080\">Brasil.                                                                                                  </span>\n",
              "<span style=\"color: #800080; text-decoration-color: #800080\">▌ </span><span style=\"color: #808000; text-decoration-color: #808000; font-weight: bold\">    • </span><span style=\"color: #800080; text-decoration-color: #800080\">Algumas empresas estão desenvolvendo soluções que permitem que comerciantes no exterior recebam          </span>\n",
              "<span style=\"color: #800080; text-decoration-color: #800080\">▌ </span><span style=\"color: #808000; text-decoration-color: #808000; font-weight: bold\">      </span><span style=\"color: #800080; text-decoration-color: #800080\">pagamentos de brasileiros via Pix.                                                                       </span>\n",
              "<span style=\"color: #800080; text-decoration-color: #800080\">▌ </span><span style=\"color: #808000; text-decoration-color: #808000; font-weight: bold\">    • </span><span style=\"color: #800080; text-decoration-color: #800080; font-weight: bold\">Viktap:</span><span style=\"color: #800080; text-decoration-color: #800080\"> A Viktap é uma rede de pagamento instantâneo global que permite que comerciantes recebam         </span>\n",
              "<span style=\"color: #800080; text-decoration-color: #800080\">▌ </span><span style=\"color: #808000; text-decoration-color: #808000; font-weight: bold\">      </span><span style=\"color: #800080; text-decoration-color: #800080\">pagamentos de brasileiros em qualquer lugar do mundo através do Pix. A solução da Viktap oferece         </span>\n",
              "<span style=\"color: #800080; text-decoration-color: #800080\">▌ </span><span style=\"color: #808000; text-decoration-color: #808000; font-weight: bold\">      </span><span style=\"color: #800080; text-decoration-color: #800080\">transações rápidas, seguras e com baixo custo para o comerciante. Para o cliente (o brasileiro pagando), </span>\n",
              "<span style=\"color: #800080; text-decoration-color: #800080\">▌ </span><span style=\"color: #808000; text-decoration-color: #808000; font-weight: bold\">      </span><span style=\"color: #800080; text-decoration-color: #800080\">o pagamento via Pix internacional com a Viktap oferece segurança e praticidade, com taxas de câmbio      </span>\n",
              "<span style=\"color: #800080; text-decoration-color: #800080\">▌ </span><span style=\"color: #808000; text-decoration-color: #808000; font-weight: bold\">      </span><span style=\"color: #800080; text-decoration-color: #800080\">competitivas e IOF reduzido (com isenção de IOF na operação de Pix). A Viktap atua como um agente de     </span>\n",
              "<span style=\"color: #800080; text-decoration-color: #800080\">▌ </span><span style=\"color: #808000; text-decoration-color: #808000; font-weight: bold\">      </span><span style=\"color: #800080; text-decoration-color: #800080\">coleta de pagamentos por Pix e realiza o câmbio como uma eFX (Electronic Foreign Exchange) através de    </span>\n",
              "<span style=\"color: #800080; text-decoration-color: #800080\">▌ </span><span style=\"color: #808000; text-decoration-color: #808000; font-weight: bold\">      </span><span style=\"color: #800080; text-decoration-color: #800080\">bancos parceiros autorizados pelo Banco Central. Para mais informações sobre o Viktap, você pode         </span>\n",
              "<span style=\"color: #800080; text-decoration-color: #800080\">▌ </span><span style=\"color: #808000; text-decoration-color: #808000; font-weight: bold\">      </span><span style=\"color: #800080; text-decoration-color: #800080\">consultar o site viktap.com.br.                                                                          </span>\n",
              "<span style=\"color: #800080; text-decoration-color: #800080\">▌ </span><span style=\"color: #800080; text-decoration-color: #800080; font-weight: bold\">Recomendação Geral:</span><span style=\"color: #800080; text-decoration-color: #800080\">                                                                                            </span>\n",
              "<span style=\"color: #800080; text-decoration-color: #800080\">▌ A melhor maneira de converter seu dinheiro dependerá do seu perfil de viajante, do valor a ser convertido e da </span>\n",
              "<span style=\"color: #800080; text-decoration-color: #800080\">▌ sua prioridade (economia, praticidade, segurança).                                                             </span>\n",
              "<span style=\"color: #800080; text-decoration-color: #800080\">▌ </span><span style=\"color: #808000; text-decoration-color: #808000; font-weight: bold\"> • </span><span style=\"color: #800080; text-decoration-color: #800080\">Para </span><span style=\"color: #800080; text-decoration-color: #800080; font-weight: bold\">pequenas despesas e emergências</span><span style=\"color: #800080; text-decoration-color: #800080\">, ter uma quantia em </span><span style=\"color: #800080; text-decoration-color: #800080; font-weight: bold\">espécie</span><span style=\"color: #800080; text-decoration-color: #800080\"> é aconselhável.                            </span>\n",
              "<span style=\"color: #800080; text-decoration-color: #800080\">▌ </span><span style=\"color: #808000; text-decoration-color: #808000; font-weight: bold\"> • </span><span style=\"color: #800080; text-decoration-color: #800080\">Para a maioria dos gastos durante a viagem, os </span><span style=\"color: #800080; text-decoration-color: #800080; font-weight: bold\">cartões de débito internacional (contas globais)</span><span style=\"color: #800080; text-decoration-color: #800080\"> geralmente  </span>\n",
              "<span style=\"color: #800080; text-decoration-color: #800080\">▌ </span><span style=\"color: #808000; text-decoration-color: #808000; font-weight: bold\">   </span><span style=\"color: #800080; text-decoration-color: #800080\">oferecem as melhores taxas de câmbio (comercial) e IOF reduzido em comparação com o cartão de crédito       </span>\n",
              "<span style=\"color: #800080; text-decoration-color: #800080\">▌ </span><span style=\"color: #808000; text-decoration-color: #808000; font-weight: bold\">   </span><span style=\"color: #800080; text-decoration-color: #800080\">tradicional. Pesquise as opções disponíveis no mercado e compare as taxas.                                  </span>\n",
              "<span style=\"color: #800080; text-decoration-color: #800080\">▌ </span><span style=\"color: #808000; text-decoration-color: #808000; font-weight: bold\"> • </span><span style=\"color: #800080; text-decoration-color: #800080\">O </span><span style=\"color: #800080; text-decoration-color: #800080; font-weight: bold\">cartão de crédito internacional</span><span style=\"color: #800080; text-decoration-color: #800080\"> pode ser útil para emergências e reservas, mas atente-se ao IOF e spread. </span>\n",
              "<span style=\"color: #800080; text-decoration-color: #800080\">▌ </span><span style=\"color: #808000; text-decoration-color: #808000; font-weight: bold\"> • </span><span style=\"color: #800080; text-decoration-color: #800080; font-weight: bold\">Remessas</span><span style=\"color: #800080; text-decoration-color: #800080\"> podem ser vantajosas para grandes valores, se você tiver uma conta no exterior.                    </span>\n",
              "<span style=\"color: #800080; text-decoration-color: #800080\">▌ </span><span style=\"color: #808000; text-decoration-color: #808000; font-weight: bold\"> • </span><span style=\"color: #800080; text-decoration-color: #800080\">O </span><span style=\"color: #800080; text-decoration-color: #800080; font-weight: bold\">PIX internacional</span><span style=\"color: #800080; text-decoration-color: #800080\"> através de soluções como a da Viktap é uma opção emergente para pagamentos diretos a    </span>\n",
              "<span style=\"color: #800080; text-decoration-color: #800080\">▌ </span><span style=\"color: #808000; text-decoration-color: #808000; font-weight: bold\">   </span><span style=\"color: #800080; text-decoration-color: #800080\">comerciantes no exterior, com potencial de economia e praticidade para o cliente brasileiro.                </span>\n",
              "<span style=\"color: #800080; text-decoration-color: #800080\">▌ É sempre recomendado ter mais de uma opção de pagamento ao viajar para o exterior.                             </span>\n",
              "</pre>\n"
            ]
          },
          "metadata": {}
        },
        {
          "output_type": "display_data",
          "data": {
            "text/plain": [
              "\u001b[35m▌ \u001b[0m\u001b[33m───────────────────────────────────────────────────────────────────────────────────────────────────────────────\u001b[0m\n"
            ],
            "text/html": [
              "<pre style=\"white-space:pre;overflow-x:auto;line-height:normal;font-family:Menlo,'DejaVu Sans Mono',consolas,'Courier New',monospace\"><span style=\"color: #800080; text-decoration-color: #800080\">▌ </span><span style=\"color: #808000; text-decoration-color: #808000\">───────────────────────────────────────────────────────────────────────────────────────────────────────────────</span>\n",
              "</pre>\n"
            ]
          },
          "metadata": {}
        },
        {
          "output_type": "display_data",
          "data": {
            "text/plain": [
              "\n",
              "\u001b[35m▌ \u001b[0m\u001b[35mDica de um agente de viagem da LATAM\u001b[0m\u001b[35m                                                                           \u001b[0m\n"
            ],
            "text/html": [
              "<pre style=\"white-space:pre;overflow-x:auto;line-height:normal;font-family:Menlo,'DejaVu Sans Mono',consolas,'Courier New',monospace\">\n",
              "<span style=\"color: #800080; text-decoration-color: #800080\">▌ Dica de um agente de viagem da LATAM                                                                           </span>\n",
              "</pre>\n"
            ]
          },
          "metadata": {}
        },
        {
          "output_type": "display_data",
          "data": {
            "text/plain": [
              "\u001b[35m▌ \u001b[0m\u001b[33m───────────────────────────────────────────────────────────────────────────────────────────────────────────────\u001b[0m\n"
            ],
            "text/html": [
              "<pre style=\"white-space:pre;overflow-x:auto;line-height:normal;font-family:Menlo,'DejaVu Sans Mono',consolas,'Courier New',monospace\"><span style=\"color: #800080; text-decoration-color: #800080\">▌ </span><span style=\"color: #808000; text-decoration-color: #808000\">───────────────────────────────────────────────────────────────────────────────────────────────────────────────</span>\n",
              "</pre>\n"
            ]
          },
          "metadata": {}
        },
        {
          "output_type": "display_data",
          "data": {
            "text/plain": [
              "\n",
              "\u001b[35m▌ \u001b[0m\u001b[35mComo especialista em viagens internacionais da LATAM, informo que a LATAM não opera voos diretos na rota entre \u001b[0m\n",
              "\u001b[35m▌ \u001b[0m\u001b[35mSão Paulo (GRU) e Amsterdã (AMS).\u001b[0m\u001b[35m                                                                              \u001b[0m\n",
              "\u001b[35m▌ \u001b[0m\u001b[35mNo entanto, existem outras companhias aéreas que oferecem voos diretos para este destino. Para a sua viagem com\u001b[0m\n",
              "\u001b[35m▌ \u001b[0m\u001b[35mperfil Econômico entre 15/06/2025 e 30/06/2025, apresento uma opção com outra companhia:\u001b[0m\u001b[35m                       \u001b[0m\n",
              "\u001b[35m▌ \u001b[0m\u001b[1;35mCompanhia Aérea:\u001b[0m\u001b[35m KLM\u001b[0m\u001b[35m                                                                                           \u001b[0m\n",
              "\u001b[35m▌ \u001b[0m\u001b[1;33m • \u001b[0m\u001b[1;35mVoo de Ida:\u001b[0m\u001b[35m                                                                                                 \u001b[0m\n",
              "\u001b[35m▌ \u001b[0m\u001b[1;33m   \u001b[0m\u001b[1;33m • \u001b[0m\u001b[35mNúmero do Voo: KL XXXX (Número de voo meramente ilustrativo, verificar disponibilidade)\u001b[0m\u001b[35m                  \u001b[0m\n",
              "\u001b[35m▌ \u001b[0m\u001b[1;33m   \u001b[0m\u001b[1;33m • \u001b[0m\u001b[35mData: 15/06/2025\u001b[0m\u001b[35m                                                                                         \u001b[0m\n",
              "\u001b[35m▌ \u001b[0m\u001b[1;33m   \u001b[0m\u001b[1;33m • \u001b[0m\u001b[35mOrigem: São Paulo (GRU)\u001b[0m\u001b[35m                                                                                  \u001b[0m\n",
              "\u001b[35m▌ \u001b[0m\u001b[1;33m   \u001b[0m\u001b[1;33m • \u001b[0m\u001b[35mHorário de Partida: Aproximadamente 21:45\u001b[0m\u001b[35m                                                                \u001b[0m\n",
              "\u001b[35m▌ \u001b[0m\u001b[1;33m   \u001b[0m\u001b[1;33m • \u001b[0m\u001b[35mDestino: Amsterdã (AMS)\u001b[0m\u001b[35m                                                                                  \u001b[0m\n",
              "\u001b[35m▌ \u001b[0m\u001b[1;33m   \u001b[0m\u001b[1;33m • \u001b[0m\u001b[35mHorário de Chegada: Aproximadamente 14:20 (+1 dia)\u001b[0m\u001b[35m                                                       \u001b[0m\n",
              "\u001b[35m▌ \u001b[0m\u001b[1;33m • \u001b[0m\u001b[1;35mVoo de Volta:\u001b[0m\u001b[35m                                                                                               \u001b[0m\n",
              "\u001b[35m▌ \u001b[0m\u001b[1;33m   \u001b[0m\u001b[1;33m • \u001b[0m\u001b[35mNúmero do Voo: KL YYYY (Número de voo meramente ilustrativo, verificar disponibilidade)\u001b[0m\u001b[35m                  \u001b[0m\n",
              "\u001b[35m▌ \u001b[0m\u001b[1;33m   \u001b[0m\u001b[1;33m • \u001b[0m\u001b[35mData: 30/06/2025\u001b[0m\u001b[35m                                                                                         \u001b[0m\n",
              "\u001b[35m▌ \u001b[0m\u001b[1;33m   \u001b[0m\u001b[1;33m • \u001b[0m\u001b[35mOrigem: Amsterdã (AMS)\u001b[0m\u001b[35m                                                                                   \u001b[0m\n",
              "\u001b[35m▌ \u001b[0m\u001b[1;33m   \u001b[0m\u001b[1;33m • \u001b[0m\u001b[35mHorário de Partida: Aproximadamente 12:50\u001b[0m\u001b[35m                                                                \u001b[0m\n",
              "\u001b[35m▌ \u001b[0m\u001b[1;33m   \u001b[0m\u001b[1;33m • \u001b[0m\u001b[35mDestino: São Paulo (GRU)\u001b[0m\u001b[35m                                                                                 \u001b[0m\n",
              "\u001b[35m▌ \u001b[0m\u001b[1;33m   \u001b[0m\u001b[1;33m • \u001b[0m\u001b[35mHorário de Chegada: Aproximadamente 19:45\u001b[0m\u001b[35m                                                                \u001b[0m\n",
              "\u001b[35m▌ \u001b[0m\u001b[35mPor favor, note que os horários de voo são aproximados e podem sofrer alterações. É recomendável verificar os \u001b[0m\u001b[35m \u001b[0m\n",
              "\u001b[35m▌ \u001b[0m\u001b[35mhorários exatos e a disponibilidade no site da companhia aérea escolhida para confirmar a reserva.\u001b[0m\u001b[35m             \u001b[0m\n"
            ],
            "text/html": [
              "<pre style=\"white-space:pre;overflow-x:auto;line-height:normal;font-family:Menlo,'DejaVu Sans Mono',consolas,'Courier New',monospace\">\n",
              "<span style=\"color: #800080; text-decoration-color: #800080\">▌ Como especialista em viagens internacionais da LATAM, informo que a LATAM não opera voos diretos na rota entre </span>\n",
              "<span style=\"color: #800080; text-decoration-color: #800080\">▌ São Paulo (GRU) e Amsterdã (AMS).                                                                              </span>\n",
              "<span style=\"color: #800080; text-decoration-color: #800080\">▌ No entanto, existem outras companhias aéreas que oferecem voos diretos para este destino. Para a sua viagem com</span>\n",
              "<span style=\"color: #800080; text-decoration-color: #800080\">▌ perfil Econômico entre 15/06/2025 e 30/06/2025, apresento uma opção com outra companhia:                       </span>\n",
              "<span style=\"color: #800080; text-decoration-color: #800080\">▌ </span><span style=\"color: #800080; text-decoration-color: #800080; font-weight: bold\">Companhia Aérea:</span><span style=\"color: #800080; text-decoration-color: #800080\"> KLM                                                                                           </span>\n",
              "<span style=\"color: #800080; text-decoration-color: #800080\">▌ </span><span style=\"color: #808000; text-decoration-color: #808000; font-weight: bold\"> • </span><span style=\"color: #800080; text-decoration-color: #800080; font-weight: bold\">Voo de Ida:</span><span style=\"color: #800080; text-decoration-color: #800080\">                                                                                                 </span>\n",
              "<span style=\"color: #800080; text-decoration-color: #800080\">▌ </span><span style=\"color: #808000; text-decoration-color: #808000; font-weight: bold\">    • </span><span style=\"color: #800080; text-decoration-color: #800080\">Número do Voo: KL XXXX (Número de voo meramente ilustrativo, verificar disponibilidade)                  </span>\n",
              "<span style=\"color: #800080; text-decoration-color: #800080\">▌ </span><span style=\"color: #808000; text-decoration-color: #808000; font-weight: bold\">    • </span><span style=\"color: #800080; text-decoration-color: #800080\">Data: 15/06/2025                                                                                         </span>\n",
              "<span style=\"color: #800080; text-decoration-color: #800080\">▌ </span><span style=\"color: #808000; text-decoration-color: #808000; font-weight: bold\">    • </span><span style=\"color: #800080; text-decoration-color: #800080\">Origem: São Paulo (GRU)                                                                                  </span>\n",
              "<span style=\"color: #800080; text-decoration-color: #800080\">▌ </span><span style=\"color: #808000; text-decoration-color: #808000; font-weight: bold\">    • </span><span style=\"color: #800080; text-decoration-color: #800080\">Horário de Partida: Aproximadamente 21:45                                                                </span>\n",
              "<span style=\"color: #800080; text-decoration-color: #800080\">▌ </span><span style=\"color: #808000; text-decoration-color: #808000; font-weight: bold\">    • </span><span style=\"color: #800080; text-decoration-color: #800080\">Destino: Amsterdã (AMS)                                                                                  </span>\n",
              "<span style=\"color: #800080; text-decoration-color: #800080\">▌ </span><span style=\"color: #808000; text-decoration-color: #808000; font-weight: bold\">    • </span><span style=\"color: #800080; text-decoration-color: #800080\">Horário de Chegada: Aproximadamente 14:20 (+1 dia)                                                       </span>\n",
              "<span style=\"color: #800080; text-decoration-color: #800080\">▌ </span><span style=\"color: #808000; text-decoration-color: #808000; font-weight: bold\"> • </span><span style=\"color: #800080; text-decoration-color: #800080; font-weight: bold\">Voo de Volta:</span><span style=\"color: #800080; text-decoration-color: #800080\">                                                                                               </span>\n",
              "<span style=\"color: #800080; text-decoration-color: #800080\">▌ </span><span style=\"color: #808000; text-decoration-color: #808000; font-weight: bold\">    • </span><span style=\"color: #800080; text-decoration-color: #800080\">Número do Voo: KL YYYY (Número de voo meramente ilustrativo, verificar disponibilidade)                  </span>\n",
              "<span style=\"color: #800080; text-decoration-color: #800080\">▌ </span><span style=\"color: #808000; text-decoration-color: #808000; font-weight: bold\">    • </span><span style=\"color: #800080; text-decoration-color: #800080\">Data: 30/06/2025                                                                                         </span>\n",
              "<span style=\"color: #800080; text-decoration-color: #800080\">▌ </span><span style=\"color: #808000; text-decoration-color: #808000; font-weight: bold\">    • </span><span style=\"color: #800080; text-decoration-color: #800080\">Origem: Amsterdã (AMS)                                                                                   </span>\n",
              "<span style=\"color: #800080; text-decoration-color: #800080\">▌ </span><span style=\"color: #808000; text-decoration-color: #808000; font-weight: bold\">    • </span><span style=\"color: #800080; text-decoration-color: #800080\">Horário de Partida: Aproximadamente 12:50                                                                </span>\n",
              "<span style=\"color: #800080; text-decoration-color: #800080\">▌ </span><span style=\"color: #808000; text-decoration-color: #808000; font-weight: bold\">    • </span><span style=\"color: #800080; text-decoration-color: #800080\">Destino: São Paulo (GRU)                                                                                 </span>\n",
              "<span style=\"color: #800080; text-decoration-color: #800080\">▌ </span><span style=\"color: #808000; text-decoration-color: #808000; font-weight: bold\">    • </span><span style=\"color: #800080; text-decoration-color: #800080\">Horário de Chegada: Aproximadamente 19:45                                                                </span>\n",
              "<span style=\"color: #800080; text-decoration-color: #800080\">▌ Por favor, note que os horários de voo são aproximados e podem sofrer alterações. É recomendável verificar os  </span>\n",
              "<span style=\"color: #800080; text-decoration-color: #800080\">▌ horários exatos e a disponibilidade no site da companhia aérea escolhida para confirmar a reserva.             </span>\n",
              "</pre>\n"
            ]
          },
          "metadata": {}
        },
        {
          "output_type": "display_data",
          "data": {
            "text/plain": [
              "\u001b[35m▌ \u001b[0m\u001b[33m───────────────────────────────────────────────────────────────────────────────────────────────────────────────\u001b[0m\n"
            ],
            "text/html": [
              "<pre style=\"white-space:pre;overflow-x:auto;line-height:normal;font-family:Menlo,'DejaVu Sans Mono',consolas,'Courier New',monospace\"><span style=\"color: #800080; text-decoration-color: #800080\">▌ </span><span style=\"color: #808000; text-decoration-color: #808000\">───────────────────────────────────────────────────────────────────────────────────────────────────────────────</span>\n",
              "</pre>\n"
            ]
          },
          "metadata": {}
        },
        {
          "output_type": "display_data",
          "data": {
            "text/plain": [
              "\n",
              "\u001b[35m▌ \u001b[0m\u001b[35mAlgumas dicas de Hoteis, refeiçoes e passeios turisticos\u001b[0m\u001b[35m                                                       \u001b[0m\n"
            ],
            "text/html": [
              "<pre style=\"white-space:pre;overflow-x:auto;line-height:normal;font-family:Menlo,'DejaVu Sans Mono',consolas,'Courier New',monospace\">\n",
              "<span style=\"color: #800080; text-decoration-color: #800080\">▌ Algumas dicas de Hoteis, refeiçoes e passeios turisticos                                                       </span>\n",
              "</pre>\n"
            ]
          },
          "metadata": {}
        },
        {
          "output_type": "display_data",
          "data": {
            "text/plain": [
              "\u001b[35m▌ \u001b[0m\u001b[33m───────────────────────────────────────────────────────────────────────────────────────────────────────────────\u001b[0m\n"
            ],
            "text/html": [
              "<pre style=\"white-space:pre;overflow-x:auto;line-height:normal;font-family:Menlo,'DejaVu Sans Mono',consolas,'Courier New',monospace\"><span style=\"color: #800080; text-decoration-color: #800080\">▌ </span><span style=\"color: #808000; text-decoration-color: #808000\">───────────────────────────────────────────────────────────────────────────────────────────────────────────────</span>\n",
              "</pre>\n"
            ]
          },
          "metadata": {}
        },
        {
          "output_type": "display_data",
          "data": {
            "text/plain": [
              "\n",
              "\u001b[35m▌ \u001b[0m\u001b[35mCom base no seu perfil econômico e nas datas de 15 a 30 de junho de 2025, preparei algumas opções resumidas \u001b[0m\u001b[35m   \u001b[0m\n",
              "\u001b[35m▌ \u001b[0m\u001b[35mpara sua viagem a Amsterdã:\u001b[0m\u001b[35m                                                                                    \u001b[0m\n",
              "\u001b[35m▌ \u001b[0m\u001b[1;35mHotéis Econômicos:\u001b[0m\u001b[35m                                                                                             \u001b[0m\n",
              "\u001b[35m▌ \u001b[0m\u001b[1;33m 1 \u001b[0m\u001b[1;35mBudget Hotel Tourist Inn:\u001b[0m\u001b[35m Bem avaliado e próximo à Estação Central de Amsterdã.\u001b[0m\u001b[35m                             \u001b[0m\n",
              "\u001b[35m▌ \u001b[0m\u001b[1;33m 2 \u001b[0m\u001b[1;35mBunk Hotel Amsterdam:\u001b[0m\u001b[35m Com boas avaliações e a cerca de 2.4 km do centro da cidade.\u001b[0m\u001b[35m                          \u001b[0m\n",
              "\u001b[35m▌ \u001b[0m\u001b[1;33m 3 \u001b[0m\u001b[1;35measyHotel Amsterdam City Centre South:\u001b[0m\u001b[35m Localizado no distrito de De Pijp, com boa relação custo-benefício e \u001b[0m\n",
              "\u001b[35m▌ \u001b[0m\u001b[1;33m   \u001b[0m\u001b[35macesso a atrações a pé ou por transporte público.\u001b[0m\u001b[35m                                                           \u001b[0m\n",
              "\u001b[35m▌ \u001b[0m\u001b[1;35mRefeições Econômicas:\u001b[0m\u001b[35m                                                                                          \u001b[0m\n",
              "\u001b[35m▌ \u001b[0m\u001b[1;33m 1 \u001b[0m\u001b[1;35mMercados locais e supermercados:\u001b[0m\u001b[35m Explorar mercados como o Albert Cuyp Market ou simplesmente comprar lanches\u001b[0m\n",
              "\u001b[35m▌ \u001b[0m\u001b[1;33m   \u001b[0m\u001b[35me ingredientes em supermercados como Albert Heijn, Jumbo, Lidl, Vomar ou Spar pode ser uma opção muito \u001b[0m\u001b[35m     \u001b[0m\n",
              "\u001b[35m▌ \u001b[0m\u001b[1;33m   \u001b[0m\u001b[35meconômica.\u001b[0m\u001b[35m                                                                                                  \u001b[0m\n",
              "\u001b[35m▌ \u001b[0m\u001b[1;33m 2 \u001b[0m\u001b[1;35mComida de rua:\u001b[0m\u001b[35m Experimente opções como Leeman Döner (kebabs) ou Roopram Roti (comida surinamesa) para \u001b[0m\u001b[35m      \u001b[0m\n",
              "\u001b[35m▌ \u001b[0m\u001b[1;33m   \u001b[0m\u001b[35mrefeições saborosas e baratas. Snacks tradicionais holandeses como bitterballen também podem ser encontrados\u001b[0m\n",
              "\u001b[35m▌ \u001b[0m\u001b[1;33m   \u001b[0m\u001b[35mem bares e lanchonetes.\u001b[0m\u001b[35m                                                                                     \u001b[0m\n",
              "\u001b[35m▌ \u001b[0m\u001b[1;33m 3 \u001b[0m\u001b[1;35mCafés e eetcafe:\u001b[0m\u001b[35m Locais como Cultureel Eetcafe Skek, administrado por estudantes, oferecem pratos caseiros a\u001b[0m\n",
              "\u001b[35m▌ \u001b[0m\u001b[1;33m   \u001b[0m\u001b[35mpreços acessíveis. Alguns cafés também podem ter opções de almoço a preços razoáveis.\u001b[0m\u001b[35m                       \u001b[0m\n",
              "\u001b[35m▌ \u001b[0m\u001b[1;35mPasseios Turísticos (Foco em opções econômicas e gratuitas):\u001b[0m\u001b[35m                                                   \u001b[0m\n",
              "\u001b[35m▌ \u001b[0m\u001b[1;33m 1 \u001b[0m\u001b[1;35mCaminhar e explorar os canais:\u001b[0m\u001b[35m Passear pela área dos canais, Patrimônio Mundial da UNESCO, é uma atividade \u001b[0m\u001b[35m \u001b[0m\n",
              "\u001b[35m▌ \u001b[0m\u001b[1;33m   \u001b[0m\u001b[35mgratuita e imperdível para apreciar a arquitetura e a atmosfera da cidade. Considere explorar áreas como \u001b[0m\u001b[35m   \u001b[0m\n",
              "\u001b[35m▌ \u001b[0m\u001b[1;33m   \u001b[0m\u001b[35mHerengracht, Keizersgracht, Prinsengracht e Brouwersgracht.\u001b[0m\u001b[35m                                                 \u001b[0m\n",
              "\u001b[35m▌ \u001b[0m\u001b[1;33m 2 \u001b[0m\u001b[1;35mVisitar parques e jardins:\u001b[0m\u001b[35m Aproveite os espaços verdes de Amsterdã, como o Vondelpark, Westerpark e os \u001b[0m\u001b[35m     \u001b[0m\n",
              "\u001b[35m▌ \u001b[0m\u001b[1;33m   \u001b[0m\u001b[35mjardins do Rijksmuseum (gratuitos para visitar). Em junho, o Vondelpark costuma ter apresentações gratuitas \u001b[0m\n",
              "\u001b[35m▌ \u001b[0m\u001b[1;33m   \u001b[0m\u001b[35mem seu teatro ao ar livre.\u001b[0m\u001b[35m                                                                                  \u001b[0m\n",
              "\u001b[35m▌ \u001b[0m\u001b[1;33m 3 \u001b[0m\u001b[1;35mDescobrir arte de rua e mercados:\u001b[0m\u001b[35m Explore a vibrante cena de arte de rua em locais como NDSM Wharf e De \u001b[0m\u001b[35m    \u001b[0m\n",
              "\u001b[35m▌ \u001b[0m\u001b[1;33m   \u001b[0m\u001b[35mPijp. Visite mercados como o Bloemenmarkt (mercado de flores flutuante) ou o Waterlooplein Flea Market para \u001b[0m\n",
              "\u001b[35m▌ \u001b[0m\u001b[1;33m   \u001b[0m\u001b[35muma experiência local.\u001b[0m\u001b[35m                                                                                      \u001b[0m\n"
            ],
            "text/html": [
              "<pre style=\"white-space:pre;overflow-x:auto;line-height:normal;font-family:Menlo,'DejaVu Sans Mono',consolas,'Courier New',monospace\">\n",
              "<span style=\"color: #800080; text-decoration-color: #800080\">▌ Com base no seu perfil econômico e nas datas de 15 a 30 de junho de 2025, preparei algumas opções resumidas    </span>\n",
              "<span style=\"color: #800080; text-decoration-color: #800080\">▌ para sua viagem a Amsterdã:                                                                                    </span>\n",
              "<span style=\"color: #800080; text-decoration-color: #800080\">▌ </span><span style=\"color: #800080; text-decoration-color: #800080; font-weight: bold\">Hotéis Econômicos:</span><span style=\"color: #800080; text-decoration-color: #800080\">                                                                                             </span>\n",
              "<span style=\"color: #800080; text-decoration-color: #800080\">▌ </span><span style=\"color: #808000; text-decoration-color: #808000; font-weight: bold\"> 1 </span><span style=\"color: #800080; text-decoration-color: #800080; font-weight: bold\">Budget Hotel Tourist Inn:</span><span style=\"color: #800080; text-decoration-color: #800080\"> Bem avaliado e próximo à Estação Central de Amsterdã.                             </span>\n",
              "<span style=\"color: #800080; text-decoration-color: #800080\">▌ </span><span style=\"color: #808000; text-decoration-color: #808000; font-weight: bold\"> 2 </span><span style=\"color: #800080; text-decoration-color: #800080; font-weight: bold\">Bunk Hotel Amsterdam:</span><span style=\"color: #800080; text-decoration-color: #800080\"> Com boas avaliações e a cerca de 2.4 km do centro da cidade.                          </span>\n",
              "<span style=\"color: #800080; text-decoration-color: #800080\">▌ </span><span style=\"color: #808000; text-decoration-color: #808000; font-weight: bold\"> 3 </span><span style=\"color: #800080; text-decoration-color: #800080; font-weight: bold\">easyHotel Amsterdam City Centre South:</span><span style=\"color: #800080; text-decoration-color: #800080\"> Localizado no distrito de De Pijp, com boa relação custo-benefício e </span>\n",
              "<span style=\"color: #800080; text-decoration-color: #800080\">▌ </span><span style=\"color: #808000; text-decoration-color: #808000; font-weight: bold\">   </span><span style=\"color: #800080; text-decoration-color: #800080\">acesso a atrações a pé ou por transporte público.                                                           </span>\n",
              "<span style=\"color: #800080; text-decoration-color: #800080\">▌ </span><span style=\"color: #800080; text-decoration-color: #800080; font-weight: bold\">Refeições Econômicas:</span><span style=\"color: #800080; text-decoration-color: #800080\">                                                                                          </span>\n",
              "<span style=\"color: #800080; text-decoration-color: #800080\">▌ </span><span style=\"color: #808000; text-decoration-color: #808000; font-weight: bold\"> 1 </span><span style=\"color: #800080; text-decoration-color: #800080; font-weight: bold\">Mercados locais e supermercados:</span><span style=\"color: #800080; text-decoration-color: #800080\"> Explorar mercados como o Albert Cuyp Market ou simplesmente comprar lanches</span>\n",
              "<span style=\"color: #800080; text-decoration-color: #800080\">▌ </span><span style=\"color: #808000; text-decoration-color: #808000; font-weight: bold\">   </span><span style=\"color: #800080; text-decoration-color: #800080\">e ingredientes em supermercados como Albert Heijn, Jumbo, Lidl, Vomar ou Spar pode ser uma opção muito      </span>\n",
              "<span style=\"color: #800080; text-decoration-color: #800080\">▌ </span><span style=\"color: #808000; text-decoration-color: #808000; font-weight: bold\">   </span><span style=\"color: #800080; text-decoration-color: #800080\">econômica.                                                                                                  </span>\n",
              "<span style=\"color: #800080; text-decoration-color: #800080\">▌ </span><span style=\"color: #808000; text-decoration-color: #808000; font-weight: bold\"> 2 </span><span style=\"color: #800080; text-decoration-color: #800080; font-weight: bold\">Comida de rua:</span><span style=\"color: #800080; text-decoration-color: #800080\"> Experimente opções como Leeman Döner (kebabs) ou Roopram Roti (comida surinamesa) para       </span>\n",
              "<span style=\"color: #800080; text-decoration-color: #800080\">▌ </span><span style=\"color: #808000; text-decoration-color: #808000; font-weight: bold\">   </span><span style=\"color: #800080; text-decoration-color: #800080\">refeições saborosas e baratas. Snacks tradicionais holandeses como bitterballen também podem ser encontrados</span>\n",
              "<span style=\"color: #800080; text-decoration-color: #800080\">▌ </span><span style=\"color: #808000; text-decoration-color: #808000; font-weight: bold\">   </span><span style=\"color: #800080; text-decoration-color: #800080\">em bares e lanchonetes.                                                                                     </span>\n",
              "<span style=\"color: #800080; text-decoration-color: #800080\">▌ </span><span style=\"color: #808000; text-decoration-color: #808000; font-weight: bold\"> 3 </span><span style=\"color: #800080; text-decoration-color: #800080; font-weight: bold\">Cafés e eetcafe:</span><span style=\"color: #800080; text-decoration-color: #800080\"> Locais como Cultureel Eetcafe Skek, administrado por estudantes, oferecem pratos caseiros a</span>\n",
              "<span style=\"color: #800080; text-decoration-color: #800080\">▌ </span><span style=\"color: #808000; text-decoration-color: #808000; font-weight: bold\">   </span><span style=\"color: #800080; text-decoration-color: #800080\">preços acessíveis. Alguns cafés também podem ter opções de almoço a preços razoáveis.                       </span>\n",
              "<span style=\"color: #800080; text-decoration-color: #800080\">▌ </span><span style=\"color: #800080; text-decoration-color: #800080; font-weight: bold\">Passeios Turísticos (Foco em opções econômicas e gratuitas):</span><span style=\"color: #800080; text-decoration-color: #800080\">                                                   </span>\n",
              "<span style=\"color: #800080; text-decoration-color: #800080\">▌ </span><span style=\"color: #808000; text-decoration-color: #808000; font-weight: bold\"> 1 </span><span style=\"color: #800080; text-decoration-color: #800080; font-weight: bold\">Caminhar e explorar os canais:</span><span style=\"color: #800080; text-decoration-color: #800080\"> Passear pela área dos canais, Patrimônio Mundial da UNESCO, é uma atividade  </span>\n",
              "<span style=\"color: #800080; text-decoration-color: #800080\">▌ </span><span style=\"color: #808000; text-decoration-color: #808000; font-weight: bold\">   </span><span style=\"color: #800080; text-decoration-color: #800080\">gratuita e imperdível para apreciar a arquitetura e a atmosfera da cidade. Considere explorar áreas como    </span>\n",
              "<span style=\"color: #800080; text-decoration-color: #800080\">▌ </span><span style=\"color: #808000; text-decoration-color: #808000; font-weight: bold\">   </span><span style=\"color: #800080; text-decoration-color: #800080\">Herengracht, Keizersgracht, Prinsengracht e Brouwersgracht.                                                 </span>\n",
              "<span style=\"color: #800080; text-decoration-color: #800080\">▌ </span><span style=\"color: #808000; text-decoration-color: #808000; font-weight: bold\"> 2 </span><span style=\"color: #800080; text-decoration-color: #800080; font-weight: bold\">Visitar parques e jardins:</span><span style=\"color: #800080; text-decoration-color: #800080\"> Aproveite os espaços verdes de Amsterdã, como o Vondelpark, Westerpark e os      </span>\n",
              "<span style=\"color: #800080; text-decoration-color: #800080\">▌ </span><span style=\"color: #808000; text-decoration-color: #808000; font-weight: bold\">   </span><span style=\"color: #800080; text-decoration-color: #800080\">jardins do Rijksmuseum (gratuitos para visitar). Em junho, o Vondelpark costuma ter apresentações gratuitas </span>\n",
              "<span style=\"color: #800080; text-decoration-color: #800080\">▌ </span><span style=\"color: #808000; text-decoration-color: #808000; font-weight: bold\">   </span><span style=\"color: #800080; text-decoration-color: #800080\">em seu teatro ao ar livre.                                                                                  </span>\n",
              "<span style=\"color: #800080; text-decoration-color: #800080\">▌ </span><span style=\"color: #808000; text-decoration-color: #808000; font-weight: bold\"> 3 </span><span style=\"color: #800080; text-decoration-color: #800080; font-weight: bold\">Descobrir arte de rua e mercados:</span><span style=\"color: #800080; text-decoration-color: #800080\"> Explore a vibrante cena de arte de rua em locais como NDSM Wharf e De     </span>\n",
              "<span style=\"color: #800080; text-decoration-color: #800080\">▌ </span><span style=\"color: #808000; text-decoration-color: #808000; font-weight: bold\">   </span><span style=\"color: #800080; text-decoration-color: #800080\">Pijp. Visite mercados como o Bloemenmarkt (mercado de flores flutuante) ou o Waterlooplein Flea Market para </span>\n",
              "<span style=\"color: #800080; text-decoration-color: #800080\">▌ </span><span style=\"color: #808000; text-decoration-color: #808000; font-weight: bold\">   </span><span style=\"color: #800080; text-decoration-color: #800080\">uma experiência local.                                                                                      </span>\n",
              "</pre>\n"
            ]
          },
          "metadata": {}
        },
        {
          "output_type": "display_data",
          "data": {
            "text/plain": [
              "\u001b[35m▌ \u001b[0m\u001b[33m───────────────────────────────────────────────────────────────────────────────────────────────────────────────\u001b[0m\n"
            ],
            "text/html": [
              "<pre style=\"white-space:pre;overflow-x:auto;line-height:normal;font-family:Menlo,'DejaVu Sans Mono',consolas,'Courier New',monospace\"><span style=\"color: #800080; text-decoration-color: #800080\">▌ </span><span style=\"color: #808000; text-decoration-color: #808000\">───────────────────────────────────────────────────────────────────────────────────────────────────────────────</span>\n",
              "</pre>\n"
            ]
          },
          "metadata": {}
        },
        {
          "output_type": "display_data",
          "data": {
            "text/plain": [
              "\n",
              "\u001b[35m▌ \u001b[0m\u001b[35mPost do LinkedIn\u001b[0m\u001b[35m                                                                                               \u001b[0m\n"
            ],
            "text/html": [
              "<pre style=\"white-space:pre;overflow-x:auto;line-height:normal;font-family:Menlo,'DejaVu Sans Mono',consolas,'Courier New',monospace\">\n",
              "<span style=\"color: #800080; text-decoration-color: #800080\">▌ Post do LinkedIn                                                                                               </span>\n",
              "</pre>\n"
            ]
          },
          "metadata": {}
        },
        {
          "output_type": "display_data",
          "data": {
            "text/plain": [
              "\u001b[35m▌ \u001b[0m\u001b[33m───────────────────────────────────────────────────────────────────────────────────────────────────────────────\u001b[0m\n"
            ],
            "text/html": [
              "<pre style=\"white-space:pre;overflow-x:auto;line-height:normal;font-family:Menlo,'DejaVu Sans Mono',consolas,'Courier New',monospace\"><span style=\"color: #800080; text-decoration-color: #800080\">▌ </span><span style=\"color: #808000; text-decoration-color: #808000\">───────────────────────────────────────────────────────────────────────────────────────────────────────────────</span>\n",
              "</pre>\n"
            ]
          },
          "metadata": {}
        },
        {
          "output_type": "display_data",
          "data": {
            "text/plain": [
              "\n",
              "\u001b[35m▌ \u001b[0m\u001b[35mOkay, aqui está um rascunho de post para o LinkedIn, utilizando as informações fornecidas sobre o orçamento de \u001b[0m\n",
              "\u001b[35m▌ \u001b[0m\u001b[35mviagem econômica para Amsterdã e integrando a Tervik/Viktap como facilitador financeiro.\u001b[0m\u001b[35m                       \u001b[0m\n",
              "\u001b[35m▌ \u001b[0m\u001b[33m───────────────────────────────────────────────────────────────────────────────────────────────────────────────\u001b[0m\n",
              "\u001b[35m▌ \u001b[0m\u001b[1;35mRascunho de Post para LinkedIn - Tervik/Viktap\u001b[0m\u001b[35m                                                                 \u001b[0m\n",
              "\u001b[35m▌ \u001b[0m\u001b[1;35mHook:\u001b[0m\u001b[35m Sonha em conhecer Amsterdã sem estourar o orçamento? 🇳🇱\u001b[0m\u001b[35m                                                  \u001b[0m\n",
              "\u001b[35m▌ \u001b[0m\u001b[1;35mCorpo:\u001b[0m\u001b[35m                                                                                                         \u001b[0m\n",
              "\u001b[35m▌ \u001b[0m\u001b[35mPlanejar uma viagem internacional exige cuidado, especialmente quando o objetivo é economizar sem perder as \u001b[0m\u001b[35m   \u001b[0m\n",
              "\u001b[35m▌ \u001b[0m\u001b[35mmelhores experiências.\u001b[0m\u001b[35m                                                                                         \u001b[0m\n",
              "\u001b[35m▌ \u001b[0m\u001b[35mPensando nisso, simulamos um orçamento detalhado para uma aventura de 15 dias em Amsterdã com foco em \u001b[0m\u001b[35m         \u001b[0m\n",
              "\u001b[35m▌ \u001b[0m\u001b[35mexperiências (museus incríveis e gastronomia local acessível) e muita inteligência financeira! 💡\u001b[0m\u001b[35m              \u001b[0m\n",
              "\u001b[35m▌ \u001b[0m\u001b[35mCom um planejamento inteligente, estimamos que é possível viver essa experiência incrível com um investimento \u001b[0m\u001b[35m \u001b[0m\n",
              "\u001b[35m▌ \u001b[0m\u001b[35mtotal entre \u001b[0m\u001b[1;35mR$ 13.854 e R$ 19.698\u001b[0m\u001b[35m (considerando a taxa de câmbio atual para o Euro). 📊\u001b[0m\u001b[35m                        \u001b[0m\n",
              "\u001b[35m▌ \u001b[0m\u001b[35mAs chaves para o sucesso? Pesquisa de voos e hospedagem com antecedência, uso eficiente do transporte público \u001b[0m\u001b[35m \u001b[0m\n",
              "\u001b[35m▌ \u001b[0m\u001b[35m(ou bike!), explorar mercados e restaurantes locais fora das áreas turísticas. Pequenas decisões que fazem \u001b[0m\u001b[35m    \u001b[0m\n",
              "\u001b[35m▌ \u001b[0m\u001b[35mgrande diferença no bolso! 💰\u001b[0m\u001b[35m                                                                                  \u001b[0m\n",
              "\u001b[35m▌ \u001b[0m\u001b[35mE na hora de gerenciar seus gastos durante a viagem? Fazer câmbio, lidar com taxas, pagamentos... Pode parecer \u001b[0m\n",
              "\u001b[35m▌ \u001b[0m\u001b[35mcomplicado, mas com a tecnologia certa, não precisa ser! ✅\u001b[0m\u001b[35m                                                    \u001b[0m\n",
              "\u001b[35m▌ \u001b[0m\u001b[35mÉ aqui que Tervik e o poder do PIX via Viktap entram para simplificar sua vida, oferecendo uma solução moderna \u001b[0m\n",
              "\u001b[35m▌ \u001b[0m\u001b[35me eficiente para você focar no que realmente importa: VIVER a viagem sem preocupações financeiras \u001b[0m\u001b[35m             \u001b[0m\n",
              "\u001b[35m▌ \u001b[0m\u001b[35mdesnecessárias! ✨\u001b[0m\u001b[35m                                                                                             \u001b[0m\n",
              "\u001b[35m▌ \u001b[0m\u001b[35mPronto(a) para tirar o sonho de Amsterdã do papel? Comece pelo planejamento financeiro! 😉\u001b[0m\u001b[35m                     \u001b[0m\n",
              "\u001b[35m▌ \u001b[0m\u001b[35mQual sua maior dica ao planejar o orçamento de uma viagem internacional? Compartilhe nos comentários!\u001b[0m\u001b[35m          \u001b[0m\n",
              "\u001b[35m▌ \u001b[0m\u001b[33m───────────────────────────────────────────────────────────────────────────────────────────────────────────────\u001b[0m\n",
              "\u001b[35m▌ \u001b[0m\u001b[1;35mHashtags:\u001b[0m\u001b[35m                                                                                                      \u001b[0m\n",
              "\u001b[35m▌ \u001b[0m\u001b[35m#ViagemInternacional #PlanejamentoFinanceiro #Amsterda #Tervik\u001b[0m\u001b[35m                                                 \u001b[0m\n"
            ],
            "text/html": [
              "<pre style=\"white-space:pre;overflow-x:auto;line-height:normal;font-family:Menlo,'DejaVu Sans Mono',consolas,'Courier New',monospace\">\n",
              "<span style=\"color: #800080; text-decoration-color: #800080\">▌ Okay, aqui está um rascunho de post para o LinkedIn, utilizando as informações fornecidas sobre o orçamento de </span>\n",
              "<span style=\"color: #800080; text-decoration-color: #800080\">▌ viagem econômica para Amsterdã e integrando a Tervik/Viktap como facilitador financeiro.                       </span>\n",
              "<span style=\"color: #800080; text-decoration-color: #800080\">▌ </span><span style=\"color: #808000; text-decoration-color: #808000\">───────────────────────────────────────────────────────────────────────────────────────────────────────────────</span>\n",
              "<span style=\"color: #800080; text-decoration-color: #800080\">▌ </span><span style=\"color: #800080; text-decoration-color: #800080; font-weight: bold\">Rascunho de Post para LinkedIn - Tervik/Viktap</span><span style=\"color: #800080; text-decoration-color: #800080\">                                                                 </span>\n",
              "<span style=\"color: #800080; text-decoration-color: #800080\">▌ </span><span style=\"color: #800080; text-decoration-color: #800080; font-weight: bold\">Hook:</span><span style=\"color: #800080; text-decoration-color: #800080\"> Sonha em conhecer Amsterdã sem estourar o orçamento? 🇳🇱                                                  </span>\n",
              "<span style=\"color: #800080; text-decoration-color: #800080\">▌ </span><span style=\"color: #800080; text-decoration-color: #800080; font-weight: bold\">Corpo:</span><span style=\"color: #800080; text-decoration-color: #800080\">                                                                                                         </span>\n",
              "<span style=\"color: #800080; text-decoration-color: #800080\">▌ Planejar uma viagem internacional exige cuidado, especialmente quando o objetivo é economizar sem perder as    </span>\n",
              "<span style=\"color: #800080; text-decoration-color: #800080\">▌ melhores experiências.                                                                                         </span>\n",
              "<span style=\"color: #800080; text-decoration-color: #800080\">▌ Pensando nisso, simulamos um orçamento detalhado para uma aventura de 15 dias em Amsterdã com foco em          </span>\n",
              "<span style=\"color: #800080; text-decoration-color: #800080\">▌ experiências (museus incríveis e gastronomia local acessível) e muita inteligência financeira! 💡              </span>\n",
              "<span style=\"color: #800080; text-decoration-color: #800080\">▌ Com um planejamento inteligente, estimamos que é possível viver essa experiência incrível com um investimento  </span>\n",
              "<span style=\"color: #800080; text-decoration-color: #800080\">▌ total entre </span><span style=\"color: #800080; text-decoration-color: #800080; font-weight: bold\">R$ 13.854 e R$ 19.698</span><span style=\"color: #800080; text-decoration-color: #800080\"> (considerando a taxa de câmbio atual para o Euro). 📊                        </span>\n",
              "<span style=\"color: #800080; text-decoration-color: #800080\">▌ As chaves para o sucesso? Pesquisa de voos e hospedagem com antecedência, uso eficiente do transporte público  </span>\n",
              "<span style=\"color: #800080; text-decoration-color: #800080\">▌ (ou bike!), explorar mercados e restaurantes locais fora das áreas turísticas. Pequenas decisões que fazem     </span>\n",
              "<span style=\"color: #800080; text-decoration-color: #800080\">▌ grande diferença no bolso! 💰                                                                                  </span>\n",
              "<span style=\"color: #800080; text-decoration-color: #800080\">▌ E na hora de gerenciar seus gastos durante a viagem? Fazer câmbio, lidar com taxas, pagamentos... Pode parecer </span>\n",
              "<span style=\"color: #800080; text-decoration-color: #800080\">▌ complicado, mas com a tecnologia certa, não precisa ser! ✅                                                    </span>\n",
              "<span style=\"color: #800080; text-decoration-color: #800080\">▌ É aqui que Tervik e o poder do PIX via Viktap entram para simplificar sua vida, oferecendo uma solução moderna </span>\n",
              "<span style=\"color: #800080; text-decoration-color: #800080\">▌ e eficiente para você focar no que realmente importa: VIVER a viagem sem preocupações financeiras              </span>\n",
              "<span style=\"color: #800080; text-decoration-color: #800080\">▌ desnecessárias! ✨                                                                                             </span>\n",
              "<span style=\"color: #800080; text-decoration-color: #800080\">▌ Pronto(a) para tirar o sonho de Amsterdã do papel? Comece pelo planejamento financeiro! 😉                     </span>\n",
              "<span style=\"color: #800080; text-decoration-color: #800080\">▌ Qual sua maior dica ao planejar o orçamento de uma viagem internacional? Compartilhe nos comentários!          </span>\n",
              "<span style=\"color: #800080; text-decoration-color: #800080\">▌ </span><span style=\"color: #808000; text-decoration-color: #808000\">───────────────────────────────────────────────────────────────────────────────────────────────────────────────</span>\n",
              "<span style=\"color: #800080; text-decoration-color: #800080\">▌ </span><span style=\"color: #800080; text-decoration-color: #800080; font-weight: bold\">Hashtags:</span><span style=\"color: #800080; text-decoration-color: #800080\">                                                                                                      </span>\n",
              "<span style=\"color: #800080; text-decoration-color: #800080\">▌ #ViagemInternacional #PlanejamentoFinanceiro #Amsterda #Tervik                                                 </span>\n",
              "</pre>\n"
            ]
          },
          "metadata": {}
        }
      ]
    }
  ]
}