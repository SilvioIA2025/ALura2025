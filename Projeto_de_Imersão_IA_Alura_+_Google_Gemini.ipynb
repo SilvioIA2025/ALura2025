{
  "nbformat": 4,
  "nbformat_minor": 0,
  "metadata": {
    "colab": {
      "provenance": [],
      "include_colab_link": true
    },
    "kernelspec": {
      "name": "python3",
      "display_name": "Python 3"
    },
    "language_info": {
      "name": "python"
    }
  },
  "cells": [
    {
      "cell_type": "markdown",
      "metadata": {
        "id": "view-in-github",
        "colab_type": "text"
      },
      "source": [
        "<a href=\"https://colab.research.google.com/github/SilvioIA2025/ALura2025/blob/main/Projeto_de_Imers%C3%A3o_IA_Alura_%2B_Google_Gemini.ipynb\" target=\"_parent\"><img src=\"https://colab.research.google.com/assets/colab-badge.svg\" alt=\"Open In Colab\"/></a>"
      ]
    },
    {
      "cell_type": "code",
      "source": [
        "%pip -q install google-genai"
      ],
      "metadata": {
        "id": "UCCbECexLk_h"
      },
      "execution_count": 229,
      "outputs": []
    },
    {
      "cell_type": "code",
      "source": [
        "# Configura a API Key do Google Gemini\n",
        "\n",
        "import os\n",
        "from google.colab import userdata\n",
        "\n",
        "os.environ[\"GOOGLE_API_KEY\"] = userdata.get('GOOGLE_API_KEY')"
      ],
      "metadata": {
        "id": "NfCqHo1tLk8P"
      },
      "execution_count": 230,
      "outputs": []
    },
    {
      "cell_type": "code",
      "source": [
        "# Configura o cliente da SDK do Gemini\n",
        "\n",
        "from google import genai\n",
        "client = genai.Client()\n",
        "from IPython.display import HTML, Markdown\n",
        "\n"
      ],
      "metadata": {
        "id": "bV4w0H5TLk5g"
      },
      "execution_count": 233,
      "outputs": []
    },
    {
      "cell_type": "code",
      "source": [
        "# Instalar Framework ADK de agentes do Google ################################################\n",
        "!pip install -q google-adk"
      ],
      "metadata": {
        "id": "hvZ3UnPI4jhJ"
      },
      "execution_count": 234,
      "outputs": []
    },
    {
      "cell_type": "code",
      "execution_count": 6,
      "metadata": {
        "id": "aePV2bdfDeoW"
      },
      "outputs": [],
      "source": [
        "from google.adk.agents import Agent\n",
        "from google.adk.runners import Runner\n",
        "from google.adk.sessions import InMemorySessionService\n",
        "from google.adk.tools import google_search\n",
        "from google.genai import types  # Para criar conteúdos (Content e Part)\n",
        "from datetime import date\n",
        "import textwrap # Para formatar melhor a saída de texto\n",
        "from IPython.display import display, Markdown # Para exibir texto formatado no Colab\n",
        "import requests # Para fazer requisições HTTP\n",
        "import warnings\n",
        "\n",
        "warnings.filterwarnings(\"ignore\")"
      ]
    },
    {
      "cell_type": "code",
      "source": [
        "# Função auxiliar que envia uma mensagem para um agente via Runner e retorna a resposta final\n",
        "def call_agent(agent: Agent, message_text: str) -> str:\n",
        "    # Cria um serviço de sessão em memória\n",
        "    session_service = InMemorySessionService()\n",
        "    # Cria uma nova sessão (você pode personalizar os IDs conforme necessário)\n",
        "    session = session_service.create_session(app_name=agent.name, user_id=\"user1\", session_id=\"session1\")\n",
        "    # Cria um Runner para o agente\n",
        "    runner = Runner(agent=agent, app_name=agent.name, session_service=session_service)\n",
        "    # Cria o conteúdo da mensagem de entrada\n",
        "    content = types.Content(role=\"user\", parts=[types.Part(text=message_text)])\n",
        "\n",
        "    final_response = \"\"\n",
        "    # Itera assincronamente pelos eventos retornados durante a execução do agente\n",
        "    for event in runner.run(user_id=\"user1\", session_id=\"session1\", new_message=content):\n",
        "        if event.is_final_response():\n",
        "          for part in event.content.parts:\n",
        "            if part.text is not None:\n",
        "              final_response += part.text\n",
        "              final_response += \"\\n\"\n",
        "    return final_response"
      ],
      "metadata": {
        "id": "_xP4lWhsS5ko"
      },
      "execution_count": 235,
      "outputs": []
    },
    {
      "cell_type": "code",
      "source": [
        "# Função auxiliar para exibir texto formatado em Markdown no Colab\n",
        "import textwrap\n",
        "from rich.markdown import Markdown\n",
        "def to_markdown(text):\n",
        "  text = text.replace('•', '  *')\n",
        "  return Markdown(textwrap.indent(text, '> ', predicate=lambda _: True))\n"
      ],
      "metadata": {
        "id": "8dosiodaxfFR"
      },
      "execution_count": 262,
      "outputs": []
    },
    {
      "cell_type": "code",
      "source": [
        "##################################################################\n",
        "# --- Agente 1: Buscador de Custos de Viagens Internacionais --- #\n",
        "##################################################################\n",
        "def agente_buscador(topico, pais, perfil, data_de_inicio, data_de_fim, numero_adultos, numero_crianças):\n",
        "    buscador = Agent(\n",
        "        name=\"agente_buscador\",\n",
        "        model=\"gemini-2.5-flash-preview-04-17\",\n",
        "        instruction=\"\"\"\n",
        "        Como um especialista em calcular gastos em viagens internacionais, meu objetivo é fornecer uma estimativa detalhada e otimizada dos seus custos,\n",
        "        considerando suas preferências e buscando as melhores opções em cada categoria.\n",
        "\n",
        "        Instruções para o Especialista em Cálculos de Viagem:\n",
        "\n",
        "        1. Compreensão do Perfil do Viajante:\n",
        "\n",
        "        Destino: País(es) e Cidade(s).\n",
        "        Período: Datas de partida e retorno (para considerar alta/baixa temporada e eventos).\n",
        "        Número de Viajantes: Adultos e crianças.\n",
        "        Estilo de Viagem: (e.g., mochileiro, econômico, confortável, luxuoso) para calibrar os valores.\n",
        "        Interesses Específicos: (e.g., gastronomia, museus, aventura, compras) para alocar orçamento.\n",
        "\n",
        "        2. Análise e Estimativa por Categoria:\n",
        "\n",
        "        Voos (Melhores Opções):\n",
        "        Pesquisar e comparar companhias aéreas, escalas, duração do voo e aeroportos de partida/chegada.\n",
        "        Considerar voos diretos vs. com escalas (custo/benefício).\n",
        "        Avaliar épocas de compra (antecedência) e flexibilidade de datas para melhores preços.\n",
        "        Incluir custos de bagagem despachada, se aplicável.\n",
        "\n",
        "        Aluguel de Carro:\n",
        "        Avaliar a necessidade do aluguel versus transporte público no destino.\n",
        "        Selecionar o tipo de veículo adequado (econômico, SUV, etc.).\n",
        "        Incluir custos de seguro obrigatório e opcionais, combustível, pedágios e estacionamento.\n",
        "        Comparar locadoras e políticas de retirada/devolução.\n",
        "\n",
        "        Hotéis/Hospedagem (Melhores Opções):\n",
        "        Sugerir tipos de hospedagem (hotéis, hostels, Airbnb, pousadas) com base no estilo de viagem.\n",
        "        Considerar localização (proximidade a atrações, transporte), avaliações, comodidades (café da manhã, Wi-Fi) e política de cancelamento.\n",
        "        Estimar custo por noite, ajustado pela temporada.\n",
        "\n",
        "        Refeições:\n",
        "        Estimar um custo médio diário por pessoa para café da manhã, almoço e jantar, diferenciando entre restaurantes econômicos, médios e sofisticados.\n",
        "        Considerar o custo de lanches, bebidas e gorjetas.\n",
        "        Perguntar se o viajante pretende cozinhar algumas refeições.\n",
        "\n",
        "        Atrações Turísticas e Atividades:\n",
        "        Listar as principais atrações pagas e o custo de seus ingressos.\n",
        "        Sugerir passes turísticos (se vantajosos para a quantidade de atrações).\n",
        "        Incluir custo de tours guiados, shows ou atividades específicas desejadas.\n",
        "\n",
        "        Transporte Local:\n",
        "        Custos de metrô, ônibus, bondes, táxis ou aplicativos de transporte (Uber, Lyft, etc.).\n",
        "        Estimar passes diários/semanais se forem mais econômicos.\n",
        "        Despesas Gerais e Extras:\n",
        "\n",
        "        Seguro Viagem: Item obrigatório e essencial.\n",
        "        Visto e Taxas de Entrada: Se aplicável ao destino.\n",
        "        Comunicações: Custo de chip local ou roaming internacional.\n",
        "        Emergências/Imprevistos: Sugerir uma reserva de 10-15% do total para gastos não planejados.\n",
        "        Compras/Souvenirs: Definir um orçamento para compras pessoais e lembrancinhas.\n",
        "        Outros: Lavanderia, gorjetas adicionais, pequenos gastos diversos.\n",
        "\n",
        "        3. Saída Final:\n",
        "        Faça voce a escolha de uma cidade a ser visitada no pais, caso o não tenha sido escolhida, retorne todos os resultados de custo pelo\n",
        "        estilo de Viagem selecionado no perfil (mochileiro, economico, confortavel e luxuoso) e voce deve escolher automaticamente dois\n",
        "        Interesses Específicos: dentre Gastronomia, Museus, Aventura e Compras.\n",
        "        Apresentar um orçamento detalhado por categoria (Voos, Aluguel de Carro, Hotéis/Hospedagem, Refeições, Atrações Turísticas e Atividades, Transporte Local, Seguro Viagem\n",
        "        Visto e Taxas de Entrada, Comunicações, Emergências/Imprevistos, Compras/Souvenirs e Outros ) , com uma estimativa total convertida para a moeda de origem do viajante\n",
        "        (geralmente BRL) e da moeda local do destino, utilizando a taxa de câmbio atualizada. Oferecer dicas de economia e personalização.\n",
        "\n",
        "        A sua tarefa é usar a ferramenta de busca do google (google_search) respeitando a data inicial e final da viagem\n",
        "        Foque em no maximo 4 opções relevantes respeitando os estilos de Viagem: (mochileiro, econômico, confortável, luxuoso), com base no preço, categoria, e avaliaçoes dos clientes anteriores.\n",
        "        Se uma avaliação tiver poucas informações ou reações entusiasmadas, é possivel que ela não seja tão relevante assim\n",
        "        e pode ser substituido por outro que tenha mais.\n",
        "        Essas avaliações relevantes devem ser atuais, de no maximo um tres meses da data de hoje.\n",
        "        \"\"\",\n",
        "        description = \"Agente que busca melhores voos, carros, hoteis, refeiçoes, atrações turisticas, transporte e custos diretos e indiretos de viagem indicado no Google\",\n",
        "        tools=[google_search],\n",
        "    )\n",
        "    entrada_do_agente_buscador = f\"Tópico: {topico}\\nPaís: {pais}\\nPerfil: {perfil}\\nData de inicio: {data_de_inicio}\\nData de fim: {data_de_fim}\\nNumero_adultos: {numero_adultos}\\nNumero_crianças: {numero_crianças}\"\n",
        "    # Executa o agente\n",
        "    lancamentos_buscados = call_agent(buscador, entrada_do_agente_buscador)\n",
        "    return lancamentos_buscados"
      ],
      "metadata": {
        "id": "o8bqIfi_DyH8"
      },
      "execution_count": 263,
      "outputs": []
    },
    {
      "cell_type": "code",
      "source": [
        "##########################################\n",
        "# --- Agente 2: Revisor de Qualidade --- #\n",
        "##########################################\n",
        "def agente_revisor(topico, lancamentos_buscados):\n",
        "    revisor = Agent(\n",
        "        name=\"agente_revisor\",\n",
        "        model=\"gemini-2.5-flash-preview-04-17\",\n",
        "        instruction=\"\"\"\n",
        "            Você é um Editor e Revisor de Conteúdo meticuloso, especializado em documentos profissionais.\n",
        "            Por ter um público amplo, entre 18 e 70 anos, use sempre um tom de escrita adequado.\n",
        "            Revise o lancamentos_buscados abaixo sobre o tópico indicado, verificando clareza, concisão, correção e tom.\n",
        "            Separar por uma linha em branco cada item da lista.\n",
        "            Se o lancamentos_buscados estiver bom, repita apenas o texto novamente'.\n",
        "            Caso haja problemas, corrija e refaça o texto de maneira adequada, gerando uma versão corrigida\n",
        "            \"\"\",\n",
        "        description=\"Agente revisor de post para documentos profissionais.\"\n",
        "    )\n",
        "    entrada_do_agente_revisor = f\"Tópico: {topico}\\nRascunho: {lancamentos_buscados}\"\n",
        "    # Executa o agente\n",
        "    texto_revisado = call_agent(revisor, entrada_do_agente_revisor)\n",
        "    return texto_revisado"
      ],
      "metadata": {
        "id": "iscEvLUHssOg"
      },
      "execution_count": 264,
      "outputs": []
    },
    {
      "cell_type": "code",
      "source": [
        "##################################################################\n",
        "# --- Agente 3: Buscador da Melhor alternativa de levar ME --- #\n",
        "##################################################################\n",
        "def agente_moeda(topico, pais):\n",
        "    imagem = Agent(\n",
        "        name=\"agente_moeda\",\n",
        "        model=\"gemini-2.5-flash-preview-04-17\",\n",
        "        instruction=\"\"\"\n",
        "        Voce como especialista em cambio da Viktap, por favor me faça um breve resumo de qual a melhor maneira para eu converter o meu\n",
        "        dinheiro local para o dinheiro internacional, considerando cartao de credito, cartao de debito, cartao internacional, remessa para conta\n",
        "        no estrangeiro, ou PIX. No caso do PIX, fale sobre o viktap consultando a fonte no site https://viktap.com.br/\n",
        "        \"\"\",\n",
        "        tools=[google_search],\n",
        "    )\n",
        "    entrada_do_agente_moeda = f\"Tópico: {topico}\\nPais: {pais}\"\n",
        "    # Executa o agente\n",
        "    escolha_moeda = call_agent(imagem, entrada_do_agente_moeda)\n",
        "    return escolha_moeda"
      ],
      "metadata": {
        "id": "4EtHX4VMfO3g"
      },
      "execution_count": 265,
      "outputs": []
    },
    {
      "cell_type": "code",
      "source": [
        "####################################################################\n",
        "# --- Agente 4: Sugestao de Voo, pelo perfil escolhido ----------- #\n",
        "####################################################################\n",
        "def agente_viagem(topico, pais, perfil, aeroporto, data_inicio, data_retorno):\n",
        "    viagem = Agent(\n",
        "        name=\"agente_viagem\",\n",
        "        model=\"gemini-2.5-flash-preview-04-17\",\n",
        "        instruction=\"\"\"\n",
        "        Como um especialista em viagens internacionais da LATAM, faça apenas uma opção resumida para um voo consultando a LATAM saindo\n",
        "        do campo aeroporto e na data de ida data_inicio e data de retorno data_retorno\n",
        "        por favor escolha um voo direto de ida e um voo direto de volta a sua escolha informando o numero do voo e horario de partida e chegada\n",
        "        Caso a LATAM não possua voo para o destino, faça voce a escolha da companhia aerea, e se tambem nao conseguir voo direto pode escolher com escalas\n",
        "        \"\"\",\n",
        "        tools=[google_search],\n",
        "    )\n",
        "    entrada_do_agente_viagem = f\"Tópico: {topico}\\nPais: {pais}\\nPerfil: {perfil}\\nAeroporto: {aeroporto}\\nInicio: {data_inicio}\\nFim: {data_retorno}\"\n",
        "    # Executa o agente\n",
        "    viagem_pais = call_agent(viagem, entrada_do_agente_viagem)\n",
        "    return viagem_pais"
      ],
      "metadata": {
        "id": "nSql0NARXF7M"
      },
      "execution_count": 286,
      "outputs": []
    },
    {
      "cell_type": "code",
      "source": [
        "################################################################\n",
        "# --- Agente 5: Sugestao de Hotel, refeição e passeio turistico\n",
        "#     pelo perfil escolhido ---------------------------------- #\n",
        "################################################################\n",
        "def agente_outros(topico, pais, perfil, data_inicio, data_retorno):\n",
        "    outros = Agent(\n",
        "        name=\"agente_outros\",\n",
        "        model=\"gemini-2.5-flash-preview-04-17\",\n",
        "        instruction=\"\"\"\n",
        "        Como um especialista em viagens internacionais, faça apenas uma opção resumida para hoteis, refeição e passeios turisticos\n",
        "        levando em consideração na data de ida data_inicio e data de retorno data_retorno\n",
        "        por favor escolha somente 3 opções de hoteis, passeios turisticos e refeicoes.\n",
        "        \"\"\",\n",
        "        tools=[google_search],\n",
        "    )\n",
        "    entrada_do_agente_outros = f\"Tópico: {topico}\\nPais: {pais}\\nPerfil: {perfil}\\nInicio: {data_inicio}\\nFim: {data_retorno}\"\n",
        "    # Executa o agente\n",
        "    outros = call_agent(outros, entrada_do_agente_outros)\n",
        "    return outros"
      ],
      "metadata": {
        "id": "x0pHBjuNpoL9"
      },
      "execution_count": 287,
      "outputs": []
    },
    {
      "cell_type": "code",
      "source": [
        "######################################\n",
        "# --- Agente 6: Redator do Post --- #\n",
        "######################################\n",
        "def agente_linkedin(topico, texto_revisado):\n",
        "    linkedin = Agent(\n",
        "        name=\"agente_linkedin\",\n",
        "        model=\"gemini-2.5-flash-preview-04-17\",\n",
        "        instruction=\"\"\"\n",
        "            Você é um Redator Criativo especializado em criar posts virais para redes sociais.\n",
        "            Você escreve posts para a empresa Tervik, a empresa que desenvolveu o pagamento PIX com o Viktap .\n",
        "            Utilize o tema fornecido no texto_revisado e os pontos mais relevantes fornecidos e, com base nisso,\n",
        "            escreva um rascunho de post para o Linkedin sobre o tema indicado.\n",
        "            O post deve ser engajador, informativo, com linguagem simples e incluir 2 a 4 hashtags no final e mais a hashtag #imersaoiagoogle.\n",
        "            \"\"\",\n",
        "        description=\"Agente redator de posts engajadores para linkedin\"\n",
        "    )\n",
        "    entrada_do_agente_linkedin = f\"Tópico: {topico}\\nPlano de post: {texto_revisado}\"\n",
        "    # Executa o agente\n",
        "    linkedin = call_agent(linkedin, entrada_do_agente_linkedin)\n",
        "    return linkedin"
      ],
      "metadata": {
        "id": "T1ULSwGeaTWS"
      },
      "execution_count": 291,
      "outputs": []
    },
    {
      "cell_type": "code",
      "source": [
        "##agente_buscador(topico, pais, data_inicio, data_retorno, numero_adultos, numero_crianças)\n",
        "##agente_revisor(topico, lancamentos_buscados)\n",
        "##agente_moeda(topico, pais)\n",
        "##agente_viagem(topico, pais, perfil, aeroporto, data_inicio, data_retorno)\n",
        "##agente_outros(topico, pais, perfil, data_inicio, data_retorno)\n",
        "##agente_linkedin(topico, texto_revisado)\n",
        "\n",
        "from datetime import datetime\n",
        "\n",
        "def obter_data_do_usuario(param1):\n",
        "    while True:\n",
        "        if param1 == 'ida':\n",
        "          data_str = input(\"Digite a data de inicio (DD/MM/AAAA): \")\n",
        "        else:\n",
        "          data_str = input(\"Digite a data de retorno (DD/MM/AAAA): \")\n",
        "\n",
        "        try:\n",
        "            # Tenta converter a string para um objeto datetime\n",
        "            data_obj = datetime.strptime(data_str, \"%d/%m/%Y\")\n",
        "            return data_obj\n",
        "        except ValueError:\n",
        "            print(\"Formato de data inválido. Por favor, use DD/MM/AAAA.\")\n",
        "\n",
        "def selecionar_perfil(opcoes, mensagem=\"Selecione uma opção:\"):\n",
        "    print(mensagem)\n",
        "    for i, opcao in enumerate(opcoes):\n",
        "        print(f\"[{i + 1}] {opcao}\")\n",
        "\n",
        "    while True:\n",
        "        try:\n",
        "            escolha = input(\"Digite o número da sua escolha: \")\n",
        "            indice_escolhido = int(escolha) - 1 # Ajusta para o índice da lista (0-based)\n",
        "\n",
        "            if 0 <= indice_escolhido < len(opcoes):\n",
        "                return opcoes[indice_escolhido]\n",
        "            else:\n",
        "                print(\"Número inválido. Por favor, digite um número da lista.\")\n",
        "        except ValueError:\n",
        "            print(\"Entrada inválida. Por favor, digite um número.\")\n",
        "\n"
      ],
      "metadata": {
        "id": "MljXgPJWsbbt"
      },
      "execution_count": 292,
      "outputs": []
    },
    {
      "cell_type": "code",
      "source": [
        "topico = 'Viagem'\n",
        "pais = input(\"Digite o Pais/Cidade do destino: \")\n",
        "data_inicio = obter_data_do_usuario('ida')\n",
        "data_retorno = obter_data_do_usuario('fim')\n",
        "adultos = input(\"Digite o numero de adultos: \")\n",
        "criancas = input(\"Digite o numero de crianças: \")\n",
        "opcoes = [\"Mochileiro\", \"Economico\", \"Confortavel\", \"Luxuoso\"]\n",
        "perfil = selecionar_perfil(opcoes, mensagem=\"Selecione uma opção:\")\n",
        "print (perfil)\n",
        "aeroporto = input(\"Digite o aeroporto de partida: \")\n",
        "\n",
        "lancamentos_buscados = agente_buscador(topico, pais, perfil, data_inicio, data_retorno, adultos, criancas)\n",
        "##print(\"\\n Resultado do Agente 1 (Buscador)! \\n\")\n",
        "##display(to_markdown(lancamentos_buscados))\n",
        "##print(\"----------------------------------------------------------------\")\n",
        "\n",
        "post_final = agente_revisor(topico, lancamentos_buscados)\n",
        "display(to_markdown(\"-------------------------------\"))\n",
        "display(to_markdown(\"Recomendações para a sua viagem\"))\n",
        "display(to_markdown(\"-------------------------------\"))\n",
        "display(to_markdown(post_final))\n",
        "\n",
        "escolha_moeda = agente_moeda(topico, pais)\n",
        "display(to_markdown(\"--------------------------------------------------\"))\n",
        "display(to_markdown(\"Dicas financeiras para pagar com moeda estrangeira\"))\n",
        "display(to_markdown(\"--------------------------------------------------\"))\n",
        "display(to_markdown(escolha_moeda))\n",
        "\n",
        "viagem_pais = agente_viagem(topico, pais, perfil, aeroporto, data_inicio, data_retorno)\n",
        "display(to_markdown(\"------------------------------------\"))\n",
        "display(to_markdown(\"Dica de um agente de viagem da LATAM\"))\n",
        "display(to_markdown(\"------------------------------------\"))\n",
        "display(to_markdown(viagem_pais))\n",
        "\n",
        "outros = agente_outros(topico, pais, perfil, data_inicio, data_retorno)\n",
        "display(to_markdown(\"---------------------------------------------------------\"))\n",
        "display(to_markdown(\"Algumas dicas de Hoteis, refeiçoes e passeios turisticos\"))\n",
        "display(to_markdown(\"---------------------------------------------------------\"))\n",
        "display(to_markdown(outros))\n",
        "\n",
        "linkedin = agente_linkedin(topico, post_final)\n",
        "display(to_markdown(\"---------------------------------------------------------\"))\n",
        "display(to_markdown(\"Post do LinkedIn\"))\n",
        "display(to_markdown(\"---------------------------------------------------------\"))\n",
        "display(to_markdown(linkedin))\n"
      ],
      "metadata": {
        "colab": {
          "base_uri": "https://localhost:8080/",
          "height": 1000
        },
        "id": "0y13Z4VGyFDx",
        "outputId": "ad2ff2d9-0a3f-455d-9aa8-305eefba0775"
      },
      "execution_count": 293,
      "outputs": [
        {
          "name": "stdout",
          "output_type": "stream",
          "text": [
            "Digite o Pais/Cidade do destino: Amsterdam\n",
            "Digite a data de inicio (DD/MM/AAAA): 15/06/2025\n",
            "Digite a data de retorno (DD/MM/AAAA): 30/06/2025\n",
            "Digite o numero de adultos: 1\n",
            "Digite o numero de crianças: 0\n",
            "Selecione uma opção:\n",
            "[1] Mochileiro\n",
            "[2] Economico\n",
            "[3] Confortavel\n",
            "[4] Luxuoso\n",
            "Digite o número da sua escolha: 4\n",
            "Luxuoso\n",
            "Digite o aeroporto de partida: GRU\n"
          ]
        },
        {
          "output_type": "display_data",
          "data": {
            "text/plain": [
              "\u001b[35m▌ \u001b[0m\u001b[33m───────────────────────────────────────────────────────────────────────────────────────────────────────────────\u001b[0m\n"
            ],
            "text/html": [
              "<pre style=\"white-space:pre;overflow-x:auto;line-height:normal;font-family:Menlo,'DejaVu Sans Mono',consolas,'Courier New',monospace\"><span style=\"color: #800080; text-decoration-color: #800080\">▌ </span><span style=\"color: #808000; text-decoration-color: #808000\">───────────────────────────────────────────────────────────────────────────────────────────────────────────────</span>\n",
              "</pre>\n"
            ]
          },
          "metadata": {}
        },
        {
          "output_type": "display_data",
          "data": {
            "text/plain": [
              "\n",
              "\u001b[35m▌ \u001b[0m\u001b[35mRecomendações para a sua viagem\u001b[0m\u001b[35m                                                                                \u001b[0m\n"
            ],
            "text/html": [
              "<pre style=\"white-space:pre;overflow-x:auto;line-height:normal;font-family:Menlo,'DejaVu Sans Mono',consolas,'Courier New',monospace\">\n",
              "<span style=\"color: #800080; text-decoration-color: #800080\">▌ Recomendações para a sua viagem                                                                                </span>\n",
              "</pre>\n"
            ]
          },
          "metadata": {}
        },
        {
          "output_type": "display_data",
          "data": {
            "text/plain": [
              "\u001b[35m▌ \u001b[0m\u001b[33m───────────────────────────────────────────────────────────────────────────────────────────────────────────────\u001b[0m\n"
            ],
            "text/html": [
              "<pre style=\"white-space:pre;overflow-x:auto;line-height:normal;font-family:Menlo,'DejaVu Sans Mono',consolas,'Courier New',monospace\"><span style=\"color: #800080; text-decoration-color: #800080\">▌ </span><span style=\"color: #808000; text-decoration-color: #808000\">───────────────────────────────────────────────────────────────────────────────────────────────────────────────</span>\n",
              "</pre>\n"
            ]
          },
          "metadata": {}
        },
        {
          "output_type": "display_data",
          "data": {
            "text/plain": [
              "\n",
              "\u001b[35m▌ \u001b[0m\u001b[35mCompreendo. Como Editor e Revisor de Conteúdo, analisei o rascunho da estimativa de custos para a viagem de \u001b[0m\u001b[35m   \u001b[0m\n",
              "\u001b[35m▌ \u001b[0m\u001b[35mluxo a Amsterdã. O texto está bem estruturado e contém as informações essenciais. No entanto, identifiquei \u001b[0m\u001b[35m    \u001b[0m\n",
              "\u001b[35m▌ \u001b[0m\u001b[35malguns pontos que podem ser aprimorados para garantir maior clareza, correção e polidez, especialmente em \u001b[0m\u001b[35m     \u001b[0m\n",
              "\u001b[35m▌ \u001b[0m\u001b[35mrelação à formatação de números e à precisão dos cálculos na tabela resumo.\u001b[0m\u001b[35m                                    \u001b[0m\n",
              "\u001b[35m▌ \u001b[0m\u001b[35mApresento a seguir a versão revisada e corrigida:\u001b[0m\u001b[35m                                                              \u001b[0m\n",
              "\u001b[35m▌ \u001b[0m\u001b[33m───────────────────────────────────────────────────────────────────────────────────────────────────────────────\u001b[0m\n",
              "\u001b[35m▌ \u001b[0m\u001b[35mOlá! Como especialista em cálculos de viagens internacionais de luxo, estou pronto para ajudar a planejar sua \u001b[0m\u001b[35m \u001b[0m\n",
              "\u001b[35m▌ \u001b[0m\u001b[35msofisticada estadia em Amsterdã, focando nos seus interesses em Gastronomia e Museus.\u001b[0m\u001b[35m                          \u001b[0m\n",
              "\u001b[35m▌ \u001b[0m\u001b[35mCom base no seu perfil (Luxuoso, 1 adulto, de 15/06/2025 a 30/06/2025), preparei uma estimativa detalhada dos \u001b[0m\u001b[35m \u001b[0m\n",
              "\u001b[35m▌ \u001b[0m\u001b[35mcustos, buscando as melhores opções para garantir conforto, exclusividade e experiências inesquecíveis.\u001b[0m\u001b[35m        \u001b[0m\n",
              "\u001b[35m▌ \u001b[0m\u001b[35mPara a sua viagem de 15 dias em Amsterdã, na Holanda, no período de 15 a 30 de junho de 2025 (alta temporada), \u001b[0m\n",
              "\u001b[35m▌ \u001b[0m\u001b[35mcom foco em luxo, gastronomia e museus, apresento a seguinte estimativa de gastos:\u001b[0m\u001b[35m                             \u001b[0m\n",
              "\u001b[35m▌ \u001b[0m\u001b[1;35mTaxa de Câmbio Atual (Maio/2025):\u001b[0m\u001b[35m                                                                              \u001b[0m\n",
              "\u001b[35m▌ \u001b[0m\u001b[1;33m • \u001b[0m\u001b[35m1 EUR ≈ 6,31 BRL\u001b[0m\u001b[35m                                                                                            \u001b[0m\n",
              "\u001b[35m▌ \u001b[0m\u001b[1;33m • \u001b[0m\u001b[35m1 BRL ≈ 0,16 EUR\u001b[0m\u001b[35m                                                                                            \u001b[0m\n",
              "\u001b[35m▌ \u001b[0m\u001b[1;35mEstimativa de Gastos (Valores em EUR e BRL):\u001b[0m\u001b[35m                                                                   \u001b[0m\n",
              "\u001b[35m▌ \u001b[0m\u001b[35mÉ importante notar que os preços em Amsterdã, especialmente para hospedagem de luxo e refeições finas, podem \u001b[0m\u001b[35m  \u001b[0m\n",
              "\u001b[35m▌ \u001b[0m\u001b[35mvariar significativamente dependendo da antecedência da reserva e das escolhas específicas. Os valores em BRL \u001b[0m\u001b[35m \u001b[0m\n",
              "\u001b[35m▌ \u001b[0m\u001b[35msão baseados na taxa de câmbio informada e servem como referência.\u001b[0m\u001b[35m                                             \u001b[0m\n",
              "\u001b[35m▌ \u001b[0m\u001b[1;33m • \u001b[0m\u001b[1;35mVoos (Classe Executiva/Primeira Classe):\u001b[0m\u001b[35m \u001b[0m\u001b[35mPesquisas indicam voos em classe executiva de São Paulo para \u001b[0m\u001b[35m      \u001b[0m\n",
              "\u001b[35m▌ \u001b[0m\u001b[1;33m   \u001b[0m\u001b[35mAmsterdã com estimativas que se alinham ao perfil de luxo buscado.\u001b[0m\u001b[35m \u001b[0m\u001b[35mConsiderando a busca por luxo, estimamos \u001b[0m\n",
              "\u001b[35m▌ \u001b[0m\u001b[1;33m   \u001b[0m\u001b[35mum valor médio para ida e volta em Classe Executiva:\u001b[0m\u001b[35m \u001b[0m\u001b[1;35mEstimativa:\u001b[0m\u001b[35m € 3.500,00 - € 6.000,00 (R$ 22.085,00 - R$ \u001b[0m\n",
              "\u001b[35m▌ \u001b[0m\u001b[1;33m   \u001b[0m\u001b[35m37.860,00)\u001b[0m\u001b[35m                                                                                                  \u001b[0m\n",
              "\u001b[35m▌ \u001b[0m\u001b[1;33m • \u001b[0m\u001b[1;35mAluguel de Carro:\u001b[0m\u001b[35m \u001b[0m\u001b[35mEm Amsterdã, o transporte público é eficiente e um carro pode não ser essencial, além de o\u001b[0m\n",
              "\u001b[35m▌ \u001b[0m\u001b[1;33m   \u001b[0m\u001b[35mestacionamento ser caro. Para o perfil luxuoso, serviços de transporte privado por aplicativo (como Uber \u001b[0m\u001b[35m   \u001b[0m\n",
              "\u001b[35m▌ \u001b[0m\u001b[1;33m   \u001b[0m\u001b[35mBlack) ou motoristas particulares são mais adequados e convenientes.\u001b[0m\u001b[35m \u001b[0m\u001b[1;35mEstimativa:\u001b[0m\u001b[35m € 0,00 (Optando por \u001b[0m\u001b[35m       \u001b[0m\n",
              "\u001b[35m▌ \u001b[0m\u001b[1;33m   \u001b[0m\u001b[35mtransporte privado por demanda)\u001b[0m\u001b[35m                                                                             \u001b[0m\n",
              "\u001b[35m▌ \u001b[0m\u001b[1;33m • \u001b[0m\u001b[1;35mHotéis/Hospedagem (Luxo):\u001b[0m\u001b[35m \u001b[0m\u001b[35mHotéis 5 estrelas em Amsterdã têm diárias que podem variar bastante. Opções como \u001b[0m\u001b[35m \u001b[0m\n",
              "\u001b[35m▌ \u001b[0m\u001b[1;33m   \u001b[0m\u001b[35mWaldorf Astoria Amsterdam (€ 1.200,00+/noite) e Pulitzer Amsterdam (€ 400,00+/noite) são exemplos. O \u001b[0m\u001b[35m       \u001b[0m\n",
              "\u001b[35m▌ \u001b[0m\u001b[1;33m   \u001b[0m\u001b[35mInterContinental Amstel Amsterdam também é uma opção de luxo com boa avaliação.\u001b[0m\u001b[35m \u001b[0m\u001b[35mPara 14 noites em um hotel \u001b[0m\u001b[35m \u001b[0m\n",
              "\u001b[35m▌ \u001b[0m\u001b[1;33m   \u001b[0m\u001b[35mde luxo:\u001b[0m\u001b[35m \u001b[0m\u001b[1;35mEstimativa:\u001b[0m\u001b[35m € 6.000,00 - € 17.000,00 (R$ 37.860,00 - R$ 107.270,00) (Variável pela localização e \u001b[0m\u001b[35m  \u001b[0m\n",
              "\u001b[35m▌ \u001b[0m\u001b[1;33m   \u001b[0m\u001b[35mexclusividade)\u001b[0m\u001b[35m                                                                                              \u001b[0m\n",
              "\u001b[35m▌ \u001b[0m\u001b[1;33m • \u001b[0m\u001b[1;35mRefeições (Foco em Gastronomia):\u001b[0m\u001b[35m \u001b[0m\u001b[35mEm restaurantes sofisticados, o custo do jantar pode variar entre € 30,00 e\u001b[0m\n",
              "\u001b[35m▌ \u001b[0m\u001b[1;33m   \u001b[0m\u001b[35m€ 180,00 por pessoa. Considerando o foco em gastronomia de luxo, incluiremos jantares em restaurantes \u001b[0m\u001b[35m      \u001b[0m\n",
              "\u001b[35m▌ \u001b[0m\u001b[1;33m   \u001b[0m\u001b[35mrenomados e almoços em locais de alta qualidade. O café da manhã pode ou não estar incluído na hospedagem.\u001b[0m\u001b[35m \u001b[0m\u001b[35m \u001b[0m\n",
              "\u001b[35m▌ \u001b[0m\u001b[1;33m   \u001b[0m\u001b[35mEstimativa diária por pessoa: € 150,00 - € 300,00 (incluindo café da manhã, almoço e jantar em bons \u001b[0m\u001b[35m        \u001b[0m\n",
              "\u001b[35m▌ \u001b[0m\u001b[1;33m   \u001b[0m\u001b[35mestabelecimentos, além de bebidas e gorjetas)\u001b[0m\u001b[35m \u001b[0m\u001b[35mPara 15 dias:\u001b[0m\u001b[35m \u001b[0m\u001b[1;35mEstimativa:\u001b[0m\u001b[35m € 2.250,00 - € 4.500,00 (R$ \u001b[0m\u001b[35m        \u001b[0m\n",
              "\u001b[35m▌ \u001b[0m\u001b[1;33m   \u001b[0m\u001b[35m14.197,50 - R$ 28.395,00)\u001b[0m\u001b[35m                                                                                   \u001b[0m\n",
              "\u001b[35m▌ \u001b[0m\u001b[1;33m • \u001b[0m\u001b[1;35mAtrações Turísticas e Atividades (Foco em Museus):\u001b[0m\u001b[35m \u001b[0m\u001b[35mIngressos para museus renomados como o Van Gogh Museum (a\u001b[0m\n",
              "\u001b[35m▌ \u001b[0m\u001b[1;33m   \u001b[0m\u001b[35mpartir de $40 USD, aprox. € 37,00) e Rijksmuseum (aprox. € 20,00 - € 25,00) devem ser considerados. Passeios\u001b[0m\n",
              "\u001b[35m▌ \u001b[0m\u001b[1;33m   \u001b[0m\u001b[35mguiados privados também são uma opção. Um passeio de barco pelos canais é uma experiência clássica e há \u001b[0m\u001b[35m    \u001b[0m\n",
              "\u001b[35m▌ \u001b[0m\u001b[1;33m   \u001b[0m\u001b[35mopções privativas a partir de € 120,00/hora ou € 250,00/hora em barcos de luxo.\u001b[0m\u001b[35m \u001b[0m\u001b[35mIncluiremos visitas a museus\u001b[0m\n",
              "\u001b[35m▌ \u001b[0m\u001b[1;33m   \u001b[0m\u001b[35mimportantes, tours guiados privados em alguns e um passeio de barco privativo de luxo.\u001b[0m\u001b[35m \u001b[0m\u001b[1;35mEstimativa:\u001b[0m\u001b[35m € 800,00 \u001b[0m\n",
              "\u001b[35m▌ \u001b[0m\u001b[1;33m   \u001b[0m\u001b[35m- € 1.500,00 (R$ 5.048,00 - R$ 9.465,00)\u001b[0m\u001b[35m                                                                    \u001b[0m\n",
              "\u001b[35m▌ \u001b[0m\u001b[1;33m • \u001b[0m\u001b[1;35mTransporte Local (Excluindo Aluguel de Carro):\u001b[0m\u001b[35m \u001b[0m\u001b[35mUtilização de táxis, Uber ou serviços de transporte privado \u001b[0m\u001b[35m \u001b[0m\n",
              "\u001b[35m▌ \u001b[0m\u001b[1;33m   \u001b[0m\u001b[35mpara maior conforto. Um bilhete único de transporte público custa cerca de € 3,40, mas para o perfil \u001b[0m\u001b[35m       \u001b[0m\n",
              "\u001b[35m▌ \u001b[0m\u001b[1;33m   \u001b[0m\u001b[35mluxuoso, o uso será mínimo.\u001b[0m\u001b[35m \u001b[0m\u001b[1;35mEstimativa:\u001b[0m\u001b[35m € 300,00 - € 600,00 (R$ 1.893,00 - R$ 3.786,00) (Considerando uso \u001b[0m\u001b[35m  \u001b[0m\n",
              "\u001b[35m▌ \u001b[0m\u001b[1;33m   \u001b[0m\u001b[35mfrequente de táxis/Uber)\u001b[0m\u001b[35m                                                                                    \u001b[0m\n",
              "\u001b[35m▌ \u001b[0m\u001b[1;33m • \u001b[0m\u001b[1;35mSeguro Viagem:\u001b[0m\u001b[35m \u001b[0m\u001b[35mO seguro viagem é obrigatório para entrada na Europa (Espaço Schengen) com cobertura mínima \u001b[0m\u001b[35m \u001b[0m\n",
              "\u001b[35m▌ \u001b[0m\u001b[1;33m   \u001b[0m\u001b[35mde € 30.000,00 para despesas médicas. Planos com coberturas mais abrangentes são recomendados para o perfil \u001b[0m\n",
              "\u001b[35m▌ \u001b[0m\u001b[1;33m   \u001b[0m\u001b[35mluxuoso.\u001b[0m\u001b[35m \u001b[0m\u001b[1;35mEstimativa:\u001b[0m\u001b[35m € 150,00 - € 300,00 (R$ 946,50 - R$ 1.893,00) (Para 15 dias com boa cobertura)\u001b[0m\u001b[35m         \u001b[0m\n",
              "\u001b[35m▌ \u001b[0m\u001b[1;33m • \u001b[0m\u001b[1;35mVisto e Taxas de Entrada:\u001b[0m\u001b[35m \u001b[0m\u001b[35mBrasileiros não precisam de visto para estadias de até 90 dias na Holanda (Espaço \u001b[0m\n",
              "\u001b[35m▌ \u001b[0m\u001b[1;33m   \u001b[0m\u001b[35mSchengen) para turismo. A partir de 2026, será exigida a autorização ETIAS.\u001b[0m\u001b[35m \u001b[0m\u001b[1;35mEstimativa:\u001b[0m\u001b[35m € 0,00 (Para entrada\u001b[0m\n",
              "\u001b[35m▌ \u001b[0m\u001b[1;33m   \u001b[0m\u001b[35mem junho de 2025)\u001b[0m\u001b[35m                                                                                           \u001b[0m\n",
              "\u001b[35m▌ \u001b[0m\u001b[1;33m • \u001b[0m\u001b[1;35mComunicações:\u001b[0m\u001b[35m \u001b[0m\u001b[35mCompra de chip local ou eSIM internacional para acesso à internet e ligações. Há opções de \u001b[0m\u001b[35m   \u001b[0m\n",
              "\u001b[35m▌ \u001b[0m\u001b[1;33m   \u001b[0m\u001b[35meSIM para Europa com dados ilimitados para 15 dias por cerca de US$ 45,00 (aprox. € 42,00).\u001b[0m\u001b[35m \u001b[0m\u001b[1;35mEstimativa:\u001b[0m\u001b[35m € \u001b[0m\u001b[35m  \u001b[0m\n",
              "\u001b[35m▌ \u001b[0m\u001b[1;33m   \u001b[0m\u001b[35m50,00 - € 100,00 (R$ 315,50 - R$ 631,00)\u001b[0m\u001b[35m                                                                    \u001b[0m\n",
              "\u001b[35m▌ \u001b[0m\u001b[1;33m • \u001b[0m\u001b[1;35mEmergências/Imprevistos:\u001b[0m\u001b[35m \u001b[0m\u001b[35mUma reserva de 10-15% do subtotal é prudente para gastos não planejados. Calculamos\u001b[0m\n",
              "\u001b[35m▌ \u001b[0m\u001b[1;33m   \u001b[0m\u001b[35m10% sobre a soma das estimativas mínimas e máximas das categorias anteriores, respectivamente.\u001b[0m\u001b[35m \u001b[0m\u001b[1;35mEstimativa:\u001b[0m\u001b[35m €\u001b[0m\n",
              "\u001b[35m▌ \u001b[0m\u001b[1;33m   \u001b[0m\u001b[35m1.305,00 - € 3.000,00 (R$ 8.233,55 - R$ 18.930,00)\u001b[0m\u001b[35m                                                          \u001b[0m\n",
              "\u001b[35m▌ \u001b[0m\u001b[1;33m • \u001b[0m\u001b[1;35mCompras/Souvenirs:\u001b[0m\u001b[35m \u001b[0m\u001b[35mOrçamento pessoal para compras.\u001b[0m\u001b[35m \u001b[0m\u001b[1;35mEstimativa:\u001b[0m\u001b[35m € 500,00 - € 2.000,00+ (R$ 3.155,00 - R$ \u001b[0m\u001b[35m    \u001b[0m\n",
              "\u001b[35m▌ \u001b[0m\u001b[1;33m   \u001b[0m\u001b[35m12.620,00+) (Altamente variável)\u001b[0m\u001b[35m                                                                            \u001b[0m\n",
              "\u001b[35m▌ \u001b[0m\u001b[1;33m • \u001b[0m\u001b[1;35mOutros:\u001b[0m\u001b[35m \u001b[0m\u001b[35mGorjetas adicionais (além das incluídas em refeições de luxo), pequenos gastos diversos, etc.\u001b[0m\u001b[35m \u001b[0m\u001b[35m      \u001b[0m\n",
              "\u001b[35m▌ \u001b[0m\u001b[1;33m   \u001b[0m\u001b[1;35mEstimativa:\u001b[0m\u001b[35m € 200,00 - € 500,00 (R$ 1.262,00 - R$ 3.155,00)\u001b[0m\u001b[35m                                                 \u001b[0m\n",
              "\u001b[35m▌ \u001b[0m\u001b[1;35mResumo da Estimativa (por pessoa, 15 dias):\u001b[0m\u001b[35m                                                                    \u001b[0m\n",
              "\u001b[35m▌ \u001b[0m\u001b[35m                                                                                                               \u001b[0m\n",
              "\u001b[35m▌ \u001b[0m\u001b[35m \u001b[0m\u001b[1;35m                     \u001b[0m\u001b[35m \u001b[0m\u001b[1;35m \u001b[0m\u001b[1;35mEstimativa Mínima \u001b[0m\u001b[1;35m \u001b[0m\u001b[1;35m \u001b[0m\u001b[35m \u001b[0m\u001b[1;35m \u001b[0m\u001b[1;35mEstimativa Máxima \u001b[0m\u001b[1;35m \u001b[0m\u001b[1;35m \u001b[0m\u001b[35m \u001b[0m\u001b[1;35m \u001b[0m\u001b[1;35mEstimativa Mínima \u001b[0m\u001b[1;35m \u001b[0m\u001b[1;35m \u001b[0m\u001b[35m \u001b[0m\u001b[1;35m \u001b[0m\u001b[1;35mEstimativa Máxima \u001b[0m\u001b[1;35m \u001b[0m\u001b[1;35m \u001b[0m\u001b[35m \u001b[0m\n",
              "\u001b[35m▌ \u001b[0m\u001b[35m \u001b[0m\u001b[1;35m \u001b[0m\u001b[1;35mCategoria\u001b[0m\u001b[1;35m          \u001b[0m\u001b[1;35m \u001b[0m\u001b[35m \u001b[0m\u001b[1;35m \u001b[0m\u001b[1;35m(EUR)\u001b[0m\u001b[1;35m              \u001b[0m\u001b[1;35m \u001b[0m\u001b[35m \u001b[0m\u001b[1;35m \u001b[0m\u001b[1;35m(EUR)\u001b[0m\u001b[1;35m              \u001b[0m\u001b[1;35m \u001b[0m\u001b[35m \u001b[0m\u001b[1;35m \u001b[0m\u001b[1;35m(BRL)\u001b[0m\u001b[1;35m              \u001b[0m\u001b[1;35m \u001b[0m\u001b[35m \u001b[0m\u001b[1;35m \u001b[0m\u001b[1;35m(BRL)\u001b[0m\u001b[1;35m              \u001b[0m\u001b[1;35m \u001b[0m\u001b[35m \u001b[0m\n",
              "\u001b[35m▌ \u001b[0m\u001b[35m ━━━━━━━━━━━━━━━━━━━━━━━━━━━━━━━━━━━━━━━━━━━━━━━━━━━━━━━━━━━━━━━━━━━━━━━━━━━━━━━━━━━━━━━━━━━━━━━━━━━━━━━━━━━━━ \u001b[0m\n",
              "\u001b[35m▌ \u001b[0m\u001b[35m \u001b[0m\u001b[35m \u001b[0m\u001b[35mVoos\u001b[0m\u001b[35m               \u001b[0m\u001b[35m \u001b[0m\u001b[35m \u001b[0m\u001b[35m \u001b[0m\u001b[35m3.500,00\u001b[0m\u001b[35m           \u001b[0m\u001b[35m \u001b[0m\u001b[35m \u001b[0m\u001b[35m \u001b[0m\u001b[35m6.000,00\u001b[0m\u001b[35m           \u001b[0m\u001b[35m \u001b[0m\u001b[35m \u001b[0m\u001b[35m \u001b[0m\u001b[35m22.085,00\u001b[0m\u001b[35m          \u001b[0m\u001b[35m \u001b[0m\u001b[35m \u001b[0m\u001b[35m \u001b[0m\u001b[35m37.860,00\u001b[0m\u001b[35m          \u001b[0m\u001b[35m \u001b[0m\u001b[35m \u001b[0m\n",
              "\u001b[35m▌ \u001b[0m\u001b[35m \u001b[0m\u001b[35m \u001b[0m\u001b[35mAluguel de Carro\u001b[0m\u001b[35m   \u001b[0m\u001b[35m \u001b[0m\u001b[35m \u001b[0m\u001b[35m \u001b[0m\u001b[35m0,00\u001b[0m\u001b[35m               \u001b[0m\u001b[35m \u001b[0m\u001b[35m \u001b[0m\u001b[35m \u001b[0m\u001b[35m0,00\u001b[0m\u001b[35m               \u001b[0m\u001b[35m \u001b[0m\u001b[35m \u001b[0m\u001b[35m \u001b[0m\u001b[35m0,00\u001b[0m\u001b[35m               \u001b[0m\u001b[35m \u001b[0m\u001b[35m \u001b[0m\u001b[35m \u001b[0m\u001b[35m0,00\u001b[0m\u001b[35m               \u001b[0m\u001b[35m \u001b[0m\u001b[35m \u001b[0m\n",
              "\u001b[35m▌ \u001b[0m\u001b[35m \u001b[0m\u001b[35m \u001b[0m\u001b[35mHotéis/Hospedagem\u001b[0m\u001b[35m  \u001b[0m\u001b[35m \u001b[0m\u001b[35m \u001b[0m\u001b[35m \u001b[0m\u001b[35m6.000,00\u001b[0m\u001b[35m           \u001b[0m\u001b[35m \u001b[0m\u001b[35m \u001b[0m\u001b[35m \u001b[0m\u001b[35m17.000,00\u001b[0m\u001b[35m          \u001b[0m\u001b[35m \u001b[0m\u001b[35m \u001b[0m\u001b[35m \u001b[0m\u001b[35m37.860,00\u001b[0m\u001b[35m          \u001b[0m\u001b[35m \u001b[0m\u001b[35m \u001b[0m\u001b[35m \u001b[0m\u001b[35m107.270,00\u001b[0m\u001b[35m         \u001b[0m\u001b[35m \u001b[0m\u001b[35m \u001b[0m\n",
              "\u001b[35m▌ \u001b[0m\u001b[35m \u001b[0m\u001b[35m \u001b[0m\u001b[35mRefeições\u001b[0m\u001b[35m          \u001b[0m\u001b[35m \u001b[0m\u001b[35m \u001b[0m\u001b[35m \u001b[0m\u001b[35m2.250,00\u001b[0m\u001b[35m           \u001b[0m\u001b[35m \u001b[0m\u001b[35m \u001b[0m\u001b[35m \u001b[0m\u001b[35m4.500,00\u001b[0m\u001b[35m           \u001b[0m\u001b[35m \u001b[0m\u001b[35m \u001b[0m\u001b[35m \u001b[0m\u001b[35m14.197,50\u001b[0m\u001b[35m          \u001b[0m\u001b[35m \u001b[0m\u001b[35m \u001b[0m\u001b[35m \u001b[0m\u001b[35m28.395,00\u001b[0m\u001b[35m          \u001b[0m\u001b[35m \u001b[0m\u001b[35m \u001b[0m\n",
              "\u001b[35m▌ \u001b[0m\u001b[35m \u001b[0m\u001b[35m \u001b[0m\u001b[35mAtrações e \u001b[0m\u001b[35m        \u001b[0m\u001b[35m \u001b[0m\u001b[35m \u001b[0m\u001b[35m \u001b[0m\u001b[35m800,00\u001b[0m\u001b[35m             \u001b[0m\u001b[35m \u001b[0m\u001b[35m \u001b[0m\u001b[35m \u001b[0m\u001b[35m1.500,00\u001b[0m\u001b[35m           \u001b[0m\u001b[35m \u001b[0m\u001b[35m \u001b[0m\u001b[35m \u001b[0m\u001b[35m5.048,00\u001b[0m\u001b[35m           \u001b[0m\u001b[35m \u001b[0m\u001b[35m \u001b[0m\u001b[35m \u001b[0m\u001b[35m9.465,00\u001b[0m\u001b[35m           \u001b[0m\u001b[35m \u001b[0m\u001b[35m \u001b[0m\n",
              "\u001b[35m▌ \u001b[0m\u001b[35m \u001b[0m\u001b[35m \u001b[0m\u001b[35mAtividades\u001b[0m\u001b[35m         \u001b[0m\u001b[35m \u001b[0m\u001b[35m \u001b[0m\u001b[35m                     \u001b[0m\u001b[35m \u001b[0m\u001b[35m                     \u001b[0m\u001b[35m \u001b[0m\u001b[35m                     \u001b[0m\u001b[35m \u001b[0m\u001b[35m                     \u001b[0m\u001b[35m \u001b[0m\n",
              "\u001b[35m▌ \u001b[0m\u001b[35m \u001b[0m\u001b[35m \u001b[0m\u001b[35mTransporte Local\u001b[0m\u001b[35m   \u001b[0m\u001b[35m \u001b[0m\u001b[35m \u001b[0m\u001b[35m \u001b[0m\u001b[35m300,00\u001b[0m\u001b[35m             \u001b[0m\u001b[35m \u001b[0m\u001b[35m \u001b[0m\u001b[35m \u001b[0m\u001b[35m600,00\u001b[0m\u001b[35m             \u001b[0m\u001b[35m \u001b[0m\u001b[35m \u001b[0m\u001b[35m \u001b[0m\u001b[35m1.893,00\u001b[0m\u001b[35m           \u001b[0m\u001b[35m \u001b[0m\u001b[35m \u001b[0m\u001b[35m \u001b[0m\u001b[35m3.786,00\u001b[0m\u001b[35m           \u001b[0m\u001b[35m \u001b[0m\u001b[35m \u001b[0m\n",
              "\u001b[35m▌ \u001b[0m\u001b[35m \u001b[0m\u001b[35m \u001b[0m\u001b[35mSeguro Viagem\u001b[0m\u001b[35m      \u001b[0m\u001b[35m \u001b[0m\u001b[35m \u001b[0m\u001b[35m \u001b[0m\u001b[35m150,00\u001b[0m\u001b[35m             \u001b[0m\u001b[35m \u001b[0m\u001b[35m \u001b[0m\u001b[35m \u001b[0m\u001b[35m300,00\u001b[0m\u001b[35m             \u001b[0m\u001b[35m \u001b[0m\u001b[35m \u001b[0m\u001b[35m \u001b[0m\u001b[35m946,50\u001b[0m\u001b[35m             \u001b[0m\u001b[35m \u001b[0m\u001b[35m \u001b[0m\u001b[35m \u001b[0m\u001b[35m1.893,00\u001b[0m\u001b[35m           \u001b[0m\u001b[35m \u001b[0m\u001b[35m \u001b[0m\n",
              "\u001b[35m▌ \u001b[0m\u001b[35m \u001b[0m\u001b[35m \u001b[0m\u001b[35mVisto e Taxas de \u001b[0m\u001b[35m  \u001b[0m\u001b[35m \u001b[0m\u001b[35m \u001b[0m\u001b[35m \u001b[0m\u001b[35m0,00\u001b[0m\u001b[35m               \u001b[0m\u001b[35m \u001b[0m\u001b[35m \u001b[0m\u001b[35m \u001b[0m\u001b[35m0,00\u001b[0m\u001b[35m               \u001b[0m\u001b[35m \u001b[0m\u001b[35m \u001b[0m\u001b[35m \u001b[0m\u001b[35m0,00\u001b[0m\u001b[35m               \u001b[0m\u001b[35m \u001b[0m\u001b[35m \u001b[0m\u001b[35m \u001b[0m\u001b[35m0,00\u001b[0m\u001b[35m               \u001b[0m\u001b[35m \u001b[0m\u001b[35m \u001b[0m\n",
              "\u001b[35m▌ \u001b[0m\u001b[35m \u001b[0m\u001b[35m \u001b[0m\u001b[35mEntrada\u001b[0m\u001b[35m            \u001b[0m\u001b[35m \u001b[0m\u001b[35m \u001b[0m\u001b[35m                     \u001b[0m\u001b[35m \u001b[0m\u001b[35m                     \u001b[0m\u001b[35m \u001b[0m\u001b[35m                     \u001b[0m\u001b[35m \u001b[0m\u001b[35m                     \u001b[0m\u001b[35m \u001b[0m\n",
              "\u001b[35m▌ \u001b[0m\u001b[35m \u001b[0m\u001b[35m \u001b[0m\u001b[35mComunicações\u001b[0m\u001b[35m       \u001b[0m\u001b[35m \u001b[0m\u001b[35m \u001b[0m\u001b[35m \u001b[0m\u001b[35m50,00\u001b[0m\u001b[35m              \u001b[0m\u001b[35m \u001b[0m\u001b[35m \u001b[0m\u001b[35m \u001b[0m\u001b[35m100,00\u001b[0m\u001b[35m             \u001b[0m\u001b[35m \u001b[0m\u001b[35m \u001b[0m\u001b[35m \u001b[0m\u001b[35m315,50\u001b[0m\u001b[35m             \u001b[0m\u001b[35m \u001b[0m\u001b[35m \u001b[0m\u001b[35m \u001b[0m\u001b[35m631,00\u001b[0m\u001b[35m             \u001b[0m\u001b[35m \u001b[0m\u001b[35m \u001b[0m\n",
              "\u001b[35m▌ \u001b[0m\u001b[35m \u001b[0m\u001b[35m \u001b[0m\u001b[35mEmergências/Imprev…\u001b[0m\u001b[35m \u001b[0m\u001b[35m \u001b[0m\u001b[35m \u001b[0m\u001b[35m1.305,00\u001b[0m\u001b[35m           \u001b[0m\u001b[35m \u001b[0m\u001b[35m \u001b[0m\u001b[35m \u001b[0m\u001b[35m3.000,00\u001b[0m\u001b[35m           \u001b[0m\u001b[35m \u001b[0m\u001b[35m \u001b[0m\u001b[35m \u001b[0m\u001b[35m8.233,55\u001b[0m\u001b[35m           \u001b[0m\u001b[35m \u001b[0m\u001b[35m \u001b[0m\u001b[35m \u001b[0m\u001b[35m18.930,00\u001b[0m\u001b[35m          \u001b[0m\u001b[35m \u001b[0m\u001b[35m \u001b[0m\n",
              "\u001b[35m▌ \u001b[0m\u001b[35m \u001b[0m\u001b[35m \u001b[0m\u001b[35mCompras/Souvenirs\u001b[0m\u001b[35m  \u001b[0m\u001b[35m \u001b[0m\u001b[35m \u001b[0m\u001b[35m \u001b[0m\u001b[35m500,00\u001b[0m\u001b[35m             \u001b[0m\u001b[35m \u001b[0m\u001b[35m \u001b[0m\u001b[35m \u001b[0m\u001b[35m2.000,00\u001b[0m\u001b[35m           \u001b[0m\u001b[35m \u001b[0m\u001b[35m \u001b[0m\u001b[35m \u001b[0m\u001b[35m3.155,00\u001b[0m\u001b[35m           \u001b[0m\u001b[35m \u001b[0m\u001b[35m \u001b[0m\u001b[35m \u001b[0m\u001b[35m12.620,00\u001b[0m\u001b[35m          \u001b[0m\u001b[35m \u001b[0m\u001b[35m \u001b[0m\n",
              "\u001b[35m▌ \u001b[0m\u001b[35m \u001b[0m\u001b[35m \u001b[0m\u001b[35mOutros\u001b[0m\u001b[35m             \u001b[0m\u001b[35m \u001b[0m\u001b[35m \u001b[0m\u001b[35m \u001b[0m\u001b[35m200,00\u001b[0m\u001b[35m             \u001b[0m\u001b[35m \u001b[0m\u001b[35m \u001b[0m\u001b[35m \u001b[0m\u001b[35m500,00\u001b[0m\u001b[35m             \u001b[0m\u001b[35m \u001b[0m\u001b[35m \u001b[0m\u001b[35m \u001b[0m\u001b[35m1.262,00\u001b[0m\u001b[35m           \u001b[0m\u001b[35m \u001b[0m\u001b[35m \u001b[0m\u001b[35m \u001b[0m\u001b[35m3.155,00\u001b[0m\u001b[35m           \u001b[0m\u001b[35m \u001b[0m\u001b[35m \u001b[0m\n",
              "\u001b[35m▌ \u001b[0m\u001b[35m \u001b[0m\u001b[35m \u001b[0m\u001b[1;35mTotal Estimado \u001b[0m\u001b[35m    \u001b[0m\u001b[35m \u001b[0m\u001b[35m \u001b[0m\u001b[35m \u001b[0m\u001b[1;35m15.055,00\u001b[0m\u001b[35m          \u001b[0m\u001b[35m \u001b[0m\u001b[35m \u001b[0m\u001b[35m \u001b[0m\u001b[1;35m35.500,00\u001b[0m\u001b[35m          \u001b[0m\u001b[35m \u001b[0m\u001b[35m \u001b[0m\u001b[35m \u001b[0m\u001b[35m                   \u001b[0m\u001b[35m \u001b[0m\u001b[35m \u001b[0m\u001b[35m \u001b[0m\u001b[35m                   \u001b[0m\u001b[35m \u001b[0m\u001b[35m \u001b[0m\n",
              "\u001b[35m▌ \u001b[0m\u001b[35m \u001b[0m\u001b[35m \u001b[0m\u001b[1;35m(EUR)\u001b[0m\u001b[35m              \u001b[0m\u001b[35m \u001b[0m\u001b[35m \u001b[0m\u001b[35m                     \u001b[0m\u001b[35m \u001b[0m\u001b[35m                     \u001b[0m\u001b[35m \u001b[0m\u001b[35m                     \u001b[0m\u001b[35m \u001b[0m\u001b[35m                     \u001b[0m\u001b[35m \u001b[0m\n",
              "\u001b[35m▌ \u001b[0m\u001b[35m \u001b[0m\u001b[35m \u001b[0m\u001b[1;35mTotal Estimado \u001b[0m\u001b[35m    \u001b[0m\u001b[35m \u001b[0m\u001b[35m \u001b[0m\u001b[35m \u001b[0m\u001b[35m                   \u001b[0m\u001b[35m \u001b[0m\u001b[35m \u001b[0m\u001b[35m \u001b[0m\u001b[35m                   \u001b[0m\u001b[35m \u001b[0m\u001b[35m \u001b[0m\u001b[35m \u001b[0m\u001b[1;35m95.097,05\u001b[0m\u001b[35m          \u001b[0m\u001b[35m \u001b[0m\u001b[35m \u001b[0m\u001b[35m \u001b[0m\u001b[1;35m224.005,00\u001b[0m\u001b[35m         \u001b[0m\u001b[35m \u001b[0m\u001b[35m \u001b[0m\n",
              "\u001b[35m▌ \u001b[0m\u001b[35m \u001b[0m\u001b[35m \u001b[0m\u001b[1;35m(BRL)\u001b[0m\u001b[35m              \u001b[0m\u001b[35m \u001b[0m\u001b[35m \u001b[0m\u001b[35m                     \u001b[0m\u001b[35m \u001b[0m\u001b[35m                     \u001b[0m\u001b[35m \u001b[0m\u001b[35m                     \u001b[0m\u001b[35m \u001b[0m\u001b[35m                     \u001b[0m\u001b[35m \u001b[0m\n",
              "\u001b[35m▌ \u001b[0m\u001b[35m                                                                                                               \u001b[0m\n",
              "\u001b[35m▌ \u001b[0m\u001b[1;35mObservações:\u001b[0m\u001b[35m                                                                                                   \u001b[0m\n",
              "\u001b[35m▌ \u001b[0m\u001b[1;33m • \u001b[0m\u001b[35mOs valores apresentados são estimativas e podem variar. A alta temporada em junho pode impactar os preços de\u001b[0m\n",
              "\u001b[35m▌ \u001b[0m\u001b[1;33m   \u001b[0m\u001b[35mvoos e hospedagem.\u001b[0m\u001b[35m                                                                                          \u001b[0m\n",
              "\u001b[35m▌ \u001b[0m\u001b[1;33m • \u001b[0m\u001b[35mA cotação do Euro para o Real pode flutuar, impactando o custo final em BRL.\u001b[0m\u001b[35m                                \u001b[0m\n",
              "\u001b[35m▌ \u001b[0m\u001b[1;33m • \u001b[0m\u001b[35mEste orçamento considera um estilo de viagem luxuoso, com foco em experiências de alta qualidade em \u001b[0m\u001b[35m        \u001b[0m\n",
              "\u001b[35m▌ \u001b[0m\u001b[1;33m   \u001b[0m\u001b[35mgastronomia e museus.\u001b[0m\u001b[35m                                                                                       \u001b[0m\n",
              "\u001b[35m▌ \u001b[0m\u001b[1;33m • \u001b[0m\u001b[35mÉ sempre recomendável fazer reservas com antecedência, especialmente para voos e hotéis de luxo durante a \u001b[0m\u001b[35m  \u001b[0m\n",
              "\u001b[35m▌ \u001b[0m\u001b[1;33m   \u001b[0m\u001b[35malta temporada.\u001b[0m\u001b[35m                                                                                             \u001b[0m\n",
              "\u001b[35m▌ \u001b[0m\u001b[1;35mDicas de Economia e Personalização:\u001b[0m\u001b[35m                                                                            \u001b[0m\n",
              "\u001b[35m▌ \u001b[0m\u001b[1;33m • \u001b[0m\u001b[1;35mVoos:\u001b[0m\u001b[35m Considere voos com escalas se o conforto da classe executiva/primeira classe for prioritário e o tempo\u001b[0m\n",
              "\u001b[35m▌ \u001b[0m\u001b[1;33m   \u001b[0m\u001b[35mde viagem menos crítico. Pesquisar em diferentes companhias aéreas e datas flexíveis pode gerar economia.\u001b[0m\u001b[35m   \u001b[0m\n",
              "\u001b[35m▌ \u001b[0m\u001b[1;33m • \u001b[0m\u001b[1;35mHospedagem:\u001b[0m\u001b[35m Pesquisar hotéis de luxo com promoções para estadias mais longas ou pacotes que incluam café da \u001b[0m\n",
              "\u001b[35m▌ \u001b[0m\u001b[1;33m   \u001b[0m\u001b[35mmanhã ou outros serviços. Considere a localização em relação aos seus interesses para otimizar o transporte.\u001b[0m\n",
              "\u001b[35m▌ \u001b[0m\u001b[1;33m • \u001b[0m\u001b[1;35mRefeições:\u001b[0m\u001b[35m Embora o foco seja gastronomia de luxo, alternar com algumas refeições em bistrôs ou restaurantes\u001b[0m\n",
              "\u001b[35m▌ \u001b[0m\u001b[1;33m   \u001b[0m\u001b[35mde alta qualidade, mas não necessariamente \"estrelados\", pode gerar economia sem comprometer a experiência. \u001b[0m\n",
              "\u001b[35m▌ \u001b[0m\u001b[1;33m   \u001b[0m\u001b[35mExperimentar mercados locais e iguarias de rua de alta qualidade também pode ser interessante.\u001b[0m\u001b[35m              \u001b[0m\n",
              "\u001b[35m▌ \u001b[0m\u001b[1;33m • \u001b[0m\u001b[1;35mAtrações:\u001b[0m\u001b[35m Verifique se há passes que cubram múltiplos museus que você deseja visitar. Alguns museus oferecem\u001b[0m\n",
              "\u001b[35m▌ \u001b[0m\u001b[1;33m   \u001b[0m\u001b[35mtours privados. Reserve ingressos para atrações concorridas com antecedência para evitar filas.\u001b[0m\u001b[35m             \u001b[0m\n",
              "\u001b[35m▌ \u001b[0m\u001b[1;33m • \u001b[0m\u001b[1;35mTransporte:\u001b[0m\u001b[35m Para o perfil luxuoso, táxis e Uber são convenientes. Considere usar transporte público apenas \u001b[0m\u001b[35m \u001b[0m\n",
              "\u001b[35m▌ \u001b[0m\u001b[1;33m   \u001b[0m\u001b[35mpara distâncias curtas ou áreas de tráfego intenso, se se sentir confortável.\u001b[0m\u001b[35m                               \u001b[0m\n",
              "\u001b[35m▌ \u001b[0m\u001b[1;33m • \u001b[0m\u001b[1;35mSeguro Viagem:\u001b[0m\u001b[35m Pesquise diferentes seguradoras para encontrar o plano com a melhor cobertura para seu perfil\u001b[0m\n",
              "\u001b[35m▌ \u001b[0m\u001b[1;33m   \u001b[0m\u001b[35mde viagem luxuoso e pelo melhor preço.\u001b[0m\u001b[35m                                                                      \u001b[0m\n",
              "\u001b[35m▌ \u001b[0m\u001b[35mEspero que esta estimativa detalhada ajude no planejamento da sua luxuosa viagem a Amsterdã! Se tiver mais \u001b[0m\u001b[35m    \u001b[0m\n",
              "\u001b[35m▌ \u001b[0m\u001b[35mperguntas ou quiser ajustar algum item, estou à disposição.\u001b[0m\u001b[35m                                                    \u001b[0m\n"
            ],
            "text/html": [
              "<pre style=\"white-space:pre;overflow-x:auto;line-height:normal;font-family:Menlo,'DejaVu Sans Mono',consolas,'Courier New',monospace\">\n",
              "<span style=\"color: #800080; text-decoration-color: #800080\">▌ Compreendo. Como Editor e Revisor de Conteúdo, analisei o rascunho da estimativa de custos para a viagem de    </span>\n",
              "<span style=\"color: #800080; text-decoration-color: #800080\">▌ luxo a Amsterdã. O texto está bem estruturado e contém as informações essenciais. No entanto, identifiquei     </span>\n",
              "<span style=\"color: #800080; text-decoration-color: #800080\">▌ alguns pontos que podem ser aprimorados para garantir maior clareza, correção e polidez, especialmente em      </span>\n",
              "<span style=\"color: #800080; text-decoration-color: #800080\">▌ relação à formatação de números e à precisão dos cálculos na tabela resumo.                                    </span>\n",
              "<span style=\"color: #800080; text-decoration-color: #800080\">▌ Apresento a seguir a versão revisada e corrigida:                                                              </span>\n",
              "<span style=\"color: #800080; text-decoration-color: #800080\">▌ </span><span style=\"color: #808000; text-decoration-color: #808000\">───────────────────────────────────────────────────────────────────────────────────────────────────────────────</span>\n",
              "<span style=\"color: #800080; text-decoration-color: #800080\">▌ Olá! Como especialista em cálculos de viagens internacionais de luxo, estou pronto para ajudar a planejar sua  </span>\n",
              "<span style=\"color: #800080; text-decoration-color: #800080\">▌ sofisticada estadia em Amsterdã, focando nos seus interesses em Gastronomia e Museus.                          </span>\n",
              "<span style=\"color: #800080; text-decoration-color: #800080\">▌ Com base no seu perfil (Luxuoso, 1 adulto, de 15/06/2025 a 30/06/2025), preparei uma estimativa detalhada dos  </span>\n",
              "<span style=\"color: #800080; text-decoration-color: #800080\">▌ custos, buscando as melhores opções para garantir conforto, exclusividade e experiências inesquecíveis.        </span>\n",
              "<span style=\"color: #800080; text-decoration-color: #800080\">▌ Para a sua viagem de 15 dias em Amsterdã, na Holanda, no período de 15 a 30 de junho de 2025 (alta temporada), </span>\n",
              "<span style=\"color: #800080; text-decoration-color: #800080\">▌ com foco em luxo, gastronomia e museus, apresento a seguinte estimativa de gastos:                             </span>\n",
              "<span style=\"color: #800080; text-decoration-color: #800080\">▌ </span><span style=\"color: #800080; text-decoration-color: #800080; font-weight: bold\">Taxa de Câmbio Atual (Maio/2025):</span><span style=\"color: #800080; text-decoration-color: #800080\">                                                                              </span>\n",
              "<span style=\"color: #800080; text-decoration-color: #800080\">▌ </span><span style=\"color: #808000; text-decoration-color: #808000; font-weight: bold\"> • </span><span style=\"color: #800080; text-decoration-color: #800080\">1 EUR ≈ 6,31 BRL                                                                                            </span>\n",
              "<span style=\"color: #800080; text-decoration-color: #800080\">▌ </span><span style=\"color: #808000; text-decoration-color: #808000; font-weight: bold\"> • </span><span style=\"color: #800080; text-decoration-color: #800080\">1 BRL ≈ 0,16 EUR                                                                                            </span>\n",
              "<span style=\"color: #800080; text-decoration-color: #800080\">▌ </span><span style=\"color: #800080; text-decoration-color: #800080; font-weight: bold\">Estimativa de Gastos (Valores em EUR e BRL):</span><span style=\"color: #800080; text-decoration-color: #800080\">                                                                   </span>\n",
              "<span style=\"color: #800080; text-decoration-color: #800080\">▌ É importante notar que os preços em Amsterdã, especialmente para hospedagem de luxo e refeições finas, podem   </span>\n",
              "<span style=\"color: #800080; text-decoration-color: #800080\">▌ variar significativamente dependendo da antecedência da reserva e das escolhas específicas. Os valores em BRL  </span>\n",
              "<span style=\"color: #800080; text-decoration-color: #800080\">▌ são baseados na taxa de câmbio informada e servem como referência.                                             </span>\n",
              "<span style=\"color: #800080; text-decoration-color: #800080\">▌ </span><span style=\"color: #808000; text-decoration-color: #808000; font-weight: bold\"> • </span><span style=\"color: #800080; text-decoration-color: #800080; font-weight: bold\">Voos (Classe Executiva/Primeira Classe):</span><span style=\"color: #800080; text-decoration-color: #800080\"> Pesquisas indicam voos em classe executiva de São Paulo para       </span>\n",
              "<span style=\"color: #800080; text-decoration-color: #800080\">▌ </span><span style=\"color: #808000; text-decoration-color: #808000; font-weight: bold\">   </span><span style=\"color: #800080; text-decoration-color: #800080\">Amsterdã com estimativas que se alinham ao perfil de luxo buscado. Considerando a busca por luxo, estimamos </span>\n",
              "<span style=\"color: #800080; text-decoration-color: #800080\">▌ </span><span style=\"color: #808000; text-decoration-color: #808000; font-weight: bold\">   </span><span style=\"color: #800080; text-decoration-color: #800080\">um valor médio para ida e volta em Classe Executiva: </span><span style=\"color: #800080; text-decoration-color: #800080; font-weight: bold\">Estimativa:</span><span style=\"color: #800080; text-decoration-color: #800080\"> € 3.500,00 - € 6.000,00 (R$ 22.085,00 - R$ </span>\n",
              "<span style=\"color: #800080; text-decoration-color: #800080\">▌ </span><span style=\"color: #808000; text-decoration-color: #808000; font-weight: bold\">   </span><span style=\"color: #800080; text-decoration-color: #800080\">37.860,00)                                                                                                  </span>\n",
              "<span style=\"color: #800080; text-decoration-color: #800080\">▌ </span><span style=\"color: #808000; text-decoration-color: #808000; font-weight: bold\"> • </span><span style=\"color: #800080; text-decoration-color: #800080; font-weight: bold\">Aluguel de Carro:</span><span style=\"color: #800080; text-decoration-color: #800080\"> Em Amsterdã, o transporte público é eficiente e um carro pode não ser essencial, além de o</span>\n",
              "<span style=\"color: #800080; text-decoration-color: #800080\">▌ </span><span style=\"color: #808000; text-decoration-color: #808000; font-weight: bold\">   </span><span style=\"color: #800080; text-decoration-color: #800080\">estacionamento ser caro. Para o perfil luxuoso, serviços de transporte privado por aplicativo (como Uber    </span>\n",
              "<span style=\"color: #800080; text-decoration-color: #800080\">▌ </span><span style=\"color: #808000; text-decoration-color: #808000; font-weight: bold\">   </span><span style=\"color: #800080; text-decoration-color: #800080\">Black) ou motoristas particulares são mais adequados e convenientes. </span><span style=\"color: #800080; text-decoration-color: #800080; font-weight: bold\">Estimativa:</span><span style=\"color: #800080; text-decoration-color: #800080\"> € 0,00 (Optando por        </span>\n",
              "<span style=\"color: #800080; text-decoration-color: #800080\">▌ </span><span style=\"color: #808000; text-decoration-color: #808000; font-weight: bold\">   </span><span style=\"color: #800080; text-decoration-color: #800080\">transporte privado por demanda)                                                                             </span>\n",
              "<span style=\"color: #800080; text-decoration-color: #800080\">▌ </span><span style=\"color: #808000; text-decoration-color: #808000; font-weight: bold\"> • </span><span style=\"color: #800080; text-decoration-color: #800080; font-weight: bold\">Hotéis/Hospedagem (Luxo):</span><span style=\"color: #800080; text-decoration-color: #800080\"> Hotéis 5 estrelas em Amsterdã têm diárias que podem variar bastante. Opções como  </span>\n",
              "<span style=\"color: #800080; text-decoration-color: #800080\">▌ </span><span style=\"color: #808000; text-decoration-color: #808000; font-weight: bold\">   </span><span style=\"color: #800080; text-decoration-color: #800080\">Waldorf Astoria Amsterdam (€ 1.200,00+/noite) e Pulitzer Amsterdam (€ 400,00+/noite) são exemplos. O        </span>\n",
              "<span style=\"color: #800080; text-decoration-color: #800080\">▌ </span><span style=\"color: #808000; text-decoration-color: #808000; font-weight: bold\">   </span><span style=\"color: #800080; text-decoration-color: #800080\">InterContinental Amstel Amsterdam também é uma opção de luxo com boa avaliação. Para 14 noites em um hotel  </span>\n",
              "<span style=\"color: #800080; text-decoration-color: #800080\">▌ </span><span style=\"color: #808000; text-decoration-color: #808000; font-weight: bold\">   </span><span style=\"color: #800080; text-decoration-color: #800080\">de luxo: </span><span style=\"color: #800080; text-decoration-color: #800080; font-weight: bold\">Estimativa:</span><span style=\"color: #800080; text-decoration-color: #800080\"> € 6.000,00 - € 17.000,00 (R$ 37.860,00 - R$ 107.270,00) (Variável pela localização e   </span>\n",
              "<span style=\"color: #800080; text-decoration-color: #800080\">▌ </span><span style=\"color: #808000; text-decoration-color: #808000; font-weight: bold\">   </span><span style=\"color: #800080; text-decoration-color: #800080\">exclusividade)                                                                                              </span>\n",
              "<span style=\"color: #800080; text-decoration-color: #800080\">▌ </span><span style=\"color: #808000; text-decoration-color: #808000; font-weight: bold\"> • </span><span style=\"color: #800080; text-decoration-color: #800080; font-weight: bold\">Refeições (Foco em Gastronomia):</span><span style=\"color: #800080; text-decoration-color: #800080\"> Em restaurantes sofisticados, o custo do jantar pode variar entre € 30,00 e</span>\n",
              "<span style=\"color: #800080; text-decoration-color: #800080\">▌ </span><span style=\"color: #808000; text-decoration-color: #808000; font-weight: bold\">   </span><span style=\"color: #800080; text-decoration-color: #800080\">€ 180,00 por pessoa. Considerando o foco em gastronomia de luxo, incluiremos jantares em restaurantes       </span>\n",
              "<span style=\"color: #800080; text-decoration-color: #800080\">▌ </span><span style=\"color: #808000; text-decoration-color: #808000; font-weight: bold\">   </span><span style=\"color: #800080; text-decoration-color: #800080\">renomados e almoços em locais de alta qualidade. O café da manhã pode ou não estar incluído na hospedagem.  </span>\n",
              "<span style=\"color: #800080; text-decoration-color: #800080\">▌ </span><span style=\"color: #808000; text-decoration-color: #808000; font-weight: bold\">   </span><span style=\"color: #800080; text-decoration-color: #800080\">Estimativa diária por pessoa: € 150,00 - € 300,00 (incluindo café da manhã, almoço e jantar em bons         </span>\n",
              "<span style=\"color: #800080; text-decoration-color: #800080\">▌ </span><span style=\"color: #808000; text-decoration-color: #808000; font-weight: bold\">   </span><span style=\"color: #800080; text-decoration-color: #800080\">estabelecimentos, além de bebidas e gorjetas) Para 15 dias: </span><span style=\"color: #800080; text-decoration-color: #800080; font-weight: bold\">Estimativa:</span><span style=\"color: #800080; text-decoration-color: #800080\"> € 2.250,00 - € 4.500,00 (R$         </span>\n",
              "<span style=\"color: #800080; text-decoration-color: #800080\">▌ </span><span style=\"color: #808000; text-decoration-color: #808000; font-weight: bold\">   </span><span style=\"color: #800080; text-decoration-color: #800080\">14.197,50 - R$ 28.395,00)                                                                                   </span>\n",
              "<span style=\"color: #800080; text-decoration-color: #800080\">▌ </span><span style=\"color: #808000; text-decoration-color: #808000; font-weight: bold\"> • </span><span style=\"color: #800080; text-decoration-color: #800080; font-weight: bold\">Atrações Turísticas e Atividades (Foco em Museus):</span><span style=\"color: #800080; text-decoration-color: #800080\"> Ingressos para museus renomados como o Van Gogh Museum (a</span>\n",
              "<span style=\"color: #800080; text-decoration-color: #800080\">▌ </span><span style=\"color: #808000; text-decoration-color: #808000; font-weight: bold\">   </span><span style=\"color: #800080; text-decoration-color: #800080\">partir de $40 USD, aprox. € 37,00) e Rijksmuseum (aprox. € 20,00 - € 25,00) devem ser considerados. Passeios</span>\n",
              "<span style=\"color: #800080; text-decoration-color: #800080\">▌ </span><span style=\"color: #808000; text-decoration-color: #808000; font-weight: bold\">   </span><span style=\"color: #800080; text-decoration-color: #800080\">guiados privados também são uma opção. Um passeio de barco pelos canais é uma experiência clássica e há     </span>\n",
              "<span style=\"color: #800080; text-decoration-color: #800080\">▌ </span><span style=\"color: #808000; text-decoration-color: #808000; font-weight: bold\">   </span><span style=\"color: #800080; text-decoration-color: #800080\">opções privativas a partir de € 120,00/hora ou € 250,00/hora em barcos de luxo. Incluiremos visitas a museus</span>\n",
              "<span style=\"color: #800080; text-decoration-color: #800080\">▌ </span><span style=\"color: #808000; text-decoration-color: #808000; font-weight: bold\">   </span><span style=\"color: #800080; text-decoration-color: #800080\">importantes, tours guiados privados em alguns e um passeio de barco privativo de luxo. </span><span style=\"color: #800080; text-decoration-color: #800080; font-weight: bold\">Estimativa:</span><span style=\"color: #800080; text-decoration-color: #800080\"> € 800,00 </span>\n",
              "<span style=\"color: #800080; text-decoration-color: #800080\">▌ </span><span style=\"color: #808000; text-decoration-color: #808000; font-weight: bold\">   </span><span style=\"color: #800080; text-decoration-color: #800080\">- € 1.500,00 (R$ 5.048,00 - R$ 9.465,00)                                                                    </span>\n",
              "<span style=\"color: #800080; text-decoration-color: #800080\">▌ </span><span style=\"color: #808000; text-decoration-color: #808000; font-weight: bold\"> • </span><span style=\"color: #800080; text-decoration-color: #800080; font-weight: bold\">Transporte Local (Excluindo Aluguel de Carro):</span><span style=\"color: #800080; text-decoration-color: #800080\"> Utilização de táxis, Uber ou serviços de transporte privado  </span>\n",
              "<span style=\"color: #800080; text-decoration-color: #800080\">▌ </span><span style=\"color: #808000; text-decoration-color: #808000; font-weight: bold\">   </span><span style=\"color: #800080; text-decoration-color: #800080\">para maior conforto. Um bilhete único de transporte público custa cerca de € 3,40, mas para o perfil        </span>\n",
              "<span style=\"color: #800080; text-decoration-color: #800080\">▌ </span><span style=\"color: #808000; text-decoration-color: #808000; font-weight: bold\">   </span><span style=\"color: #800080; text-decoration-color: #800080\">luxuoso, o uso será mínimo. </span><span style=\"color: #800080; text-decoration-color: #800080; font-weight: bold\">Estimativa:</span><span style=\"color: #800080; text-decoration-color: #800080\"> € 300,00 - € 600,00 (R$ 1.893,00 - R$ 3.786,00) (Considerando uso   </span>\n",
              "<span style=\"color: #800080; text-decoration-color: #800080\">▌ </span><span style=\"color: #808000; text-decoration-color: #808000; font-weight: bold\">   </span><span style=\"color: #800080; text-decoration-color: #800080\">frequente de táxis/Uber)                                                                                    </span>\n",
              "<span style=\"color: #800080; text-decoration-color: #800080\">▌ </span><span style=\"color: #808000; text-decoration-color: #808000; font-weight: bold\"> • </span><span style=\"color: #800080; text-decoration-color: #800080; font-weight: bold\">Seguro Viagem:</span><span style=\"color: #800080; text-decoration-color: #800080\"> O seguro viagem é obrigatório para entrada na Europa (Espaço Schengen) com cobertura mínima  </span>\n",
              "<span style=\"color: #800080; text-decoration-color: #800080\">▌ </span><span style=\"color: #808000; text-decoration-color: #808000; font-weight: bold\">   </span><span style=\"color: #800080; text-decoration-color: #800080\">de € 30.000,00 para despesas médicas. Planos com coberturas mais abrangentes são recomendados para o perfil </span>\n",
              "<span style=\"color: #800080; text-decoration-color: #800080\">▌ </span><span style=\"color: #808000; text-decoration-color: #808000; font-weight: bold\">   </span><span style=\"color: #800080; text-decoration-color: #800080\">luxuoso. </span><span style=\"color: #800080; text-decoration-color: #800080; font-weight: bold\">Estimativa:</span><span style=\"color: #800080; text-decoration-color: #800080\"> € 150,00 - € 300,00 (R$ 946,50 - R$ 1.893,00) (Para 15 dias com boa cobertura)         </span>\n",
              "<span style=\"color: #800080; text-decoration-color: #800080\">▌ </span><span style=\"color: #808000; text-decoration-color: #808000; font-weight: bold\"> • </span><span style=\"color: #800080; text-decoration-color: #800080; font-weight: bold\">Visto e Taxas de Entrada:</span><span style=\"color: #800080; text-decoration-color: #800080\"> Brasileiros não precisam de visto para estadias de até 90 dias na Holanda (Espaço </span>\n",
              "<span style=\"color: #800080; text-decoration-color: #800080\">▌ </span><span style=\"color: #808000; text-decoration-color: #808000; font-weight: bold\">   </span><span style=\"color: #800080; text-decoration-color: #800080\">Schengen) para turismo. A partir de 2026, será exigida a autorização ETIAS. </span><span style=\"color: #800080; text-decoration-color: #800080; font-weight: bold\">Estimativa:</span><span style=\"color: #800080; text-decoration-color: #800080\"> € 0,00 (Para entrada</span>\n",
              "<span style=\"color: #800080; text-decoration-color: #800080\">▌ </span><span style=\"color: #808000; text-decoration-color: #808000; font-weight: bold\">   </span><span style=\"color: #800080; text-decoration-color: #800080\">em junho de 2025)                                                                                           </span>\n",
              "<span style=\"color: #800080; text-decoration-color: #800080\">▌ </span><span style=\"color: #808000; text-decoration-color: #808000; font-weight: bold\"> • </span><span style=\"color: #800080; text-decoration-color: #800080; font-weight: bold\">Comunicações:</span><span style=\"color: #800080; text-decoration-color: #800080\"> Compra de chip local ou eSIM internacional para acesso à internet e ligações. Há opções de    </span>\n",
              "<span style=\"color: #800080; text-decoration-color: #800080\">▌ </span><span style=\"color: #808000; text-decoration-color: #808000; font-weight: bold\">   </span><span style=\"color: #800080; text-decoration-color: #800080\">eSIM para Europa com dados ilimitados para 15 dias por cerca de US$ 45,00 (aprox. € 42,00). </span><span style=\"color: #800080; text-decoration-color: #800080; font-weight: bold\">Estimativa:</span><span style=\"color: #800080; text-decoration-color: #800080\"> €   </span>\n",
              "<span style=\"color: #800080; text-decoration-color: #800080\">▌ </span><span style=\"color: #808000; text-decoration-color: #808000; font-weight: bold\">   </span><span style=\"color: #800080; text-decoration-color: #800080\">50,00 - € 100,00 (R$ 315,50 - R$ 631,00)                                                                    </span>\n",
              "<span style=\"color: #800080; text-decoration-color: #800080\">▌ </span><span style=\"color: #808000; text-decoration-color: #808000; font-weight: bold\"> • </span><span style=\"color: #800080; text-decoration-color: #800080; font-weight: bold\">Emergências/Imprevistos:</span><span style=\"color: #800080; text-decoration-color: #800080\"> Uma reserva de 10-15% do subtotal é prudente para gastos não planejados. Calculamos</span>\n",
              "<span style=\"color: #800080; text-decoration-color: #800080\">▌ </span><span style=\"color: #808000; text-decoration-color: #808000; font-weight: bold\">   </span><span style=\"color: #800080; text-decoration-color: #800080\">10% sobre a soma das estimativas mínimas e máximas das categorias anteriores, respectivamente. </span><span style=\"color: #800080; text-decoration-color: #800080; font-weight: bold\">Estimativa:</span><span style=\"color: #800080; text-decoration-color: #800080\"> €</span>\n",
              "<span style=\"color: #800080; text-decoration-color: #800080\">▌ </span><span style=\"color: #808000; text-decoration-color: #808000; font-weight: bold\">   </span><span style=\"color: #800080; text-decoration-color: #800080\">1.305,00 - € 3.000,00 (R$ 8.233,55 - R$ 18.930,00)                                                          </span>\n",
              "<span style=\"color: #800080; text-decoration-color: #800080\">▌ </span><span style=\"color: #808000; text-decoration-color: #808000; font-weight: bold\"> • </span><span style=\"color: #800080; text-decoration-color: #800080; font-weight: bold\">Compras/Souvenirs:</span><span style=\"color: #800080; text-decoration-color: #800080\"> Orçamento pessoal para compras. </span><span style=\"color: #800080; text-decoration-color: #800080; font-weight: bold\">Estimativa:</span><span style=\"color: #800080; text-decoration-color: #800080\"> € 500,00 - € 2.000,00+ (R$ 3.155,00 - R$     </span>\n",
              "<span style=\"color: #800080; text-decoration-color: #800080\">▌ </span><span style=\"color: #808000; text-decoration-color: #808000; font-weight: bold\">   </span><span style=\"color: #800080; text-decoration-color: #800080\">12.620,00+) (Altamente variável)                                                                            </span>\n",
              "<span style=\"color: #800080; text-decoration-color: #800080\">▌ </span><span style=\"color: #808000; text-decoration-color: #808000; font-weight: bold\"> • </span><span style=\"color: #800080; text-decoration-color: #800080; font-weight: bold\">Outros:</span><span style=\"color: #800080; text-decoration-color: #800080\"> Gorjetas adicionais (além das incluídas em refeições de luxo), pequenos gastos diversos, etc.       </span>\n",
              "<span style=\"color: #800080; text-decoration-color: #800080\">▌ </span><span style=\"color: #808000; text-decoration-color: #808000; font-weight: bold\">   </span><span style=\"color: #800080; text-decoration-color: #800080; font-weight: bold\">Estimativa:</span><span style=\"color: #800080; text-decoration-color: #800080\"> € 200,00 - € 500,00 (R$ 1.262,00 - R$ 3.155,00)                                                 </span>\n",
              "<span style=\"color: #800080; text-decoration-color: #800080\">▌ </span><span style=\"color: #800080; text-decoration-color: #800080; font-weight: bold\">Resumo da Estimativa (por pessoa, 15 dias):</span><span style=\"color: #800080; text-decoration-color: #800080\">                                                                    </span>\n",
              "<span style=\"color: #800080; text-decoration-color: #800080\">▌                                                                                                                </span>\n",
              "<span style=\"color: #800080; text-decoration-color: #800080\">▌  </span><span style=\"color: #800080; text-decoration-color: #800080; font-weight: bold\">                     </span><span style=\"color: #800080; text-decoration-color: #800080\"> </span><span style=\"color: #800080; text-decoration-color: #800080; font-weight: bold\"> Estimativa Mínima   </span><span style=\"color: #800080; text-decoration-color: #800080\"> </span><span style=\"color: #800080; text-decoration-color: #800080; font-weight: bold\"> Estimativa Máxima   </span><span style=\"color: #800080; text-decoration-color: #800080\"> </span><span style=\"color: #800080; text-decoration-color: #800080; font-weight: bold\"> Estimativa Mínima   </span><span style=\"color: #800080; text-decoration-color: #800080\"> </span><span style=\"color: #800080; text-decoration-color: #800080; font-weight: bold\"> Estimativa Máxima   </span><span style=\"color: #800080; text-decoration-color: #800080\"> </span>\n",
              "<span style=\"color: #800080; text-decoration-color: #800080\">▌  </span><span style=\"color: #800080; text-decoration-color: #800080; font-weight: bold\"> Categoria           </span><span style=\"color: #800080; text-decoration-color: #800080\"> </span><span style=\"color: #800080; text-decoration-color: #800080; font-weight: bold\"> (EUR)               </span><span style=\"color: #800080; text-decoration-color: #800080\"> </span><span style=\"color: #800080; text-decoration-color: #800080; font-weight: bold\"> (EUR)               </span><span style=\"color: #800080; text-decoration-color: #800080\"> </span><span style=\"color: #800080; text-decoration-color: #800080; font-weight: bold\"> (BRL)               </span><span style=\"color: #800080; text-decoration-color: #800080\"> </span><span style=\"color: #800080; text-decoration-color: #800080; font-weight: bold\"> (BRL)               </span><span style=\"color: #800080; text-decoration-color: #800080\"> </span>\n",
              "<span style=\"color: #800080; text-decoration-color: #800080\">▌  ━━━━━━━━━━━━━━━━━━━━━━━━━━━━━━━━━━━━━━━━━━━━━━━━━━━━━━━━━━━━━━━━━━━━━━━━━━━━━━━━━━━━━━━━━━━━━━━━━━━━━━━━━━━━━ </span>\n",
              "<span style=\"color: #800080; text-decoration-color: #800080\">▌   Voos                  3.500,00              6.000,00              22.085,00             37.860,00            </span>\n",
              "<span style=\"color: #800080; text-decoration-color: #800080\">▌   Aluguel de Carro      0,00                  0,00                  0,00                  0,00                 </span>\n",
              "<span style=\"color: #800080; text-decoration-color: #800080\">▌   Hotéis/Hospedagem     6.000,00              17.000,00             37.860,00             107.270,00           </span>\n",
              "<span style=\"color: #800080; text-decoration-color: #800080\">▌   Refeições             2.250,00              4.500,00              14.197,50             28.395,00            </span>\n",
              "<span style=\"color: #800080; text-decoration-color: #800080\">▌   Atrações e            800,00                1.500,00              5.048,00              9.465,00             </span>\n",
              "<span style=\"color: #800080; text-decoration-color: #800080\">▌   Atividades                                                                                                   </span>\n",
              "<span style=\"color: #800080; text-decoration-color: #800080\">▌   Transporte Local      300,00                600,00                1.893,00              3.786,00             </span>\n",
              "<span style=\"color: #800080; text-decoration-color: #800080\">▌   Seguro Viagem         150,00                300,00                946,50                1.893,00             </span>\n",
              "<span style=\"color: #800080; text-decoration-color: #800080\">▌   Visto e Taxas de      0,00                  0,00                  0,00                  0,00                 </span>\n",
              "<span style=\"color: #800080; text-decoration-color: #800080\">▌   Entrada                                                                                                      </span>\n",
              "<span style=\"color: #800080; text-decoration-color: #800080\">▌   Comunicações          50,00                 100,00                315,50                631,00               </span>\n",
              "<span style=\"color: #800080; text-decoration-color: #800080\">▌   Emergências/Imprev…   1.305,00              3.000,00              8.233,55              18.930,00            </span>\n",
              "<span style=\"color: #800080; text-decoration-color: #800080\">▌   Compras/Souvenirs     500,00                2.000,00              3.155,00              12.620,00            </span>\n",
              "<span style=\"color: #800080; text-decoration-color: #800080\">▌   Outros                200,00                500,00                1.262,00              3.155,00             </span>\n",
              "<span style=\"color: #800080; text-decoration-color: #800080\">▌   </span><span style=\"color: #800080; text-decoration-color: #800080; font-weight: bold\">Total Estimado </span><span style=\"color: #800080; text-decoration-color: #800080\">       </span><span style=\"color: #800080; text-decoration-color: #800080; font-weight: bold\">15.055,00</span><span style=\"color: #800080; text-decoration-color: #800080\">             </span><span style=\"color: #800080; text-decoration-color: #800080; font-weight: bold\">35.500,00</span><span style=\"color: #800080; text-decoration-color: #800080\">                                                        </span>\n",
              "<span style=\"color: #800080; text-decoration-color: #800080\">▌   </span><span style=\"color: #800080; text-decoration-color: #800080; font-weight: bold\">(EUR)</span><span style=\"color: #800080; text-decoration-color: #800080\">                                                                                                        </span>\n",
              "<span style=\"color: #800080; text-decoration-color: #800080\">▌   </span><span style=\"color: #800080; text-decoration-color: #800080; font-weight: bold\">Total Estimado </span><span style=\"color: #800080; text-decoration-color: #800080\">                                                   </span><span style=\"color: #800080; text-decoration-color: #800080; font-weight: bold\">95.097,05</span><span style=\"color: #800080; text-decoration-color: #800080\">             </span><span style=\"color: #800080; text-decoration-color: #800080; font-weight: bold\">224.005,00</span><span style=\"color: #800080; text-decoration-color: #800080\">           </span>\n",
              "<span style=\"color: #800080; text-decoration-color: #800080\">▌   </span><span style=\"color: #800080; text-decoration-color: #800080; font-weight: bold\">(BRL)</span><span style=\"color: #800080; text-decoration-color: #800080\">                                                                                                        </span>\n",
              "<span style=\"color: #800080; text-decoration-color: #800080\">▌                                                                                                                </span>\n",
              "<span style=\"color: #800080; text-decoration-color: #800080\">▌ </span><span style=\"color: #800080; text-decoration-color: #800080; font-weight: bold\">Observações:</span><span style=\"color: #800080; text-decoration-color: #800080\">                                                                                                   </span>\n",
              "<span style=\"color: #800080; text-decoration-color: #800080\">▌ </span><span style=\"color: #808000; text-decoration-color: #808000; font-weight: bold\"> • </span><span style=\"color: #800080; text-decoration-color: #800080\">Os valores apresentados são estimativas e podem variar. A alta temporada em junho pode impactar os preços de</span>\n",
              "<span style=\"color: #800080; text-decoration-color: #800080\">▌ </span><span style=\"color: #808000; text-decoration-color: #808000; font-weight: bold\">   </span><span style=\"color: #800080; text-decoration-color: #800080\">voos e hospedagem.                                                                                          </span>\n",
              "<span style=\"color: #800080; text-decoration-color: #800080\">▌ </span><span style=\"color: #808000; text-decoration-color: #808000; font-weight: bold\"> • </span><span style=\"color: #800080; text-decoration-color: #800080\">A cotação do Euro para o Real pode flutuar, impactando o custo final em BRL.                                </span>\n",
              "<span style=\"color: #800080; text-decoration-color: #800080\">▌ </span><span style=\"color: #808000; text-decoration-color: #808000; font-weight: bold\"> • </span><span style=\"color: #800080; text-decoration-color: #800080\">Este orçamento considera um estilo de viagem luxuoso, com foco em experiências de alta qualidade em         </span>\n",
              "<span style=\"color: #800080; text-decoration-color: #800080\">▌ </span><span style=\"color: #808000; text-decoration-color: #808000; font-weight: bold\">   </span><span style=\"color: #800080; text-decoration-color: #800080\">gastronomia e museus.                                                                                       </span>\n",
              "<span style=\"color: #800080; text-decoration-color: #800080\">▌ </span><span style=\"color: #808000; text-decoration-color: #808000; font-weight: bold\"> • </span><span style=\"color: #800080; text-decoration-color: #800080\">É sempre recomendável fazer reservas com antecedência, especialmente para voos e hotéis de luxo durante a   </span>\n",
              "<span style=\"color: #800080; text-decoration-color: #800080\">▌ </span><span style=\"color: #808000; text-decoration-color: #808000; font-weight: bold\">   </span><span style=\"color: #800080; text-decoration-color: #800080\">alta temporada.                                                                                             </span>\n",
              "<span style=\"color: #800080; text-decoration-color: #800080\">▌ </span><span style=\"color: #800080; text-decoration-color: #800080; font-weight: bold\">Dicas de Economia e Personalização:</span><span style=\"color: #800080; text-decoration-color: #800080\">                                                                            </span>\n",
              "<span style=\"color: #800080; text-decoration-color: #800080\">▌ </span><span style=\"color: #808000; text-decoration-color: #808000; font-weight: bold\"> • </span><span style=\"color: #800080; text-decoration-color: #800080; font-weight: bold\">Voos:</span><span style=\"color: #800080; text-decoration-color: #800080\"> Considere voos com escalas se o conforto da classe executiva/primeira classe for prioritário e o tempo</span>\n",
              "<span style=\"color: #800080; text-decoration-color: #800080\">▌ </span><span style=\"color: #808000; text-decoration-color: #808000; font-weight: bold\">   </span><span style=\"color: #800080; text-decoration-color: #800080\">de viagem menos crítico. Pesquisar em diferentes companhias aéreas e datas flexíveis pode gerar economia.   </span>\n",
              "<span style=\"color: #800080; text-decoration-color: #800080\">▌ </span><span style=\"color: #808000; text-decoration-color: #808000; font-weight: bold\"> • </span><span style=\"color: #800080; text-decoration-color: #800080; font-weight: bold\">Hospedagem:</span><span style=\"color: #800080; text-decoration-color: #800080\"> Pesquisar hotéis de luxo com promoções para estadias mais longas ou pacotes que incluam café da </span>\n",
              "<span style=\"color: #800080; text-decoration-color: #800080\">▌ </span><span style=\"color: #808000; text-decoration-color: #808000; font-weight: bold\">   </span><span style=\"color: #800080; text-decoration-color: #800080\">manhã ou outros serviços. Considere a localização em relação aos seus interesses para otimizar o transporte.</span>\n",
              "<span style=\"color: #800080; text-decoration-color: #800080\">▌ </span><span style=\"color: #808000; text-decoration-color: #808000; font-weight: bold\"> • </span><span style=\"color: #800080; text-decoration-color: #800080; font-weight: bold\">Refeições:</span><span style=\"color: #800080; text-decoration-color: #800080\"> Embora o foco seja gastronomia de luxo, alternar com algumas refeições em bistrôs ou restaurantes</span>\n",
              "<span style=\"color: #800080; text-decoration-color: #800080\">▌ </span><span style=\"color: #808000; text-decoration-color: #808000; font-weight: bold\">   </span><span style=\"color: #800080; text-decoration-color: #800080\">de alta qualidade, mas não necessariamente \"estrelados\", pode gerar economia sem comprometer a experiência. </span>\n",
              "<span style=\"color: #800080; text-decoration-color: #800080\">▌ </span><span style=\"color: #808000; text-decoration-color: #808000; font-weight: bold\">   </span><span style=\"color: #800080; text-decoration-color: #800080\">Experimentar mercados locais e iguarias de rua de alta qualidade também pode ser interessante.              </span>\n",
              "<span style=\"color: #800080; text-decoration-color: #800080\">▌ </span><span style=\"color: #808000; text-decoration-color: #808000; font-weight: bold\"> • </span><span style=\"color: #800080; text-decoration-color: #800080; font-weight: bold\">Atrações:</span><span style=\"color: #800080; text-decoration-color: #800080\"> Verifique se há passes que cubram múltiplos museus que você deseja visitar. Alguns museus oferecem</span>\n",
              "<span style=\"color: #800080; text-decoration-color: #800080\">▌ </span><span style=\"color: #808000; text-decoration-color: #808000; font-weight: bold\">   </span><span style=\"color: #800080; text-decoration-color: #800080\">tours privados. Reserve ingressos para atrações concorridas com antecedência para evitar filas.             </span>\n",
              "<span style=\"color: #800080; text-decoration-color: #800080\">▌ </span><span style=\"color: #808000; text-decoration-color: #808000; font-weight: bold\"> • </span><span style=\"color: #800080; text-decoration-color: #800080; font-weight: bold\">Transporte:</span><span style=\"color: #800080; text-decoration-color: #800080\"> Para o perfil luxuoso, táxis e Uber são convenientes. Considere usar transporte público apenas  </span>\n",
              "<span style=\"color: #800080; text-decoration-color: #800080\">▌ </span><span style=\"color: #808000; text-decoration-color: #808000; font-weight: bold\">   </span><span style=\"color: #800080; text-decoration-color: #800080\">para distâncias curtas ou áreas de tráfego intenso, se se sentir confortável.                               </span>\n",
              "<span style=\"color: #800080; text-decoration-color: #800080\">▌ </span><span style=\"color: #808000; text-decoration-color: #808000; font-weight: bold\"> • </span><span style=\"color: #800080; text-decoration-color: #800080; font-weight: bold\">Seguro Viagem:</span><span style=\"color: #800080; text-decoration-color: #800080\"> Pesquise diferentes seguradoras para encontrar o plano com a melhor cobertura para seu perfil</span>\n",
              "<span style=\"color: #800080; text-decoration-color: #800080\">▌ </span><span style=\"color: #808000; text-decoration-color: #808000; font-weight: bold\">   </span><span style=\"color: #800080; text-decoration-color: #800080\">de viagem luxuoso e pelo melhor preço.                                                                      </span>\n",
              "<span style=\"color: #800080; text-decoration-color: #800080\">▌ Espero que esta estimativa detalhada ajude no planejamento da sua luxuosa viagem a Amsterdã! Se tiver mais     </span>\n",
              "<span style=\"color: #800080; text-decoration-color: #800080\">▌ perguntas ou quiser ajustar algum item, estou à disposição.                                                    </span>\n",
              "</pre>\n"
            ]
          },
          "metadata": {}
        },
        {
          "output_type": "display_data",
          "data": {
            "text/plain": [
              "\u001b[35m▌ \u001b[0m\u001b[33m───────────────────────────────────────────────────────────────────────────────────────────────────────────────\u001b[0m\n"
            ],
            "text/html": [
              "<pre style=\"white-space:pre;overflow-x:auto;line-height:normal;font-family:Menlo,'DejaVu Sans Mono',consolas,'Courier New',monospace\"><span style=\"color: #800080; text-decoration-color: #800080\">▌ </span><span style=\"color: #808000; text-decoration-color: #808000\">───────────────────────────────────────────────────────────────────────────────────────────────────────────────</span>\n",
              "</pre>\n"
            ]
          },
          "metadata": {}
        },
        {
          "output_type": "display_data",
          "data": {
            "text/plain": [
              "\n",
              "\u001b[35m▌ \u001b[0m\u001b[35mDicas financeiras para pagar com moeda estrangeira\u001b[0m\u001b[35m                                                             \u001b[0m\n"
            ],
            "text/html": [
              "<pre style=\"white-space:pre;overflow-x:auto;line-height:normal;font-family:Menlo,'DejaVu Sans Mono',consolas,'Courier New',monospace\">\n",
              "<span style=\"color: #800080; text-decoration-color: #800080\">▌ Dicas financeiras para pagar com moeda estrangeira                                                             </span>\n",
              "</pre>\n"
            ]
          },
          "metadata": {}
        },
        {
          "output_type": "display_data",
          "data": {
            "text/plain": [
              "\u001b[35m▌ \u001b[0m\u001b[33m───────────────────────────────────────────────────────────────────────────────────────────────────────────────\u001b[0m\n"
            ],
            "text/html": [
              "<pre style=\"white-space:pre;overflow-x:auto;line-height:normal;font-family:Menlo,'DejaVu Sans Mono',consolas,'Courier New',monospace\"><span style=\"color: #800080; text-decoration-color: #800080\">▌ </span><span style=\"color: #808000; text-decoration-color: #808000\">───────────────────────────────────────────────────────────────────────────────────────────────────────────────</span>\n",
              "</pre>\n"
            ]
          },
          "metadata": {}
        },
        {
          "output_type": "display_data",
          "data": {
            "text/plain": [
              "\n",
              "\u001b[35m▌ \u001b[0m\u001b[35mComo especialista em câmbio da Viktap, entendo a sua necessidade de encontrar a melhor forma de converter seu \u001b[0m\u001b[35m \u001b[0m\n",
              "\u001b[35m▌ \u001b[0m\u001b[35mdinheiro para utilizar em Amsterdam. Existem diversas opções, cada uma com suas particularidades em termos de \u001b[0m\u001b[35m \u001b[0m\n",
              "\u001b[35m▌ \u001b[0m\u001b[35mcustos, praticidade e segurança.\u001b[0m\u001b[35m                                                                               \u001b[0m\n",
              "\u001b[35m▌ \u001b[0m\u001b[1;35mAnalisando as opções:\u001b[0m\u001b[35m                                                                                          \u001b[0m\n",
              "\u001b[35m▌ \u001b[0m\u001b[1;33m • \u001b[0m\u001b[1;35mCartão de Crédito Internacional:\u001b[0m\u001b[35m Amplamente aceito, oferece praticidade e segurança. No entanto, geralmente \u001b[0m\n",
              "\u001b[35m▌ \u001b[0m\u001b[1;33m   \u001b[0m\u001b[35mpossui taxas de câmbio menos favoráveis (câmbio turismo) e a incidência de IOF de 3,38%, que pode tornar as \u001b[0m\n",
              "\u001b[35m▌ \u001b[0m\u001b[1;33m   \u001b[0m\u001b[35mtransações mais caras. Além disso, a cotação do câmbio é definida apenas no fechamento da fatura, o que pode\u001b[0m\n",
              "\u001b[35m▌ \u001b[0m\u001b[1;33m   \u001b[0m\u001b[35mgerar surpresas devido à volatilidade da moeda.\u001b[0m\u001b[35m                                                             \u001b[0m\n",
              "\u001b[35m▌ \u001b[0m\u001b[1;33m • \u001b[0m\u001b[1;35mCartão de Débito Internacional:\u001b[0m\u001b[35m Uma opção que se tornou bastante vantajosa com o surgimento das contas \u001b[0m\u001b[35m     \u001b[0m\n",
              "\u001b[35m▌ \u001b[0m\u001b[1;33m   \u001b[0m\u001b[35mglobais oferecidas por fintechs e bancos digitais. O IOF é reduzido para 1,1% no momento da carga ou \u001b[0m\u001b[35m       \u001b[0m\n",
              "\u001b[35m▌ \u001b[0m\u001b[1;33m   \u001b[0m\u001b[35mconversão do dinheiro para a moeda estrangeira, e o câmbio utilizado costuma ser o comercial, mais próximo \u001b[0m\u001b[35m \u001b[0m\n",
              "\u001b[35m▌ \u001b[0m\u001b[1;33m   \u001b[0m\u001b[35mdo valor de mercado. Funciona como um cartão de débito comum, descontando o valor diretamente do saldo \u001b[0m\u001b[35m     \u001b[0m\n",
              "\u001b[35m▌ \u001b[0m\u001b[1;33m   \u001b[0m\u001b[35mdisponível na conta internacional. Empresas como Wise, Nomad, Revolut e C6 Bank oferecem essa modalidade.\u001b[0m\u001b[35m   \u001b[0m\n",
              "\u001b[35m▌ \u001b[0m\u001b[1;33m • \u001b[0m\u001b[1;35mCartão Pré-pago Internacional:\u001b[0m\u001b[35m Similar ao cartão de débito internacional, permite carregar um saldo na moeda\u001b[0m\n",
              "\u001b[35m▌ \u001b[0m\u001b[1;33m   \u001b[0m\u001b[35mestrangeira antes de viajar. Ajuda no controle dos gastos, pois você fica limitado ao valor carregado. Assim\u001b[0m\n",
              "\u001b[35m▌ \u001b[0m\u001b[1;33m   \u001b[0m\u001b[35mcomo o cartão de débito internacional, o IOF na carga é de 1,1%. É aceito em milhões de estabelecimentos no \u001b[0m\n",
              "\u001b[35m▌ \u001b[0m\u001b[1;33m   \u001b[0m\u001b[35mexterior.\u001b[0m\u001b[35m                                                                                                   \u001b[0m\n",
              "\u001b[35m▌ \u001b[0m\u001b[1;33m • \u001b[0m\u001b[1;35mRemessa para Conta no Estrangeiro:\u001b[0m\u001b[35m Enviar dinheiro para uma conta em outro país pode ser uma opção para \u001b[0m\u001b[35m    \u001b[0m\n",
              "\u001b[35m▌ \u001b[0m\u001b[1;33m   \u001b[0m\u001b[35mquantias maiores ou para quem já possui conta no exterior. Empresas de remessa online geralmente oferecem \u001b[0m\u001b[35m  \u001b[0m\n",
              "\u001b[35m▌ \u001b[0m\u001b[1;33m   \u001b[0m\u001b[35mtaxas competitivas e o IOF para envio para conta de mesma titularidade é de 1,1%. O tempo para o dinheiro \u001b[0m\u001b[35m  \u001b[0m\n",
              "\u001b[35m▌ \u001b[0m\u001b[1;33m   \u001b[0m\u001b[35mcair na conta pode variar.\u001b[0m\u001b[35m                                                                                  \u001b[0m\n",
              "\u001b[35m▌ \u001b[0m\u001b[1;33m • \u001b[0m\u001b[1;35mPIX:\u001b[0m\u001b[35m O PIX é um sistema de pagamento instantâneo brasileiro. No momento, o Pix tradicional permite operações\u001b[0m\n",
              "\u001b[35m▌ \u001b[0m\u001b[1;33m   \u001b[0m\u001b[35mapenas entre contas no Brasil. No entanto, o Banco Central do Brasil está estudando a implementação do \"Pix \u001b[0m\n",
              "\u001b[35m▌ \u001b[0m\u001b[1;33m   \u001b[0m\u001b[35mInternacional\" para transferências para contas no exterior.\u001b[0m\u001b[35m                                                 \u001b[0m\n",
              "\u001b[35m▌ \u001b[0m\u001b[1;35mPIX e Viktap:\u001b[0m\u001b[35m                                                                                                  \u001b[0m\n",
              "\u001b[35m▌ \u001b[0m\u001b[35mConforme sua consulta sobre o Pix e a Viktap, verificamos no site https://viktap.com.br/ que a Viktap atua como\u001b[0m\n",
              "\u001b[35m▌ \u001b[0m\u001b[35muma rede de pagamento instantâneo global que permite que brasileiros efetuem pagamentos instantâneos, \u001b[0m\u001b[35m         \u001b[0m\n",
              "\u001b[35m▌ \u001b[0m\u001b[35mdiretamente de sua conta bancária no Brasil, em qualquer lugar do mundo. A solução da Viktap visa a \u001b[0m\u001b[35m           \u001b[0m\n",
              "\u001b[35m▌ \u001b[0m\u001b[35mtransformação do recebimento de estrangeiros, permitindo que lojistas recebam Pix de brasileiros em qualquer \u001b[0m\u001b[35m  \u001b[0m\n",
              "\u001b[35m▌ \u001b[0m\u001b[35mlugar do mundo. O cliente paga em reais, a conversão para euros é visível no momento do pagamento, e o \u001b[0m\u001b[35m        \u001b[0m\n",
              "\u001b[35m▌ \u001b[0m\u001b[35mcomerciante recebe o valor em euros. As transações são conectadas a grandes instituições financeiras, sendo \u001b[0m\u001b[35m   \u001b[0m\n",
              "\u001b[35m▌ \u001b[0m\u001b[35mseguras, rápidas e confiáveis. Para o cliente, os benefícios incluem taxas de câmbio competitivas, IOF reduzido\u001b[0m\n",
              "\u001b[35m▌ \u001b[0m\u001b[35m(isenção de IOF na operação de PIX), e a praticidade de utilizar um sistema popular no Brasil sem a necessidade\u001b[0m\n",
              "\u001b[35m▌ \u001b[0m\u001b[35mde realizar câmbio antes ou durante a viagem, visualizando o valor em reais antes de pagar.\u001b[0m\u001b[35m                    \u001b[0m\n",
              "\u001b[35m▌ \u001b[0m\u001b[1;35mRecomendação:\u001b[0m\u001b[35m                                                                                                  \u001b[0m\n",
              "\u001b[35m▌ \u001b[0m\u001b[35mConsiderando os custos (IOF e câmbio) e a praticidade para uma viagem de turismo, as opções mais vantajosas \u001b[0m\u001b[35m   \u001b[0m\n",
              "\u001b[35m▌ \u001b[0m\u001b[35mcostumam ser o \u001b[0m\u001b[1;35mcartão de débito internacional (conta global) e o cartão pré-pago internacional\u001b[0m\u001b[35m. Ambos oferecem \u001b[0m\n",
              "\u001b[35m▌ \u001b[0m\u001b[35mIOF reduzido (1,1%) em comparação com o cartão de crédito (3,38%) e geralmente utilizam uma taxa de câmbio mais\u001b[0m\n",
              "\u001b[35m▌ \u001b[0m\u001b[35mfavorável (comercial).\u001b[0m\u001b[35m                                                                                         \u001b[0m\n",
              "\u001b[35m▌ \u001b[0m\u001b[35mA escolha entre cartão de débito internacional e pré-pago dependerá do seu perfil. O cartão de débito \u001b[0m\u001b[35m         \u001b[0m\n",
              "\u001b[35m▌ \u001b[0m\u001b[35minternacional atrelado a uma conta global permite gerenciar o dinheiro de forma mais integrada com outros \u001b[0m\u001b[35m     \u001b[0m\n",
              "\u001b[35m▌ \u001b[0m\u001b[35mserviços financeiros, enquanto o pré-pago é ideal para controlar os gastos limitando-se ao valor carregado.\u001b[0m\u001b[35m    \u001b[0m\n",
              "\u001b[35m▌ \u001b[0m\u001b[35mA remessa para conta no estrangeiro é mais indicada para grandes valores ou para quem já possui estrutura \u001b[0m\u001b[35m     \u001b[0m\n",
              "\u001b[35m▌ \u001b[0m\u001b[35mbancária no destino.\u001b[0m\u001b[35m                                                                                           \u001b[0m\n",
              "\u001b[35m▌ \u001b[0m\u001b[35mO uso do cartão de crédito internacional deve ser considerado mais como uma opção para emergências, devido aos \u001b[0m\n",
              "\u001b[35m▌ \u001b[0m\u001b[35mcustos mais elevados.\u001b[0m\u001b[35m                                                                                          \u001b[0m\n",
              "\u001b[35m▌ \u001b[0m\u001b[35mO Pix tradicional, por enquanto, não permite pagamentos diretos no exterior. No entanto, soluções como a \u001b[0m\u001b[35m      \u001b[0m\n",
              "\u001b[35m▌ \u001b[0m\u001b[35moferecida pela Viktap demonstram o potencial do Pix Internacional para facilitar pagamentos de brasileiros em \u001b[0m\u001b[35m \u001b[0m\n",
              "\u001b[35m▌ \u001b[0m\u001b[35mestabelecimentos no exterior, com benefícios em termos de custo e praticidade para o cliente.\u001b[0m\u001b[35m                  \u001b[0m\n",
              "\u001b[35m▌ \u001b[0m\u001b[35mÉ sempre recomendável pesquisar as taxas e condições específicas de cada instituição financeira ou fintech \u001b[0m\u001b[35m    \u001b[0m\n",
              "\u001b[35m▌ \u001b[0m\u001b[35mantes de tomar sua decisão.\u001b[0m\u001b[35m                                                                                    \u001b[0m\n"
            ],
            "text/html": [
              "<pre style=\"white-space:pre;overflow-x:auto;line-height:normal;font-family:Menlo,'DejaVu Sans Mono',consolas,'Courier New',monospace\">\n",
              "<span style=\"color: #800080; text-decoration-color: #800080\">▌ Como especialista em câmbio da Viktap, entendo a sua necessidade de encontrar a melhor forma de converter seu  </span>\n",
              "<span style=\"color: #800080; text-decoration-color: #800080\">▌ dinheiro para utilizar em Amsterdam. Existem diversas opções, cada uma com suas particularidades em termos de  </span>\n",
              "<span style=\"color: #800080; text-decoration-color: #800080\">▌ custos, praticidade e segurança.                                                                               </span>\n",
              "<span style=\"color: #800080; text-decoration-color: #800080\">▌ </span><span style=\"color: #800080; text-decoration-color: #800080; font-weight: bold\">Analisando as opções:</span><span style=\"color: #800080; text-decoration-color: #800080\">                                                                                          </span>\n",
              "<span style=\"color: #800080; text-decoration-color: #800080\">▌ </span><span style=\"color: #808000; text-decoration-color: #808000; font-weight: bold\"> • </span><span style=\"color: #800080; text-decoration-color: #800080; font-weight: bold\">Cartão de Crédito Internacional:</span><span style=\"color: #800080; text-decoration-color: #800080\"> Amplamente aceito, oferece praticidade e segurança. No entanto, geralmente </span>\n",
              "<span style=\"color: #800080; text-decoration-color: #800080\">▌ </span><span style=\"color: #808000; text-decoration-color: #808000; font-weight: bold\">   </span><span style=\"color: #800080; text-decoration-color: #800080\">possui taxas de câmbio menos favoráveis (câmbio turismo) e a incidência de IOF de 3,38%, que pode tornar as </span>\n",
              "<span style=\"color: #800080; text-decoration-color: #800080\">▌ </span><span style=\"color: #808000; text-decoration-color: #808000; font-weight: bold\">   </span><span style=\"color: #800080; text-decoration-color: #800080\">transações mais caras. Além disso, a cotação do câmbio é definida apenas no fechamento da fatura, o que pode</span>\n",
              "<span style=\"color: #800080; text-decoration-color: #800080\">▌ </span><span style=\"color: #808000; text-decoration-color: #808000; font-weight: bold\">   </span><span style=\"color: #800080; text-decoration-color: #800080\">gerar surpresas devido à volatilidade da moeda.                                                             </span>\n",
              "<span style=\"color: #800080; text-decoration-color: #800080\">▌ </span><span style=\"color: #808000; text-decoration-color: #808000; font-weight: bold\"> • </span><span style=\"color: #800080; text-decoration-color: #800080; font-weight: bold\">Cartão de Débito Internacional:</span><span style=\"color: #800080; text-decoration-color: #800080\"> Uma opção que se tornou bastante vantajosa com o surgimento das contas      </span>\n",
              "<span style=\"color: #800080; text-decoration-color: #800080\">▌ </span><span style=\"color: #808000; text-decoration-color: #808000; font-weight: bold\">   </span><span style=\"color: #800080; text-decoration-color: #800080\">globais oferecidas por fintechs e bancos digitais. O IOF é reduzido para 1,1% no momento da carga ou        </span>\n",
              "<span style=\"color: #800080; text-decoration-color: #800080\">▌ </span><span style=\"color: #808000; text-decoration-color: #808000; font-weight: bold\">   </span><span style=\"color: #800080; text-decoration-color: #800080\">conversão do dinheiro para a moeda estrangeira, e o câmbio utilizado costuma ser o comercial, mais próximo  </span>\n",
              "<span style=\"color: #800080; text-decoration-color: #800080\">▌ </span><span style=\"color: #808000; text-decoration-color: #808000; font-weight: bold\">   </span><span style=\"color: #800080; text-decoration-color: #800080\">do valor de mercado. Funciona como um cartão de débito comum, descontando o valor diretamente do saldo      </span>\n",
              "<span style=\"color: #800080; text-decoration-color: #800080\">▌ </span><span style=\"color: #808000; text-decoration-color: #808000; font-weight: bold\">   </span><span style=\"color: #800080; text-decoration-color: #800080\">disponível na conta internacional. Empresas como Wise, Nomad, Revolut e C6 Bank oferecem essa modalidade.   </span>\n",
              "<span style=\"color: #800080; text-decoration-color: #800080\">▌ </span><span style=\"color: #808000; text-decoration-color: #808000; font-weight: bold\"> • </span><span style=\"color: #800080; text-decoration-color: #800080; font-weight: bold\">Cartão Pré-pago Internacional:</span><span style=\"color: #800080; text-decoration-color: #800080\"> Similar ao cartão de débito internacional, permite carregar um saldo na moeda</span>\n",
              "<span style=\"color: #800080; text-decoration-color: #800080\">▌ </span><span style=\"color: #808000; text-decoration-color: #808000; font-weight: bold\">   </span><span style=\"color: #800080; text-decoration-color: #800080\">estrangeira antes de viajar. Ajuda no controle dos gastos, pois você fica limitado ao valor carregado. Assim</span>\n",
              "<span style=\"color: #800080; text-decoration-color: #800080\">▌ </span><span style=\"color: #808000; text-decoration-color: #808000; font-weight: bold\">   </span><span style=\"color: #800080; text-decoration-color: #800080\">como o cartão de débito internacional, o IOF na carga é de 1,1%. É aceito em milhões de estabelecimentos no </span>\n",
              "<span style=\"color: #800080; text-decoration-color: #800080\">▌ </span><span style=\"color: #808000; text-decoration-color: #808000; font-weight: bold\">   </span><span style=\"color: #800080; text-decoration-color: #800080\">exterior.                                                                                                   </span>\n",
              "<span style=\"color: #800080; text-decoration-color: #800080\">▌ </span><span style=\"color: #808000; text-decoration-color: #808000; font-weight: bold\"> • </span><span style=\"color: #800080; text-decoration-color: #800080; font-weight: bold\">Remessa para Conta no Estrangeiro:</span><span style=\"color: #800080; text-decoration-color: #800080\"> Enviar dinheiro para uma conta em outro país pode ser uma opção para     </span>\n",
              "<span style=\"color: #800080; text-decoration-color: #800080\">▌ </span><span style=\"color: #808000; text-decoration-color: #808000; font-weight: bold\">   </span><span style=\"color: #800080; text-decoration-color: #800080\">quantias maiores ou para quem já possui conta no exterior. Empresas de remessa online geralmente oferecem   </span>\n",
              "<span style=\"color: #800080; text-decoration-color: #800080\">▌ </span><span style=\"color: #808000; text-decoration-color: #808000; font-weight: bold\">   </span><span style=\"color: #800080; text-decoration-color: #800080\">taxas competitivas e o IOF para envio para conta de mesma titularidade é de 1,1%. O tempo para o dinheiro   </span>\n",
              "<span style=\"color: #800080; text-decoration-color: #800080\">▌ </span><span style=\"color: #808000; text-decoration-color: #808000; font-weight: bold\">   </span><span style=\"color: #800080; text-decoration-color: #800080\">cair na conta pode variar.                                                                                  </span>\n",
              "<span style=\"color: #800080; text-decoration-color: #800080\">▌ </span><span style=\"color: #808000; text-decoration-color: #808000; font-weight: bold\"> • </span><span style=\"color: #800080; text-decoration-color: #800080; font-weight: bold\">PIX:</span><span style=\"color: #800080; text-decoration-color: #800080\"> O PIX é um sistema de pagamento instantâneo brasileiro. No momento, o Pix tradicional permite operações</span>\n",
              "<span style=\"color: #800080; text-decoration-color: #800080\">▌ </span><span style=\"color: #808000; text-decoration-color: #808000; font-weight: bold\">   </span><span style=\"color: #800080; text-decoration-color: #800080\">apenas entre contas no Brasil. No entanto, o Banco Central do Brasil está estudando a implementação do \"Pix </span>\n",
              "<span style=\"color: #800080; text-decoration-color: #800080\">▌ </span><span style=\"color: #808000; text-decoration-color: #808000; font-weight: bold\">   </span><span style=\"color: #800080; text-decoration-color: #800080\">Internacional\" para transferências para contas no exterior.                                                 </span>\n",
              "<span style=\"color: #800080; text-decoration-color: #800080\">▌ </span><span style=\"color: #800080; text-decoration-color: #800080; font-weight: bold\">PIX e Viktap:</span><span style=\"color: #800080; text-decoration-color: #800080\">                                                                                                  </span>\n",
              "<span style=\"color: #800080; text-decoration-color: #800080\">▌ Conforme sua consulta sobre o Pix e a Viktap, verificamos no site https://viktap.com.br/ que a Viktap atua como</span>\n",
              "<span style=\"color: #800080; text-decoration-color: #800080\">▌ uma rede de pagamento instantâneo global que permite que brasileiros efetuem pagamentos instantâneos,          </span>\n",
              "<span style=\"color: #800080; text-decoration-color: #800080\">▌ diretamente de sua conta bancária no Brasil, em qualquer lugar do mundo. A solução da Viktap visa a            </span>\n",
              "<span style=\"color: #800080; text-decoration-color: #800080\">▌ transformação do recebimento de estrangeiros, permitindo que lojistas recebam Pix de brasileiros em qualquer   </span>\n",
              "<span style=\"color: #800080; text-decoration-color: #800080\">▌ lugar do mundo. O cliente paga em reais, a conversão para euros é visível no momento do pagamento, e o         </span>\n",
              "<span style=\"color: #800080; text-decoration-color: #800080\">▌ comerciante recebe o valor em euros. As transações são conectadas a grandes instituições financeiras, sendo    </span>\n",
              "<span style=\"color: #800080; text-decoration-color: #800080\">▌ seguras, rápidas e confiáveis. Para o cliente, os benefícios incluem taxas de câmbio competitivas, IOF reduzido</span>\n",
              "<span style=\"color: #800080; text-decoration-color: #800080\">▌ (isenção de IOF na operação de PIX), e a praticidade de utilizar um sistema popular no Brasil sem a necessidade</span>\n",
              "<span style=\"color: #800080; text-decoration-color: #800080\">▌ de realizar câmbio antes ou durante a viagem, visualizando o valor em reais antes de pagar.                    </span>\n",
              "<span style=\"color: #800080; text-decoration-color: #800080\">▌ </span><span style=\"color: #800080; text-decoration-color: #800080; font-weight: bold\">Recomendação:</span><span style=\"color: #800080; text-decoration-color: #800080\">                                                                                                  </span>\n",
              "<span style=\"color: #800080; text-decoration-color: #800080\">▌ Considerando os custos (IOF e câmbio) e a praticidade para uma viagem de turismo, as opções mais vantajosas    </span>\n",
              "<span style=\"color: #800080; text-decoration-color: #800080\">▌ costumam ser o </span><span style=\"color: #800080; text-decoration-color: #800080; font-weight: bold\">cartão de débito internacional (conta global) e o cartão pré-pago internacional</span><span style=\"color: #800080; text-decoration-color: #800080\">. Ambos oferecem </span>\n",
              "<span style=\"color: #800080; text-decoration-color: #800080\">▌ IOF reduzido (1,1%) em comparação com o cartão de crédito (3,38%) e geralmente utilizam uma taxa de câmbio mais</span>\n",
              "<span style=\"color: #800080; text-decoration-color: #800080\">▌ favorável (comercial).                                                                                         </span>\n",
              "<span style=\"color: #800080; text-decoration-color: #800080\">▌ A escolha entre cartão de débito internacional e pré-pago dependerá do seu perfil. O cartão de débito          </span>\n",
              "<span style=\"color: #800080; text-decoration-color: #800080\">▌ internacional atrelado a uma conta global permite gerenciar o dinheiro de forma mais integrada com outros      </span>\n",
              "<span style=\"color: #800080; text-decoration-color: #800080\">▌ serviços financeiros, enquanto o pré-pago é ideal para controlar os gastos limitando-se ao valor carregado.    </span>\n",
              "<span style=\"color: #800080; text-decoration-color: #800080\">▌ A remessa para conta no estrangeiro é mais indicada para grandes valores ou para quem já possui estrutura      </span>\n",
              "<span style=\"color: #800080; text-decoration-color: #800080\">▌ bancária no destino.                                                                                           </span>\n",
              "<span style=\"color: #800080; text-decoration-color: #800080\">▌ O uso do cartão de crédito internacional deve ser considerado mais como uma opção para emergências, devido aos </span>\n",
              "<span style=\"color: #800080; text-decoration-color: #800080\">▌ custos mais elevados.                                                                                          </span>\n",
              "<span style=\"color: #800080; text-decoration-color: #800080\">▌ O Pix tradicional, por enquanto, não permite pagamentos diretos no exterior. No entanto, soluções como a       </span>\n",
              "<span style=\"color: #800080; text-decoration-color: #800080\">▌ oferecida pela Viktap demonstram o potencial do Pix Internacional para facilitar pagamentos de brasileiros em  </span>\n",
              "<span style=\"color: #800080; text-decoration-color: #800080\">▌ estabelecimentos no exterior, com benefícios em termos de custo e praticidade para o cliente.                  </span>\n",
              "<span style=\"color: #800080; text-decoration-color: #800080\">▌ É sempre recomendável pesquisar as taxas e condições específicas de cada instituição financeira ou fintech     </span>\n",
              "<span style=\"color: #800080; text-decoration-color: #800080\">▌ antes de tomar sua decisão.                                                                                    </span>\n",
              "</pre>\n"
            ]
          },
          "metadata": {}
        },
        {
          "output_type": "display_data",
          "data": {
            "text/plain": [
              "\u001b[35m▌ \u001b[0m\u001b[33m───────────────────────────────────────────────────────────────────────────────────────────────────────────────\u001b[0m\n"
            ],
            "text/html": [
              "<pre style=\"white-space:pre;overflow-x:auto;line-height:normal;font-family:Menlo,'DejaVu Sans Mono',consolas,'Courier New',monospace\"><span style=\"color: #800080; text-decoration-color: #800080\">▌ </span><span style=\"color: #808000; text-decoration-color: #808000\">───────────────────────────────────────────────────────────────────────────────────────────────────────────────</span>\n",
              "</pre>\n"
            ]
          },
          "metadata": {}
        },
        {
          "output_type": "display_data",
          "data": {
            "text/plain": [
              "\n",
              "\u001b[35m▌ \u001b[0m\u001b[35mDica de um agente de viagem da LATAM\u001b[0m\u001b[35m                                                                           \u001b[0m\n"
            ],
            "text/html": [
              "<pre style=\"white-space:pre;overflow-x:auto;line-height:normal;font-family:Menlo,'DejaVu Sans Mono',consolas,'Courier New',monospace\">\n",
              "<span style=\"color: #800080; text-decoration-color: #800080\">▌ Dica de um agente de viagem da LATAM                                                                           </span>\n",
              "</pre>\n"
            ]
          },
          "metadata": {}
        },
        {
          "output_type": "display_data",
          "data": {
            "text/plain": [
              "\u001b[35m▌ \u001b[0m\u001b[33m───────────────────────────────────────────────────────────────────────────────────────────────────────────────\u001b[0m\n"
            ],
            "text/html": [
              "<pre style=\"white-space:pre;overflow-x:auto;line-height:normal;font-family:Menlo,'DejaVu Sans Mono',consolas,'Courier New',monospace\"><span style=\"color: #800080; text-decoration-color: #800080\">▌ </span><span style=\"color: #808000; text-decoration-color: #808000\">───────────────────────────────────────────────────────────────────────────────────────────────────────────────</span>\n",
              "</pre>\n"
            ]
          },
          "metadata": {}
        },
        {
          "output_type": "display_data",
          "data": {
            "text/plain": [
              "\n",
              "\u001b[35m▌ \u001b[0m\u001b[35mComo especialista em viagens internacionais, verifiquei as opções de voo entre São Paulo (GRU) e Amsterdã (AMS)\u001b[0m\n",
              "\u001b[35m▌ \u001b[0m\u001b[35mpara as datas de 15/06/2025 a 30/06/2025.\u001b[0m\u001b[35m                                                                      \u001b[0m\n",
              "\u001b[35m▌ \u001b[0m\u001b[35mA LATAM não opera voos diretos nesta rota. No entanto, a KLM oferece voos diretos de São Paulo (GRU) para \u001b[0m\u001b[35m     \u001b[0m\n",
              "\u001b[35m▌ \u001b[0m\u001b[35mAmsterdã (AMS).\u001b[0m\u001b[35m                                                                                                \u001b[0m\n",
              "\u001b[35m▌ \u001b[0m\u001b[35mSugestão de voo direto (KLM):\u001b[0m\u001b[35m                                                                                  \u001b[0m\n",
              "\u001b[35m▌ \u001b[0m\u001b[1;33m • \u001b[0m\u001b[1;35mIda (15/06/2025):\u001b[0m\u001b[35m                                                                                           \u001b[0m\n",
              "\u001b[35m▌ \u001b[0m\u001b[1;33m   \u001b[0m\u001b[1;33m • \u001b[0m\u001b[35mCompanhia Aérea: KLM\u001b[0m\u001b[35m                                                                                     \u001b[0m\n",
              "\u001b[35m▌ \u001b[0m\u001b[1;33m   \u001b[0m\u001b[1;33m • \u001b[0m\u001b[35mNúmero do voo: KL792 ou KL794 (Os voos diretos da KLM nesta rota são operados com esses números)\u001b[0m\u001b[35m         \u001b[0m\n",
              "\u001b[35m▌ \u001b[0m\u001b[1;33m   \u001b[0m\u001b[1;33m • \u001b[0m\u001b[35mHorário de Partida de GRU: Entre 20:59 e 21:45 (Horários de partida comuns para voos diretos da KLM).\u001b[0m\u001b[35m    \u001b[0m\n",
              "\u001b[35m▌ \u001b[0m\u001b[1;33m   \u001b[0m\u001b[1;33m • \u001b[0m\u001b[35mHorário de Chegada em AMS: No dia seguinte, entre 12:25 e 14:20 (Horários de chegada comuns para voos \u001b[0m\u001b[35m   \u001b[0m\n",
              "\u001b[35m▌ \u001b[0m\u001b[1;33m   \u001b[0m\u001b[1;33m   \u001b[0m\u001b[35mdiretos da KLM).\u001b[0m\u001b[35m                                                                                         \u001b[0m\n",
              "\u001b[35m▌ \u001b[0m\u001b[1;33m • \u001b[0m\u001b[1;35mVolta (30/06/2025):\u001b[0m\u001b[35m                                                                                         \u001b[0m\n",
              "\u001b[35m▌ \u001b[0m\u001b[1;33m   \u001b[0m\u001b[1;33m • \u001b[0m\u001b[35mCompanhia Aérea: KLM\u001b[0m\u001b[35m                                                                                     \u001b[0m\n",
              "\u001b[35m▌ \u001b[0m\u001b[1;33m   \u001b[0m\u001b[1;33m • \u001b[0m\u001b[35mNúmero do voo: KL791 (O voo direto da KLM nesta rota é operado com esse número)\u001b[0m\u001b[35m                          \u001b[0m\n",
              "\u001b[35m▌ \u001b[0m\u001b[1;33m   \u001b[0m\u001b[1;33m • \u001b[0m\u001b[35mHorário de Partida de AMS: Entre 10:55 e 13:00 (Horários de partida comuns para voos diretos da KLM).\u001b[0m\u001b[35m    \u001b[0m\n",
              "\u001b[35m▌ \u001b[0m\u001b[1;33m   \u001b[0m\u001b[1;33m • \u001b[0m\u001b[35mHorário de Chegada em GRU: No mesmo dia, após aproximadamente 12 horas e 5 minutos de voo.\u001b[0m\u001b[35m               \u001b[0m\n",
              "\u001b[35m▌ \u001b[0m\u001b[35mÉ importante notar que os horários exatos dos voos podem variar e é recomendável consultar o site oficial da \u001b[0m\u001b[35m  \u001b[0m\n",
              "\u001b[35m▌ \u001b[0m\u001b[35mKLM ou um agente de viagens para obter as informações mais atualizadas e detalhes sobre as opções de classe \u001b[0m\u001b[35m   \u001b[0m\n",
              "\u001b[35m▌ \u001b[0m\u001b[35mluxuosa.\u001b[0m\u001b[35m                                                                                                       \u001b[0m\n"
            ],
            "text/html": [
              "<pre style=\"white-space:pre;overflow-x:auto;line-height:normal;font-family:Menlo,'DejaVu Sans Mono',consolas,'Courier New',monospace\">\n",
              "<span style=\"color: #800080; text-decoration-color: #800080\">▌ Como especialista em viagens internacionais, verifiquei as opções de voo entre São Paulo (GRU) e Amsterdã (AMS)</span>\n",
              "<span style=\"color: #800080; text-decoration-color: #800080\">▌ para as datas de 15/06/2025 a 30/06/2025.                                                                      </span>\n",
              "<span style=\"color: #800080; text-decoration-color: #800080\">▌ A LATAM não opera voos diretos nesta rota. No entanto, a KLM oferece voos diretos de São Paulo (GRU) para      </span>\n",
              "<span style=\"color: #800080; text-decoration-color: #800080\">▌ Amsterdã (AMS).                                                                                                </span>\n",
              "<span style=\"color: #800080; text-decoration-color: #800080\">▌ Sugestão de voo direto (KLM):                                                                                  </span>\n",
              "<span style=\"color: #800080; text-decoration-color: #800080\">▌ </span><span style=\"color: #808000; text-decoration-color: #808000; font-weight: bold\"> • </span><span style=\"color: #800080; text-decoration-color: #800080; font-weight: bold\">Ida (15/06/2025):</span><span style=\"color: #800080; text-decoration-color: #800080\">                                                                                           </span>\n",
              "<span style=\"color: #800080; text-decoration-color: #800080\">▌ </span><span style=\"color: #808000; text-decoration-color: #808000; font-weight: bold\">    • </span><span style=\"color: #800080; text-decoration-color: #800080\">Companhia Aérea: KLM                                                                                     </span>\n",
              "<span style=\"color: #800080; text-decoration-color: #800080\">▌ </span><span style=\"color: #808000; text-decoration-color: #808000; font-weight: bold\">    • </span><span style=\"color: #800080; text-decoration-color: #800080\">Número do voo: KL792 ou KL794 (Os voos diretos da KLM nesta rota são operados com esses números)         </span>\n",
              "<span style=\"color: #800080; text-decoration-color: #800080\">▌ </span><span style=\"color: #808000; text-decoration-color: #808000; font-weight: bold\">    • </span><span style=\"color: #800080; text-decoration-color: #800080\">Horário de Partida de GRU: Entre 20:59 e 21:45 (Horários de partida comuns para voos diretos da KLM).    </span>\n",
              "<span style=\"color: #800080; text-decoration-color: #800080\">▌ </span><span style=\"color: #808000; text-decoration-color: #808000; font-weight: bold\">    • </span><span style=\"color: #800080; text-decoration-color: #800080\">Horário de Chegada em AMS: No dia seguinte, entre 12:25 e 14:20 (Horários de chegada comuns para voos    </span>\n",
              "<span style=\"color: #800080; text-decoration-color: #800080\">▌ </span><span style=\"color: #808000; text-decoration-color: #808000; font-weight: bold\">      </span><span style=\"color: #800080; text-decoration-color: #800080\">diretos da KLM).                                                                                         </span>\n",
              "<span style=\"color: #800080; text-decoration-color: #800080\">▌ </span><span style=\"color: #808000; text-decoration-color: #808000; font-weight: bold\"> • </span><span style=\"color: #800080; text-decoration-color: #800080; font-weight: bold\">Volta (30/06/2025):</span><span style=\"color: #800080; text-decoration-color: #800080\">                                                                                         </span>\n",
              "<span style=\"color: #800080; text-decoration-color: #800080\">▌ </span><span style=\"color: #808000; text-decoration-color: #808000; font-weight: bold\">    • </span><span style=\"color: #800080; text-decoration-color: #800080\">Companhia Aérea: KLM                                                                                     </span>\n",
              "<span style=\"color: #800080; text-decoration-color: #800080\">▌ </span><span style=\"color: #808000; text-decoration-color: #808000; font-weight: bold\">    • </span><span style=\"color: #800080; text-decoration-color: #800080\">Número do voo: KL791 (O voo direto da KLM nesta rota é operado com esse número)                          </span>\n",
              "<span style=\"color: #800080; text-decoration-color: #800080\">▌ </span><span style=\"color: #808000; text-decoration-color: #808000; font-weight: bold\">    • </span><span style=\"color: #800080; text-decoration-color: #800080\">Horário de Partida de AMS: Entre 10:55 e 13:00 (Horários de partida comuns para voos diretos da KLM).    </span>\n",
              "<span style=\"color: #800080; text-decoration-color: #800080\">▌ </span><span style=\"color: #808000; text-decoration-color: #808000; font-weight: bold\">    • </span><span style=\"color: #800080; text-decoration-color: #800080\">Horário de Chegada em GRU: No mesmo dia, após aproximadamente 12 horas e 5 minutos de voo.               </span>\n",
              "<span style=\"color: #800080; text-decoration-color: #800080\">▌ É importante notar que os horários exatos dos voos podem variar e é recomendável consultar o site oficial da   </span>\n",
              "<span style=\"color: #800080; text-decoration-color: #800080\">▌ KLM ou um agente de viagens para obter as informações mais atualizadas e detalhes sobre as opções de classe    </span>\n",
              "<span style=\"color: #800080; text-decoration-color: #800080\">▌ luxuosa.                                                                                                       </span>\n",
              "</pre>\n"
            ]
          },
          "metadata": {}
        },
        {
          "output_type": "display_data",
          "data": {
            "text/plain": [
              "\u001b[35m▌ \u001b[0m\u001b[33m───────────────────────────────────────────────────────────────────────────────────────────────────────────────\u001b[0m\n"
            ],
            "text/html": [
              "<pre style=\"white-space:pre;overflow-x:auto;line-height:normal;font-family:Menlo,'DejaVu Sans Mono',consolas,'Courier New',monospace\"><span style=\"color: #800080; text-decoration-color: #800080\">▌ </span><span style=\"color: #808000; text-decoration-color: #808000\">───────────────────────────────────────────────────────────────────────────────────────────────────────────────</span>\n",
              "</pre>\n"
            ]
          },
          "metadata": {}
        },
        {
          "output_type": "display_data",
          "data": {
            "text/plain": [
              "\n",
              "\u001b[35m▌ \u001b[0m\u001b[35mAlgumas dicas de Hoteis, refeiçoes e passeios turisticos\u001b[0m\u001b[35m                                                       \u001b[0m\n"
            ],
            "text/html": [
              "<pre style=\"white-space:pre;overflow-x:auto;line-height:normal;font-family:Menlo,'DejaVu Sans Mono',consolas,'Courier New',monospace\">\n",
              "<span style=\"color: #800080; text-decoration-color: #800080\">▌ Algumas dicas de Hoteis, refeiçoes e passeios turisticos                                                       </span>\n",
              "</pre>\n"
            ]
          },
          "metadata": {}
        },
        {
          "output_type": "display_data",
          "data": {
            "text/plain": [
              "\u001b[35m▌ \u001b[0m\u001b[33m───────────────────────────────────────────────────────────────────────────────────────────────────────────────\u001b[0m\n"
            ],
            "text/html": [
              "<pre style=\"white-space:pre;overflow-x:auto;line-height:normal;font-family:Menlo,'DejaVu Sans Mono',consolas,'Courier New',monospace\"><span style=\"color: #800080; text-decoration-color: #800080\">▌ </span><span style=\"color: #808000; text-decoration-color: #808000\">───────────────────────────────────────────────────────────────────────────────────────────────────────────────</span>\n",
              "</pre>\n"
            ]
          },
          "metadata": {}
        },
        {
          "output_type": "display_data",
          "data": {
            "text/plain": [
              "\n",
              "\u001b[35m▌ \u001b[0m\u001b[35mPara a sua viagem luxuosa a Amsterdã entre 15 e 30 de junho de 2025, aqui estão algumas opções resumidas de \u001b[0m\u001b[35m   \u001b[0m\n",
              "\u001b[35m▌ \u001b[0m\u001b[35mhotéis, refeições e passeios turísticos:\u001b[0m\u001b[35m                                                                       \u001b[0m\n",
              "\u001b[35m▌ \u001b[0m\u001b[1;35mHotéis:\u001b[0m\u001b[35m                                                                                                        \u001b[0m\n",
              "\u001b[35m▌ \u001b[0m\u001b[1;33m 1 \u001b[0m\u001b[1;35mRosewood Amsterdam:\u001b[0m\u001b[35m Com inauguração prevista para junho de 2025, este hotel promete ser uma opção de luxo de\u001b[0m\n",
              "\u001b[35m▌ \u001b[0m\u001b[1;33m   \u001b[0m\u001b[35mdestaque, localizado no histórico distrito de canais.\u001b[0m\u001b[35m                                                       \u001b[0m\n",
              "\u001b[35m▌ \u001b[0m\u001b[1;33m 2 \u001b[0m\u001b[1;35mWaldorf Astoria Amsterdam:\u001b[0m\u001b[35m Situado em seis palácios do século XVII no cinturão de canais, Patrimônio Mundial\u001b[0m\n",
              "\u001b[35m▌ \u001b[0m\u001b[1;33m   \u001b[0m\u001b[35mda UNESCO, oferece acomodações elegantes com vista para o canal.\u001b[0m\u001b[35m                                            \u001b[0m\n",
              "\u001b[35m▌ \u001b[0m\u001b[1;33m 3 \u001b[0m\u001b[1;35mSofitel Legend The Grand Amsterdam:\u001b[0m\u001b[35m Um hotel grandioso com uma rica história no coração de Amsterdã.\u001b[0m\u001b[35m        \u001b[0m\n",
              "\u001b[35m▌ \u001b[0m\u001b[1;35mRefeições:\u001b[0m\u001b[35m                                                                                                     \u001b[0m\n",
              "\u001b[35m▌ \u001b[0m\u001b[1;33m 1 \u001b[0m\u001b[1;35mCiel Bleu Restaurant:\u001b[0m\u001b[35m Conhecido por sua gastronomia europeia luxuosa.\u001b[0m\u001b[35m                                       \u001b[0m\n",
              "\u001b[35m▌ \u001b[0m\u001b[1;33m 2 \u001b[0m\u001b[1;35mSpectrum:\u001b[0m\u001b[35m Localizado no Waldorf Astoria, é um restaurante com duas estrelas Michelin que oferece uma jornada\u001b[0m\n",
              "\u001b[35m▌ \u001b[0m\u001b[1;33m   \u001b[0m\u001b[35mculinária multissensorial.\u001b[0m\u001b[35m                                                                                  \u001b[0m\n",
              "\u001b[35m▌ \u001b[0m\u001b[1;33m 3 \u001b[0m\u001b[1;35mRestaurant Rijks:\u001b[0m\u001b[35m Localizado ao lado do Rijksmuseum, destaca-se pela culinária holandesa refinada, \u001b[0m\u001b[35m         \u001b[0m\n",
              "\u001b[35m▌ \u001b[0m\u001b[1;33m   \u001b[0m\u001b[35mutilizando ingredientes locais.\u001b[0m\u001b[35m                                                                             \u001b[0m\n",
              "\u001b[35m▌ \u001b[0m\u001b[1;35mPasseios Turísticos:\u001b[0m\u001b[35m                                                                                           \u001b[0m\n",
              "\u001b[35m▌ \u001b[0m\u001b[1;33m 1 \u001b[0m\u001b[1;35mCruzeiro com jantar pelos canais:\u001b[0m\u001b[35m Uma experiência noturna atmosférica explorando os canais de Amsterdã com \u001b[0m\u001b[35m \u001b[0m\n",
              "\u001b[35m▌ \u001b[0m\u001b[1;33m   \u001b[0m\u001b[35mum jantar de 4 tempos incluído.\u001b[0m\u001b[35m                                                                             \u001b[0m\n",
              "\u001b[35m▌ \u001b[0m\u001b[1;33m 2 \u001b[0m\u001b[1;35mOpen Garden Days:\u001b[0m\u001b[35m Durante um fim de semana em junho, é possível visitar os deslumbrantes jardins privados de\u001b[0m\n",
              "\u001b[35m▌ \u001b[0m\u001b[1;33m   \u001b[0m\u001b[35malgumas das mais impressionantes casas nos canais.\u001b[0m\u001b[35m                                                          \u001b[0m\n",
              "\u001b[35m▌ \u001b[0m\u001b[1;33m 3 \u001b[0m\u001b[1;35mHolland Festival:\u001b[0m\u001b[35m O maior festival de artes cênicas da Holanda, ocorrendo durante a maior parte de junho, \u001b[0m\u001b[35m  \u001b[0m\n",
              "\u001b[35m▌ \u001b[0m\u001b[1;33m   \u001b[0m\u001b[35mcom diversas apresentações de teatro, artes visuais, música clássica, dança, ópera e cinema.\u001b[0m\u001b[35m                \u001b[0m\n"
            ],
            "text/html": [
              "<pre style=\"white-space:pre;overflow-x:auto;line-height:normal;font-family:Menlo,'DejaVu Sans Mono',consolas,'Courier New',monospace\">\n",
              "<span style=\"color: #800080; text-decoration-color: #800080\">▌ Para a sua viagem luxuosa a Amsterdã entre 15 e 30 de junho de 2025, aqui estão algumas opções resumidas de    </span>\n",
              "<span style=\"color: #800080; text-decoration-color: #800080\">▌ hotéis, refeições e passeios turísticos:                                                                       </span>\n",
              "<span style=\"color: #800080; text-decoration-color: #800080\">▌ </span><span style=\"color: #800080; text-decoration-color: #800080; font-weight: bold\">Hotéis:</span><span style=\"color: #800080; text-decoration-color: #800080\">                                                                                                        </span>\n",
              "<span style=\"color: #800080; text-decoration-color: #800080\">▌ </span><span style=\"color: #808000; text-decoration-color: #808000; font-weight: bold\"> 1 </span><span style=\"color: #800080; text-decoration-color: #800080; font-weight: bold\">Rosewood Amsterdam:</span><span style=\"color: #800080; text-decoration-color: #800080\"> Com inauguração prevista para junho de 2025, este hotel promete ser uma opção de luxo de</span>\n",
              "<span style=\"color: #800080; text-decoration-color: #800080\">▌ </span><span style=\"color: #808000; text-decoration-color: #808000; font-weight: bold\">   </span><span style=\"color: #800080; text-decoration-color: #800080\">destaque, localizado no histórico distrito de canais.                                                       </span>\n",
              "<span style=\"color: #800080; text-decoration-color: #800080\">▌ </span><span style=\"color: #808000; text-decoration-color: #808000; font-weight: bold\"> 2 </span><span style=\"color: #800080; text-decoration-color: #800080; font-weight: bold\">Waldorf Astoria Amsterdam:</span><span style=\"color: #800080; text-decoration-color: #800080\"> Situado em seis palácios do século XVII no cinturão de canais, Patrimônio Mundial</span>\n",
              "<span style=\"color: #800080; text-decoration-color: #800080\">▌ </span><span style=\"color: #808000; text-decoration-color: #808000; font-weight: bold\">   </span><span style=\"color: #800080; text-decoration-color: #800080\">da UNESCO, oferece acomodações elegantes com vista para o canal.                                            </span>\n",
              "<span style=\"color: #800080; text-decoration-color: #800080\">▌ </span><span style=\"color: #808000; text-decoration-color: #808000; font-weight: bold\"> 3 </span><span style=\"color: #800080; text-decoration-color: #800080; font-weight: bold\">Sofitel Legend The Grand Amsterdam:</span><span style=\"color: #800080; text-decoration-color: #800080\"> Um hotel grandioso com uma rica história no coração de Amsterdã.        </span>\n",
              "<span style=\"color: #800080; text-decoration-color: #800080\">▌ </span><span style=\"color: #800080; text-decoration-color: #800080; font-weight: bold\">Refeições:</span><span style=\"color: #800080; text-decoration-color: #800080\">                                                                                                     </span>\n",
              "<span style=\"color: #800080; text-decoration-color: #800080\">▌ </span><span style=\"color: #808000; text-decoration-color: #808000; font-weight: bold\"> 1 </span><span style=\"color: #800080; text-decoration-color: #800080; font-weight: bold\">Ciel Bleu Restaurant:</span><span style=\"color: #800080; text-decoration-color: #800080\"> Conhecido por sua gastronomia europeia luxuosa.                                       </span>\n",
              "<span style=\"color: #800080; text-decoration-color: #800080\">▌ </span><span style=\"color: #808000; text-decoration-color: #808000; font-weight: bold\"> 2 </span><span style=\"color: #800080; text-decoration-color: #800080; font-weight: bold\">Spectrum:</span><span style=\"color: #800080; text-decoration-color: #800080\"> Localizado no Waldorf Astoria, é um restaurante com duas estrelas Michelin que oferece uma jornada</span>\n",
              "<span style=\"color: #800080; text-decoration-color: #800080\">▌ </span><span style=\"color: #808000; text-decoration-color: #808000; font-weight: bold\">   </span><span style=\"color: #800080; text-decoration-color: #800080\">culinária multissensorial.                                                                                  </span>\n",
              "<span style=\"color: #800080; text-decoration-color: #800080\">▌ </span><span style=\"color: #808000; text-decoration-color: #808000; font-weight: bold\"> 3 </span><span style=\"color: #800080; text-decoration-color: #800080; font-weight: bold\">Restaurant Rijks:</span><span style=\"color: #800080; text-decoration-color: #800080\"> Localizado ao lado do Rijksmuseum, destaca-se pela culinária holandesa refinada,          </span>\n",
              "<span style=\"color: #800080; text-decoration-color: #800080\">▌ </span><span style=\"color: #808000; text-decoration-color: #808000; font-weight: bold\">   </span><span style=\"color: #800080; text-decoration-color: #800080\">utilizando ingredientes locais.                                                                             </span>\n",
              "<span style=\"color: #800080; text-decoration-color: #800080\">▌ </span><span style=\"color: #800080; text-decoration-color: #800080; font-weight: bold\">Passeios Turísticos:</span><span style=\"color: #800080; text-decoration-color: #800080\">                                                                                           </span>\n",
              "<span style=\"color: #800080; text-decoration-color: #800080\">▌ </span><span style=\"color: #808000; text-decoration-color: #808000; font-weight: bold\"> 1 </span><span style=\"color: #800080; text-decoration-color: #800080; font-weight: bold\">Cruzeiro com jantar pelos canais:</span><span style=\"color: #800080; text-decoration-color: #800080\"> Uma experiência noturna atmosférica explorando os canais de Amsterdã com  </span>\n",
              "<span style=\"color: #800080; text-decoration-color: #800080\">▌ </span><span style=\"color: #808000; text-decoration-color: #808000; font-weight: bold\">   </span><span style=\"color: #800080; text-decoration-color: #800080\">um jantar de 4 tempos incluído.                                                                             </span>\n",
              "<span style=\"color: #800080; text-decoration-color: #800080\">▌ </span><span style=\"color: #808000; text-decoration-color: #808000; font-weight: bold\"> 2 </span><span style=\"color: #800080; text-decoration-color: #800080; font-weight: bold\">Open Garden Days:</span><span style=\"color: #800080; text-decoration-color: #800080\"> Durante um fim de semana em junho, é possível visitar os deslumbrantes jardins privados de</span>\n",
              "<span style=\"color: #800080; text-decoration-color: #800080\">▌ </span><span style=\"color: #808000; text-decoration-color: #808000; font-weight: bold\">   </span><span style=\"color: #800080; text-decoration-color: #800080\">algumas das mais impressionantes casas nos canais.                                                          </span>\n",
              "<span style=\"color: #800080; text-decoration-color: #800080\">▌ </span><span style=\"color: #808000; text-decoration-color: #808000; font-weight: bold\"> 3 </span><span style=\"color: #800080; text-decoration-color: #800080; font-weight: bold\">Holland Festival:</span><span style=\"color: #800080; text-decoration-color: #800080\"> O maior festival de artes cênicas da Holanda, ocorrendo durante a maior parte de junho,   </span>\n",
              "<span style=\"color: #800080; text-decoration-color: #800080\">▌ </span><span style=\"color: #808000; text-decoration-color: #808000; font-weight: bold\">   </span><span style=\"color: #800080; text-decoration-color: #800080\">com diversas apresentações de teatro, artes visuais, música clássica, dança, ópera e cinema.                </span>\n",
              "</pre>\n"
            ]
          },
          "metadata": {}
        },
        {
          "output_type": "display_data",
          "data": {
            "text/plain": [
              "\u001b[35m▌ \u001b[0m\u001b[33m───────────────────────────────────────────────────────────────────────────────────────────────────────────────\u001b[0m\n"
            ],
            "text/html": [
              "<pre style=\"white-space:pre;overflow-x:auto;line-height:normal;font-family:Menlo,'DejaVu Sans Mono',consolas,'Courier New',monospace\"><span style=\"color: #800080; text-decoration-color: #800080\">▌ </span><span style=\"color: #808000; text-decoration-color: #808000\">───────────────────────────────────────────────────────────────────────────────────────────────────────────────</span>\n",
              "</pre>\n"
            ]
          },
          "metadata": {}
        },
        {
          "output_type": "display_data",
          "data": {
            "text/plain": [
              "\n",
              "\u001b[35m▌ \u001b[0m\u001b[35mPost do LinkedIn\u001b[0m\u001b[35m                                                                                               \u001b[0m\n"
            ],
            "text/html": [
              "<pre style=\"white-space:pre;overflow-x:auto;line-height:normal;font-family:Menlo,'DejaVu Sans Mono',consolas,'Courier New',monospace\">\n",
              "<span style=\"color: #800080; text-decoration-color: #800080\">▌ Post do LinkedIn                                                                                               </span>\n",
              "</pre>\n"
            ]
          },
          "metadata": {}
        },
        {
          "output_type": "display_data",
          "data": {
            "text/plain": [
              "\u001b[35m▌ \u001b[0m\u001b[33m───────────────────────────────────────────────────────────────────────────────────────────────────────────────\u001b[0m\n"
            ],
            "text/html": [
              "<pre style=\"white-space:pre;overflow-x:auto;line-height:normal;font-family:Menlo,'DejaVu Sans Mono',consolas,'Courier New',monospace\"><span style=\"color: #800080; text-decoration-color: #800080\">▌ </span><span style=\"color: #808000; text-decoration-color: #808000\">───────────────────────────────────────────────────────────────────────────────────────────────────────────────</span>\n",
              "</pre>\n"
            ]
          },
          "metadata": {}
        },
        {
          "output_type": "display_data",
          "data": {
            "text/plain": [
              "\n",
              "\u001b[35m▌ \u001b[0m\u001b[35mOkay, agente_linkedin, vamos transformar essa análise detalhada de custos de viagem de luxo em um post \u001b[0m\u001b[35m        \u001b[0m\n",
              "\u001b[35m▌ \u001b[0m\u001b[35mengajador para o LinkedIn da Tervik, conectando o tema à nossa expertise em pagamentos.\u001b[0m\u001b[35m                        \u001b[0m\n",
              "\u001b[35m▌ \u001b[0m\u001b[33m───────────────────────────────────────────────────────────────────────────────────────────────────────────────\u001b[0m\n",
              "\u001b[35m▌ \u001b[0m\u001b[1;35mRascunho de Post para LinkedIn - Tervik\u001b[0m\u001b[35m                                                                        \u001b[0m\n",
              "\u001b[35m▌ \u001b[0m\u001b[35mSonhando com uma experiência internacional de luxo? ✈️ Imagine desfrutar do melhor da gastronomia e dos museus \u001b[0m\u001b[35m \u001b[0m\n",
              "\u001b[35m▌ \u001b[0m\u001b[35mem Amsterdã, sem se preocupar com as finanças.\u001b[0m\u001b[35m                                                                 \u001b[0m\n",
              "\u001b[35m▌ \u001b[0m\u001b[35mPlanejar uma viagem de alto padrão, como esta imersão de 15 dias em Amsterdã que detalhamos, vai muito além da \u001b[0m\n",
              "\u001b[35m▌ \u001b[0m\u001b[35mescolha dos destinos. Envolve mergulhar em estimativas de gastos complexas: voos em executiva, hotéis 5 \u001b[0m\u001b[35m       \u001b[0m\n",
              "\u001b[35m▌ \u001b[0m\u001b[35mestrelas, jantares em restaurantes renomados, ingressos para museus icônicos... e a constante atenção à taxa de\u001b[0m\n",
              "\u001b[35m▌ \u001b[0m\u001b[35mcâmbio (quem lida com Euro/Real sabe bem!).\u001b[0m\u001b[35m                                                                    \u001b[0m\n",
              "\u001b[35m▌ \u001b[0m\u001b[35mNosso exercício de planejamento mostrou que uma experiência de luxo como essa exige um orçamento considerável –\u001b[0m\n",
              "\u001b[35m▌ \u001b[0m\u001b[35me ter essa clareza é o primeiro passo.\u001b[0m\u001b[35m                                                                         \u001b[0m\n",
              "\u001b[35m▌ \u001b[0m\u001b[35mMas, depois de todo o planejamento, como garantir que a parte financeira seja tão fluida quanto a experiência \u001b[0m\u001b[35m \u001b[0m\n",
              "\u001b[35m▌ \u001b[0m\u001b[35mde viagem? 🤔\u001b[0m\u001b[35m                                                                                                  \u001b[0m\n",
              "\u001b[35m▌ \u001b[0m\u001b[35mÉ aí que a tecnologia entra. Assim como o PIX revolucionou os pagamentos no Brasil pela sua simplicidade e \u001b[0m\u001b[35m    \u001b[0m\n",
              "\u001b[35m▌ \u001b[0m\u001b[35mrapidez, ter soluções que trazem essa mesma facilidade para suas transações internacionais é fundamental.\u001b[0m\u001b[35m      \u001b[0m\n",
              "\u001b[35m▌ \u001b[0m\u001b[35mCom a Tervik, estamos construindo o futuro dos pagamentos, tornando as transações internacionais mais simples, \u001b[0m\n",
              "\u001b[35m▌ \u001b[0m\u001b[35meficientes e transparentes. Porque sua energia deve estar em aproveitar cada momento da sua viagem dos sonhos, \u001b[0m\n",
              "\u001b[35m▌ \u001b[0m\u001b[35me não em burocracias de pagamento.\u001b[0m\u001b[35m                                                                             \u001b[0m\n",
              "\u001b[35m▌ \u001b[0m\u001b[35mPlanejamento financeiro detalhado + tecnologia de pagamento inteligente = Viagem de luxo impecável. ✨\u001b[0m\u001b[35m         \u001b[0m\n",
              "\u001b[35m▌ \u001b[0m\u001b[35m#ViagemDeLuxo #PlanejamentoFinanceiro #PagamentosInternacionais #Fintech #ImersaoIAgoogle\u001b[0m\u001b[35m                      \u001b[0m\n"
            ],
            "text/html": [
              "<pre style=\"white-space:pre;overflow-x:auto;line-height:normal;font-family:Menlo,'DejaVu Sans Mono',consolas,'Courier New',monospace\">\n",
              "<span style=\"color: #800080; text-decoration-color: #800080\">▌ Okay, agente_linkedin, vamos transformar essa análise detalhada de custos de viagem de luxo em um post         </span>\n",
              "<span style=\"color: #800080; text-decoration-color: #800080\">▌ engajador para o LinkedIn da Tervik, conectando o tema à nossa expertise em pagamentos.                        </span>\n",
              "<span style=\"color: #800080; text-decoration-color: #800080\">▌ </span><span style=\"color: #808000; text-decoration-color: #808000\">───────────────────────────────────────────────────────────────────────────────────────────────────────────────</span>\n",
              "<span style=\"color: #800080; text-decoration-color: #800080\">▌ </span><span style=\"color: #800080; text-decoration-color: #800080; font-weight: bold\">Rascunho de Post para LinkedIn - Tervik</span><span style=\"color: #800080; text-decoration-color: #800080\">                                                                        </span>\n",
              "<span style=\"color: #800080; text-decoration-color: #800080\">▌ Sonhando com uma experiência internacional de luxo? ✈️ Imagine desfrutar do melhor da gastronomia e dos museus  </span>\n",
              "<span style=\"color: #800080; text-decoration-color: #800080\">▌ em Amsterdã, sem se preocupar com as finanças.                                                                 </span>\n",
              "<span style=\"color: #800080; text-decoration-color: #800080\">▌ Planejar uma viagem de alto padrão, como esta imersão de 15 dias em Amsterdã que detalhamos, vai muito além da </span>\n",
              "<span style=\"color: #800080; text-decoration-color: #800080\">▌ escolha dos destinos. Envolve mergulhar em estimativas de gastos complexas: voos em executiva, hotéis 5        </span>\n",
              "<span style=\"color: #800080; text-decoration-color: #800080\">▌ estrelas, jantares em restaurantes renomados, ingressos para museus icônicos... e a constante atenção à taxa de</span>\n",
              "<span style=\"color: #800080; text-decoration-color: #800080\">▌ câmbio (quem lida com Euro/Real sabe bem!).                                                                    </span>\n",
              "<span style=\"color: #800080; text-decoration-color: #800080\">▌ Nosso exercício de planejamento mostrou que uma experiência de luxo como essa exige um orçamento considerável –</span>\n",
              "<span style=\"color: #800080; text-decoration-color: #800080\">▌ e ter essa clareza é o primeiro passo.                                                                         </span>\n",
              "<span style=\"color: #800080; text-decoration-color: #800080\">▌ Mas, depois de todo o planejamento, como garantir que a parte financeira seja tão fluida quanto a experiência  </span>\n",
              "<span style=\"color: #800080; text-decoration-color: #800080\">▌ de viagem? 🤔                                                                                                  </span>\n",
              "<span style=\"color: #800080; text-decoration-color: #800080\">▌ É aí que a tecnologia entra. Assim como o PIX revolucionou os pagamentos no Brasil pela sua simplicidade e     </span>\n",
              "<span style=\"color: #800080; text-decoration-color: #800080\">▌ rapidez, ter soluções que trazem essa mesma facilidade para suas transações internacionais é fundamental.      </span>\n",
              "<span style=\"color: #800080; text-decoration-color: #800080\">▌ Com a Tervik, estamos construindo o futuro dos pagamentos, tornando as transações internacionais mais simples, </span>\n",
              "<span style=\"color: #800080; text-decoration-color: #800080\">▌ eficientes e transparentes. Porque sua energia deve estar em aproveitar cada momento da sua viagem dos sonhos, </span>\n",
              "<span style=\"color: #800080; text-decoration-color: #800080\">▌ e não em burocracias de pagamento.                                                                             </span>\n",
              "<span style=\"color: #800080; text-decoration-color: #800080\">▌ Planejamento financeiro detalhado + tecnologia de pagamento inteligente = Viagem de luxo impecável. ✨         </span>\n",
              "<span style=\"color: #800080; text-decoration-color: #800080\">▌ #ViagemDeLuxo #PlanejamentoFinanceiro #PagamentosInternacionais #Fintech #ImersaoIAgoogle                      </span>\n",
              "</pre>\n"
            ]
          },
          "metadata": {}
        }
      ]
    }
  ]
}