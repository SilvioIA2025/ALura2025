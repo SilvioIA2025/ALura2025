{
  "nbformat": 4,
  "nbformat_minor": 0,
  "metadata": {
    "colab": {
      "provenance": [],
      "include_colab_link": true
    },
    "kernelspec": {
      "name": "python3",
      "display_name": "Python 3"
    },
    "language_info": {
      "name": "python"
    }
  },
  "cells": [
    {
      "cell_type": "markdown",
      "metadata": {
        "id": "view-in-github",
        "colab_type": "text"
      },
      "source": [
        "<a href=\"https://colab.research.google.com/github/SilvioIA2025/ALura2025/blob/main/Projeto_de_Imers%C3%A3o_IA_Alura_%2B_Google_Gemini.ipynb\" target=\"_parent\"><img src=\"https://colab.research.google.com/assets/colab-badge.svg\" alt=\"Open In Colab\"/></a>"
      ]
    },
    {
      "cell_type": "code",
      "source": [
        "%pip -q install google-genai"
      ],
      "metadata": {
        "id": "UCCbECexLk_h"
      },
      "execution_count": 229,
      "outputs": []
    },
    {
      "cell_type": "code",
      "source": [
        "# Configura a API Key do Google Gemini\n",
        "\n",
        "import os\n",
        "from google.colab import userdata\n",
        "\n",
        "os.environ[\"GOOGLE_API_KEY\"] = userdata.get('GOOGLE_API_KEY')"
      ],
      "metadata": {
        "id": "NfCqHo1tLk8P"
      },
      "execution_count": 230,
      "outputs": []
    },
    {
      "cell_type": "code",
      "source": [
        "# Configura o cliente da SDK do Gemini\n",
        "\n",
        "from google import genai\n",
        "client = genai.Client()\n",
        "from IPython.display import HTML, Markdown\n",
        "\n"
      ],
      "metadata": {
        "id": "bV4w0H5TLk5g"
      },
      "execution_count": 233,
      "outputs": []
    },
    {
      "cell_type": "code",
      "source": [
        "# Instalar Framework ADK de agentes do Google ################################################\n",
        "!pip install -q google-adk"
      ],
      "metadata": {
        "id": "hvZ3UnPI4jhJ"
      },
      "execution_count": 234,
      "outputs": []
    },
    {
      "cell_type": "code",
      "execution_count": 6,
      "metadata": {
        "id": "aePV2bdfDeoW"
      },
      "outputs": [],
      "source": [
        "from google.adk.agents import Agent\n",
        "from google.adk.runners import Runner\n",
        "from google.adk.sessions import InMemorySessionService\n",
        "from google.adk.tools import google_search\n",
        "from google.genai import types  # Para criar conteúdos (Content e Part)\n",
        "from datetime import date\n",
        "import textwrap # Para formatar melhor a saída de texto\n",
        "from IPython.display import display, Markdown # Para exibir texto formatado no Colab\n",
        "import requests # Para fazer requisições HTTP\n",
        "import warnings\n",
        "\n",
        "warnings.filterwarnings(\"ignore\")"
      ]
    },
    {
      "cell_type": "code",
      "source": [
        "# Função auxiliar que envia uma mensagem para um agente via Runner e retorna a resposta final\n",
        "def call_agent(agent: Agent, message_text: str) -> str:\n",
        "    # Cria um serviço de sessão em memória\n",
        "    session_service = InMemorySessionService()\n",
        "    # Cria uma nova sessão (você pode personalizar os IDs conforme necessário)\n",
        "    session = session_service.create_session(app_name=agent.name, user_id=\"user1\", session_id=\"session1\")\n",
        "    # Cria um Runner para o agente\n",
        "    runner = Runner(agent=agent, app_name=agent.name, session_service=session_service)\n",
        "    # Cria o conteúdo da mensagem de entrada\n",
        "    content = types.Content(role=\"user\", parts=[types.Part(text=message_text)])\n",
        "\n",
        "    final_response = \"\"\n",
        "    # Itera assincronamente pelos eventos retornados durante a execução do agente\n",
        "    for event in runner.run(user_id=\"user1\", session_id=\"session1\", new_message=content):\n",
        "        if event.is_final_response():\n",
        "          for part in event.content.parts:\n",
        "            if part.text is not None:\n",
        "              final_response += part.text\n",
        "              final_response += \"\\n\"\n",
        "    return final_response"
      ],
      "metadata": {
        "id": "_xP4lWhsS5ko"
      },
      "execution_count": 235,
      "outputs": []
    },
    {
      "cell_type": "code",
      "source": [
        "# Função auxiliar para exibir texto formatado em Markdown no Colab\n",
        "import textwrap\n",
        "from rich.markdown import Markdown\n",
        "def to_markdown(text):\n",
        "  text = text.replace('•', '  *')\n",
        "  return Markdown(textwrap.indent(text, '> ', predicate=lambda _: True))\n"
      ],
      "metadata": {
        "id": "8dosiodaxfFR"
      },
      "execution_count": 262,
      "outputs": []
    },
    {
      "cell_type": "code",
      "source": [
        "##################################################################\n",
        "# --- Agente 1: Buscador de Custos de Viagens Internacionais --- #\n",
        "##################################################################\n",
        "def agente_buscador(topico, pais, perfil, data_de_inicio, data_de_fim, numero_adultos, numero_crianças):\n",
        "    buscador = Agent(\n",
        "        name=\"agente_buscador\",\n",
        "        model=\"gemini-2.5-flash-preview-04-17\",\n",
        "        instruction=\"\"\"\n",
        "        Como um especialista em calcular gastos em viagens internacionais, meu objetivo é fornecer uma estimativa detalhada e otimizada dos seus custos,\n",
        "        considerando suas preferências e buscando as melhores opções em cada categoria.\n",
        "\n",
        "        Instruções para o Especialista em Cálculos de Viagem:\n",
        "\n",
        "        1. Compreensão do Perfil do Viajante:\n",
        "\n",
        "        Destino: País(es) e Cidade(s).\n",
        "        Período: Datas de partida e retorno (para considerar alta/baixa temporada e eventos).\n",
        "        Número de Viajantes: Adultos e crianças.\n",
        "        Estilo de Viagem: (e.g., mochileiro, econômico, confortável, luxuoso) para calibrar os valores.\n",
        "        Interesses Específicos: (e.g., gastronomia, museus, aventura, compras) para alocar orçamento.\n",
        "\n",
        "        2. Análise e Estimativa por Categoria:\n",
        "\n",
        "        Voos (Melhores Opções):\n",
        "        Pesquisar e comparar companhias aéreas, escalas, duração do voo e aeroportos de partida/chegada.\n",
        "        Considerar voos diretos vs. com escalas (custo/benefício).\n",
        "        Avaliar épocas de compra (antecedência) e flexibilidade de datas para melhores preços.\n",
        "        Incluir custos de bagagem despachada, se aplicável.\n",
        "\n",
        "        Aluguel de Carro:\n",
        "        Avaliar a necessidade do aluguel versus transporte público no destino.\n",
        "        Selecionar o tipo de veículo adequado (econômico, SUV, etc.).\n",
        "        Incluir custos de seguro obrigatório e opcionais, combustível, pedágios e estacionamento.\n",
        "        Comparar locadoras e políticas de retirada/devolução.\n",
        "\n",
        "        Hotéis/Hospedagem (Melhores Opções):\n",
        "        Sugerir tipos de hospedagem (hotéis, hostels, Airbnb, pousadas) com base no estilo de viagem.\n",
        "        Considerar localização (proximidade a atrações, transporte), avaliações, comodidades (café da manhã, Wi-Fi) e política de cancelamento.\n",
        "        Estimar custo por noite, ajustado pela temporada.\n",
        "\n",
        "        Refeições:\n",
        "        Estimar um custo médio diário por pessoa para café da manhã, almoço e jantar, diferenciando entre restaurantes econômicos, médios e sofisticados.\n",
        "        Considerar o custo de lanches, bebidas e gorjetas.\n",
        "        Perguntar se o viajante pretende cozinhar algumas refeições.\n",
        "\n",
        "        Atrações Turísticas e Atividades:\n",
        "        Listar as principais atrações pagas e o custo de seus ingressos.\n",
        "        Sugerir passes turísticos (se vantajosos para a quantidade de atrações).\n",
        "        Incluir custo de tours guiados, shows ou atividades específicas desejadas.\n",
        "\n",
        "        Transporte Local:\n",
        "        Custos de metrô, ônibus, bondes, táxis ou aplicativos de transporte (Uber, Lyft, etc.).\n",
        "        Estimar passes diários/semanais se forem mais econômicos.\n",
        "        Despesas Gerais e Extras:\n",
        "\n",
        "        Seguro Viagem: Item obrigatório e essencial.\n",
        "        Visto e Taxas de Entrada: Se aplicável ao destino.\n",
        "        Comunicações: Custo de chip local ou roaming internacional.\n",
        "        Emergências/Imprevistos: Sugerir uma reserva de 10-15% do total para gastos não planejados.\n",
        "        Compras/Souvenirs: Definir um orçamento para compras pessoais e lembrancinhas.\n",
        "        Outros: Lavanderia, gorjetas adicionais, pequenos gastos diversos.\n",
        "\n",
        "        3. Saída Final:\n",
        "        Faça voce a escolha de uma cidade a ser visitada no pais, caso o não tenha sido escolhida, retorne todos os resultados de custo pelo\n",
        "        estilo de Viagem selecionado no perfil (mochileiro, economico, confortavel e luxuoso) e voce deve escolher automaticamente dois\n",
        "        Interesses Específicos: dentre Gastronomia, Museus, Aventura e Compras.\n",
        "        Apresentar um orçamento detalhado por categoria (Voos, Aluguel de Carro, Hotéis/Hospedagem, Refeições, Atrações Turísticas e Atividades, Transporte Local, Seguro Viagem\n",
        "        Visto e Taxas de Entrada, Comunicações, Emergências/Imprevistos, Compras/Souvenirs e Outros ) , com uma estimativa total convertida para a moeda de origem do viajante\n",
        "        (geralmente BRL) e da moeda local do destino, utilizando a taxa de câmbio atualizada. Oferecer dicas de economia e personalização.\n",
        "\n",
        "        A sua tarefa é usar a ferramenta de busca do google (google_search) respeitando a data inicial e final da viagem\n",
        "        Foque em no maximo 4 opções relevantes respeitando os estilos de Viagem: (mochileiro, econômico, confortável, luxuoso), com base no preço, categoria, e avaliaçoes dos clientes anteriores.\n",
        "        Se uma avaliação tiver poucas informações ou reações entusiasmadas, é possivel que ela não seja tão relevante assim\n",
        "        e pode ser substituido por outro que tenha mais.\n",
        "        Essas avaliações relevantes devem ser atuais, de no maximo um tres meses da data de hoje.\n",
        "        \"\"\",\n",
        "        description = \"Agente que busca melhores voos, carros, hoteis, refeiçoes, atrações turisticas, transporte e custos diretos e indiretos de viagem indicado no Google\",\n",
        "        tools=[google_search],\n",
        "    )\n",
        "    entrada_do_agente_buscador = f\"Tópico: {topico}\\nPaís: {pais}\\nPerfil: {perfil}\\nData de inicio: {data_de_inicio}\\nData de fim: {data_de_fim}\\nNumero_adultos: {numero_adultos}\\nNumero_crianças: {numero_crianças}\"\n",
        "    # Executa o agente\n",
        "    lancamentos_buscados = call_agent(buscador, entrada_do_agente_buscador)\n",
        "    return lancamentos_buscados"
      ],
      "metadata": {
        "id": "o8bqIfi_DyH8"
      },
      "execution_count": 263,
      "outputs": []
    },
    {
      "cell_type": "code",
      "source": [
        "##########################################\n",
        "# --- Agente 2: Revisor de Qualidade --- #\n",
        "##########################################\n",
        "def agente_revisor(topico, lancamentos_buscados):\n",
        "    revisor = Agent(\n",
        "        name=\"agente_revisor\",\n",
        "        model=\"gemini-2.5-flash-preview-04-17\",\n",
        "        instruction=\"\"\"\n",
        "            Você é um Editor e Revisor de Conteúdo meticuloso, especializado em documentos profissionais.\n",
        "            Por ter um público amplo, entre 18 e 70 anos, use sempre um tom de escrita adequado.\n",
        "            Revise o lancamentos_buscados abaixo sobre o tópico indicado, verificando clareza, concisão, correção e tom.\n",
        "            Separar por uma linha em branco cada item da lista.\n",
        "            Se o lancamentos_buscados estiver bom, repita apenas o texto novamente'.\n",
        "            Caso haja problemas, corrija e refaça o texto de maneira adequada, gerando uma versão corrigida\n",
        "            \"\"\",\n",
        "        description=\"Agente revisor de post para documentos profissionais.\"\n",
        "    )\n",
        "    entrada_do_agente_revisor = f\"Tópico: {topico}\\nRascunho: {lancamentos_buscados}\"\n",
        "    # Executa o agente\n",
        "    texto_revisado = call_agent(revisor, entrada_do_agente_revisor)\n",
        "    return texto_revisado"
      ],
      "metadata": {
        "id": "iscEvLUHssOg"
      },
      "execution_count": 264,
      "outputs": []
    },
    {
      "cell_type": "code",
      "source": [
        "##################################################################\n",
        "# --- Agente 3: Buscador da Melhor alternativa de levar ME --- #\n",
        "##################################################################\n",
        "def agente_moeda(topico, pais):\n",
        "    imagem = Agent(\n",
        "        name=\"agente_moeda\",\n",
        "        model=\"gemini-2.5-flash-preview-04-17\",\n",
        "        instruction=\"\"\"\n",
        "        Voce como especialista em cambio da Viktap, por favor me faça um breve resumo de qual a melhor maneira para eu converter o meu\n",
        "        dinheiro local para o dinheiro internacional, considerando cartao de credito, cartao de debito, cartao internacional, remessa para conta\n",
        "        no estrangeiro, ou PIX. No caso do PIX, fale sobre o viktap consultando a fonte no site https://viktap.com.br/\n",
        "        \"\"\",\n",
        "        tools=[google_search],\n",
        "    )\n",
        "    entrada_do_agente_moeda = f\"Tópico: {topico}\\nPais: {pais}\"\n",
        "    # Executa o agente\n",
        "    escolha_moeda = call_agent(imagem, entrada_do_agente_moeda)\n",
        "    return escolha_moeda"
      ],
      "metadata": {
        "id": "4EtHX4VMfO3g"
      },
      "execution_count": 265,
      "outputs": []
    },
    {
      "cell_type": "code",
      "source": [
        "####################################################################\n",
        "# --- Agente 4: Sugestao de Voo, pelo perfil escolhido ----------- #\n",
        "####################################################################\n",
        "def agente_viagem(topico, pais, perfil, aeroporto, data_inicio, data_retorno):\n",
        "    viagem = Agent(\n",
        "        name=\"agente_viagem\",\n",
        "        model=\"gemini-2.5-flash-preview-04-17\",\n",
        "        instruction=\"\"\"\n",
        "        Como um especialista em viagens internacionais da LATAM, faça apenas uma opção resumida para um voo consultando a LATAM saindo\n",
        "        do campo aeroporto e na data de ida data_inicio e data de retorno data_retorno\n",
        "        por favor escolha um voo direto de ida e um voo direto de volta a sua escolha informando o numero do voo e horario de partida e chegada\n",
        "        \"\"\",\n",
        "        tools=[google_search],\n",
        "    )\n",
        "    entrada_do_agente_viagem = f\"Tópico: {topico}\\nPais: {pais}\\nPerfil: {perfil}\\nAeroporto: {aeroporto}\\nInicio: {data_inicio}\\nFim: {data_retorno}\"\n",
        "    # Executa o agente\n",
        "    viagem_pais = call_agent(viagem, entrada_do_agente_viagem)\n",
        "    return viagem_pais"
      ],
      "metadata": {
        "id": "nSql0NARXF7M"
      },
      "execution_count": 266,
      "outputs": []
    },
    {
      "cell_type": "code",
      "source": [
        "################################################################\n",
        "# --- Agente 5: Sugestao de Hotel, refeição e passeio turistico\n",
        "#     pelo perfil escolhido ---------------------------------- #\n",
        "################################################################\n",
        "def agente_outros(topico, pais, perfil, data_inicio, data_retorno):\n",
        "    outros = Agent(\n",
        "        name=\"agente_outros\",\n",
        "        model=\"gemini-2.5-flash-preview-04-17\",\n",
        "        instruction=\"\"\"\n",
        "        Como um especialista em viagens internacionais, faça apenas uma opção resumida para hoteis, refeição e passeios turisticos\n",
        "        levando em consideração na data de ida data_inicio e data de retorno data_retorno\n",
        "        por favor escolha somente 3 opções de hoteis, passeios turisticos e refeicoes.\n",
        "        \"\"\",\n",
        "        tools=[google_search],\n",
        "    )\n",
        "    entrada_do_agente_outros = f\"Tópico: {topico}\\nPais: {pais}\\nPerfil: {perfil}\\nInicio: {data_inicio}\\nFim: {data_retorno}\"\n",
        "    # Executa o agente\n",
        "    outros = call_agent(outros, entrada_do_agente_outros)\n",
        "    return outros"
      ],
      "metadata": {
        "id": "x0pHBjuNpoL9"
      },
      "execution_count": 267,
      "outputs": []
    },
    {
      "cell_type": "code",
      "source": [
        "##agente_buscador(topico, pais, data_inicio, data_retorno, numero_adultos, numero_crianças)\n",
        "##agente_revisor(topico, lancamentos_buscados)\n",
        "##agente_moeda(topico, pais)\n",
        "##agente_viagem(topico, pais, perfil, aeroporto, data_inicio, data_retorno)\n",
        "##agente_outros(topico, pais, perfil, data_inicio, data_retorno)\n",
        "\n",
        "from datetime import datetime\n",
        "\n",
        "def obter_data_do_usuario(param1):\n",
        "    while True:\n",
        "        if param1 == 'ida':\n",
        "          data_str = input(\"Digite a data de inicio (DD/MM/AAAA): \")\n",
        "        else:\n",
        "          data_str = input(\"Digite a data de retorno (DD/MM/AAAA): \")\n",
        "\n",
        "        try:\n",
        "            # Tenta converter a string para um objeto datetime\n",
        "            data_obj = datetime.strptime(data_str, \"%d/%m/%Y\")\n",
        "            return data_obj\n",
        "        except ValueError:\n",
        "            print(\"Formato de data inválido. Por favor, use DD/MM/AAAA.\")\n",
        "\n",
        "def selecionar_perfil(opcoes, mensagem=\"Selecione uma opção:\"):\n",
        "    print(mensagem)\n",
        "    for i, opcao in enumerate(opcoes):\n",
        "        print(f\"[{i + 1}] {opcao}\")\n",
        "\n",
        "    while True:\n",
        "        try:\n",
        "            escolha = input(\"Digite o número da sua escolha: \")\n",
        "            indice_escolhido = int(escolha) - 1 # Ajusta para o índice da lista (0-based)\n",
        "\n",
        "            if 0 <= indice_escolhido < len(opcoes):\n",
        "                return opcoes[indice_escolhido]\n",
        "            else:\n",
        "                print(\"Número inválido. Por favor, digite um número da lista.\")\n",
        "        except ValueError:\n",
        "            print(\"Entrada inválida. Por favor, digite um número.\")\n",
        "\n"
      ],
      "metadata": {
        "id": "MljXgPJWsbbt"
      },
      "execution_count": 268,
      "outputs": []
    },
    {
      "cell_type": "code",
      "source": [
        "topico = 'Viagem'\n",
        "pais = input(\"Digite o Pais/Cidade do destino: \")\n",
        "data_inicio = obter_data_do_usuario('ida')\n",
        "data_retorno = obter_data_do_usuario('fim')\n",
        "adultos = input(\"Digite o numero de adultos: \")\n",
        "criancas = input(\"Digite o numero de crianças: \")\n",
        "opcoes = [\"Mochileiro\", \"Economico\", \"Confortavel\", \"Luxuoso\"]\n",
        "perfil = selecionar_perfil(opcoes, mensagem=\"Selecione uma opção:\")\n",
        "print (perfil)\n",
        "aeroporto = input(\"Digite o aeroporto de partida: \")\n",
        "\n",
        "lancamentos_buscados = agente_buscador(topico, pais, perfil, data_inicio, data_retorno, adultos, criancas)\n",
        "##print(\"\\n Resultado do Agente 1 (Buscador)! \\n\")\n",
        "##display(to_markdown(lancamentos_buscados))\n",
        "##print(\"----------------------------------------------------------------\")\n",
        "\n",
        "post_final = agente_revisor(topico, lancamentos_buscados)\n",
        "display(to_markdown(\"-------------------------------\"))\n",
        "display(to_markdown(\"Recomendações para a sua viagem\"))\n",
        "display(to_markdown(\"-------------------------------\"))\n",
        "display(to_markdown(post_final))\n",
        "\n",
        "escolha_moeda = agente_moeda(topico, pais)\n",
        "display(to_markdown(\"--------------------------------------------------\"))\n",
        "display(to_markdown(\"Dicas financeiras para pagar com moeda estrangeira\"))\n",
        "display(to_markdown(\"--------------------------------------------------\"))\n",
        "display(to_markdown(escolha_moeda))\n",
        "\n",
        "viagem_pais = agente_viagem(topico, pais, perfil, aeroporto, data_inicio, data_retorno)\n",
        "display(to_markdown(\"------------------------------------\"))\n",
        "display(to_markdown(\"Dica de um agente de viagem da LATAM\"))\n",
        "display(to_markdown(\"------------------------------------\"))\n",
        "display(to_markdown(viagem_pais))\n",
        "\n",
        "outros = agente_outros(topico, pais, perfil, data_inicio, data_retorno)\n",
        "display(to_markdown(\"---------------------------------------------------------\"))\n",
        "display(to_markdown(\"Algumas dicas de Hoteis, refeiçoes e passeios turisticos\"))\n",
        "display(to_markdown(\"---------------------------------------------------------\"))\n",
        "display(to_markdown(outros))\n"
      ],
      "metadata": {
        "colab": {
          "base_uri": "https://localhost:8080/",
          "height": 1000
        },
        "id": "0y13Z4VGyFDx",
        "outputId": "7a8f7298-5541-433e-bd4a-802412c6b4a6"
      },
      "execution_count": 281,
      "outputs": [
        {
          "name": "stdout",
          "output_type": "stream",
          "text": [
            "Digite o Pais/Cidade do destino: Canada\n",
            "Digite a data de inicio (DD/MM/AAAA): 15/06/2025\n",
            "Digite a data de retorno (DD/MM/AAAA): 30/06/2025\n",
            "Digite o numero de adultos: 1\n",
            "Digite o numero de crianças: 0\n",
            "Selecione uma opção:\n",
            "[1] Mochileiro\n",
            "[2] Economico\n",
            "[3] Confortavel\n",
            "[4] Luxuoso\n",
            "Digite o número da sua escolha: 1\n",
            "Mochileiro\n",
            "Digite o aeroporto de partida: gru\n"
          ]
        },
        {
          "output_type": "display_data",
          "data": {
            "text/plain": [
              "\u001b[35m▌ \u001b[0m\u001b[33m───────────────────────────────────────────────────────────────────────────────────────────────────────────────\u001b[0m\n"
            ],
            "text/html": [
              "<pre style=\"white-space:pre;overflow-x:auto;line-height:normal;font-family:Menlo,'DejaVu Sans Mono',consolas,'Courier New',monospace\"><span style=\"color: #800080; text-decoration-color: #800080\">▌ </span><span style=\"color: #808000; text-decoration-color: #808000\">───────────────────────────────────────────────────────────────────────────────────────────────────────────────</span>\n",
              "</pre>\n"
            ]
          },
          "metadata": {}
        },
        {
          "output_type": "display_data",
          "data": {
            "text/plain": [
              "\n",
              "\u001b[35m▌ \u001b[0m\u001b[35mRecomendações para a sua viagem\u001b[0m\u001b[35m                                                                                \u001b[0m\n"
            ],
            "text/html": [
              "<pre style=\"white-space:pre;overflow-x:auto;line-height:normal;font-family:Menlo,'DejaVu Sans Mono',consolas,'Courier New',monospace\">\n",
              "<span style=\"color: #800080; text-decoration-color: #800080\">▌ Recomendações para a sua viagem                                                                                </span>\n",
              "</pre>\n"
            ]
          },
          "metadata": {}
        },
        {
          "output_type": "display_data",
          "data": {
            "text/plain": [
              "\u001b[35m▌ \u001b[0m\u001b[33m───────────────────────────────────────────────────────────────────────────────────────────────────────────────\u001b[0m\n"
            ],
            "text/html": [
              "<pre style=\"white-space:pre;overflow-x:auto;line-height:normal;font-family:Menlo,'DejaVu Sans Mono',consolas,'Courier New',monospace\"><span style=\"color: #800080; text-decoration-color: #800080\">▌ </span><span style=\"color: #808000; text-decoration-color: #808000\">───────────────────────────────────────────────────────────────────────────────────────────────────────────────</span>\n",
              "</pre>\n"
            ]
          },
          "metadata": {}
        },
        {
          "output_type": "display_data",
          "data": {
            "text/plain": [
              "\n",
              "\u001b[35m▌ \u001b[0m\u001b[35mOlá! Como seu especialista em calcular gastos de viagem, vou te ajudar a planejar essa aventura de mochileiro \u001b[0m\u001b[35m \u001b[0m\n",
              "\u001b[35m▌ \u001b[0m\u001b[35mpelo Canadá.\u001b[0m\u001b[35m \u001b[0m\u001b[35mConsiderando o seu perfil de mochileiro, a duração da viagem de 15 de junho a 30 de junho de 2025 \u001b[0m\n",
              "\u001b[35m▌ \u001b[0m\u001b[35me o fato de ser uma viagem individual, escolhi \u001b[0m\u001b[1;35mMontreal\u001b[0m\u001b[35m como destino dentro do Canadá. Montreal oferece uma \u001b[0m\u001b[35m   \u001b[0m\n",
              "\u001b[35m▌ \u001b[0m\u001b[35mexcelente infraestrutura para mochileiros, com boa rede de transporte público, hostels e muitas atividades \u001b[0m\u001b[35m    \u001b[0m\n",
              "\u001b[35m▌ \u001b[0m\u001b[35mculturais e gastronômicas acessíveis.\u001b[0m\u001b[35m                                                                          \u001b[0m\n",
              "\u001b[35m▌ \u001b[0m\u001b[35mPara complementar o seu estilo de viagem, selecionei dois interesses específicos que combinam com o perfil \u001b[0m\u001b[35m    \u001b[0m\n",
              "\u001b[35m▌ \u001b[0m\u001b[35mmochileiro em Montreal: \u001b[0m\u001b[1;35mGastronomia\u001b[0m\u001b[35m (explorar a culinária local de forma econômica, como mercados e \u001b[0m\u001b[35m           \u001b[0m\n",
              "\u001b[35m▌ \u001b[0m\u001b[35mlanchonetes) e \u001b[0m\u001b[1;35mMuseus\u001b[0m\u001b[35m (aproveitar a rica cena cultural da cidade, buscando opções gratuitas ou com preços \u001b[0m\u001b[35m     \u001b[0m\n",
              "\u001b[35m▌ \u001b[0m\u001b[35macessíveis).\u001b[0m\u001b[35m                                                                                                   \u001b[0m\n",
              "\u001b[35m▌ \u001b[0m\u001b[35mAgora, vou realizar as buscas para estimar os custos por categoria para a sua viagem a Montreal.\u001b[0m\u001b[35m               \u001b[0m\n",
              "\u001b[35m▌ \u001b[0m\u001b[35mOkay, com base nas buscas e no seu perfil de mochileiro interessado em gastronomia e museus, preparei a \u001b[0m\u001b[35m       \u001b[0m\n",
              "\u001b[35m▌ \u001b[0m\u001b[35mseguinte estimativa de gastos para sua viagem de 15 dias em Montreal, de 15 a 30 de junho de 2025:\u001b[0m\u001b[35m             \u001b[0m\n",
              "\u001b[35m▌ \u001b[0m\u001b[1;35mCotação Atual (Maio de 2025):\u001b[0m\u001b[35m 1 CAD ≈ 4,06 BRL\u001b[0m\u001b[35m                                                                 \u001b[0m\n",
              "\u001b[35m▌ \u001b[0m\u001b[1;35mEstimativa de Gastos para 1 pessoa (Mochileiro) - 15 dias em Montreal\u001b[0m\u001b[35m                                          \u001b[0m\n",
              "\u001b[35m▌ \u001b[0m\u001b[1;33m • \u001b[0m\u001b[1;35mVoos (ida e volta para São Paulo - Montreal):\u001b[0m\u001b[35m                                                               \u001b[0m\n",
              "\u001b[35m▌ \u001b[0m\u001b[1;33m   \u001b[0m\u001b[1;33m • \u001b[0m\u001b[35mPesquisas indicam voos de ida e volta de São Paulo (GRU) para Montreal (YUL) em junho de 2025 a partir de\u001b[0m\n",
              "\u001b[35m▌ \u001b[0m\u001b[1;33m   \u001b[0m\u001b[1;33m   \u001b[0m\u001b[35mR$ 3.204, podendo chegar a valores bem mais altos dependendo da companhia e escalas.\u001b[0m\u001b[35m                     \u001b[0m\n",
              "\u001b[35m▌ \u001b[0m\u001b[1;33m   \u001b[0m\u001b[1;33m • \u001b[0m\u001b[35mConsiderando o perfil mochileiro, buscamos a opção mais econômica, que geralmente envolve voos com \u001b[0m\u001b[35m      \u001b[0m\n",
              "\u001b[35m▌ \u001b[0m\u001b[1;33m   \u001b[0m\u001b[1;33m   \u001b[0m\u001b[35mescalas.\u001b[0m\u001b[35m                                                                                                 \u001b[0m\n",
              "\u001b[35m▌ \u001b[0m\u001b[1;33m   \u001b[0m\u001b[1;33m • \u001b[0m\u001b[3;35mEstimativa Mochileiro:\u001b[0m\u001b[35m R$ 3.500 - R$ 5.000 (aproximadamente 860 CAD - 1230 CAD) - \u001b[0m\u001b[3;35mEstimaremos R$ 4.250 \u001b[0m\u001b[35m  \u001b[0m\n",
              "\u001b[35m▌ \u001b[0m\u001b[1;33m   \u001b[0m\u001b[1;33m   \u001b[0m\u001b[3;35m(aproximadamente 1047 CAD)\u001b[0m\u001b[35m                                                                               \u001b[0m\n",
              "\u001b[35m▌ \u001b[0m\u001b[1;33m • \u001b[0m\u001b[1;35mAluguel de Carro:\u001b[0m\u001b[35m                                                                                           \u001b[0m\n",
              "\u001b[35m▌ \u001b[0m\u001b[1;33m   \u001b[0m\u001b[1;33m • \u001b[0m\u001b[35mPara Montreal, o transporte público é eficiente e amplamente utilizado por turistas, sendo uma opção mais\u001b[0m\n",
              "\u001b[35m▌ \u001b[0m\u001b[1;33m   \u001b[0m\u001b[1;33m   \u001b[0m\u001b[35meconômica para mochileiros. Alugar carro é mais recomendado para visitar cidades vizinhas.\u001b[0m\u001b[35m               \u001b[0m\n",
              "\u001b[35m▌ \u001b[0m\u001b[1;33m   \u001b[0m\u001b[1;33m • \u001b[0m\u001b[3;35mEstimativa Mochileiro:\u001b[0m\u001b[35m R$ 0\u001b[0m\u001b[35m                                                                              \u001b[0m\n",
              "\u001b[35m▌ \u001b[0m\u001b[1;33m • \u001b[0m\u001b[1;35mHotéis/Hospedagem (15 noites):\u001b[0m\u001b[35m                                                                              \u001b[0m\n",
              "\u001b[35m▌ \u001b[0m\u001b[1;33m   \u001b[0m\u001b[1;33m • \u001b[0m\u001b[35mHostels são a opção ideal para mochileiros, oferecendo bom custo-benefício e oportunidade de socializar.\u001b[0m\u001b[35m \u001b[0m\n",
              "\u001b[35m▌ \u001b[0m\u001b[1;33m   \u001b[0m\u001b[1;33m • \u001b[0m\u001b[35mA diária em hostels em Montreal varia, mas é possível encontrar opções a partir de R$ 108.\u001b[0m\u001b[35m               \u001b[0m\n",
              "\u001b[35m▌ \u001b[0m\u001b[1;33m   \u001b[0m\u001b[1;33m • \u001b[0m\u001b[3;35mEstimativa Mochileiro:\u001b[0m\u001b[35m R$ 108/noite * 15 noites = R$ 1.620 (aproximadamente 399 CAD) - \u001b[0m\u001b[3;35mEstimaremos R$ \u001b[0m\u001b[35m   \u001b[0m\n",
              "\u001b[35m▌ \u001b[0m\u001b[1;33m   \u001b[0m\u001b[1;33m   \u001b[0m\u001b[3;35m1.800 (aproximadamente 443 CAD) para ter uma pequena margem.\u001b[0m\u001b[35m                                             \u001b[0m\n",
              "\u001b[35m▌ \u001b[0m\u001b[1;33m • \u001b[0m\u001b[1;35mRefeições (15 dias):\u001b[0m\u001b[35m                                                                                        \u001b[0m\n",
              "\u001b[35m▌ \u001b[0m\u001b[1;33m   \u001b[0m\u001b[1;33m • \u001b[0m\u001b[35mCom foco em gastronomia econômica, a ideia é explorar mercados, lanchonetes e cozinhar algumas refeições \u001b[0m\n",
              "\u001b[35m▌ \u001b[0m\u001b[1;33m   \u001b[0m\u001b[1;33m   \u001b[0m\u001b[35mno hostel (se disponível).\u001b[0m\u001b[35m                                                                               \u001b[0m\n",
              "\u001b[35m▌ \u001b[0m\u001b[1;33m   \u001b[0m\u001b[1;33m • \u001b[0m\u001b[35mO custo médio de uma refeição barata em Montreal é de cerca de C$ 14,30. É possível encontrar opções por \u001b[0m\n",
              "\u001b[35m▌ \u001b[0m\u001b[1;33m   \u001b[0m\u001b[1;33m   \u001b[0m\u001b[35mmenos de 10 dólares, como bagels e sanduíches.\u001b[0m\u001b[35m                                                           \u001b[0m\n",
              "\u001b[35m▌ \u001b[0m\u001b[1;33m   \u001b[0m\u001b[1;33m • \u001b[0m\u001b[3;35mEstimativa Mochileiro:\u001b[0m\u001b[35m C$ 30/dia (café da manhã simples, almoço barato, jantar econômico/cozinhando) * 15\u001b[0m\n",
              "\u001b[35m▌ \u001b[0m\u001b[1;33m   \u001b[0m\u001b[1;33m   \u001b[0m\u001b[35mdias = C$ 450 (aproximadamente R$ 1.827) - \u001b[0m\u001b[3;35mEstimaremos R$ 1.900 (aproximadamente 468 CAD)\u001b[0m\u001b[35m                \u001b[0m\n",
              "\u001b[35m▌ \u001b[0m\u001b[1;33m • \u001b[0m\u001b[1;35mAtrações Turísticas e Atividades:\u001b[0m\u001b[35m                                                                           \u001b[0m\n",
              "\u001b[35m▌ \u001b[0m\u001b[1;33m   \u001b[0m\u001b[1;33m • \u001b[0m\u001b[35mMontreal oferece diversos museus com preços variados. O Museu das Belas Artes de Montreal tem entrada \u001b[0m\u001b[35m   \u001b[0m\n",
              "\u001b[35m▌ \u001b[0m\u001b[1;33m   \u001b[0m\u001b[1;33m   \u001b[0m\u001b[35mgratuita para a coleção permanente para residentes de Quebec, mas para exposições e não residentes há \u001b[0m\u001b[35m   \u001b[0m\n",
              "\u001b[35m▌ \u001b[0m\u001b[1;33m   \u001b[0m\u001b[1;33m   \u001b[0m\u001b[35mcusto (CAD 24 para adultos acima de 31, CAD 16 para 21 a 30 anos). O Biodôme custa a partir de US$ 23,25.\u001b[0m\n",
              "\u001b[35m▌ \u001b[0m\u001b[1;33m   \u001b[0m\u001b[1;33m • \u001b[0m\u001b[35mPara um perfil mochileiro interessado em museus, o foco será em explorar aqueles com entrada gratuita \u001b[0m\u001b[35m   \u001b[0m\n",
              "\u001b[35m▌ \u001b[0m\u001b[1;33m   \u001b[0m\u001b[1;33m   \u001b[0m\u001b[35mpara coleções fixas e talvez escolher 1 ou 2 pagos.\u001b[0m\u001b[35m                                                      \u001b[0m\n",
              "\u001b[35m▌ \u001b[0m\u001b[1;33m   \u001b[0m\u001b[1;33m • \u001b[0m\u001b[3;35mEstimativa Mochileiro:\u001b[0m\u001b[35m C$ 50 - C$ 100 para ingressos de museus pagos ou atividades específicas \u001b[0m\u001b[35m          \u001b[0m\n",
              "\u001b[35m▌ \u001b[0m\u001b[1;33m   \u001b[0m\u001b[1;33m   \u001b[0m\u001b[35m(aproximadamente R$ 203 - R$ 406) - \u001b[0m\u001b[3;35mEstimaremos R$ 300 (aproximadamente 74 CAD)\u001b[0m\u001b[35m                          \u001b[0m\n",
              "\u001b[35m▌ \u001b[0m\u001b[1;33m • \u001b[0m\u001b[1;35mTransporte Local (15 dias):\u001b[0m\u001b[35m                                                                                 \u001b[0m\n",
              "\u001b[35m▌ \u001b[0m\u001b[1;33m   \u001b[0m\u001b[1;33m • \u001b[0m\u001b[35mO transporte público em Montreal (metrô e ônibus) é eficiente. Há passes semanais que podem ser mais \u001b[0m\u001b[35m    \u001b[0m\n",
              "\u001b[35m▌ \u001b[0m\u001b[1;33m   \u001b[0m\u001b[1;33m   \u001b[0m\u001b[35meconômicos. Um passe semanal custa CAD $23,50. Para 15 dias, seriam necessários 2 passes semanais.\u001b[0m\u001b[35m       \u001b[0m\n",
              "\u001b[35m▌ \u001b[0m\u001b[1;33m   \u001b[0m\u001b[1;33m • \u001b[0m\u001b[3;35mEstimativa Mochileiro:\u001b[0m\u001b[35m 2 * C$ 23,50 = C$ 47 (aproximadamente R$ 191) - \u001b[0m\u001b[3;35mEstimaremos R$ 200 \u001b[0m\u001b[35m               \u001b[0m\n",
              "\u001b[35m▌ \u001b[0m\u001b[1;33m   \u001b[0m\u001b[1;33m   \u001b[0m\u001b[3;35m(aproximadamente 49 CAD)\u001b[0m\u001b[35m                                                                                 \u001b[0m\n",
              "\u001b[35m▌ \u001b[0m\u001b[1;33m • \u001b[0m\u001b[1;35mSeguro Viagem:\u001b[0m\u001b[35m                                                                                              \u001b[0m\n",
              "\u001b[35m▌ \u001b[0m\u001b[1;33m   \u001b[0m\u001b[1;33m • \u001b[0m\u001b[35mO seguro viagem não é obrigatório para entrar no Canadá, mas altamente recomendado devido aos altos \u001b[0m\u001b[35m     \u001b[0m\n",
              "\u001b[35m▌ \u001b[0m\u001b[1;33m   \u001b[0m\u001b[1;33m   \u001b[0m\u001b[35mcustos de saúde no país.\u001b[0m\u001b[35m                                                                                 \u001b[0m\n",
              "\u001b[35m▌ \u001b[0m\u001b[1;33m   \u001b[0m\u001b[1;33m • \u001b[0m\u001b[35mPara 15 dias, o custo médio varia de R$ 150 a R$ 350.\u001b[0m\u001b[35m                                                    \u001b[0m\n",
              "\u001b[35m▌ \u001b[0m\u001b[1;33m   \u001b[0m\u001b[1;33m • \u001b[0m\u001b[3;35mEstimativa Mochileiro:\u001b[0m\u001b[35m R$ 250 (aproximadamente 62 CAD)\u001b[0m\u001b[35m                                                   \u001b[0m\n",
              "\u001b[35m▌ \u001b[0m\u001b[1;33m • \u001b[0m\u001b[1;35mVisto e Taxas de Entrada:\u001b[0m\u001b[35m                                                                                   \u001b[0m\n",
              "\u001b[35m▌ \u001b[0m\u001b[1;33m   \u001b[0m\u001b[1;33m • \u001b[0m\u001b[35mBrasileiros que atendem a certos requisitos (tiveram visto canadense nos últimos 10 anos ou possuem visto\u001b[0m\n",
              "\u001b[35m▌ \u001b[0m\u001b[1;33m   \u001b[0m\u001b[1;33m   \u001b[0m\u001b[35mamericano válido) podem solicitar o eTA (Autorização Eletrônica de Viagem), que custa C$ 7. Caso \u001b[0m\u001b[35m        \u001b[0m\n",
              "\u001b[35m▌ \u001b[0m\u001b[1;33m   \u001b[0m\u001b[1;33m   \u001b[0m\u001b[35mcontrário, é necessário visto convencional, que é mais caro. Consideraremos a opção do eTA por ser mais \u001b[0m\u001b[35m \u001b[0m\n",
              "\u001b[35m▌ \u001b[0m\u001b[1;33m   \u001b[0m\u001b[1;33m   \u001b[0m\u001b[35mcomum para turistas e ter baixo custo.\u001b[0m\u001b[35m                                                                   \u001b[0m\n",
              "\u001b[35m▌ \u001b[0m\u001b[1;33m   \u001b[0m\u001b[1;33m • \u001b[0m\u001b[3;35mEstimativa Mochileiro:\u001b[0m\u001b[35m C$ 7 (aproximadamente R$ 29)\u001b[0m\u001b[35m                                                      \u001b[0m\n",
              "\u001b[35m▌ \u001b[0m\u001b[1;33m • \u001b[0m\u001b[1;35mComunicações (Chip Local):\u001b[0m\u001b[35m                                                                                  \u001b[0m\n",
              "\u001b[35m▌ \u001b[0m\u001b[1;33m   \u001b[0m\u001b[1;33m • \u001b[0m\u001b[35mUm chip internacional para 15 dias com dados ilimitados custa a partir de US$ 31 (aproximadamente R$ \u001b[0m\u001b[35m    \u001b[0m\n",
              "\u001b[35m▌ \u001b[0m\u001b[1;33m   \u001b[0m\u001b[1;33m   \u001b[0m\u001b[35m150-200).\u001b[0m\u001b[35m                                                                                                \u001b[0m\n",
              "\u001b[35m▌ \u001b[0m\u001b[1;33m   \u001b[0m\u001b[1;33m • \u001b[0m\u001b[3;35mEstimativa Mochileiro:\u001b[0m\u001b[35m R$ 180 (aproximadamente 44 CAD)\u001b[0m\u001b[35m                                                   \u001b[0m\n",
              "\u001b[35m▌ \u001b[0m\u001b[1;33m • \u001b[0m\u001b[1;35mEmergências/Imprevistos (10% do total estimado até agora):\u001b[0m\u001b[35m                                                  \u001b[0m\n",
              "\u001b[35m▌ \u001b[0m\u001b[1;33m   \u001b[0m\u001b[1;33m • \u001b[0m\u001b[35m(R$ 4250 + R$ 1800 + R$ 1900 + R$ 300 + R$ 200 + R$ 250 + R$ 29 + R$ 180) * 10% = R$ 891\u001b[0m\u001b[35m                 \u001b[0m\n",
              "\u001b[35m▌ \u001b[0m\u001b[1;33m   \u001b[0m\u001b[1;33m • \u001b[0m\u001b[3;35mEstimativa Mochileiro:\u001b[0m\u001b[35m R$ 900 (aproximadamente 222 CAD)\u001b[0m\u001b[35m                                                  \u001b[0m\n",
              "\u001b[35m▌ \u001b[0m\u001b[1;33m • \u001b[0m\u001b[1;35mCompras/Souvenirs:\u001b[0m\u001b[35m                                                                                          \u001b[0m\n",
              "\u001b[35m▌ \u001b[0m\u001b[1;33m   \u001b[0m\u001b[1;33m • \u001b[0m\u001b[35mPara um mochileiro, este gasto costuma ser menor, focado em lembrancinhas simples.\u001b[0m\u001b[35m                       \u001b[0m\n",
              "\u001b[35m▌ \u001b[0m\u001b[1;33m   \u001b[0m\u001b[1;33m • \u001b[0m\u001b[3;35mEstimativa Mochileiro:\u001b[0m\u001b[35m R$ 300 (aproximadamente 74 CAD)\u001b[0m\u001b[35m                                                   \u001b[0m\n",
              "\u001b[35m▌ \u001b[0m\u001b[1;33m • \u001b[0m\u001b[1;35mOutros (Lavanderia, pequenos gastos):\u001b[0m\u001b[35m                                                                       \u001b[0m\n",
              "\u001b[35m▌ \u001b[0m\u001b[1;33m   \u001b[0m\u001b[1;33m • \u001b[0m\u001b[3;35mEstimativa Mochileiro:\u001b[0m\u001b[35m R$ 200 (aproximadamente 49 CAD)\u001b[0m\u001b[35m                                                   \u001b[0m\n",
              "\u001b[35m▌ \u001b[0m\u001b[1;35mResumo da Estimativa de Gastos (Mochileiro - 15 dias em Montreal):\u001b[0m\u001b[35m                                             \u001b[0m\n",
              "\u001b[35m▌ \u001b[0m\u001b[35m                                                                          \u001b[0m\u001b[35m                                     \u001b[0m\n",
              "\u001b[35m▌ \u001b[0m\u001b[35m \u001b[0m\u001b[1;35m \u001b[0m\u001b[1;35mCategoria\u001b[0m\u001b[1;35m               \u001b[0m\u001b[1;35m \u001b[0m\u001b[35m \u001b[0m\u001b[1;35m \u001b[0m\u001b[1;35mCusto Estimado (BRL)\u001b[0m\u001b[1;35m \u001b[0m\u001b[35m \u001b[0m\u001b[1;35m \u001b[0m\u001b[1;35mCusto Estimado (CAD)\u001b[0m\u001b[1;35m \u001b[0m\u001b[35m \u001b[0m\u001b[35m                                     \u001b[0m\n",
              "\u001b[35m▌ \u001b[0m\u001b[35m ━━━━━━━━━━━━━━━━━━━━━━━━━━━━━━━━━━━━━━━━━━━━━━━━━━━━━━━━━━━━━━━━━━━━━━━━ \u001b[0m\u001b[35m                                     \u001b[0m\n",
              "\u001b[35m▌ \u001b[0m\u001b[35m \u001b[0m\u001b[35m \u001b[0m\u001b[35mVoos\u001b[0m\u001b[35m                    \u001b[0m\u001b[35m \u001b[0m\u001b[35m \u001b[0m\u001b[35m \u001b[0m\u001b[35mR$ 4.250\u001b[0m\u001b[35m            \u001b[0m\u001b[35m \u001b[0m\u001b[35m \u001b[0m\u001b[35m \u001b[0m\u001b[35mC$ 1.047\u001b[0m\u001b[35m            \u001b[0m\u001b[35m \u001b[0m\u001b[35m \u001b[0m\u001b[35m                                     \u001b[0m\n",
              "\u001b[35m▌ \u001b[0m\u001b[35m \u001b[0m\u001b[35m \u001b[0m\u001b[35mAluguel de Carro\u001b[0m\u001b[35m        \u001b[0m\u001b[35m \u001b[0m\u001b[35m \u001b[0m\u001b[35m \u001b[0m\u001b[35mR$ 0\u001b[0m\u001b[35m                \u001b[0m\u001b[35m \u001b[0m\u001b[35m \u001b[0m\u001b[35m \u001b[0m\u001b[35mC$ 0\u001b[0m\u001b[35m                \u001b[0m\u001b[35m \u001b[0m\u001b[35m \u001b[0m\u001b[35m                                     \u001b[0m\n",
              "\u001b[35m▌ \u001b[0m\u001b[35m \u001b[0m\u001b[35m \u001b[0m\u001b[35mHotéis/Hospedagem\u001b[0m\u001b[35m       \u001b[0m\u001b[35m \u001b[0m\u001b[35m \u001b[0m\u001b[35m \u001b[0m\u001b[35mR$ 1.800\u001b[0m\u001b[35m            \u001b[0m\u001b[35m \u001b[0m\u001b[35m \u001b[0m\u001b[35m \u001b[0m\u001b[35mC$ 443\u001b[0m\u001b[35m              \u001b[0m\u001b[35m \u001b[0m\u001b[35m \u001b[0m\u001b[35m                                     \u001b[0m\n",
              "\u001b[35m▌ \u001b[0m\u001b[35m \u001b[0m\u001b[35m \u001b[0m\u001b[35mRefeições\u001b[0m\u001b[35m               \u001b[0m\u001b[35m \u001b[0m\u001b[35m \u001b[0m\u001b[35m \u001b[0m\u001b[35mR$ 1.900\u001b[0m\u001b[35m            \u001b[0m\u001b[35m \u001b[0m\u001b[35m \u001b[0m\u001b[35m \u001b[0m\u001b[35mC$ 468\u001b[0m\u001b[35m              \u001b[0m\u001b[35m \u001b[0m\u001b[35m \u001b[0m\u001b[35m                                     \u001b[0m\n",
              "\u001b[35m▌ \u001b[0m\u001b[35m \u001b[0m\u001b[35m \u001b[0m\u001b[35mAtrações/Atividades\u001b[0m\u001b[35m     \u001b[0m\u001b[35m \u001b[0m\u001b[35m \u001b[0m\u001b[35m \u001b[0m\u001b[35mR$ 300\u001b[0m\u001b[35m              \u001b[0m\u001b[35m \u001b[0m\u001b[35m \u001b[0m\u001b[35m \u001b[0m\u001b[35mC$ 74\u001b[0m\u001b[35m               \u001b[0m\u001b[35m \u001b[0m\u001b[35m \u001b[0m\u001b[35m                                     \u001b[0m\n",
              "\u001b[35m▌ \u001b[0m\u001b[35m \u001b[0m\u001b[35m \u001b[0m\u001b[35mTransporte Local\u001b[0m\u001b[35m        \u001b[0m\u001b[35m \u001b[0m\u001b[35m \u001b[0m\u001b[35m \u001b[0m\u001b[35mR$ 200\u001b[0m\u001b[35m              \u001b[0m\u001b[35m \u001b[0m\u001b[35m \u001b[0m\u001b[35m \u001b[0m\u001b[35mC$ 49\u001b[0m\u001b[35m               \u001b[0m\u001b[35m \u001b[0m\u001b[35m \u001b[0m\u001b[35m                                     \u001b[0m\n",
              "\u001b[35m▌ \u001b[0m\u001b[35m \u001b[0m\u001b[35m \u001b[0m\u001b[35mSeguro Viagem\u001b[0m\u001b[35m           \u001b[0m\u001b[35m \u001b[0m\u001b[35m \u001b[0m\u001b[35m \u001b[0m\u001b[35mR$ 250\u001b[0m\u001b[35m              \u001b[0m\u001b[35m \u001b[0m\u001b[35m \u001b[0m\u001b[35m \u001b[0m\u001b[35mC$ 62\u001b[0m\u001b[35m               \u001b[0m\u001b[35m \u001b[0m\u001b[35m \u001b[0m\u001b[35m                                     \u001b[0m\n",
              "\u001b[35m▌ \u001b[0m\u001b[35m \u001b[0m\u001b[35m \u001b[0m\u001b[35mVisto e Taxas de Entrada\u001b[0m\u001b[35m \u001b[0m\u001b[35m \u001b[0m\u001b[35m \u001b[0m\u001b[35mR$ 29\u001b[0m\u001b[35m               \u001b[0m\u001b[35m \u001b[0m\u001b[35m \u001b[0m\u001b[35m \u001b[0m\u001b[35mC$ 7\u001b[0m\u001b[35m                \u001b[0m\u001b[35m \u001b[0m\u001b[35m \u001b[0m\u001b[35m                                     \u001b[0m\n",
              "\u001b[35m▌ \u001b[0m\u001b[35m \u001b[0m\u001b[35m \u001b[0m\u001b[35mComunicações\u001b[0m\u001b[35m            \u001b[0m\u001b[35m \u001b[0m\u001b[35m \u001b[0m\u001b[35m \u001b[0m\u001b[35mR$ 180\u001b[0m\u001b[35m              \u001b[0m\u001b[35m \u001b[0m\u001b[35m \u001b[0m\u001b[35m \u001b[0m\u001b[35mC$ 44\u001b[0m\u001b[35m               \u001b[0m\u001b[35m \u001b[0m\u001b[35m \u001b[0m\u001b[35m                                     \u001b[0m\n",
              "\u001b[35m▌ \u001b[0m\u001b[35m \u001b[0m\u001b[35m \u001b[0m\u001b[35mEmergências/Imprevistos\u001b[0m\u001b[35m \u001b[0m\u001b[35m \u001b[0m\u001b[35m \u001b[0m\u001b[35m \u001b[0m\u001b[35mR$ 900\u001b[0m\u001b[35m              \u001b[0m\u001b[35m \u001b[0m\u001b[35m \u001b[0m\u001b[35m \u001b[0m\u001b[35mC$ 222\u001b[0m\u001b[35m              \u001b[0m\u001b[35m \u001b[0m\u001b[35m \u001b[0m\u001b[35m                                     \u001b[0m\n",
              "\u001b[35m▌ \u001b[0m\u001b[35m \u001b[0m\u001b[35m \u001b[0m\u001b[35mCompras/Souvenirs\u001b[0m\u001b[35m       \u001b[0m\u001b[35m \u001b[0m\u001b[35m \u001b[0m\u001b[35m \u001b[0m\u001b[35mR$ 300\u001b[0m\u001b[35m              \u001b[0m\u001b[35m \u001b[0m\u001b[35m \u001b[0m\u001b[35m \u001b[0m\u001b[35mC$ 74\u001b[0m\u001b[35m               \u001b[0m\u001b[35m \u001b[0m\u001b[35m \u001b[0m\u001b[35m                                     \u001b[0m\n",
              "\u001b[35m▌ \u001b[0m\u001b[35m \u001b[0m\u001b[35m \u001b[0m\u001b[35mOutros\u001b[0m\u001b[35m                  \u001b[0m\u001b[35m \u001b[0m\u001b[35m \u001b[0m\u001b[35m \u001b[0m\u001b[35mR$ 200\u001b[0m\u001b[35m              \u001b[0m\u001b[35m \u001b[0m\u001b[35m \u001b[0m\u001b[35m \u001b[0m\u001b[35mC$ 49\u001b[0m\u001b[35m               \u001b[0m\u001b[35m \u001b[0m\u001b[35m \u001b[0m\u001b[35m                                     \u001b[0m\n",
              "\u001b[35m▌ \u001b[0m\u001b[35m \u001b[0m\u001b[35m \u001b[0m\u001b[1;35mTOTAL ESTIMADO\u001b[0m\u001b[35m          \u001b[0m\u001b[35m \u001b[0m\u001b[35m \u001b[0m\u001b[35m \u001b[0m\u001b[1;35mR$ 10.309\u001b[0m\u001b[35m           \u001b[0m\u001b[35m \u001b[0m\u001b[35m \u001b[0m\u001b[35m \u001b[0m\u001b[1;35mC$ 2.539\u001b[0m\u001b[35m            \u001b[0m\u001b[35m \u001b[0m\u001b[35m \u001b[0m\u001b[35m                                     \u001b[0m\n",
              "\u001b[35m▌ \u001b[0m\u001b[35m                                                                          \u001b[0m\u001b[35m                                     \u001b[0m\n",
              "\u001b[35m▌ \u001b[0m\u001b[1;35mObservações e Dicas de Economia para Mochileiros em Montreal:\u001b[0m\u001b[35m                                                  \u001b[0m\n",
              "\u001b[35m▌ \u001b[0m\u001b[1;33m • \u001b[0m\u001b[1;35mVoos:\u001b[0m\u001b[35m Monitore os preços das passagens com antecedência, use comparadores de voos e considere aeroportos \u001b[0m\u001b[35m   \u001b[0m\n",
              "\u001b[35m▌ \u001b[0m\u001b[1;33m   \u001b[0m\u001b[35mpróximos. Voos com escalas costumam ser mais baratos.\u001b[0m\u001b[35m                                                       \u001b[0m\n",
              "\u001b[35m▌ \u001b[0m\u001b[1;33m • \u001b[0m\u001b[1;35mHospedagem:\u001b[0m\u001b[35m Reserve hostels com boas avaliações de localização e limpeza. Muitos oferecem cozinha, o que \u001b[0m\u001b[35m   \u001b[0m\n",
              "\u001b[35m▌ \u001b[0m\u001b[1;33m   \u001b[0m\u001b[35majuda a economizar com refeições.\u001b[0m\u001b[35m                                                                           \u001b[0m\n",
              "\u001b[35m▌ \u001b[0m\u001b[1;33m • \u001b[0m\u001b[1;35mRefeições:\u001b[0m\u001b[35m Explore os mercados públicos (como o Jean-Talon) para comprar ingredientes frescos e mais \u001b[0m\u001b[35m       \u001b[0m\n",
              "\u001b[35m▌ \u001b[0m\u001b[1;33m   \u001b[0m\u001b[35mbaratos. Experimente as \"cantines\" para provar pratos locais a preços acessíveis, como o Poutine.\u001b[0m\u001b[35m           \u001b[0m\n",
              "\u001b[35m▌ \u001b[0m\u001b[1;33m • \u001b[0m\u001b[1;35mTransporte Local:\u001b[0m\u001b[35m O passe semanal de transporte público é uma excelente opção para reduzir custos. Montreal \u001b[0m\n",
              "\u001b[35m▌ \u001b[0m\u001b[1;33m   \u001b[0m\u001b[35mé uma cidade agradável para ser explorada a pé em muitas áreas.\u001b[0m\u001b[35m                                             \u001b[0m\n",
              "\u001b[35m▌ \u001b[0m\u001b[1;33m • \u001b[0m\u001b[1;35mAtrações:\u001b[0m\u001b[35m Verifique quais museus oferecem dias ou horários com entrada gratuita ou com desconto. Explore \u001b[0m\u001b[35m   \u001b[0m\n",
              "\u001b[35m▌ \u001b[0m\u001b[1;33m   \u001b[0m\u001b[35mparques e áreas públicas que não cobram entrada.\u001b[0m\u001b[35m                                                            \u001b[0m\n",
              "\u001b[35m▌ \u001b[0m\u001b[1;33m • \u001b[0m\u001b[1;35mComunicações:\u001b[0m\u001b[35m Pesquise opções de chip local ou eSIM antes de viajar para garantir o melhor custo.\u001b[0m\u001b[35m           \u001b[0m\n",
              "\u001b[35m▌ \u001b[0m\u001b[1;33m • \u001b[0m\u001b[1;35mDinheiro:\u001b[0m\u001b[35m Utilize cartões de débito internacional ou contas multimoeda para ter acesso à taxa de câmbio \u001b[0m\u001b[35m    \u001b[0m\n",
              "\u001b[35m▌ \u001b[0m\u001b[1;33m   \u001b[0m\u001b[35mcomercial, que geralmente é mais vantajosa do que casas de câmbio tradicionais.\u001b[0m\u001b[35m                             \u001b[0m\n",
              "\u001b[35m▌ \u001b[0m\u001b[35mLembre-se que esta é uma estimativa e os gastos podem variar de acordo com suas escolhas individuais e \u001b[0m\u001b[35m        \u001b[0m\n",
              "\u001b[35m▌ \u001b[0m\u001b[35meventuais flutuações na taxa de câmbio. Desejo uma ótima viagem de mochilão por Montreal!\u001b[0m\u001b[35m                      \u001b[0m\n"
            ],
            "text/html": [
              "<pre style=\"white-space:pre;overflow-x:auto;line-height:normal;font-family:Menlo,'DejaVu Sans Mono',consolas,'Courier New',monospace\">\n",
              "<span style=\"color: #800080; text-decoration-color: #800080\">▌ Olá! Como seu especialista em calcular gastos de viagem, vou te ajudar a planejar essa aventura de mochileiro  </span>\n",
              "<span style=\"color: #800080; text-decoration-color: #800080\">▌ pelo Canadá. Considerando o seu perfil de mochileiro, a duração da viagem de 15 de junho a 30 de junho de 2025 </span>\n",
              "<span style=\"color: #800080; text-decoration-color: #800080\">▌ e o fato de ser uma viagem individual, escolhi </span><span style=\"color: #800080; text-decoration-color: #800080; font-weight: bold\">Montreal</span><span style=\"color: #800080; text-decoration-color: #800080\"> como destino dentro do Canadá. Montreal oferece uma    </span>\n",
              "<span style=\"color: #800080; text-decoration-color: #800080\">▌ excelente infraestrutura para mochileiros, com boa rede de transporte público, hostels e muitas atividades     </span>\n",
              "<span style=\"color: #800080; text-decoration-color: #800080\">▌ culturais e gastronômicas acessíveis.                                                                          </span>\n",
              "<span style=\"color: #800080; text-decoration-color: #800080\">▌ Para complementar o seu estilo de viagem, selecionei dois interesses específicos que combinam com o perfil     </span>\n",
              "<span style=\"color: #800080; text-decoration-color: #800080\">▌ mochileiro em Montreal: </span><span style=\"color: #800080; text-decoration-color: #800080; font-weight: bold\">Gastronomia</span><span style=\"color: #800080; text-decoration-color: #800080\"> (explorar a culinária local de forma econômica, como mercados e            </span>\n",
              "<span style=\"color: #800080; text-decoration-color: #800080\">▌ lanchonetes) e </span><span style=\"color: #800080; text-decoration-color: #800080; font-weight: bold\">Museus</span><span style=\"color: #800080; text-decoration-color: #800080\"> (aproveitar a rica cena cultural da cidade, buscando opções gratuitas ou com preços      </span>\n",
              "<span style=\"color: #800080; text-decoration-color: #800080\">▌ acessíveis).                                                                                                   </span>\n",
              "<span style=\"color: #800080; text-decoration-color: #800080\">▌ Agora, vou realizar as buscas para estimar os custos por categoria para a sua viagem a Montreal.               </span>\n",
              "<span style=\"color: #800080; text-decoration-color: #800080\">▌ Okay, com base nas buscas e no seu perfil de mochileiro interessado em gastronomia e museus, preparei a        </span>\n",
              "<span style=\"color: #800080; text-decoration-color: #800080\">▌ seguinte estimativa de gastos para sua viagem de 15 dias em Montreal, de 15 a 30 de junho de 2025:             </span>\n",
              "<span style=\"color: #800080; text-decoration-color: #800080\">▌ </span><span style=\"color: #800080; text-decoration-color: #800080; font-weight: bold\">Cotação Atual (Maio de 2025):</span><span style=\"color: #800080; text-decoration-color: #800080\"> 1 CAD ≈ 4,06 BRL                                                                 </span>\n",
              "<span style=\"color: #800080; text-decoration-color: #800080\">▌ </span><span style=\"color: #800080; text-decoration-color: #800080; font-weight: bold\">Estimativa de Gastos para 1 pessoa (Mochileiro) - 15 dias em Montreal</span><span style=\"color: #800080; text-decoration-color: #800080\">                                          </span>\n",
              "<span style=\"color: #800080; text-decoration-color: #800080\">▌ </span><span style=\"color: #808000; text-decoration-color: #808000; font-weight: bold\"> • </span><span style=\"color: #800080; text-decoration-color: #800080; font-weight: bold\">Voos (ida e volta para São Paulo - Montreal):</span><span style=\"color: #800080; text-decoration-color: #800080\">                                                               </span>\n",
              "<span style=\"color: #800080; text-decoration-color: #800080\">▌ </span><span style=\"color: #808000; text-decoration-color: #808000; font-weight: bold\">    • </span><span style=\"color: #800080; text-decoration-color: #800080\">Pesquisas indicam voos de ida e volta de São Paulo (GRU) para Montreal (YUL) em junho de 2025 a partir de</span>\n",
              "<span style=\"color: #800080; text-decoration-color: #800080\">▌ </span><span style=\"color: #808000; text-decoration-color: #808000; font-weight: bold\">      </span><span style=\"color: #800080; text-decoration-color: #800080\">R$ 3.204, podendo chegar a valores bem mais altos dependendo da companhia e escalas.                     </span>\n",
              "<span style=\"color: #800080; text-decoration-color: #800080\">▌ </span><span style=\"color: #808000; text-decoration-color: #808000; font-weight: bold\">    • </span><span style=\"color: #800080; text-decoration-color: #800080\">Considerando o perfil mochileiro, buscamos a opção mais econômica, que geralmente envolve voos com       </span>\n",
              "<span style=\"color: #800080; text-decoration-color: #800080\">▌ </span><span style=\"color: #808000; text-decoration-color: #808000; font-weight: bold\">      </span><span style=\"color: #800080; text-decoration-color: #800080\">escalas.                                                                                                 </span>\n",
              "<span style=\"color: #800080; text-decoration-color: #800080\">▌ </span><span style=\"color: #808000; text-decoration-color: #808000; font-weight: bold\">    • </span><span style=\"color: #800080; text-decoration-color: #800080; font-style: italic\">Estimativa Mochileiro:</span><span style=\"color: #800080; text-decoration-color: #800080\"> R$ 3.500 - R$ 5.000 (aproximadamente 860 CAD - 1230 CAD) - </span><span style=\"color: #800080; text-decoration-color: #800080; font-style: italic\">Estimaremos R$ 4.250 </span><span style=\"color: #800080; text-decoration-color: #800080\">  </span>\n",
              "<span style=\"color: #800080; text-decoration-color: #800080\">▌ </span><span style=\"color: #808000; text-decoration-color: #808000; font-weight: bold\">      </span><span style=\"color: #800080; text-decoration-color: #800080; font-style: italic\">(aproximadamente 1047 CAD)</span><span style=\"color: #800080; text-decoration-color: #800080\">                                                                               </span>\n",
              "<span style=\"color: #800080; text-decoration-color: #800080\">▌ </span><span style=\"color: #808000; text-decoration-color: #808000; font-weight: bold\"> • </span><span style=\"color: #800080; text-decoration-color: #800080; font-weight: bold\">Aluguel de Carro:</span><span style=\"color: #800080; text-decoration-color: #800080\">                                                                                           </span>\n",
              "<span style=\"color: #800080; text-decoration-color: #800080\">▌ </span><span style=\"color: #808000; text-decoration-color: #808000; font-weight: bold\">    • </span><span style=\"color: #800080; text-decoration-color: #800080\">Para Montreal, o transporte público é eficiente e amplamente utilizado por turistas, sendo uma opção mais</span>\n",
              "<span style=\"color: #800080; text-decoration-color: #800080\">▌ </span><span style=\"color: #808000; text-decoration-color: #808000; font-weight: bold\">      </span><span style=\"color: #800080; text-decoration-color: #800080\">econômica para mochileiros. Alugar carro é mais recomendado para visitar cidades vizinhas.               </span>\n",
              "<span style=\"color: #800080; text-decoration-color: #800080\">▌ </span><span style=\"color: #808000; text-decoration-color: #808000; font-weight: bold\">    • </span><span style=\"color: #800080; text-decoration-color: #800080; font-style: italic\">Estimativa Mochileiro:</span><span style=\"color: #800080; text-decoration-color: #800080\"> R$ 0                                                                              </span>\n",
              "<span style=\"color: #800080; text-decoration-color: #800080\">▌ </span><span style=\"color: #808000; text-decoration-color: #808000; font-weight: bold\"> • </span><span style=\"color: #800080; text-decoration-color: #800080; font-weight: bold\">Hotéis/Hospedagem (15 noites):</span><span style=\"color: #800080; text-decoration-color: #800080\">                                                                              </span>\n",
              "<span style=\"color: #800080; text-decoration-color: #800080\">▌ </span><span style=\"color: #808000; text-decoration-color: #808000; font-weight: bold\">    • </span><span style=\"color: #800080; text-decoration-color: #800080\">Hostels são a opção ideal para mochileiros, oferecendo bom custo-benefício e oportunidade de socializar. </span>\n",
              "<span style=\"color: #800080; text-decoration-color: #800080\">▌ </span><span style=\"color: #808000; text-decoration-color: #808000; font-weight: bold\">    • </span><span style=\"color: #800080; text-decoration-color: #800080\">A diária em hostels em Montreal varia, mas é possível encontrar opções a partir de R$ 108.               </span>\n",
              "<span style=\"color: #800080; text-decoration-color: #800080\">▌ </span><span style=\"color: #808000; text-decoration-color: #808000; font-weight: bold\">    • </span><span style=\"color: #800080; text-decoration-color: #800080; font-style: italic\">Estimativa Mochileiro:</span><span style=\"color: #800080; text-decoration-color: #800080\"> R$ 108/noite * 15 noites = R$ 1.620 (aproximadamente 399 CAD) - </span><span style=\"color: #800080; text-decoration-color: #800080; font-style: italic\">Estimaremos R$ </span><span style=\"color: #800080; text-decoration-color: #800080\">   </span>\n",
              "<span style=\"color: #800080; text-decoration-color: #800080\">▌ </span><span style=\"color: #808000; text-decoration-color: #808000; font-weight: bold\">      </span><span style=\"color: #800080; text-decoration-color: #800080; font-style: italic\">1.800 (aproximadamente 443 CAD) para ter uma pequena margem.</span><span style=\"color: #800080; text-decoration-color: #800080\">                                             </span>\n",
              "<span style=\"color: #800080; text-decoration-color: #800080\">▌ </span><span style=\"color: #808000; text-decoration-color: #808000; font-weight: bold\"> • </span><span style=\"color: #800080; text-decoration-color: #800080; font-weight: bold\">Refeições (15 dias):</span><span style=\"color: #800080; text-decoration-color: #800080\">                                                                                        </span>\n",
              "<span style=\"color: #800080; text-decoration-color: #800080\">▌ </span><span style=\"color: #808000; text-decoration-color: #808000; font-weight: bold\">    • </span><span style=\"color: #800080; text-decoration-color: #800080\">Com foco em gastronomia econômica, a ideia é explorar mercados, lanchonetes e cozinhar algumas refeições </span>\n",
              "<span style=\"color: #800080; text-decoration-color: #800080\">▌ </span><span style=\"color: #808000; text-decoration-color: #808000; font-weight: bold\">      </span><span style=\"color: #800080; text-decoration-color: #800080\">no hostel (se disponível).                                                                               </span>\n",
              "<span style=\"color: #800080; text-decoration-color: #800080\">▌ </span><span style=\"color: #808000; text-decoration-color: #808000; font-weight: bold\">    • </span><span style=\"color: #800080; text-decoration-color: #800080\">O custo médio de uma refeição barata em Montreal é de cerca de C$ 14,30. É possível encontrar opções por </span>\n",
              "<span style=\"color: #800080; text-decoration-color: #800080\">▌ </span><span style=\"color: #808000; text-decoration-color: #808000; font-weight: bold\">      </span><span style=\"color: #800080; text-decoration-color: #800080\">menos de 10 dólares, como bagels e sanduíches.                                                           </span>\n",
              "<span style=\"color: #800080; text-decoration-color: #800080\">▌ </span><span style=\"color: #808000; text-decoration-color: #808000; font-weight: bold\">    • </span><span style=\"color: #800080; text-decoration-color: #800080; font-style: italic\">Estimativa Mochileiro:</span><span style=\"color: #800080; text-decoration-color: #800080\"> C$ 30/dia (café da manhã simples, almoço barato, jantar econômico/cozinhando) * 15</span>\n",
              "<span style=\"color: #800080; text-decoration-color: #800080\">▌ </span><span style=\"color: #808000; text-decoration-color: #808000; font-weight: bold\">      </span><span style=\"color: #800080; text-decoration-color: #800080\">dias = C$ 450 (aproximadamente R$ 1.827) - </span><span style=\"color: #800080; text-decoration-color: #800080; font-style: italic\">Estimaremos R$ 1.900 (aproximadamente 468 CAD)</span><span style=\"color: #800080; text-decoration-color: #800080\">                </span>\n",
              "<span style=\"color: #800080; text-decoration-color: #800080\">▌ </span><span style=\"color: #808000; text-decoration-color: #808000; font-weight: bold\"> • </span><span style=\"color: #800080; text-decoration-color: #800080; font-weight: bold\">Atrações Turísticas e Atividades:</span><span style=\"color: #800080; text-decoration-color: #800080\">                                                                           </span>\n",
              "<span style=\"color: #800080; text-decoration-color: #800080\">▌ </span><span style=\"color: #808000; text-decoration-color: #808000; font-weight: bold\">    • </span><span style=\"color: #800080; text-decoration-color: #800080\">Montreal oferece diversos museus com preços variados. O Museu das Belas Artes de Montreal tem entrada    </span>\n",
              "<span style=\"color: #800080; text-decoration-color: #800080\">▌ </span><span style=\"color: #808000; text-decoration-color: #808000; font-weight: bold\">      </span><span style=\"color: #800080; text-decoration-color: #800080\">gratuita para a coleção permanente para residentes de Quebec, mas para exposições e não residentes há    </span>\n",
              "<span style=\"color: #800080; text-decoration-color: #800080\">▌ </span><span style=\"color: #808000; text-decoration-color: #808000; font-weight: bold\">      </span><span style=\"color: #800080; text-decoration-color: #800080\">custo (CAD 24 para adultos acima de 31, CAD 16 para 21 a 30 anos). O Biodôme custa a partir de US$ 23,25.</span>\n",
              "<span style=\"color: #800080; text-decoration-color: #800080\">▌ </span><span style=\"color: #808000; text-decoration-color: #808000; font-weight: bold\">    • </span><span style=\"color: #800080; text-decoration-color: #800080\">Para um perfil mochileiro interessado em museus, o foco será em explorar aqueles com entrada gratuita    </span>\n",
              "<span style=\"color: #800080; text-decoration-color: #800080\">▌ </span><span style=\"color: #808000; text-decoration-color: #808000; font-weight: bold\">      </span><span style=\"color: #800080; text-decoration-color: #800080\">para coleções fixas e talvez escolher 1 ou 2 pagos.                                                      </span>\n",
              "<span style=\"color: #800080; text-decoration-color: #800080\">▌ </span><span style=\"color: #808000; text-decoration-color: #808000; font-weight: bold\">    • </span><span style=\"color: #800080; text-decoration-color: #800080; font-style: italic\">Estimativa Mochileiro:</span><span style=\"color: #800080; text-decoration-color: #800080\"> C$ 50 - C$ 100 para ingressos de museus pagos ou atividades específicas           </span>\n",
              "<span style=\"color: #800080; text-decoration-color: #800080\">▌ </span><span style=\"color: #808000; text-decoration-color: #808000; font-weight: bold\">      </span><span style=\"color: #800080; text-decoration-color: #800080\">(aproximadamente R$ 203 - R$ 406) - </span><span style=\"color: #800080; text-decoration-color: #800080; font-style: italic\">Estimaremos R$ 300 (aproximadamente 74 CAD)</span><span style=\"color: #800080; text-decoration-color: #800080\">                          </span>\n",
              "<span style=\"color: #800080; text-decoration-color: #800080\">▌ </span><span style=\"color: #808000; text-decoration-color: #808000; font-weight: bold\"> • </span><span style=\"color: #800080; text-decoration-color: #800080; font-weight: bold\">Transporte Local (15 dias):</span><span style=\"color: #800080; text-decoration-color: #800080\">                                                                                 </span>\n",
              "<span style=\"color: #800080; text-decoration-color: #800080\">▌ </span><span style=\"color: #808000; text-decoration-color: #808000; font-weight: bold\">    • </span><span style=\"color: #800080; text-decoration-color: #800080\">O transporte público em Montreal (metrô e ônibus) é eficiente. Há passes semanais que podem ser mais     </span>\n",
              "<span style=\"color: #800080; text-decoration-color: #800080\">▌ </span><span style=\"color: #808000; text-decoration-color: #808000; font-weight: bold\">      </span><span style=\"color: #800080; text-decoration-color: #800080\">econômicos. Um passe semanal custa CAD $23,50. Para 15 dias, seriam necessários 2 passes semanais.       </span>\n",
              "<span style=\"color: #800080; text-decoration-color: #800080\">▌ </span><span style=\"color: #808000; text-decoration-color: #808000; font-weight: bold\">    • </span><span style=\"color: #800080; text-decoration-color: #800080; font-style: italic\">Estimativa Mochileiro:</span><span style=\"color: #800080; text-decoration-color: #800080\"> 2 * C$ 23,50 = C$ 47 (aproximadamente R$ 191) - </span><span style=\"color: #800080; text-decoration-color: #800080; font-style: italic\">Estimaremos R$ 200 </span><span style=\"color: #800080; text-decoration-color: #800080\">               </span>\n",
              "<span style=\"color: #800080; text-decoration-color: #800080\">▌ </span><span style=\"color: #808000; text-decoration-color: #808000; font-weight: bold\">      </span><span style=\"color: #800080; text-decoration-color: #800080; font-style: italic\">(aproximadamente 49 CAD)</span><span style=\"color: #800080; text-decoration-color: #800080\">                                                                                 </span>\n",
              "<span style=\"color: #800080; text-decoration-color: #800080\">▌ </span><span style=\"color: #808000; text-decoration-color: #808000; font-weight: bold\"> • </span><span style=\"color: #800080; text-decoration-color: #800080; font-weight: bold\">Seguro Viagem:</span><span style=\"color: #800080; text-decoration-color: #800080\">                                                                                              </span>\n",
              "<span style=\"color: #800080; text-decoration-color: #800080\">▌ </span><span style=\"color: #808000; text-decoration-color: #808000; font-weight: bold\">    • </span><span style=\"color: #800080; text-decoration-color: #800080\">O seguro viagem não é obrigatório para entrar no Canadá, mas altamente recomendado devido aos altos      </span>\n",
              "<span style=\"color: #800080; text-decoration-color: #800080\">▌ </span><span style=\"color: #808000; text-decoration-color: #808000; font-weight: bold\">      </span><span style=\"color: #800080; text-decoration-color: #800080\">custos de saúde no país.                                                                                 </span>\n",
              "<span style=\"color: #800080; text-decoration-color: #800080\">▌ </span><span style=\"color: #808000; text-decoration-color: #808000; font-weight: bold\">    • </span><span style=\"color: #800080; text-decoration-color: #800080\">Para 15 dias, o custo médio varia de R$ 150 a R$ 350.                                                    </span>\n",
              "<span style=\"color: #800080; text-decoration-color: #800080\">▌ </span><span style=\"color: #808000; text-decoration-color: #808000; font-weight: bold\">    • </span><span style=\"color: #800080; text-decoration-color: #800080; font-style: italic\">Estimativa Mochileiro:</span><span style=\"color: #800080; text-decoration-color: #800080\"> R$ 250 (aproximadamente 62 CAD)                                                   </span>\n",
              "<span style=\"color: #800080; text-decoration-color: #800080\">▌ </span><span style=\"color: #808000; text-decoration-color: #808000; font-weight: bold\"> • </span><span style=\"color: #800080; text-decoration-color: #800080; font-weight: bold\">Visto e Taxas de Entrada:</span><span style=\"color: #800080; text-decoration-color: #800080\">                                                                                   </span>\n",
              "<span style=\"color: #800080; text-decoration-color: #800080\">▌ </span><span style=\"color: #808000; text-decoration-color: #808000; font-weight: bold\">    • </span><span style=\"color: #800080; text-decoration-color: #800080\">Brasileiros que atendem a certos requisitos (tiveram visto canadense nos últimos 10 anos ou possuem visto</span>\n",
              "<span style=\"color: #800080; text-decoration-color: #800080\">▌ </span><span style=\"color: #808000; text-decoration-color: #808000; font-weight: bold\">      </span><span style=\"color: #800080; text-decoration-color: #800080\">americano válido) podem solicitar o eTA (Autorização Eletrônica de Viagem), que custa C$ 7. Caso         </span>\n",
              "<span style=\"color: #800080; text-decoration-color: #800080\">▌ </span><span style=\"color: #808000; text-decoration-color: #808000; font-weight: bold\">      </span><span style=\"color: #800080; text-decoration-color: #800080\">contrário, é necessário visto convencional, que é mais caro. Consideraremos a opção do eTA por ser mais  </span>\n",
              "<span style=\"color: #800080; text-decoration-color: #800080\">▌ </span><span style=\"color: #808000; text-decoration-color: #808000; font-weight: bold\">      </span><span style=\"color: #800080; text-decoration-color: #800080\">comum para turistas e ter baixo custo.                                                                   </span>\n",
              "<span style=\"color: #800080; text-decoration-color: #800080\">▌ </span><span style=\"color: #808000; text-decoration-color: #808000; font-weight: bold\">    • </span><span style=\"color: #800080; text-decoration-color: #800080; font-style: italic\">Estimativa Mochileiro:</span><span style=\"color: #800080; text-decoration-color: #800080\"> C$ 7 (aproximadamente R$ 29)                                                      </span>\n",
              "<span style=\"color: #800080; text-decoration-color: #800080\">▌ </span><span style=\"color: #808000; text-decoration-color: #808000; font-weight: bold\"> • </span><span style=\"color: #800080; text-decoration-color: #800080; font-weight: bold\">Comunicações (Chip Local):</span><span style=\"color: #800080; text-decoration-color: #800080\">                                                                                  </span>\n",
              "<span style=\"color: #800080; text-decoration-color: #800080\">▌ </span><span style=\"color: #808000; text-decoration-color: #808000; font-weight: bold\">    • </span><span style=\"color: #800080; text-decoration-color: #800080\">Um chip internacional para 15 dias com dados ilimitados custa a partir de US$ 31 (aproximadamente R$     </span>\n",
              "<span style=\"color: #800080; text-decoration-color: #800080\">▌ </span><span style=\"color: #808000; text-decoration-color: #808000; font-weight: bold\">      </span><span style=\"color: #800080; text-decoration-color: #800080\">150-200).                                                                                                </span>\n",
              "<span style=\"color: #800080; text-decoration-color: #800080\">▌ </span><span style=\"color: #808000; text-decoration-color: #808000; font-weight: bold\">    • </span><span style=\"color: #800080; text-decoration-color: #800080; font-style: italic\">Estimativa Mochileiro:</span><span style=\"color: #800080; text-decoration-color: #800080\"> R$ 180 (aproximadamente 44 CAD)                                                   </span>\n",
              "<span style=\"color: #800080; text-decoration-color: #800080\">▌ </span><span style=\"color: #808000; text-decoration-color: #808000; font-weight: bold\"> • </span><span style=\"color: #800080; text-decoration-color: #800080; font-weight: bold\">Emergências/Imprevistos (10% do total estimado até agora):</span><span style=\"color: #800080; text-decoration-color: #800080\">                                                  </span>\n",
              "<span style=\"color: #800080; text-decoration-color: #800080\">▌ </span><span style=\"color: #808000; text-decoration-color: #808000; font-weight: bold\">    • </span><span style=\"color: #800080; text-decoration-color: #800080\">(R$ 4250 + R$ 1800 + R$ 1900 + R$ 300 + R$ 200 + R$ 250 + R$ 29 + R$ 180) * 10% = R$ 891                 </span>\n",
              "<span style=\"color: #800080; text-decoration-color: #800080\">▌ </span><span style=\"color: #808000; text-decoration-color: #808000; font-weight: bold\">    • </span><span style=\"color: #800080; text-decoration-color: #800080; font-style: italic\">Estimativa Mochileiro:</span><span style=\"color: #800080; text-decoration-color: #800080\"> R$ 900 (aproximadamente 222 CAD)                                                  </span>\n",
              "<span style=\"color: #800080; text-decoration-color: #800080\">▌ </span><span style=\"color: #808000; text-decoration-color: #808000; font-weight: bold\"> • </span><span style=\"color: #800080; text-decoration-color: #800080; font-weight: bold\">Compras/Souvenirs:</span><span style=\"color: #800080; text-decoration-color: #800080\">                                                                                          </span>\n",
              "<span style=\"color: #800080; text-decoration-color: #800080\">▌ </span><span style=\"color: #808000; text-decoration-color: #808000; font-weight: bold\">    • </span><span style=\"color: #800080; text-decoration-color: #800080\">Para um mochileiro, este gasto costuma ser menor, focado em lembrancinhas simples.                       </span>\n",
              "<span style=\"color: #800080; text-decoration-color: #800080\">▌ </span><span style=\"color: #808000; text-decoration-color: #808000; font-weight: bold\">    • </span><span style=\"color: #800080; text-decoration-color: #800080; font-style: italic\">Estimativa Mochileiro:</span><span style=\"color: #800080; text-decoration-color: #800080\"> R$ 300 (aproximadamente 74 CAD)                                                   </span>\n",
              "<span style=\"color: #800080; text-decoration-color: #800080\">▌ </span><span style=\"color: #808000; text-decoration-color: #808000; font-weight: bold\"> • </span><span style=\"color: #800080; text-decoration-color: #800080; font-weight: bold\">Outros (Lavanderia, pequenos gastos):</span><span style=\"color: #800080; text-decoration-color: #800080\">                                                                       </span>\n",
              "<span style=\"color: #800080; text-decoration-color: #800080\">▌ </span><span style=\"color: #808000; text-decoration-color: #808000; font-weight: bold\">    • </span><span style=\"color: #800080; text-decoration-color: #800080; font-style: italic\">Estimativa Mochileiro:</span><span style=\"color: #800080; text-decoration-color: #800080\"> R$ 200 (aproximadamente 49 CAD)                                                   </span>\n",
              "<span style=\"color: #800080; text-decoration-color: #800080\">▌ </span><span style=\"color: #800080; text-decoration-color: #800080; font-weight: bold\">Resumo da Estimativa de Gastos (Mochileiro - 15 dias em Montreal):</span><span style=\"color: #800080; text-decoration-color: #800080\">                                             </span>\n",
              "<span style=\"color: #800080; text-decoration-color: #800080\">▌                                                                                                                </span>\n",
              "<span style=\"color: #800080; text-decoration-color: #800080\">▌  </span><span style=\"color: #800080; text-decoration-color: #800080; font-weight: bold\"> Categoria                </span><span style=\"color: #800080; text-decoration-color: #800080\"> </span><span style=\"color: #800080; text-decoration-color: #800080; font-weight: bold\"> Custo Estimado (BRL) </span><span style=\"color: #800080; text-decoration-color: #800080\"> </span><span style=\"color: #800080; text-decoration-color: #800080; font-weight: bold\"> Custo Estimado (CAD) </span><span style=\"color: #800080; text-decoration-color: #800080\">                                      </span>\n",
              "<span style=\"color: #800080; text-decoration-color: #800080\">▌  ━━━━━━━━━━━━━━━━━━━━━━━━━━━━━━━━━━━━━━━━━━━━━━━━━━━━━━━━━━━━━━━━━━━━━━━━                                      </span>\n",
              "<span style=\"color: #800080; text-decoration-color: #800080\">▌   Voos                       R$ 4.250               C$ 1.047                                                   </span>\n",
              "<span style=\"color: #800080; text-decoration-color: #800080\">▌   Aluguel de Carro           R$ 0                   C$ 0                                                       </span>\n",
              "<span style=\"color: #800080; text-decoration-color: #800080\">▌   Hotéis/Hospedagem          R$ 1.800               C$ 443                                                     </span>\n",
              "<span style=\"color: #800080; text-decoration-color: #800080\">▌   Refeições                  R$ 1.900               C$ 468                                                     </span>\n",
              "<span style=\"color: #800080; text-decoration-color: #800080\">▌   Atrações/Atividades        R$ 300                 C$ 74                                                      </span>\n",
              "<span style=\"color: #800080; text-decoration-color: #800080\">▌   Transporte Local           R$ 200                 C$ 49                                                      </span>\n",
              "<span style=\"color: #800080; text-decoration-color: #800080\">▌   Seguro Viagem              R$ 250                 C$ 62                                                      </span>\n",
              "<span style=\"color: #800080; text-decoration-color: #800080\">▌   Visto e Taxas de Entrada   R$ 29                  C$ 7                                                       </span>\n",
              "<span style=\"color: #800080; text-decoration-color: #800080\">▌   Comunicações               R$ 180                 C$ 44                                                      </span>\n",
              "<span style=\"color: #800080; text-decoration-color: #800080\">▌   Emergências/Imprevistos    R$ 900                 C$ 222                                                     </span>\n",
              "<span style=\"color: #800080; text-decoration-color: #800080\">▌   Compras/Souvenirs          R$ 300                 C$ 74                                                      </span>\n",
              "<span style=\"color: #800080; text-decoration-color: #800080\">▌   Outros                     R$ 200                 C$ 49                                                      </span>\n",
              "<span style=\"color: #800080; text-decoration-color: #800080\">▌   </span><span style=\"color: #800080; text-decoration-color: #800080; font-weight: bold\">TOTAL ESTIMADO</span><span style=\"color: #800080; text-decoration-color: #800080\">             </span><span style=\"color: #800080; text-decoration-color: #800080; font-weight: bold\">R$ 10.309</span><span style=\"color: #800080; text-decoration-color: #800080\">              </span><span style=\"color: #800080; text-decoration-color: #800080; font-weight: bold\">C$ 2.539</span><span style=\"color: #800080; text-decoration-color: #800080\">                                                   </span>\n",
              "<span style=\"color: #800080; text-decoration-color: #800080\">▌                                                                                                                </span>\n",
              "<span style=\"color: #800080; text-decoration-color: #800080\">▌ </span><span style=\"color: #800080; text-decoration-color: #800080; font-weight: bold\">Observações e Dicas de Economia para Mochileiros em Montreal:</span><span style=\"color: #800080; text-decoration-color: #800080\">                                                  </span>\n",
              "<span style=\"color: #800080; text-decoration-color: #800080\">▌ </span><span style=\"color: #808000; text-decoration-color: #808000; font-weight: bold\"> • </span><span style=\"color: #800080; text-decoration-color: #800080; font-weight: bold\">Voos:</span><span style=\"color: #800080; text-decoration-color: #800080\"> Monitore os preços das passagens com antecedência, use comparadores de voos e considere aeroportos    </span>\n",
              "<span style=\"color: #800080; text-decoration-color: #800080\">▌ </span><span style=\"color: #808000; text-decoration-color: #808000; font-weight: bold\">   </span><span style=\"color: #800080; text-decoration-color: #800080\">próximos. Voos com escalas costumam ser mais baratos.                                                       </span>\n",
              "<span style=\"color: #800080; text-decoration-color: #800080\">▌ </span><span style=\"color: #808000; text-decoration-color: #808000; font-weight: bold\"> • </span><span style=\"color: #800080; text-decoration-color: #800080; font-weight: bold\">Hospedagem:</span><span style=\"color: #800080; text-decoration-color: #800080\"> Reserve hostels com boas avaliações de localização e limpeza. Muitos oferecem cozinha, o que    </span>\n",
              "<span style=\"color: #800080; text-decoration-color: #800080\">▌ </span><span style=\"color: #808000; text-decoration-color: #808000; font-weight: bold\">   </span><span style=\"color: #800080; text-decoration-color: #800080\">ajuda a economizar com refeições.                                                                           </span>\n",
              "<span style=\"color: #800080; text-decoration-color: #800080\">▌ </span><span style=\"color: #808000; text-decoration-color: #808000; font-weight: bold\"> • </span><span style=\"color: #800080; text-decoration-color: #800080; font-weight: bold\">Refeições:</span><span style=\"color: #800080; text-decoration-color: #800080\"> Explore os mercados públicos (como o Jean-Talon) para comprar ingredientes frescos e mais        </span>\n",
              "<span style=\"color: #800080; text-decoration-color: #800080\">▌ </span><span style=\"color: #808000; text-decoration-color: #808000; font-weight: bold\">   </span><span style=\"color: #800080; text-decoration-color: #800080\">baratos. Experimente as \"cantines\" para provar pratos locais a preços acessíveis, como o Poutine.           </span>\n",
              "<span style=\"color: #800080; text-decoration-color: #800080\">▌ </span><span style=\"color: #808000; text-decoration-color: #808000; font-weight: bold\"> • </span><span style=\"color: #800080; text-decoration-color: #800080; font-weight: bold\">Transporte Local:</span><span style=\"color: #800080; text-decoration-color: #800080\"> O passe semanal de transporte público é uma excelente opção para reduzir custos. Montreal </span>\n",
              "<span style=\"color: #800080; text-decoration-color: #800080\">▌ </span><span style=\"color: #808000; text-decoration-color: #808000; font-weight: bold\">   </span><span style=\"color: #800080; text-decoration-color: #800080\">é uma cidade agradável para ser explorada a pé em muitas áreas.                                             </span>\n",
              "<span style=\"color: #800080; text-decoration-color: #800080\">▌ </span><span style=\"color: #808000; text-decoration-color: #808000; font-weight: bold\"> • </span><span style=\"color: #800080; text-decoration-color: #800080; font-weight: bold\">Atrações:</span><span style=\"color: #800080; text-decoration-color: #800080\"> Verifique quais museus oferecem dias ou horários com entrada gratuita ou com desconto. Explore    </span>\n",
              "<span style=\"color: #800080; text-decoration-color: #800080\">▌ </span><span style=\"color: #808000; text-decoration-color: #808000; font-weight: bold\">   </span><span style=\"color: #800080; text-decoration-color: #800080\">parques e áreas públicas que não cobram entrada.                                                            </span>\n",
              "<span style=\"color: #800080; text-decoration-color: #800080\">▌ </span><span style=\"color: #808000; text-decoration-color: #808000; font-weight: bold\"> • </span><span style=\"color: #800080; text-decoration-color: #800080; font-weight: bold\">Comunicações:</span><span style=\"color: #800080; text-decoration-color: #800080\"> Pesquise opções de chip local ou eSIM antes de viajar para garantir o melhor custo.           </span>\n",
              "<span style=\"color: #800080; text-decoration-color: #800080\">▌ </span><span style=\"color: #808000; text-decoration-color: #808000; font-weight: bold\"> • </span><span style=\"color: #800080; text-decoration-color: #800080; font-weight: bold\">Dinheiro:</span><span style=\"color: #800080; text-decoration-color: #800080\"> Utilize cartões de débito internacional ou contas multimoeda para ter acesso à taxa de câmbio     </span>\n",
              "<span style=\"color: #800080; text-decoration-color: #800080\">▌ </span><span style=\"color: #808000; text-decoration-color: #808000; font-weight: bold\">   </span><span style=\"color: #800080; text-decoration-color: #800080\">comercial, que geralmente é mais vantajosa do que casas de câmbio tradicionais.                             </span>\n",
              "<span style=\"color: #800080; text-decoration-color: #800080\">▌ Lembre-se que esta é uma estimativa e os gastos podem variar de acordo com suas escolhas individuais e         </span>\n",
              "<span style=\"color: #800080; text-decoration-color: #800080\">▌ eventuais flutuações na taxa de câmbio. Desejo uma ótima viagem de mochilão por Montreal!                      </span>\n",
              "</pre>\n"
            ]
          },
          "metadata": {}
        },
        {
          "output_type": "display_data",
          "data": {
            "text/plain": [
              "\u001b[35m▌ \u001b[0m\u001b[33m───────────────────────────────────────────────────────────────────────────────────────────────────────────────\u001b[0m\n"
            ],
            "text/html": [
              "<pre style=\"white-space:pre;overflow-x:auto;line-height:normal;font-family:Menlo,'DejaVu Sans Mono',consolas,'Courier New',monospace\"><span style=\"color: #800080; text-decoration-color: #800080\">▌ </span><span style=\"color: #808000; text-decoration-color: #808000\">───────────────────────────────────────────────────────────────────────────────────────────────────────────────</span>\n",
              "</pre>\n"
            ]
          },
          "metadata": {}
        },
        {
          "output_type": "display_data",
          "data": {
            "text/plain": [
              "\n",
              "\u001b[35m▌ \u001b[0m\u001b[35mDicas financeiras para pagar com moeda estrangeira\u001b[0m\u001b[35m                                                             \u001b[0m\n"
            ],
            "text/html": [
              "<pre style=\"white-space:pre;overflow-x:auto;line-height:normal;font-family:Menlo,'DejaVu Sans Mono',consolas,'Courier New',monospace\">\n",
              "<span style=\"color: #800080; text-decoration-color: #800080\">▌ Dicas financeiras para pagar com moeda estrangeira                                                             </span>\n",
              "</pre>\n"
            ]
          },
          "metadata": {}
        },
        {
          "output_type": "display_data",
          "data": {
            "text/plain": [
              "\u001b[35m▌ \u001b[0m\u001b[33m───────────────────────────────────────────────────────────────────────────────────────────────────────────────\u001b[0m\n"
            ],
            "text/html": [
              "<pre style=\"white-space:pre;overflow-x:auto;line-height:normal;font-family:Menlo,'DejaVu Sans Mono',consolas,'Courier New',monospace\"><span style=\"color: #800080; text-decoration-color: #800080\">▌ </span><span style=\"color: #808000; text-decoration-color: #808000\">───────────────────────────────────────────────────────────────────────────────────────────────────────────────</span>\n",
              "</pre>\n"
            ]
          },
          "metadata": {}
        },
        {
          "output_type": "display_data",
          "data": {
            "text/plain": [
              "\n",
              "\u001b[35m▌ \u001b[0m\u001b[35mOlá! Para converter seu dinheiro e usar no Canadá, você tem diversas opções. Cada uma tem suas particularidades\u001b[0m\n",
              "\u001b[35m▌ \u001b[0m\u001b[35mem termos de praticidade, custos e taxas de câmbio.\u001b[0m\u001b[35m                                                            \u001b[0m\n",
              "\u001b[35m▌ \u001b[0m\u001b[35mVamos analisar as principais:\u001b[0m\u001b[35m                                                                                  \u001b[0m\n",
              "\u001b[35m▌ \u001b[0m\u001b[1;33m • \u001b[0m\u001b[1;35mCartão de Crédito Internacional:\u001b[0m\u001b[35m É prático para compras e pagamentos no exterior, mas geralmente possui \u001b[0m\u001b[35m    \u001b[0m\n",
              "\u001b[35m▌ \u001b[0m\u001b[1;33m   \u001b[0m\u001b[35mtaxas de câmbio menos favoráveis (câmbio turismo, que inclui custos adicionais) e incidência de IOF (Imposto\u001b[0m\n",
              "\u001b[35m▌ \u001b[0m\u001b[1;33m   \u001b[0m\u001b[35msobre Operações Financeiras) alto sobre cada transação. Pode ser útil para emergências.\u001b[0m\u001b[35m                     \u001b[0m\n",
              "\u001b[35m▌ \u001b[0m\u001b[1;33m • \u001b[0m\u001b[1;35mCartão de Débito Internacional:\u001b[0m\u001b[35m Assim como o cartão de crédito, a taxa de câmbio tende a ser a de turismo e \u001b[0m\n",
              "\u001b[35m▌ \u001b[0m\u001b[1;33m   \u001b[0m\u001b[35mhá cobrança de IOF. A vantagem é usar o saldo disponível na conta, evitando dívidas.\u001b[0m\u001b[35m                        \u001b[0m\n",
              "\u001b[35m▌ \u001b[0m\u001b[1;33m • \u001b[0m\u001b[1;35mCartão Pré-pago Internacional (Travel Money):\u001b[0m\u001b[35m Você carrega um valor na moeda estrangeira antes de viajar. O \u001b[0m\n",
              "\u001b[35m▌ \u001b[0m\u001b[1;33m   \u001b[0m\u001b[35mcâmbio é definido no momento da carga e o IOF geralmente é menor do que no cartão de crédito ou débito. É \u001b[0m\u001b[35m  \u001b[0m\n",
              "\u001b[35m▌ \u001b[0m\u001b[1;33m   \u001b[0m\u001b[35muma opção segura por não estar vinculado à sua conta corrente principal.\u001b[0m\u001b[35m                                    \u001b[0m\n",
              "\u001b[35m▌ \u001b[0m\u001b[1;33m • \u001b[0m\u001b[1;35mRemessa para Conta no Estrangeiro:\u001b[0m\u001b[35m Enviar dinheiro para uma conta em seu nome ou de outra pessoa no Canadá \u001b[0m\u001b[35m \u001b[0m\n",
              "\u001b[35m▌ \u001b[0m\u001b[1;33m   \u001b[0m\u001b[35mgeralmente envolve taxas de câmbio mais próximas do comercial e IOF reduzido. Plataformas online e bancos \u001b[0m\u001b[35m  \u001b[0m\n",
              "\u001b[35m▌ \u001b[0m\u001b[1;33m   \u001b[0m\u001b[35mtradicionais oferecem esse serviço, mas as taxas e o tempo de processamento podem variar. Bancos \u001b[0m\u001b[35m           \u001b[0m\n",
              "\u001b[35m▌ \u001b[0m\u001b[1;33m   \u001b[0m\u001b[35mtradicionais costumam ter taxas mais altas em comparação com plataformas digitais. É importante comparar o \u001b[0m\u001b[35m \u001b[0m\n",
              "\u001b[35m▌ \u001b[0m\u001b[1;33m   \u001b[0m\u001b[35mValor Efetivo Total (VET) da operação, que inclui todas as taxas e impostos.\u001b[0m\u001b[35m                                \u001b[0m\n",
              "\u001b[35m▌ \u001b[0m\u001b[1;33m • \u001b[0m\u001b[1;35mPIX:\u001b[0m\u001b[35m O PIX como o conhecemos no Brasil é um sistema de pagamentos instantâneos para transações locais. \u001b[0m\u001b[35m     \u001b[0m\n",
              "\u001b[35m▌ \u001b[0m\u001b[1;33m   \u001b[0m\u001b[35mAtualmente, o \"PIX Internacional\" ainda não está em pleno funcionamento para transferências diretas entre \u001b[0m\u001b[35m  \u001b[0m\n",
              "\u001b[35m▌ \u001b[0m\u001b[1;33m   \u001b[0m\u001b[35mcontas no Brasil e no exterior. No entanto, algumas plataformas de remessa internacional já permitem que \u001b[0m\u001b[35m   \u001b[0m\n",
              "\u001b[35m▌ \u001b[0m\u001b[1;33m   \u001b[0m\u001b[35mvocê utilize o PIX como forma de pagamento para enviar dinheiro ao exterior. Isso significa que você faz um \u001b[0m\n",
              "\u001b[35m▌ \u001b[0m\u001b[1;33m   \u001b[0m\u001b[35mPIX em reais para a conta da plataforma no Brasil, e ela se encarrega de converter o valor para a moeda \u001b[0m\u001b[35m    \u001b[0m\n",
              "\u001b[35m▌ \u001b[0m\u001b[1;33m   \u001b[0m\u001b[35mdesejada e enviar para o destinatário no Canadá.\u001b[0m\u001b[35m                                                            \u001b[0m\n",
              "\u001b[35m▌ \u001b[0m\u001b[1;35mSobre o PIX e a Viktap:\u001b[0m\u001b[35m                                                                                        \u001b[0m\n",
              "\u001b[35m▌ \u001b[0m\u001b[35mConsultando o site da Viktap (https://viktap.com.br/), a Viktap atua como uma rede de pagamento instantâneo \u001b[0m\u001b[35m   \u001b[0m\n",
              "\u001b[35m▌ \u001b[0m\u001b[35mglobal, focada em facilitar transações rápidas, seguras e com baixo custo para \"merchants\" \u001b[0m\u001b[35m                    \u001b[0m\n",
              "\u001b[35m▌ \u001b[0m\u001b[35m(lojistas/comerciantes) e clientes brasileiros.\u001b[0m\u001b[35m                                                                \u001b[0m\n",
              "\u001b[35m▌ \u001b[0m\u001b[35mPara os \"merchants\", a integração com pagamentos PIX oferece transações rápidas, seguras e com baixo custo, \u001b[0m\u001b[35m   \u001b[0m\n",
              "\u001b[35m▌ \u001b[0m\u001b[35mmelhorando a experiência do brasileiro e aumentando a eficiência operacional do negócio. Menciona benefícios \u001b[0m\u001b[35m  \u001b[0m\n",
              "\u001b[35m▌ \u001b[0m\u001b[35mcomo sem taxa de intercâmbio ou tarifas de terceiros, liquidação rápida pelo valor total transacionado via PIX \u001b[0m\n",
              "\u001b[35m▌ \u001b[0m\u001b[35mInternacional (neste contexto, refere-se ao uso do PIX como forma de pagamento para a plataforma), taxas de \u001b[0m\u001b[35m   \u001b[0m\n",
              "\u001b[35m▌ \u001b[0m\u001b[35mcâmbio competitivas e IOF reduzido para os clientes.\u001b[0m\u001b[35m                                                           \u001b[0m\n",
              "\u001b[35m▌ \u001b[0m\u001b[35mPara o cliente brasileiro, o pagamento via PIX internacional (utilizando a solução da Viktap) oferece segurança\u001b[0m\n",
              "\u001b[35m▌ \u001b[0m\u001b[35me praticidade, permitindo concluir transações a qualquer hora diretamente da conta no Brasil, com taxas de \u001b[0m\u001b[35m    \u001b[0m\n",
              "\u001b[35m▌ \u001b[0m\u001b[35mcâmbio competitivas e IOF reduzido, e isenção de IOF na operação de PIX.\u001b[0m\u001b[35m                                       \u001b[0m\n",
              "\u001b[35m▌ \u001b[0m\u001b[35mPortanto, no contexto da Viktap, o PIX é utilizado como um meio eficiente e de baixo custo para o cliente \u001b[0m\u001b[35m     \u001b[0m\n",
              "\u001b[35m▌ \u001b[0m\u001b[35mbrasileiro realizar o pagamento em reais, que será então processado pela plataforma para a conversão e envio \u001b[0m\u001b[35m  \u001b[0m\n",
              "\u001b[35m▌ \u001b[0m\u001b[35minternacional.\u001b[0m\u001b[35m                                                                                                 \u001b[0m\n",
              "\u001b[35m▌ \u001b[0m\u001b[1;35mEm resumo, para converter seu dinheiro para usar no Canadá, considere:\u001b[0m\u001b[35m                                         \u001b[0m\n",
              "\u001b[35m▌ \u001b[0m\u001b[1;33m • \u001b[0m\u001b[1;35mPara gastos do dia a dia e pequenas compras:\u001b[0m\u001b[35m Cartão pré-pago internacional pode ser uma boa opção devido ao \u001b[0m\n",
              "\u001b[35m▌ \u001b[0m\u001b[1;33m   \u001b[0m\u001b[35mIOF menor e câmbio fixado na carga.\u001b[0m\u001b[35m                                                                         \u001b[0m\n",
              "\u001b[35m▌ \u001b[0m\u001b[1;33m • \u001b[0m\u001b[1;35mPara levar um valor maior ou enviar para uma conta:\u001b[0m\u001b[35m Remessa internacional através de plataformas online ou, \u001b[0m\n",
              "\u001b[35m▌ \u001b[0m\u001b[1;33m   \u001b[0m\u001b[35mdependendo das condições, utilizando o PIX como forma de pagamento em plataformas que oferecem essa opção, \u001b[0m\u001b[35m \u001b[0m\n",
              "\u001b[35m▌ \u001b[0m\u001b[1;33m   \u001b[0m\u001b[35mcomo indicado no modelo de negócio da Viktap, pode ser mais vantajoso devido às taxas de câmbio mais \u001b[0m\u001b[35m       \u001b[0m\n",
              "\u001b[35m▌ \u001b[0m\u001b[1;33m   \u001b[0m\u001b[35mcompetitivas e IOF reduzido.\u001b[0m\u001b[35m                                                                                \u001b[0m\n",
              "\u001b[35m▌ \u001b[0m\u001b[1;33m • \u001b[0m\u001b[1;35mCartão de crédito/débito:\u001b[0m\u001b[35m Deixe como opção para emergências, devido aos custos mais elevados.\u001b[0m\u001b[35m               \u001b[0m\n",
              "\u001b[35m▌ \u001b[0m\u001b[35mA melhor maneira dependerá do valor a ser convertido, da urgência, da finalidade do dinheiro e da comparação \u001b[0m\u001b[35m  \u001b[0m\n",
              "\u001b[35m▌ \u001b[0m\u001b[35mdas taxas e cotações oferecidas por diferentes provedores de serviço. É sempre recomendado comparar o Valor \u001b[0m\u001b[35m   \u001b[0m\n",
              "\u001b[35m▌ \u001b[0m\u001b[35mEfetivo Total (VET) antes de fechar qualquer operação.\u001b[0m\u001b[35m                                                         \u001b[0m\n"
            ],
            "text/html": [
              "<pre style=\"white-space:pre;overflow-x:auto;line-height:normal;font-family:Menlo,'DejaVu Sans Mono',consolas,'Courier New',monospace\">\n",
              "<span style=\"color: #800080; text-decoration-color: #800080\">▌ Olá! Para converter seu dinheiro e usar no Canadá, você tem diversas opções. Cada uma tem suas particularidades</span>\n",
              "<span style=\"color: #800080; text-decoration-color: #800080\">▌ em termos de praticidade, custos e taxas de câmbio.                                                            </span>\n",
              "<span style=\"color: #800080; text-decoration-color: #800080\">▌ Vamos analisar as principais:                                                                                  </span>\n",
              "<span style=\"color: #800080; text-decoration-color: #800080\">▌ </span><span style=\"color: #808000; text-decoration-color: #808000; font-weight: bold\"> • </span><span style=\"color: #800080; text-decoration-color: #800080; font-weight: bold\">Cartão de Crédito Internacional:</span><span style=\"color: #800080; text-decoration-color: #800080\"> É prático para compras e pagamentos no exterior, mas geralmente possui     </span>\n",
              "<span style=\"color: #800080; text-decoration-color: #800080\">▌ </span><span style=\"color: #808000; text-decoration-color: #808000; font-weight: bold\">   </span><span style=\"color: #800080; text-decoration-color: #800080\">taxas de câmbio menos favoráveis (câmbio turismo, que inclui custos adicionais) e incidência de IOF (Imposto</span>\n",
              "<span style=\"color: #800080; text-decoration-color: #800080\">▌ </span><span style=\"color: #808000; text-decoration-color: #808000; font-weight: bold\">   </span><span style=\"color: #800080; text-decoration-color: #800080\">sobre Operações Financeiras) alto sobre cada transação. Pode ser útil para emergências.                     </span>\n",
              "<span style=\"color: #800080; text-decoration-color: #800080\">▌ </span><span style=\"color: #808000; text-decoration-color: #808000; font-weight: bold\"> • </span><span style=\"color: #800080; text-decoration-color: #800080; font-weight: bold\">Cartão de Débito Internacional:</span><span style=\"color: #800080; text-decoration-color: #800080\"> Assim como o cartão de crédito, a taxa de câmbio tende a ser a de turismo e </span>\n",
              "<span style=\"color: #800080; text-decoration-color: #800080\">▌ </span><span style=\"color: #808000; text-decoration-color: #808000; font-weight: bold\">   </span><span style=\"color: #800080; text-decoration-color: #800080\">há cobrança de IOF. A vantagem é usar o saldo disponível na conta, evitando dívidas.                        </span>\n",
              "<span style=\"color: #800080; text-decoration-color: #800080\">▌ </span><span style=\"color: #808000; text-decoration-color: #808000; font-weight: bold\"> • </span><span style=\"color: #800080; text-decoration-color: #800080; font-weight: bold\">Cartão Pré-pago Internacional (Travel Money):</span><span style=\"color: #800080; text-decoration-color: #800080\"> Você carrega um valor na moeda estrangeira antes de viajar. O </span>\n",
              "<span style=\"color: #800080; text-decoration-color: #800080\">▌ </span><span style=\"color: #808000; text-decoration-color: #808000; font-weight: bold\">   </span><span style=\"color: #800080; text-decoration-color: #800080\">câmbio é definido no momento da carga e o IOF geralmente é menor do que no cartão de crédito ou débito. É   </span>\n",
              "<span style=\"color: #800080; text-decoration-color: #800080\">▌ </span><span style=\"color: #808000; text-decoration-color: #808000; font-weight: bold\">   </span><span style=\"color: #800080; text-decoration-color: #800080\">uma opção segura por não estar vinculado à sua conta corrente principal.                                    </span>\n",
              "<span style=\"color: #800080; text-decoration-color: #800080\">▌ </span><span style=\"color: #808000; text-decoration-color: #808000; font-weight: bold\"> • </span><span style=\"color: #800080; text-decoration-color: #800080; font-weight: bold\">Remessa para Conta no Estrangeiro:</span><span style=\"color: #800080; text-decoration-color: #800080\"> Enviar dinheiro para uma conta em seu nome ou de outra pessoa no Canadá  </span>\n",
              "<span style=\"color: #800080; text-decoration-color: #800080\">▌ </span><span style=\"color: #808000; text-decoration-color: #808000; font-weight: bold\">   </span><span style=\"color: #800080; text-decoration-color: #800080\">geralmente envolve taxas de câmbio mais próximas do comercial e IOF reduzido. Plataformas online e bancos   </span>\n",
              "<span style=\"color: #800080; text-decoration-color: #800080\">▌ </span><span style=\"color: #808000; text-decoration-color: #808000; font-weight: bold\">   </span><span style=\"color: #800080; text-decoration-color: #800080\">tradicionais oferecem esse serviço, mas as taxas e o tempo de processamento podem variar. Bancos            </span>\n",
              "<span style=\"color: #800080; text-decoration-color: #800080\">▌ </span><span style=\"color: #808000; text-decoration-color: #808000; font-weight: bold\">   </span><span style=\"color: #800080; text-decoration-color: #800080\">tradicionais costumam ter taxas mais altas em comparação com plataformas digitais. É importante comparar o  </span>\n",
              "<span style=\"color: #800080; text-decoration-color: #800080\">▌ </span><span style=\"color: #808000; text-decoration-color: #808000; font-weight: bold\">   </span><span style=\"color: #800080; text-decoration-color: #800080\">Valor Efetivo Total (VET) da operação, que inclui todas as taxas e impostos.                                </span>\n",
              "<span style=\"color: #800080; text-decoration-color: #800080\">▌ </span><span style=\"color: #808000; text-decoration-color: #808000; font-weight: bold\"> • </span><span style=\"color: #800080; text-decoration-color: #800080; font-weight: bold\">PIX:</span><span style=\"color: #800080; text-decoration-color: #800080\"> O PIX como o conhecemos no Brasil é um sistema de pagamentos instantâneos para transações locais.      </span>\n",
              "<span style=\"color: #800080; text-decoration-color: #800080\">▌ </span><span style=\"color: #808000; text-decoration-color: #808000; font-weight: bold\">   </span><span style=\"color: #800080; text-decoration-color: #800080\">Atualmente, o \"PIX Internacional\" ainda não está em pleno funcionamento para transferências diretas entre   </span>\n",
              "<span style=\"color: #800080; text-decoration-color: #800080\">▌ </span><span style=\"color: #808000; text-decoration-color: #808000; font-weight: bold\">   </span><span style=\"color: #800080; text-decoration-color: #800080\">contas no Brasil e no exterior. No entanto, algumas plataformas de remessa internacional já permitem que    </span>\n",
              "<span style=\"color: #800080; text-decoration-color: #800080\">▌ </span><span style=\"color: #808000; text-decoration-color: #808000; font-weight: bold\">   </span><span style=\"color: #800080; text-decoration-color: #800080\">você utilize o PIX como forma de pagamento para enviar dinheiro ao exterior. Isso significa que você faz um </span>\n",
              "<span style=\"color: #800080; text-decoration-color: #800080\">▌ </span><span style=\"color: #808000; text-decoration-color: #808000; font-weight: bold\">   </span><span style=\"color: #800080; text-decoration-color: #800080\">PIX em reais para a conta da plataforma no Brasil, e ela se encarrega de converter o valor para a moeda     </span>\n",
              "<span style=\"color: #800080; text-decoration-color: #800080\">▌ </span><span style=\"color: #808000; text-decoration-color: #808000; font-weight: bold\">   </span><span style=\"color: #800080; text-decoration-color: #800080\">desejada e enviar para o destinatário no Canadá.                                                            </span>\n",
              "<span style=\"color: #800080; text-decoration-color: #800080\">▌ </span><span style=\"color: #800080; text-decoration-color: #800080; font-weight: bold\">Sobre o PIX e a Viktap:</span><span style=\"color: #800080; text-decoration-color: #800080\">                                                                                        </span>\n",
              "<span style=\"color: #800080; text-decoration-color: #800080\">▌ Consultando o site da Viktap (https://viktap.com.br/), a Viktap atua como uma rede de pagamento instantâneo    </span>\n",
              "<span style=\"color: #800080; text-decoration-color: #800080\">▌ global, focada em facilitar transações rápidas, seguras e com baixo custo para \"merchants\"                     </span>\n",
              "<span style=\"color: #800080; text-decoration-color: #800080\">▌ (lojistas/comerciantes) e clientes brasileiros.                                                                </span>\n",
              "<span style=\"color: #800080; text-decoration-color: #800080\">▌ Para os \"merchants\", a integração com pagamentos PIX oferece transações rápidas, seguras e com baixo custo,    </span>\n",
              "<span style=\"color: #800080; text-decoration-color: #800080\">▌ melhorando a experiência do brasileiro e aumentando a eficiência operacional do negócio. Menciona benefícios   </span>\n",
              "<span style=\"color: #800080; text-decoration-color: #800080\">▌ como sem taxa de intercâmbio ou tarifas de terceiros, liquidação rápida pelo valor total transacionado via PIX </span>\n",
              "<span style=\"color: #800080; text-decoration-color: #800080\">▌ Internacional (neste contexto, refere-se ao uso do PIX como forma de pagamento para a plataforma), taxas de    </span>\n",
              "<span style=\"color: #800080; text-decoration-color: #800080\">▌ câmbio competitivas e IOF reduzido para os clientes.                                                           </span>\n",
              "<span style=\"color: #800080; text-decoration-color: #800080\">▌ Para o cliente brasileiro, o pagamento via PIX internacional (utilizando a solução da Viktap) oferece segurança</span>\n",
              "<span style=\"color: #800080; text-decoration-color: #800080\">▌ e praticidade, permitindo concluir transações a qualquer hora diretamente da conta no Brasil, com taxas de     </span>\n",
              "<span style=\"color: #800080; text-decoration-color: #800080\">▌ câmbio competitivas e IOF reduzido, e isenção de IOF na operação de PIX.                                       </span>\n",
              "<span style=\"color: #800080; text-decoration-color: #800080\">▌ Portanto, no contexto da Viktap, o PIX é utilizado como um meio eficiente e de baixo custo para o cliente      </span>\n",
              "<span style=\"color: #800080; text-decoration-color: #800080\">▌ brasileiro realizar o pagamento em reais, que será então processado pela plataforma para a conversão e envio   </span>\n",
              "<span style=\"color: #800080; text-decoration-color: #800080\">▌ internacional.                                                                                                 </span>\n",
              "<span style=\"color: #800080; text-decoration-color: #800080\">▌ </span><span style=\"color: #800080; text-decoration-color: #800080; font-weight: bold\">Em resumo, para converter seu dinheiro para usar no Canadá, considere:</span><span style=\"color: #800080; text-decoration-color: #800080\">                                         </span>\n",
              "<span style=\"color: #800080; text-decoration-color: #800080\">▌ </span><span style=\"color: #808000; text-decoration-color: #808000; font-weight: bold\"> • </span><span style=\"color: #800080; text-decoration-color: #800080; font-weight: bold\">Para gastos do dia a dia e pequenas compras:</span><span style=\"color: #800080; text-decoration-color: #800080\"> Cartão pré-pago internacional pode ser uma boa opção devido ao </span>\n",
              "<span style=\"color: #800080; text-decoration-color: #800080\">▌ </span><span style=\"color: #808000; text-decoration-color: #808000; font-weight: bold\">   </span><span style=\"color: #800080; text-decoration-color: #800080\">IOF menor e câmbio fixado na carga.                                                                         </span>\n",
              "<span style=\"color: #800080; text-decoration-color: #800080\">▌ </span><span style=\"color: #808000; text-decoration-color: #808000; font-weight: bold\"> • </span><span style=\"color: #800080; text-decoration-color: #800080; font-weight: bold\">Para levar um valor maior ou enviar para uma conta:</span><span style=\"color: #800080; text-decoration-color: #800080\"> Remessa internacional através de plataformas online ou, </span>\n",
              "<span style=\"color: #800080; text-decoration-color: #800080\">▌ </span><span style=\"color: #808000; text-decoration-color: #808000; font-weight: bold\">   </span><span style=\"color: #800080; text-decoration-color: #800080\">dependendo das condições, utilizando o PIX como forma de pagamento em plataformas que oferecem essa opção,  </span>\n",
              "<span style=\"color: #800080; text-decoration-color: #800080\">▌ </span><span style=\"color: #808000; text-decoration-color: #808000; font-weight: bold\">   </span><span style=\"color: #800080; text-decoration-color: #800080\">como indicado no modelo de negócio da Viktap, pode ser mais vantajoso devido às taxas de câmbio mais        </span>\n",
              "<span style=\"color: #800080; text-decoration-color: #800080\">▌ </span><span style=\"color: #808000; text-decoration-color: #808000; font-weight: bold\">   </span><span style=\"color: #800080; text-decoration-color: #800080\">competitivas e IOF reduzido.                                                                                </span>\n",
              "<span style=\"color: #800080; text-decoration-color: #800080\">▌ </span><span style=\"color: #808000; text-decoration-color: #808000; font-weight: bold\"> • </span><span style=\"color: #800080; text-decoration-color: #800080; font-weight: bold\">Cartão de crédito/débito:</span><span style=\"color: #800080; text-decoration-color: #800080\"> Deixe como opção para emergências, devido aos custos mais elevados.               </span>\n",
              "<span style=\"color: #800080; text-decoration-color: #800080\">▌ A melhor maneira dependerá do valor a ser convertido, da urgência, da finalidade do dinheiro e da comparação   </span>\n",
              "<span style=\"color: #800080; text-decoration-color: #800080\">▌ das taxas e cotações oferecidas por diferentes provedores de serviço. É sempre recomendado comparar o Valor    </span>\n",
              "<span style=\"color: #800080; text-decoration-color: #800080\">▌ Efetivo Total (VET) antes de fechar qualquer operação.                                                         </span>\n",
              "</pre>\n"
            ]
          },
          "metadata": {}
        },
        {
          "output_type": "display_data",
          "data": {
            "text/plain": [
              "\u001b[35m▌ \u001b[0m\u001b[33m───────────────────────────────────────────────────────────────────────────────────────────────────────────────\u001b[0m\n"
            ],
            "text/html": [
              "<pre style=\"white-space:pre;overflow-x:auto;line-height:normal;font-family:Menlo,'DejaVu Sans Mono',consolas,'Courier New',monospace\"><span style=\"color: #800080; text-decoration-color: #800080\">▌ </span><span style=\"color: #808000; text-decoration-color: #808000\">───────────────────────────────────────────────────────────────────────────────────────────────────────────────</span>\n",
              "</pre>\n"
            ]
          },
          "metadata": {}
        },
        {
          "output_type": "display_data",
          "data": {
            "text/plain": [
              "\n",
              "\u001b[35m▌ \u001b[0m\u001b[35mDica de um agente de viagem da LATAM\u001b[0m\u001b[35m                                                                           \u001b[0m\n"
            ],
            "text/html": [
              "<pre style=\"white-space:pre;overflow-x:auto;line-height:normal;font-family:Menlo,'DejaVu Sans Mono',consolas,'Courier New',monospace\">\n",
              "<span style=\"color: #800080; text-decoration-color: #800080\">▌ Dica de um agente de viagem da LATAM                                                                           </span>\n",
              "</pre>\n"
            ]
          },
          "metadata": {}
        },
        {
          "output_type": "display_data",
          "data": {
            "text/plain": [
              "\u001b[35m▌ \u001b[0m\u001b[33m───────────────────────────────────────────────────────────────────────────────────────────────────────────────\u001b[0m\n"
            ],
            "text/html": [
              "<pre style=\"white-space:pre;overflow-x:auto;line-height:normal;font-family:Menlo,'DejaVu Sans Mono',consolas,'Courier New',monospace\"><span style=\"color: #800080; text-decoration-color: #800080\">▌ </span><span style=\"color: #808000; text-decoration-color: #808000\">───────────────────────────────────────────────────────────────────────────────────────────────────────────────</span>\n",
              "</pre>\n"
            ]
          },
          "metadata": {}
        },
        {
          "output_type": "display_data",
          "data": {
            "text/plain": [
              "\n",
              "\u001b[35m▌ \u001b[0m\u001b[35mComo especialista em viagens internacionais da LATAM, buscando um voo direto de ida e volta para o Canadá \u001b[0m\u001b[35m     \u001b[0m\n",
              "\u001b[35m▌ \u001b[0m\u001b[35msaindo de Guarulhos (GRU) entre 15/06/2025 e 30/06/2025, apresento a seguinte opção resumida com a LATAM:\u001b[0m\u001b[35m      \u001b[0m\n",
              "\u001b[35m▌ \u001b[0m\u001b[35mAtualmente, a LATAM não opera voos diretos de São Paulo (GRU) para o Canadá. As rotas da LATAM para o Canadá a \u001b[0m\n",
              "\u001b[35m▌ \u001b[0m\u001b[35mpartir de GRU geralmente incluem pelo menos uma escala.\u001b[0m\u001b[35m                                                        \u001b[0m\n",
              "\u001b[35m▌ \u001b[0m\u001b[35mPara a sua viagem entre 15/06/2025 e 30/06/2025, a LATAM opera voos para o Canadá com conexões, principalmente \u001b[0m\n",
              "\u001b[35m▌ \u001b[0m\u001b[35mpara destinos como Toronto (YYZ) e Montreal (YUL).\u001b[0m\u001b[35m                                                             \u001b[0m\n",
              "\u001b[35m▌ \u001b[0m\u001b[35mPara encontrar a melhor opção com a LATAM para as suas datas, sugiro que consulte diretamente o site da LATAM \u001b[0m\u001b[35m \u001b[0m\n",
              "\u001b[35m▌ \u001b[0m\u001b[35mou entre em contato com a central de atendimento para verificar as rotas com o menor número de escalas e os \u001b[0m\u001b[35m   \u001b[0m\n",
              "\u001b[35m▌ \u001b[0m\u001b[35mhorários disponíveis para o período desejado.\u001b[0m\u001b[35m                                                                  \u001b[0m\n"
            ],
            "text/html": [
              "<pre style=\"white-space:pre;overflow-x:auto;line-height:normal;font-family:Menlo,'DejaVu Sans Mono',consolas,'Courier New',monospace\">\n",
              "<span style=\"color: #800080; text-decoration-color: #800080\">▌ Como especialista em viagens internacionais da LATAM, buscando um voo direto de ida e volta para o Canadá      </span>\n",
              "<span style=\"color: #800080; text-decoration-color: #800080\">▌ saindo de Guarulhos (GRU) entre 15/06/2025 e 30/06/2025, apresento a seguinte opção resumida com a LATAM:      </span>\n",
              "<span style=\"color: #800080; text-decoration-color: #800080\">▌ Atualmente, a LATAM não opera voos diretos de São Paulo (GRU) para o Canadá. As rotas da LATAM para o Canadá a </span>\n",
              "<span style=\"color: #800080; text-decoration-color: #800080\">▌ partir de GRU geralmente incluem pelo menos uma escala.                                                        </span>\n",
              "<span style=\"color: #800080; text-decoration-color: #800080\">▌ Para a sua viagem entre 15/06/2025 e 30/06/2025, a LATAM opera voos para o Canadá com conexões, principalmente </span>\n",
              "<span style=\"color: #800080; text-decoration-color: #800080\">▌ para destinos como Toronto (YYZ) e Montreal (YUL).                                                             </span>\n",
              "<span style=\"color: #800080; text-decoration-color: #800080\">▌ Para encontrar a melhor opção com a LATAM para as suas datas, sugiro que consulte diretamente o site da LATAM  </span>\n",
              "<span style=\"color: #800080; text-decoration-color: #800080\">▌ ou entre em contato com a central de atendimento para verificar as rotas com o menor número de escalas e os    </span>\n",
              "<span style=\"color: #800080; text-decoration-color: #800080\">▌ horários disponíveis para o período desejado.                                                                  </span>\n",
              "</pre>\n"
            ]
          },
          "metadata": {}
        },
        {
          "output_type": "display_data",
          "data": {
            "text/plain": [
              "\u001b[35m▌ \u001b[0m\u001b[33m───────────────────────────────────────────────────────────────────────────────────────────────────────────────\u001b[0m\n"
            ],
            "text/html": [
              "<pre style=\"white-space:pre;overflow-x:auto;line-height:normal;font-family:Menlo,'DejaVu Sans Mono',consolas,'Courier New',monospace\"><span style=\"color: #800080; text-decoration-color: #800080\">▌ </span><span style=\"color: #808000; text-decoration-color: #808000\">───────────────────────────────────────────────────────────────────────────────────────────────────────────────</span>\n",
              "</pre>\n"
            ]
          },
          "metadata": {}
        },
        {
          "output_type": "display_data",
          "data": {
            "text/plain": [
              "\n",
              "\u001b[35m▌ \u001b[0m\u001b[35mAlgumas dicas de Hoteis, refeiçoes e passeios turisticos\u001b[0m\u001b[35m                                                       \u001b[0m\n"
            ],
            "text/html": [
              "<pre style=\"white-space:pre;overflow-x:auto;line-height:normal;font-family:Menlo,'DejaVu Sans Mono',consolas,'Courier New',monospace\">\n",
              "<span style=\"color: #800080; text-decoration-color: #800080\">▌ Algumas dicas de Hoteis, refeiçoes e passeios turisticos                                                       </span>\n",
              "</pre>\n"
            ]
          },
          "metadata": {}
        },
        {
          "output_type": "display_data",
          "data": {
            "text/plain": [
              "\u001b[35m▌ \u001b[0m\u001b[33m───────────────────────────────────────────────────────────────────────────────────────────────────────────────\u001b[0m\n"
            ],
            "text/html": [
              "<pre style=\"white-space:pre;overflow-x:auto;line-height:normal;font-family:Menlo,'DejaVu Sans Mono',consolas,'Courier New',monospace\"><span style=\"color: #800080; text-decoration-color: #800080\">▌ </span><span style=\"color: #808000; text-decoration-color: #808000\">───────────────────────────────────────────────────────────────────────────────────────────────────────────────</span>\n",
              "</pre>\n"
            ]
          },
          "metadata": {}
        },
        {
          "output_type": "display_data",
          "data": {
            "text/plain": [
              "\n",
              "\u001b[35m▌ \u001b[0m\u001b[35mPara sua viagem de mochileiro ao Canadá entre 15/06/2025 e 30/06/2025, focando em custo-benefício, aqui estão 3\u001b[0m\n",
              "\u001b[35m▌ \u001b[0m\u001b[35mopções resumidas de hotéis (hostels), refeições e passeios turísticos:\u001b[0m\u001b[35m                                         \u001b[0m\n",
              "\u001b[35m▌ \u001b[0m\u001b[1;35mHospedagem (Hostels):\u001b[0m\u001b[35m                                                                                          \u001b[0m\n",
              "\u001b[35m▌ \u001b[0m\u001b[1;33m 1 \u001b[0m\u001b[1;35mSamesun Banff:\u001b[0m\u001b[35m Frequentemente classificado como um dos melhores hostels em Banff para mochileiros, oferece \u001b[0m\u001b[35m \u001b[0m\n",
              "\u001b[35m▌ \u001b[0m\u001b[1;33m   \u001b[0m\u001b[35mdormitórios e cozinha compartilhada para economizar com refeições. Sua localização central facilita o acesso\u001b[0m\n",
              "\u001b[35m▌ \u001b[0m\u001b[1;33m   \u001b[0m\u001b[35ma muitas atrações.\u001b[0m\u001b[35m                                                                                          \u001b[0m\n",
              "\u001b[35m▌ \u001b[0m\u001b[1;33m 2 \u001b[0m\u001b[1;35mHI Banff Alpine Centre:\u001b[0m\u001b[35m Uma ótima opção para viajantes individuais, possui cozinha equipada, lounge e \u001b[0m\u001b[35m      \u001b[0m\n",
              "\u001b[35m▌ \u001b[0m\u001b[1;33m   \u001b[0m\u001b[35mespaços de co-working.\u001b[0m\u001b[35m                                                                                      \u001b[0m\n",
              "\u001b[35m▌ \u001b[0m\u001b[1;33m 3 \u001b[0m\u001b[1;35mHI Vancouver Downtown:\u001b[0m\u001b[35m Localizado perto da English Bay Beach e do Stanley Park, este hostel oferece cozinha \u001b[0m\n",
              "\u001b[35m▌ \u001b[0m\u001b[1;33m   \u001b[0m\u001b[35mcompartilhada e é ideal para quem busca explorar o centro de Vancouver a pé.\u001b[0m\u001b[35m                                \u001b[0m\n",
              "\u001b[35m▌ \u001b[0m\u001b[1;35mRefeições (Custo-Benefício):\u001b[0m\u001b[35m                                                                                   \u001b[0m\n",
              "\u001b[35m▌ \u001b[0m\u001b[1;33m 1 \u001b[0m\u001b[1;35mMercados e Mercearias:\u001b[0m\u001b[35m Comprar em mercados locais e preparar suas próprias refeições nos hostels é a maneira\u001b[0m\n",
              "\u001b[35m▌ \u001b[0m\u001b[1;33m   \u001b[0m\u001b[35mmais econômica de comer. Em Vancouver, o Granville Island Market oferece uma variedade de ingredientes. Em \u001b[0m\u001b[35m \u001b[0m\n",
              "\u001b[35m▌ \u001b[0m\u001b[1;33m   \u001b[0m\u001b[35mBanff, considere comprar em Canmore para uma seleção maior.\u001b[0m\u001b[35m                                                 \u001b[0m\n",
              "\u001b[35m▌ \u001b[0m\u001b[1;33m 2 \u001b[0m\u001b[1;35mComida de Rua e Lanchonetes:\u001b[0m\u001b[35m Procure por opções de comida de rua e lanchonetes para refeições rápidas e \u001b[0m\u001b[35m    \u001b[0m\n",
              "\u001b[35m▌ \u001b[0m\u001b[1;33m   \u001b[0m\u001b[35mbaratas. Em Banff, estabelecimentos como BARBurrito, Dominos, Subway, McDonalds, Banff Shawarma e Hankki são\u001b[0m\n",
              "\u001b[35m▌ \u001b[0m\u001b[1;33m   \u001b[0m\u001b[35mmencionados como opções mais acessíveis. Em Vancouver, a comida de rua e restaurantes chineses, incluindo \u001b[0m\u001b[35m  \u001b[0m\n",
              "\u001b[35m▌ \u001b[0m\u001b[1;33m   \u001b[0m\u001b[35mdim sum, são recomendados.\u001b[0m\u001b[35m                                                                                  \u001b[0m\n",
              "\u001b[35m▌ \u001b[0m\u001b[1;33m 3 \u001b[0m\u001b[1;35mPubs com Especiais:\u001b[0m\u001b[35m Alguns pubs podem oferecer promoções de refeições com bom custo-benefício. O Beaver, no \u001b[0m\n",
              "\u001b[35m▌ \u001b[0m\u001b[1;33m   \u001b[0m\u001b[35mSamesun Hostel em Banff, já foi conhecido por ter especiais de refeição acessíveis.\u001b[0m\u001b[35m                         \u001b[0m\n",
              "\u001b[35m▌ \u001b[0m\u001b[1;35mPasseios Turísticos (Foco em Atividades Gratuitas/Baratas):\u001b[0m\u001b[35m                                                    \u001b[0m\n",
              "\u001b[35m▌ \u001b[0m\u001b[1;33m 1 \u001b[0m\u001b[1;35mExplorar Parques Nacionais (Banff):\u001b[0m\u001b[35m Aproveite as diversas atividades gratuitas e de baixo custo em Banff \u001b[0m\u001b[35m   \u001b[0m\n",
              "\u001b[35m▌ \u001b[0m\u001b[1;33m   \u001b[0m\u001b[35mNational Park. Caminhadas em trilhas como Tunnel Mountain, Fenlands Trail e Bow River Loop são gratuitas. \u001b[0m\u001b[35m  \u001b[0m\n",
              "\u001b[35m▌ \u001b[0m\u001b[1;33m   \u001b[0m\u001b[35mVisitar Bow Falls, Cascade Gardens e o Cave and Basin (entrada gratuita com o Parks Pass) também são opções.\u001b[0m\n",
              "\u001b[35m▌ \u001b[0m\u001b[1;33m   \u001b[0m\u001b[35mO acesso ao Banff National Park tem uma taxa diária ou você pode comprar um Discovery Pass anual, que pode \u001b[0m\u001b[35m \u001b[0m\n",
              "\u001b[35m▌ \u001b[0m\u001b[1;33m   \u001b[0m\u001b[35mser mais vantajoso dependendo do seu roteiro. A entrada para jovens até 17 anos é gratuita em locais \u001b[0m\u001b[35m       \u001b[0m\n",
              "\u001b[35m▌ \u001b[0m\u001b[1;33m   \u001b[0m\u001b[35madministrados pela Parks Canada.\u001b[0m\u001b[35m                                                                            \u001b[0m\n",
              "\u001b[35m▌ \u001b[0m\u001b[1;33m 2 \u001b[0m\u001b[1;35mAproveitar as Áreas Naturais em Vancouver:\u001b[0m\u001b[35m Explore parques como o Stanley Park (entrada gratuita) e caminhe \u001b[0m\n",
              "\u001b[35m▌ \u001b[0m\u001b[1;33m   \u001b[0m\u001b[35mpela orla (Seawall). Visitar praias como Kitsilano Beach e English Bay também são atividades de baixo custo.\u001b[0m\n",
              "\u001b[35m▌ \u001b[0m\u001b[1;33m   \u001b[0m\u001b[35mO Lynn Canyon Park oferece trilhas e uma ponte suspensa gratuita.\u001b[0m\u001b[35m                                           \u001b[0m\n",
              "\u001b[35m▌ \u001b[0m\u001b[1;33m 3 \u001b[0m\u001b[1;35mDescobrir a Cultura Local (Vancouver e Banff):\u001b[0m\u001b[35m Em Vancouver, explore bairros como Gastown e Chinatown a pé. \u001b[0m\n",
              "\u001b[35m▌ \u001b[0m\u001b[1;33m   \u001b[0m\u001b[35mVisite mercados de fazendeiros que geralmente têm entrada gratuita. Em Banff, algumas galerias de arte e \u001b[0m\u001b[35m   \u001b[0m\n",
              "\u001b[35m▌ \u001b[0m\u001b[1;33m   \u001b[0m\u001b[35mmuseus têm entrada gratuita ou taxas acessíveis. Verifique a programação local para eventos gratuitos em \u001b[0m\u001b[35m   \u001b[0m\n",
              "\u001b[35m▌ \u001b[0m\u001b[1;33m   \u001b[0m\u001b[35mjunho.\u001b[0m\u001b[35m                                                                                                      \u001b[0m\n"
            ],
            "text/html": [
              "<pre style=\"white-space:pre;overflow-x:auto;line-height:normal;font-family:Menlo,'DejaVu Sans Mono',consolas,'Courier New',monospace\">\n",
              "<span style=\"color: #800080; text-decoration-color: #800080\">▌ Para sua viagem de mochileiro ao Canadá entre 15/06/2025 e 30/06/2025, focando em custo-benefício, aqui estão 3</span>\n",
              "<span style=\"color: #800080; text-decoration-color: #800080\">▌ opções resumidas de hotéis (hostels), refeições e passeios turísticos:                                         </span>\n",
              "<span style=\"color: #800080; text-decoration-color: #800080\">▌ </span><span style=\"color: #800080; text-decoration-color: #800080; font-weight: bold\">Hospedagem (Hostels):</span><span style=\"color: #800080; text-decoration-color: #800080\">                                                                                          </span>\n",
              "<span style=\"color: #800080; text-decoration-color: #800080\">▌ </span><span style=\"color: #808000; text-decoration-color: #808000; font-weight: bold\"> 1 </span><span style=\"color: #800080; text-decoration-color: #800080; font-weight: bold\">Samesun Banff:</span><span style=\"color: #800080; text-decoration-color: #800080\"> Frequentemente classificado como um dos melhores hostels em Banff para mochileiros, oferece  </span>\n",
              "<span style=\"color: #800080; text-decoration-color: #800080\">▌ </span><span style=\"color: #808000; text-decoration-color: #808000; font-weight: bold\">   </span><span style=\"color: #800080; text-decoration-color: #800080\">dormitórios e cozinha compartilhada para economizar com refeições. Sua localização central facilita o acesso</span>\n",
              "<span style=\"color: #800080; text-decoration-color: #800080\">▌ </span><span style=\"color: #808000; text-decoration-color: #808000; font-weight: bold\">   </span><span style=\"color: #800080; text-decoration-color: #800080\">a muitas atrações.                                                                                          </span>\n",
              "<span style=\"color: #800080; text-decoration-color: #800080\">▌ </span><span style=\"color: #808000; text-decoration-color: #808000; font-weight: bold\"> 2 </span><span style=\"color: #800080; text-decoration-color: #800080; font-weight: bold\">HI Banff Alpine Centre:</span><span style=\"color: #800080; text-decoration-color: #800080\"> Uma ótima opção para viajantes individuais, possui cozinha equipada, lounge e       </span>\n",
              "<span style=\"color: #800080; text-decoration-color: #800080\">▌ </span><span style=\"color: #808000; text-decoration-color: #808000; font-weight: bold\">   </span><span style=\"color: #800080; text-decoration-color: #800080\">espaços de co-working.                                                                                      </span>\n",
              "<span style=\"color: #800080; text-decoration-color: #800080\">▌ </span><span style=\"color: #808000; text-decoration-color: #808000; font-weight: bold\"> 3 </span><span style=\"color: #800080; text-decoration-color: #800080; font-weight: bold\">HI Vancouver Downtown:</span><span style=\"color: #800080; text-decoration-color: #800080\"> Localizado perto da English Bay Beach e do Stanley Park, este hostel oferece cozinha </span>\n",
              "<span style=\"color: #800080; text-decoration-color: #800080\">▌ </span><span style=\"color: #808000; text-decoration-color: #808000; font-weight: bold\">   </span><span style=\"color: #800080; text-decoration-color: #800080\">compartilhada e é ideal para quem busca explorar o centro de Vancouver a pé.                                </span>\n",
              "<span style=\"color: #800080; text-decoration-color: #800080\">▌ </span><span style=\"color: #800080; text-decoration-color: #800080; font-weight: bold\">Refeições (Custo-Benefício):</span><span style=\"color: #800080; text-decoration-color: #800080\">                                                                                   </span>\n",
              "<span style=\"color: #800080; text-decoration-color: #800080\">▌ </span><span style=\"color: #808000; text-decoration-color: #808000; font-weight: bold\"> 1 </span><span style=\"color: #800080; text-decoration-color: #800080; font-weight: bold\">Mercados e Mercearias:</span><span style=\"color: #800080; text-decoration-color: #800080\"> Comprar em mercados locais e preparar suas próprias refeições nos hostels é a maneira</span>\n",
              "<span style=\"color: #800080; text-decoration-color: #800080\">▌ </span><span style=\"color: #808000; text-decoration-color: #808000; font-weight: bold\">   </span><span style=\"color: #800080; text-decoration-color: #800080\">mais econômica de comer. Em Vancouver, o Granville Island Market oferece uma variedade de ingredientes. Em  </span>\n",
              "<span style=\"color: #800080; text-decoration-color: #800080\">▌ </span><span style=\"color: #808000; text-decoration-color: #808000; font-weight: bold\">   </span><span style=\"color: #800080; text-decoration-color: #800080\">Banff, considere comprar em Canmore para uma seleção maior.                                                 </span>\n",
              "<span style=\"color: #800080; text-decoration-color: #800080\">▌ </span><span style=\"color: #808000; text-decoration-color: #808000; font-weight: bold\"> 2 </span><span style=\"color: #800080; text-decoration-color: #800080; font-weight: bold\">Comida de Rua e Lanchonetes:</span><span style=\"color: #800080; text-decoration-color: #800080\"> Procure por opções de comida de rua e lanchonetes para refeições rápidas e     </span>\n",
              "<span style=\"color: #800080; text-decoration-color: #800080\">▌ </span><span style=\"color: #808000; text-decoration-color: #808000; font-weight: bold\">   </span><span style=\"color: #800080; text-decoration-color: #800080\">baratas. Em Banff, estabelecimentos como BARBurrito, Dominos, Subway, McDonalds, Banff Shawarma e Hankki são</span>\n",
              "<span style=\"color: #800080; text-decoration-color: #800080\">▌ </span><span style=\"color: #808000; text-decoration-color: #808000; font-weight: bold\">   </span><span style=\"color: #800080; text-decoration-color: #800080\">mencionados como opções mais acessíveis. Em Vancouver, a comida de rua e restaurantes chineses, incluindo   </span>\n",
              "<span style=\"color: #800080; text-decoration-color: #800080\">▌ </span><span style=\"color: #808000; text-decoration-color: #808000; font-weight: bold\">   </span><span style=\"color: #800080; text-decoration-color: #800080\">dim sum, são recomendados.                                                                                  </span>\n",
              "<span style=\"color: #800080; text-decoration-color: #800080\">▌ </span><span style=\"color: #808000; text-decoration-color: #808000; font-weight: bold\"> 3 </span><span style=\"color: #800080; text-decoration-color: #800080; font-weight: bold\">Pubs com Especiais:</span><span style=\"color: #800080; text-decoration-color: #800080\"> Alguns pubs podem oferecer promoções de refeições com bom custo-benefício. O Beaver, no </span>\n",
              "<span style=\"color: #800080; text-decoration-color: #800080\">▌ </span><span style=\"color: #808000; text-decoration-color: #808000; font-weight: bold\">   </span><span style=\"color: #800080; text-decoration-color: #800080\">Samesun Hostel em Banff, já foi conhecido por ter especiais de refeição acessíveis.                         </span>\n",
              "<span style=\"color: #800080; text-decoration-color: #800080\">▌ </span><span style=\"color: #800080; text-decoration-color: #800080; font-weight: bold\">Passeios Turísticos (Foco em Atividades Gratuitas/Baratas):</span><span style=\"color: #800080; text-decoration-color: #800080\">                                                    </span>\n",
              "<span style=\"color: #800080; text-decoration-color: #800080\">▌ </span><span style=\"color: #808000; text-decoration-color: #808000; font-weight: bold\"> 1 </span><span style=\"color: #800080; text-decoration-color: #800080; font-weight: bold\">Explorar Parques Nacionais (Banff):</span><span style=\"color: #800080; text-decoration-color: #800080\"> Aproveite as diversas atividades gratuitas e de baixo custo em Banff    </span>\n",
              "<span style=\"color: #800080; text-decoration-color: #800080\">▌ </span><span style=\"color: #808000; text-decoration-color: #808000; font-weight: bold\">   </span><span style=\"color: #800080; text-decoration-color: #800080\">National Park. Caminhadas em trilhas como Tunnel Mountain, Fenlands Trail e Bow River Loop são gratuitas.   </span>\n",
              "<span style=\"color: #800080; text-decoration-color: #800080\">▌ </span><span style=\"color: #808000; text-decoration-color: #808000; font-weight: bold\">   </span><span style=\"color: #800080; text-decoration-color: #800080\">Visitar Bow Falls, Cascade Gardens e o Cave and Basin (entrada gratuita com o Parks Pass) também são opções.</span>\n",
              "<span style=\"color: #800080; text-decoration-color: #800080\">▌ </span><span style=\"color: #808000; text-decoration-color: #808000; font-weight: bold\">   </span><span style=\"color: #800080; text-decoration-color: #800080\">O acesso ao Banff National Park tem uma taxa diária ou você pode comprar um Discovery Pass anual, que pode  </span>\n",
              "<span style=\"color: #800080; text-decoration-color: #800080\">▌ </span><span style=\"color: #808000; text-decoration-color: #808000; font-weight: bold\">   </span><span style=\"color: #800080; text-decoration-color: #800080\">ser mais vantajoso dependendo do seu roteiro. A entrada para jovens até 17 anos é gratuita em locais        </span>\n",
              "<span style=\"color: #800080; text-decoration-color: #800080\">▌ </span><span style=\"color: #808000; text-decoration-color: #808000; font-weight: bold\">   </span><span style=\"color: #800080; text-decoration-color: #800080\">administrados pela Parks Canada.                                                                            </span>\n",
              "<span style=\"color: #800080; text-decoration-color: #800080\">▌ </span><span style=\"color: #808000; text-decoration-color: #808000; font-weight: bold\"> 2 </span><span style=\"color: #800080; text-decoration-color: #800080; font-weight: bold\">Aproveitar as Áreas Naturais em Vancouver:</span><span style=\"color: #800080; text-decoration-color: #800080\"> Explore parques como o Stanley Park (entrada gratuita) e caminhe </span>\n",
              "<span style=\"color: #800080; text-decoration-color: #800080\">▌ </span><span style=\"color: #808000; text-decoration-color: #808000; font-weight: bold\">   </span><span style=\"color: #800080; text-decoration-color: #800080\">pela orla (Seawall). Visitar praias como Kitsilano Beach e English Bay também são atividades de baixo custo.</span>\n",
              "<span style=\"color: #800080; text-decoration-color: #800080\">▌ </span><span style=\"color: #808000; text-decoration-color: #808000; font-weight: bold\">   </span><span style=\"color: #800080; text-decoration-color: #800080\">O Lynn Canyon Park oferece trilhas e uma ponte suspensa gratuita.                                           </span>\n",
              "<span style=\"color: #800080; text-decoration-color: #800080\">▌ </span><span style=\"color: #808000; text-decoration-color: #808000; font-weight: bold\"> 3 </span><span style=\"color: #800080; text-decoration-color: #800080; font-weight: bold\">Descobrir a Cultura Local (Vancouver e Banff):</span><span style=\"color: #800080; text-decoration-color: #800080\"> Em Vancouver, explore bairros como Gastown e Chinatown a pé. </span>\n",
              "<span style=\"color: #800080; text-decoration-color: #800080\">▌ </span><span style=\"color: #808000; text-decoration-color: #808000; font-weight: bold\">   </span><span style=\"color: #800080; text-decoration-color: #800080\">Visite mercados de fazendeiros que geralmente têm entrada gratuita. Em Banff, algumas galerias de arte e    </span>\n",
              "<span style=\"color: #800080; text-decoration-color: #800080\">▌ </span><span style=\"color: #808000; text-decoration-color: #808000; font-weight: bold\">   </span><span style=\"color: #800080; text-decoration-color: #800080\">museus têm entrada gratuita ou taxas acessíveis. Verifique a programação local para eventos gratuitos em    </span>\n",
              "<span style=\"color: #800080; text-decoration-color: #800080\">▌ </span><span style=\"color: #808000; text-decoration-color: #808000; font-weight: bold\">   </span><span style=\"color: #800080; text-decoration-color: #800080\">junho.                                                                                                      </span>\n",
              "</pre>\n"
            ]
          },
          "metadata": {}
        }
      ]
    }
  ]
}